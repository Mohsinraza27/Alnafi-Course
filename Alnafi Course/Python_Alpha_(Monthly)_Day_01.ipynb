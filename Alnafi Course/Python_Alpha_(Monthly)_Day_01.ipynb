{
 "cells": [
  {
   "cell_type": "code",
   "execution_count": 2,
   "id": "f2af488f",
   "metadata": {},
   "outputs": [
    {
     "data": {
      "text/plain": [
       "'This is a string'"
      ]
     },
     "execution_count": 2,
     "metadata": {},
     "output_type": "execute_result"
    }
   ],
   "source": [
    "#String\n",
    "\"This is a string\""
   ]
  },
  {
   "cell_type": "code",
   "execution_count": 3,
   "id": "faab5e67",
   "metadata": {},
   "outputs": [
    {
     "data": {
      "text/plain": [
       "'Muhammad Faisal, Ali Ahmed, Abdullah'"
      ]
     },
     "execution_count": 3,
     "metadata": {},
     "output_type": "execute_result"
    }
   ],
   "source": [
    "\"Muhammad Faisal, Ali Ahmed, Abdullah\""
   ]
  },
  {
   "cell_type": "code",
   "execution_count": 4,
   "id": "f2708628",
   "metadata": {},
   "outputs": [
    {
     "data": {
      "text/plain": [
       "\"I told my friend! 'This is String'\""
      ]
     },
     "execution_count": 4,
     "metadata": {},
     "output_type": "execute_result"
    }
   ],
   "source": [
    "\"I told my friend! 'This is String'\""
   ]
  },
  {
   "cell_type": "code",
   "execution_count": 5,
   "id": "27993695",
   "metadata": {},
   "outputs": [
    {
     "data": {
      "text/plain": [
       "\"One of Python's strengths is its diverse and supportive community.\""
      ]
     },
     "execution_count": 5,
     "metadata": {},
     "output_type": "execute_result"
    }
   ],
   "source": [
    "'I told my friend, \"Python is my favorite language!\"'\n",
    "\"The language 'Python' is named after Monty Python, not the snake.\"\n",
    "\"One of Python's strengths is its diverse and supportive community.\""
   ]
  },
  {
   "cell_type": "code",
   "execution_count": 7,
   "id": "01ca3877",
   "metadata": {},
   "outputs": [
    {
     "name": "stdout",
     "output_type": "stream",
     "text": [
      "I told my friend! This is my favorite language\n"
     ]
    }
   ],
   "source": [
    "#Single quote string only used for single line\n",
    "my_string = 'I told my friend! This is my favorite language'\n",
    "print(my_string)"
   ]
  },
  {
   "cell_type": "code",
   "execution_count": 8,
   "id": "a15e14ba",
   "metadata": {},
   "outputs": [
    {
     "name": "stdout",
     "output_type": "stream",
     "text": [
      "The language 'Python' is named after Monty Python, not the snake\n"
     ]
    }
   ],
   "source": [
    "#Double qoute string only used for single line\n",
    "my_string = \"The language 'Python' is named after Monty Python, not the snake\"\n",
    "print(my_string)"
   ]
  },
  {
   "cell_type": "code",
   "execution_count": 9,
   "id": "d9753c2a",
   "metadata": {},
   "outputs": [
    {
     "name": "stdout",
     "output_type": "stream",
     "text": [
      "I told my friend, \"Python is my favorite language!\"\n",
      "The language \"Python\" is named after Monty Python, not the sanke\n",
      "One of Python's strengths is its diverse and supportive comunity\n"
     ]
    }
   ],
   "source": [
    "#Triple quote string for  Multiple  lines\n",
    "my_string = '''I told my friend, \"Python is my favorite language!\"\n",
    "The language \"Python\" is named after Monty Python, not the sanke\n",
    "One of Python's strengths is its diverse and supportive comunity'''\n",
    "\n",
    "print(my_string)"
   ]
  },
  {
   "cell_type": "code",
   "execution_count": 17,
   "id": "ad25f89f",
   "metadata": {},
   "outputs": [
    {
     "name": "stdout",
     "output_type": "stream",
     "text": [
      "   I'm a Python Programmer!\n",
      "\"The word 'Python' usually refers to a snake!\"\n",
      "Then 'Python' is my favorite language\n"
     ]
    }
   ],
   "source": [
    "#Multiple Strings\n",
    "multiple_string = '''   I'm a Python Programmer!\\n\"The word 'Python' usually refers to a snake!\"\n",
    "Then 'Python' is my favorite language'''\n",
    "\n",
    "print(multiple_string)"
   ]
  },
  {
   "cell_type": "code",
   "execution_count": 18,
   "id": "adfae8c7",
   "metadata": {},
   "outputs": [
    {
     "name": "stdout",
     "output_type": "stream",
     "text": [
      "12345\n"
     ]
    }
   ],
   "source": [
    "#String Methods\n",
    "#Casting\n",
    "my_number =12345\n",
    "my_string = str(12345)\n",
    "print(my_string)"
   ]
  },
  {
   "cell_type": "code",
   "execution_count": 19,
   "id": "b494b985",
   "metadata": {},
   "outputs": [],
   "source": [
    "#int(‘ABC’)\n",
    "#This throw out an error message.\n",
    "\n",
    "#However if we do this way\n",
    "#x=int(“123”)\n",
    "#Then it would work fine"
   ]
  },
  {
   "cell_type": "code",
   "execution_count": 21,
   "id": "12ae7f10",
   "metadata": {},
   "outputs": [
    {
     "name": "stdout",
     "output_type": "stream",
     "text": [
      "Good Morning!\n",
      "Mohsin Raza\n"
     ]
    }
   ],
   "source": [
    "#String Concatenation\n",
    "#Concatenation means combining two things together.\n",
    "string_one = \"Good Morning!\"\n",
    "string_two = \"\\nMohsin Raza\"\n",
    "string = string_one + string_two\n",
    "print(string)"
   ]
  },
  {
   "cell_type": "code",
   "execution_count": 22,
   "id": "5807f51d",
   "metadata": {},
   "outputs": [
    {
     "data": {
      "text/plain": [
       "'THIS IS A STRING'"
      ]
     },
     "execution_count": 22,
     "metadata": {},
     "output_type": "execute_result"
    }
   ],
   "source": [
    "#String Methods\n",
    "my_string = \"This is a string\"\n",
    "my_string.upper()\n"
   ]
  },
  {
   "cell_type": "code",
   "execution_count": 23,
   "id": "51229ee3",
   "metadata": {},
   "outputs": [
    {
     "data": {
      "text/plain": [
       "'this is a string'"
      ]
     },
     "execution_count": 23,
     "metadata": {},
     "output_type": "execute_result"
    }
   ],
   "source": [
    "my_string = \"THIS IS A STRING\"\n",
    "my_string.lower()\n"
   ]
  },
  {
   "cell_type": "code",
   "execution_count": 24,
   "id": "110f8baf",
   "metadata": {},
   "outputs": [
    {
     "data": {
      "text/plain": [
       "['__add__',\n",
       " '__class__',\n",
       " '__contains__',\n",
       " '__delattr__',\n",
       " '__dir__',\n",
       " '__doc__',\n",
       " '__eq__',\n",
       " '__format__',\n",
       " '__ge__',\n",
       " '__getattribute__',\n",
       " '__getitem__',\n",
       " '__getnewargs__',\n",
       " '__gt__',\n",
       " '__hash__',\n",
       " '__init__',\n",
       " '__init_subclass__',\n",
       " '__iter__',\n",
       " '__le__',\n",
       " '__len__',\n",
       " '__lt__',\n",
       " '__mod__',\n",
       " '__mul__',\n",
       " '__ne__',\n",
       " '__new__',\n",
       " '__reduce__',\n",
       " '__reduce_ex__',\n",
       " '__repr__',\n",
       " '__rmod__',\n",
       " '__rmul__',\n",
       " '__setattr__',\n",
       " '__sizeof__',\n",
       " '__str__',\n",
       " '__subclasshook__',\n",
       " 'capitalize',\n",
       " 'casefold',\n",
       " 'center',\n",
       " 'count',\n",
       " 'encode',\n",
       " 'endswith',\n",
       " 'expandtabs',\n",
       " 'find',\n",
       " 'format',\n",
       " 'format_map',\n",
       " 'index',\n",
       " 'isalnum',\n",
       " 'isalpha',\n",
       " 'isascii',\n",
       " 'isdecimal',\n",
       " 'isdigit',\n",
       " 'isidentifier',\n",
       " 'islower',\n",
       " 'isnumeric',\n",
       " 'isprintable',\n",
       " 'isspace',\n",
       " 'istitle',\n",
       " 'isupper',\n",
       " 'join',\n",
       " 'ljust',\n",
       " 'lower',\n",
       " 'lstrip',\n",
       " 'maketrans',\n",
       " 'partition',\n",
       " 'replace',\n",
       " 'rfind',\n",
       " 'rindex',\n",
       " 'rjust',\n",
       " 'rpartition',\n",
       " 'rsplit',\n",
       " 'rstrip',\n",
       " 'split',\n",
       " 'splitlines',\n",
       " 'startswith',\n",
       " 'strip',\n",
       " 'swapcase',\n",
       " 'title',\n",
       " 'translate',\n",
       " 'upper',\n",
       " 'zfill']"
      ]
     },
     "execution_count": 24,
     "metadata": {},
     "output_type": "execute_result"
    }
   ],
   "source": [
    "#All the string commands\n",
    "my_string = \"THIS IS A STRING\"\n",
    "dir(my_string)"
   ]
  },
  {
   "cell_type": "code",
   "execution_count": 32,
   "id": "7a14e8ac",
   "metadata": {},
   "outputs": [
    {
     "data": {
      "text/plain": [
       "'My '"
      ]
     },
     "execution_count": 32,
     "metadata": {},
     "output_type": "execute_result"
    }
   ],
   "source": [
    "#String Slicing\n",
    "my_string = \"My Country Pakistan, It's Beutiful Country.\"\n",
    "my_string[0:3]"
   ]
  },
  {
   "cell_type": "code",
   "execution_count": 28,
   "id": "c344edc2",
   "metadata": {},
   "outputs": [
    {
     "data": {
      "text/plain": [
       "\"Country Pakistan, It's\""
      ]
     },
     "execution_count": 28,
     "metadata": {},
     "output_type": "execute_result"
    }
   ],
   "source": [
    "my_string = \"My Country Pakistan, It's Beutiful Country.\"\n",
    "my_string[3:25]"
   ]
  },
  {
   "cell_type": "code",
   "execution_count": 37,
   "id": "577325f4",
   "metadata": {},
   "outputs": [
    {
     "data": {
      "text/plain": [
       "\"My Country Pakistan, It's Beut\""
      ]
     },
     "execution_count": 37,
     "metadata": {},
     "output_type": "execute_result"
    }
   ],
   "source": [
    "my_string = \"My Country Pakistan, It's Beutiful Country.\"\n",
    "my_string[:30]"
   ]
  },
  {
   "cell_type": "code",
   "execution_count": 38,
   "id": "1200d867",
   "metadata": {},
   "outputs": [
    {
     "data": {
      "text/plain": [
       "\"It's Beutiful Country\""
      ]
     },
     "execution_count": 38,
     "metadata": {},
     "output_type": "execute_result"
    }
   ],
   "source": [
    "my_string = \"My Country Pakistan, It's Beutiful Country.\"\n",
    "my_string[-22:-1]"
   ]
  },
  {
   "cell_type": "code",
   "execution_count": 40,
   "id": "165fd46c",
   "metadata": {},
   "outputs": [
    {
     "data": {
      "text/plain": [
       "'C'"
      ]
     },
     "execution_count": 40,
     "metadata": {},
     "output_type": "execute_result"
    }
   ],
   "source": [
    "my_string = \"My Country Pakistan, It's Beutiful Country.\"\n",
    "my_string[3]"
   ]
  },
  {
   "cell_type": "code",
   "execution_count": 43,
   "id": "9b57e448",
   "metadata": {},
   "outputs": [
    {
     "data": {
      "text/plain": [
       "'I'"
      ]
     },
     "execution_count": 43,
     "metadata": {},
     "output_type": "execute_result"
    }
   ],
   "source": [
    "my_string = \"My Country Pakistan, It's Beutiful Country.\"\n",
    "my_string[21]"
   ]
  },
  {
   "cell_type": "code",
   "execution_count": 45,
   "id": "7c0eb243",
   "metadata": {},
   "outputs": [
    {
     "name": "stdout",
     "output_type": "stream",
     "text": [
      "I like Python Language\n"
     ]
    }
   ],
   "source": [
    "#The old way of string substitution step 1\n",
    "my_string = 'I like %s Language'%'Python'\n",
    "print(my_string)"
   ]
  },
  {
   "cell_type": "code",
   "execution_count": 48,
   "id": "3b20c9ae",
   "metadata": {},
   "outputs": [
    {
     "name": "stdout",
     "output_type": "stream",
     "text": [
      "I like reading Books related to the Entertainment!\n"
     ]
    }
   ],
   "source": [
    "my_string = \"I like reading %s related to the %s!\" %('Books','Entertainment')\n",
    "print(my_string)"
   ]
  },
  {
   "cell_type": "code",
   "execution_count": 49,
   "id": "5e012d02",
   "metadata": {},
   "outputs": [
    {
     "data": {
      "text/plain": [
       "'I like cookies'"
      ]
     },
     "execution_count": 49,
     "metadata": {},
     "output_type": "execute_result"
    }
   ],
   "source": [
    "#The old way of string substitution step 2\n",
    "var = \"cookies\"\n",
    "newString = \"I like %s\" % var\n",
    "newString"
   ]
  },
  {
   "cell_type": "code",
   "execution_count": 50,
   "id": "b7174007",
   "metadata": {},
   "outputs": [
    {
     "name": "stdout",
     "output_type": "stream",
     "text": [
      "I like Python and cookies\n"
     ]
    }
   ],
   "source": [
    "#The old way of string substitution step 3\n",
    "var = \"cookies\"\n",
    "another_string = \"I like %s and %s\" % (\"Python\", var)\n",
    "print(another_string)"
   ]
  },
  {
   "cell_type": "code",
   "execution_count": 51,
   "id": "836b8386",
   "metadata": {},
   "outputs": [
    {
     "data": {
      "text/plain": [
       "'1 + 2 = 3'"
      ]
     },
     "execution_count": 51,
     "metadata": {},
     "output_type": "execute_result"
    }
   ],
   "source": [
    "#Examples with integers\n",
    "my_string = \"%i + %i = %i\" % (1,2,3)\n",
    "my_string"
   ]
  },
  {
   "cell_type": "code",
   "execution_count": 53,
   "id": "9f256ad0",
   "metadata": {},
   "outputs": [
    {
     "data": {
      "text/plain": [
       "'1.230000'"
      ]
     },
     "execution_count": 53,
     "metadata": {},
     "output_type": "execute_result"
    }
   ],
   "source": [
    "#Examples with float\n",
    "float_string = \"%f\" % (1.23)\n",
    "float_string\n",
    "\n"
   ]
  },
  {
   "cell_type": "code",
   "execution_count": 54,
   "id": "fdf85156",
   "metadata": {},
   "outputs": [
    {
     "data": {
      "text/plain": [
       "'1.23'"
      ]
     },
     "execution_count": 54,
     "metadata": {},
     "output_type": "execute_result"
    }
   ],
   "source": [
    "float_string2 = \"%.2f\" % (1.23)\n",
    "float_string2"
   ]
  },
  {
   "cell_type": "code",
   "execution_count": 55,
   "id": "da646057",
   "metadata": {},
   "outputs": [
    {
     "name": "stdout",
     "output_type": "stream",
     "text": [
      "Python is fun!\n"
     ]
    }
   ],
   "source": [
    "#Templates and the New String Formatting Methodology\n",
    "print(\"%(lang)s is fun!\" % {\"lang\":\"Python\"})\n"
   ]
  },
  {
   "cell_type": "code",
   "execution_count": 56,
   "id": "bf4727e2",
   "metadata": {},
   "outputs": [
    {
     "name": "stdout",
     "output_type": "stream",
     "text": [
      "Sharfoo Sharfoo Sharfoo !\n"
     ]
    }
   ],
   "source": [
    "#More Examples with text \n",
    "print(\"%(value)s %(value)s %(value)s !\" % {\"value\":\"Sharfoo\"})"
   ]
  },
  {
   "cell_type": "code",
   "execution_count": 57,
   "id": "74672870",
   "metadata": {},
   "outputs": [
    {
     "name": "stdout",
     "output_type": "stream",
     "text": [
      "1 + 2 = 3\n"
     ]
    }
   ],
   "source": [
    "#More examples with number\n",
    "print(\"%(x)i + %(y)i = %(z)i\" % {\"x\":1, \"y\":2, \"z\":3})"
   ]
  },
  {
   "cell_type": "code",
   "execution_count": 58,
   "id": "ea851835",
   "metadata": {},
   "outputs": [
    {
     "data": {
      "text/plain": [
       "'Python is as simple as a, b, c'"
      ]
     },
     "execution_count": 58,
     "metadata": {},
     "output_type": "execute_result"
    }
   ],
   "source": [
    "#Another example\n",
    "\"Python is as simple as {0}, {1}, {2}\".format(\"a\", \"b\", \"c\")"
   ]
  },
  {
   "cell_type": "code",
   "execution_count": 59,
   "id": "a55e61f2",
   "metadata": {},
   "outputs": [
    {
     "name": "stdout",
     "output_type": "stream",
     "text": [
      "Graph a point at where x=0 and y=10\n"
     ]
    }
   ],
   "source": [
    "#Another example\n",
    "xy = {\"x\":0, \"y\":10}\n",
    "print(\"Graph a point at where x={x} and y={y}\".format(**xy))"
   ]
  },
  {
   "cell_type": "code",
   "execution_count": null,
   "id": "6495c806",
   "metadata": {},
   "outputs": [],
   "source": []
  }
 ],
 "metadata": {
  "kernelspec": {
   "display_name": "Python 3",
   "language": "python",
   "name": "python3"
  },
  "language_info": {
   "codemirror_mode": {
    "name": "ipython",
    "version": 3
   },
   "file_extension": ".py",
   "mimetype": "text/x-python",
   "name": "python",
   "nbconvert_exporter": "python",
   "pygments_lexer": "ipython3",
   "version": "3.8.8"
  }
 },
 "nbformat": 4,
 "nbformat_minor": 5
}
