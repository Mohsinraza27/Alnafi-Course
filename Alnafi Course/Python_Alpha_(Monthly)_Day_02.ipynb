{
 "cells": [
  {
   "cell_type": "code",
   "execution_count": 1,
   "id": "8ba16485",
   "metadata": {},
   "outputs": [],
   "source": [
    "#Lists, Tuples and Dictionaries"
   ]
  },
  {
   "cell_type": "code",
   "execution_count": 2,
   "id": "66e93a64",
   "metadata": {},
   "outputs": [
    {
     "name": "stdout",
     "output_type": "stream",
     "text": [
      "[]\n"
     ]
    }
   ],
   "source": [
    "#LIST\n",
    "empty_list = []\n",
    "print(empty_list)"
   ]
  },
  {
   "cell_type": "code",
   "execution_count": 3,
   "id": "d3c1db9d",
   "metadata": {},
   "outputs": [
    {
     "name": "stdout",
     "output_type": "stream",
     "text": [
      "<class 'list'>\n"
     ]
    }
   ],
   "source": [
    "empty_list = []\n",
    "print(type(empty_list))"
   ]
  },
  {
   "cell_type": "code",
   "execution_count": 4,
   "id": "09bf3ade",
   "metadata": {},
   "outputs": [
    {
     "name": "stdout",
     "output_type": "stream",
     "text": [
      "<class 'list'>\n"
     ]
    }
   ],
   "source": [
    "empty_list = list()\n",
    "print(type(empty_list))"
   ]
  },
  {
   "cell_type": "code",
   "execution_count": 5,
   "id": "c9d69698",
   "metadata": {},
   "outputs": [
    {
     "name": "stdout",
     "output_type": "stream",
     "text": [
      "[1, 2, 3, 4, 5, 'Mohsin', 'Raza', 'Ali', 'Ahmed', 'Hamza', 'Haider', 'Mohsin', 1, 'Raza', 2, 'Ali', 3, 'Ahmed', 4, 'Hamza', 5]\n"
     ]
    }
   ],
   "source": [
    "#Occasionally we will combine two or three lists together.\n",
    "list1 = [1, 2, 3, 4, 5]\n",
    "list2 = [\"Mohsin\", \"Raza\", \"Ali\", \"Ahmed\", \"Hamza\", \"Haider\"]\n",
    "list3 = [\"Mohsin\", 1, \"Raza\", 2, \"Ali\", 3, \"Ahmed\", 4, \"Hamza\", 5]\n",
    "\n",
    "list4 = list1 + list2 + list3\n",
    "\n",
    "print(list4)"
   ]
  },
  {
   "cell_type": "code",
   "execution_count": 7,
   "id": "5faa7b1a",
   "metadata": {},
   "outputs": [
    {
     "name": "stdout",
     "output_type": "stream",
     "text": [
      "[2, 4, 6]\n"
     ]
    }
   ],
   "source": [
    "list = []\n",
    "list1 =[2, 4, 6]\n",
    "list.extend(list1)\n",
    "print(list)"
   ]
  },
  {
   "cell_type": "code",
   "execution_count": 8,
   "id": "88ef427b",
   "metadata": {},
   "outputs": [
    {
     "name": "stdout",
     "output_type": "stream",
     "text": [
      "[1, 2, 3, 4, 5, 6, 7, 8, 9, 10]\n"
     ]
    }
   ],
   "source": [
    "list1 = [1, 2, 3, 4, 5]\n",
    "list2 = [6, 7, 8, 9, 10]\n",
    "list1.extend(list2)\n",
    "print(list1)"
   ]
  },
  {
   "cell_type": "code",
   "execution_count": 11,
   "id": "d1d9a99d",
   "metadata": {},
   "outputs": [
    {
     "data": {
      "text/plain": [
       "[10, 12, 23, 34, 45, 56, 78, 89, 90]"
      ]
     },
     "execution_count": 11,
     "metadata": {},
     "output_type": "execute_result"
    }
   ],
   "source": [
    "list = [12, 34, 23, 45, 89, 78, 90, 56, 10]\n",
    "list.sort()\n",
    "list"
   ]
  },
  {
   "cell_type": "code",
   "execution_count": 16,
   "id": "12c682ca",
   "metadata": {},
   "outputs": [
    {
     "name": "stdout",
     "output_type": "stream",
     "text": [
      "[10, 9, 8, 5, 54, 23, 43, 11, 18, 24, 45, 67, 98, 78]\n",
      "[5, 8, 9, 10, 11, 18, 23, 24, 43, 45, 54, 67, 78, 98]\n"
     ]
    }
   ],
   "source": [
    "list1 = [5*2, 3*3, 4*2, 5, 6*9, 23, 43]\n",
    "list2 = [11, 18, 24, 45, 67, 98, 78]\n",
    "list3 = list1 + list2\n",
    "print(list3)\n",
    "list3.sort()\n",
    "print(list3)"
   ]
  },
  {
   "cell_type": "code",
   "execution_count": 14,
   "id": "e9430d83",
   "metadata": {},
   "outputs": [
    {
     "name": "stdout",
     "output_type": "stream",
     "text": [
      "[10, 9, 8, 5, 54, 23, 43]\n"
     ]
    }
   ],
   "source": [
    "list1 = [5*2, 3*3, 4*2, 5, 6*9, 23, 43]\n",
    "print(list1)"
   ]
  },
  {
   "cell_type": "code",
   "execution_count": 17,
   "id": "aa412f0d",
   "metadata": {},
   "outputs": [
    {
     "name": "stdout",
     "output_type": "stream",
     "text": [
      "None\n"
     ]
    }
   ],
   "source": [
    "list1 = [5*2, 3*3, 4*2, 5, 6*9, 23, 43]\n",
    "list2 = [11, 18, 24, 45, 67, 98, 78]\n",
    "list3 = list1 + list2\n",
    "print(list3.sort())"
   ]
  },
  {
   "cell_type": "code",
   "execution_count": 18,
   "id": "6263447e",
   "metadata": {},
   "outputs": [
    {
     "name": "stdout",
     "output_type": "stream",
     "text": [
      "[10, 9, 8, 5, 54, 23, 43]\n",
      "9\n"
     ]
    }
   ],
   "source": [
    "#Slicing\n",
    "list1 = [5*2, 3*3, 4*2, 5, 6*9, 23, 43]\n",
    "print(list1)\n",
    "print(list1[1])"
   ]
  },
  {
   "cell_type": "code",
   "execution_count": 19,
   "id": "3a94db58",
   "metadata": {},
   "outputs": [
    {
     "name": "stdout",
     "output_type": "stream",
     "text": [
      "[10, 9, 8, 5, 54, 23, 43]\n",
      "[10, 9, 8, 5, 54, 23]\n"
     ]
    }
   ],
   "source": [
    "list1 = [5*2, 3*3, 4*2, 5, 6*9, 23, 43]\n",
    "print(list1)\n",
    "print(list1[0:6])"
   ]
  },
  {
   "cell_type": "code",
   "execution_count": 23,
   "id": "2d9ccb47",
   "metadata": {},
   "outputs": [
    {
     "name": "stdout",
     "output_type": "stream",
     "text": [
      "[10, 9, 8, 5, 54, 23, 43]\n",
      "[10]\n"
     ]
    }
   ],
   "source": [
    "list1 = [5*2, 3*3, 4*2, 5, 6*9, 23, 43]\n",
    "print(list1)\n",
    "print(list1[0:2:5])"
   ]
  },
  {
   "cell_type": "code",
   "execution_count": 28,
   "id": "a0811d8d",
   "metadata": {},
   "outputs": [
    {
     "ename": "AttributeError",
     "evalue": "'list' object has no attribute 'add'",
     "output_type": "error",
     "traceback": [
      "\u001b[1;31m---------------------------------------------------------------------------\u001b[0m",
      "\u001b[1;31mAttributeError\u001b[0m                            Traceback (most recent call last)",
      "\u001b[1;32m<ipython-input-28-bee4254fe9b6>\u001b[0m in \u001b[0;36m<module>\u001b[1;34m\u001b[0m\n\u001b[0;32m      1\u001b[0m \u001b[1;31m#the list is mutable(can be changed)\u001b[0m\u001b[1;33m\u001b[0m\u001b[1;33m\u001b[0m\u001b[1;33m\u001b[0m\u001b[0m\n\u001b[0;32m      2\u001b[0m \u001b[0mlist\u001b[0m \u001b[1;33m=\u001b[0m \u001b[1;33m[\u001b[0m\u001b[1;34m\"Mohsin\"\u001b[0m\u001b[1;33m,\u001b[0m \u001b[1;34m\"Raza\"\u001b[0m\u001b[1;33m,\u001b[0m \u001b[1;34m\"Ali\"\u001b[0m\u001b[1;33m,\u001b[0m \u001b[1;34m\"Ahmed\"\u001b[0m\u001b[1;33m,\u001b[0m \u001b[1;34m\"Hamza\"\u001b[0m\u001b[1;33m,\u001b[0m \u001b[1;34m\"Haider\"\u001b[0m\u001b[1;33m]\u001b[0m\u001b[1;33m\u001b[0m\u001b[1;33m\u001b[0m\u001b[0m\n\u001b[1;32m----> 3\u001b[1;33m \u001b[0mprint\u001b[0m\u001b[1;33m(\u001b[0m\u001b[0mlist\u001b[0m\u001b[1;33m.\u001b[0m\u001b[0madd\u001b[0m\u001b[1;33m(\u001b[0m\u001b[1;34m\"Abdullah\"\u001b[0m\u001b[1;33m,\u001b[0m \u001b[1;34m\"Hamid\"\u001b[0m\u001b[1;33m)\u001b[0m\u001b[1;33m)\u001b[0m\u001b[1;33m\u001b[0m\u001b[1;33m\u001b[0m\u001b[0m\n\u001b[0m\u001b[0;32m      4\u001b[0m \u001b[0mprint\u001b[0m\u001b[1;33m(\u001b[0m\u001b[0mlist\u001b[0m\u001b[1;33m)\u001b[0m\u001b[1;33m\u001b[0m\u001b[1;33m\u001b[0m\u001b[0m\n",
      "\u001b[1;31mAttributeError\u001b[0m: 'list' object has no attribute 'add'"
     ]
    }
   ],
   "source": [
    "#the list is mutable(can be changed)\n",
    "list = [\"Mohsin\", \"Raza\", \"Ali\", \"Ahmed\", \"Hamza\", \"Haider\"]\n",
    "print(list.add(\"Abdullah\", \"Hamid\"))\n",
    "print(list)"
   ]
  },
  {
   "cell_type": "code",
   "execution_count": 29,
   "id": "bad9f5c5",
   "metadata": {},
   "outputs": [],
   "source": [
    "#Tuple"
   ]
  },
  {
   "cell_type": "code",
   "execution_count": 30,
   "id": "8dba179d",
   "metadata": {},
   "outputs": [
    {
     "data": {
      "text/plain": [
       "(1, 2, 3, 4, 5, 6)"
      ]
     },
     "execution_count": 30,
     "metadata": {},
     "output_type": "execute_result"
    }
   ],
   "source": [
    "tuple = (1, 2, 3, 4, 5, 6)\n",
    "tuple"
   ]
  },
  {
   "cell_type": "code",
   "execution_count": 31,
   "id": "99036a8e",
   "metadata": {},
   "outputs": [
    {
     "data": {
      "text/plain": [
       "1"
      ]
     },
     "execution_count": 31,
     "metadata": {},
     "output_type": "execute_result"
    }
   ],
   "source": [
    "tuple[0]"
   ]
  },
  {
   "cell_type": "code",
   "execution_count": 32,
   "id": "067dddb5",
   "metadata": {},
   "outputs": [
    {
     "data": {
      "text/plain": [
       "(1, 2, 3, 4, 5)"
      ]
     },
     "execution_count": 32,
     "metadata": {},
     "output_type": "execute_result"
    }
   ],
   "source": [
    "tuple[0:5]"
   ]
  },
  {
   "cell_type": "code",
   "execution_count": 35,
   "id": "d528b380",
   "metadata": {},
   "outputs": [
    {
     "name": "stdout",
     "output_type": "stream",
     "text": [
      "<class 'tuple'>\n"
     ]
    }
   ],
   "source": [
    "tuple=()\n",
    "print(type(tuple))"
   ]
  },
  {
   "cell_type": "code",
   "execution_count": 36,
   "id": "0c7baffc",
   "metadata": {},
   "outputs": [],
   "source": [
    "#Dictionaries"
   ]
  },
  {
   "cell_type": "code",
   "execution_count": 37,
   "id": "7c7e82d8",
   "metadata": {},
   "outputs": [
    {
     "name": "stdout",
     "output_type": "stream",
     "text": [
      "<class 'dict'>\n"
     ]
    }
   ],
   "source": [
    "dict = {}\n",
    "print(type(dict))"
   ]
  },
  {
   "cell_type": "code",
   "execution_count": 38,
   "id": "61541a01",
   "metadata": {},
   "outputs": [
    {
     "name": "stdout",
     "output_type": "stream",
     "text": [
      "{'Mohsin': 'Raza', 'Ali': 'Ahmed', 'Abdullah': 'Arshad'}\n"
     ]
    }
   ],
   "source": [
    "dict = {\"Mohsin\": \"Raza\", \"Ali\": \"Ahmed\", \"Abdullah\": \"Arshad\"}\n",
    "print(dict)"
   ]
  },
  {
   "cell_type": "code",
   "execution_count": 39,
   "id": "51aaa019",
   "metadata": {},
   "outputs": [
    {
     "name": "stdout",
     "output_type": "stream",
     "text": [
      "Raza\n"
     ]
    }
   ],
   "source": [
    "dict = {\"Mohsin\": \"Raza\", \"Ali\": \"Ahmed\", \"Abdullah\": \"Arshad\"}\n",
    "print(dict[\"Mohsin\"])"
   ]
  },
  {
   "cell_type": "code",
   "execution_count": 40,
   "id": "3fac1a9a",
   "metadata": {},
   "outputs": [
    {
     "name": "stdout",
     "output_type": "stream",
     "text": [
      "Ahmed\n"
     ]
    }
   ],
   "source": [
    "dict = {\"Mohsin\": \"Raza\", \"Ali\": \"Ahmed\", \"Abdullah\": \"Arshad\"}\n",
    "print(dict[\"Ali\"])"
   ]
  },
  {
   "cell_type": "code",
   "execution_count": 43,
   "id": "c35f94a6",
   "metadata": {},
   "outputs": [
    {
     "name": "stdout",
     "output_type": "stream",
     "text": [
      "dict_keys(['Mohsin', 'Ali', 'Abdullah'])\n"
     ]
    }
   ],
   "source": [
    "dict = {\"Mohsin\": \"Raza\", \"Ali\": \"Ahmed\", \"Abdullah\": \"Arshad\"}\n",
    "print(dict.keys())"
   ]
  },
  {
   "cell_type": "code",
   "execution_count": 45,
   "id": "ce0203ee",
   "metadata": {},
   "outputs": [
    {
     "name": "stdout",
     "output_type": "stream",
     "text": [
      "dict_values(['Raza', 'Ahmed', 'Arshad'])\n"
     ]
    }
   ],
   "source": [
    "dict = {\"Mohsin\": \"Raza\", \"Ali\": \"Ahmed\", \"Abdullah\": \"Arshad\"}\n",
    "print(dict.values())"
   ]
  },
  {
   "cell_type": "code",
   "execution_count": 46,
   "id": "c357e659",
   "metadata": {},
   "outputs": [],
   "source": [
    "#Conditional Statements if/else"
   ]
  },
  {
   "cell_type": "code",
   "execution_count": 49,
   "id": "f1f3c285",
   "metadata": {},
   "outputs": [
    {
     "name": "stdout",
     "output_type": "stream",
     "text": [
      "This is False\n"
     ]
    }
   ],
   "source": [
    "num1 = 22\n",
    "num2 = 12\n",
    "if num1>25 and num2<20:\n",
    "    print(\"This is True!\")\n",
    "elif  num1>=25 and num2<=20:\n",
    "    print(\"The values are equal\")\n",
    "else:\n",
    "    print(\"This is False\")"
   ]
  },
  {
   "cell_type": "code",
   "execution_count": 50,
   "id": "530f4932",
   "metadata": {},
   "outputs": [
    {
     "name": "stdout",
     "output_type": "stream",
     "text": [
      "The values are equal\n"
     ]
    }
   ],
   "source": [
    "num1 = 25\n",
    "num2 = 12\n",
    "if num1>25 and num2<20:\n",
    "    print(\"This is True!\")\n",
    "elif  num1>=25 and num2<=20:\n",
    "    print(\"The values are equal\")\n",
    "else:\n",
    "    print(\"This is False\")"
   ]
  },
  {
   "cell_type": "code",
   "execution_count": 51,
   "id": "4a22aa0d",
   "metadata": {},
   "outputs": [
    {
     "name": "stdout",
     "output_type": "stream",
     "text": [
      "The values are equal\n"
     ]
    }
   ],
   "source": [
    "num1 = 25\n",
    "num2 = 20\n",
    "if num1>25 and num2<20:\n",
    "    print(\"This is True!\")\n",
    "elif  num1>=25 and num2<=20:\n",
    "    print(\"The values are equal\")\n",
    "else:\n",
    "    print(\"This is False\")"
   ]
  },
  {
   "cell_type": "code",
   "execution_count": 52,
   "id": "e7da6921",
   "metadata": {},
   "outputs": [
    {
     "name": "stdout",
     "output_type": "stream",
     "text": [
      "This is True!\n"
     ]
    }
   ],
   "source": [
    "num1 = 26\n",
    "num2 = 12\n",
    "if num1>25 and num2<20:\n",
    "    print(\"This is True!\")\n",
    "elif  num1>=25 and num2<=20:\n",
    "    print(\"The values are equal\")\n",
    "else:\n",
    "    print(\"This is False\")"
   ]
  },
  {
   "cell_type": "code",
   "execution_count": 53,
   "id": "3a68c19e",
   "metadata": {},
   "outputs": [
    {
     "name": "stdout",
     "output_type": "stream",
     "text": [
      "This is True!\n"
     ]
    }
   ],
   "source": [
    "num1 = 26\n",
    "num2 = 19\n",
    "if num1>25 and num2<20:\n",
    "    print(\"This is True!\")\n",
    "elif  num1>=25 and num2<=20:\n",
    "    print(\"The values are equal\")\n",
    "else:\n",
    "    print(\"This is False\")"
   ]
  },
  {
   "cell_type": "code",
   "execution_count": 54,
   "id": "4a6a2667",
   "metadata": {},
   "outputs": [
    {
     "name": "stdout",
     "output_type": "stream",
     "text": [
      "This is False\n"
     ]
    }
   ],
   "source": [
    "num1 = 22\n",
    "num2 = 12\n",
    "if num1>25 and num2<20:\n",
    "    print(\"This is True!\")\n",
    "elif  num1>=25 and num2<=20:\n",
    "    print(\"The values are equal\")\n",
    "else:\n",
    "    print(\"This is False\")"
   ]
  },
  {
   "cell_type": "code",
   "execution_count": 56,
   "id": "45d51d34",
   "metadata": {},
   "outputs": [
    {
     "name": "stdout",
     "output_type": "stream",
     "text": [
      "That's a great deal!\n"
     ]
    }
   ],
   "source": [
    "value = 8\n",
    "if value < 10:\n",
    "    print(\"That's a great deal!\")\n",
    "elif 10 <= value <= 20:\n",
    "    print(\"I'd still pay that...\")\n",
    "else:\n",
    "    print(\"Wow! That's too much!\")"
   ]
  },
  {
   "cell_type": "code",
   "execution_count": 58,
   "id": "402c5373",
   "metadata": {},
   "outputs": [
    {
     "name": "stdout",
     "output_type": "stream",
     "text": [
      "I'd still pay that...\n"
     ]
    }
   ],
   "source": [
    "value = 10\n",
    "if value < 10:\n",
    "    print(\"That's a great deal!\")\n",
    "elif 10 <= value <= 20:\n",
    "    print(\"I'd still pay that...\")\n",
    "else:\n",
    "    print(\"Wow! That's too much!\")"
   ]
  },
  {
   "cell_type": "code",
   "execution_count": 59,
   "id": "124c4d2a",
   "metadata": {},
   "outputs": [
    {
     "name": "stdout",
     "output_type": "stream",
     "text": [
      "Wow! That's too much!\n"
     ]
    }
   ],
   "source": [
    "value = 21\n",
    "if value < 10:\n",
    "    print(\"That's a great deal!\")\n",
    "elif 10 <= value <= 20:\n",
    "    print(\"I'd still pay that...\")\n",
    "else:\n",
    "    print(\"Wow! That's too much!\")"
   ]
  },
  {
   "cell_type": "code",
   "execution_count": 60,
   "id": "be8fde92",
   "metadata": {},
   "outputs": [
    {
     "name": "stdout",
     "output_type": "stream",
     "text": [
      "True\n"
     ]
    }
   ],
   "source": [
    "# OR\n",
    "a = 45\n",
    "b = 25\n",
    "if a>b or b>a:\n",
    "    print(\"True\")\n",
    "else:\n",
    "    print(\"False\")"
   ]
  },
  {
   "cell_type": "code",
   "execution_count": 62,
   "id": "e9dc4f33",
   "metadata": {},
   "outputs": [
    {
     "name": "stdout",
     "output_type": "stream",
     "text": [
      "False\n"
     ]
    }
   ],
   "source": [
    "a = 15\n",
    "b = 225\n",
    "if a>b or b<a:\n",
    "    print(\"True\")\n",
    "else:\n",
    "    print(\"False\")"
   ]
  },
  {
   "cell_type": "code",
   "execution_count": 63,
   "id": "60addf17",
   "metadata": {},
   "outputs": [
    {
     "name": "stdout",
     "output_type": "stream",
     "text": [
      "False\n"
     ]
    }
   ],
   "source": [
    "a = 45\n",
    "b = 25\n",
    "if a>50 or b>30:\n",
    "    print(\"True\")\n",
    "else:\n",
    "    print(\"False\")"
   ]
  },
  {
   "cell_type": "code",
   "execution_count": 64,
   "id": "2a6b5c0b",
   "metadata": {},
   "outputs": [
    {
     "name": "stdout",
     "output_type": "stream",
     "text": [
      "True\n"
     ]
    }
   ],
   "source": [
    "a = 45\n",
    "b = 25\n",
    "if a>30 or b>10:\n",
    "    print(\"True\")\n",
    "else:\n",
    "    print(\"False\")"
   ]
  },
  {
   "cell_type": "code",
   "execution_count": 65,
   "id": "0443a913",
   "metadata": {},
   "outputs": [
    {
     "name": "stdout",
     "output_type": "stream",
     "text": [
      "True\n"
     ]
    }
   ],
   "source": [
    "a = 45\n",
    "b = 25\n",
    "if a>50 or b>20:\n",
    "    print(\"True\")\n",
    "else:\n",
    "    print(\"False\")"
   ]
  },
  {
   "cell_type": "code",
   "execution_count": 66,
   "id": "cd6bfd10",
   "metadata": {},
   "outputs": [
    {
     "name": "stdout",
     "output_type": "stream",
     "text": [
      "False\n"
     ]
    }
   ],
   "source": [
    "# AND\n",
    "a = 45\n",
    "b = 25\n",
    "if a>50 and b>30:\n",
    "    print(\"True\")\n",
    "else:\n",
    "    print(\"False\")"
   ]
  },
  {
   "cell_type": "code",
   "execution_count": 67,
   "id": "5e383741",
   "metadata": {},
   "outputs": [
    {
     "name": "stdout",
     "output_type": "stream",
     "text": [
      "False\n"
     ]
    }
   ],
   "source": [
    "a = 45\n",
    "b = 25\n",
    "if a>30 and b>30:\n",
    "    print(\"True\")\n",
    "else:\n",
    "    print(\"False\")"
   ]
  },
  {
   "cell_type": "code",
   "execution_count": 68,
   "id": "7cc9d602",
   "metadata": {},
   "outputs": [
    {
     "name": "stdout",
     "output_type": "stream",
     "text": [
      "True\n"
     ]
    }
   ],
   "source": [
    "a = 45\n",
    "b = 25\n",
    "if a>30 and b>20:\n",
    "    print(\"True\")\n",
    "else:\n",
    "    print(\"False\")"
   ]
  },
  {
   "cell_type": "code",
   "execution_count": 69,
   "id": "68db702d",
   "metadata": {},
   "outputs": [
    {
     "name": "stdout",
     "output_type": "stream",
     "text": [
      "The statement was False!\n"
     ]
    }
   ],
   "source": [
    "x = 10\n",
    "y = 10\n",
    "if x == 10 and y == 15:\n",
    "    print(\"This statement was True\")\n",
    "else:\n",
    "    print(\"The statement was False!\")\n"
   ]
  },
  {
   "cell_type": "code",
   "execution_count": 70,
   "id": "a5e8271a",
   "metadata": {},
   "outputs": [
    {
     "name": "stdout",
     "output_type": "stream",
     "text": [
      "True\n"
     ]
    }
   ],
   "source": [
    "# NOT\n",
    "list = [1, 2, 3,4,5,6, 9]\n",
    "x = 3\n",
    "if x not in list:\n",
    "    print(\"False\")\n",
    "else:\n",
    "    print(\"True\")"
   ]
  },
  {
   "cell_type": "code",
   "execution_count": 71,
   "id": "77f4d4da",
   "metadata": {},
   "outputs": [
    {
     "name": "stdout",
     "output_type": "stream",
     "text": [
      "False\n"
     ]
    }
   ],
   "source": [
    "list = [1, 2, 3,4,5,6, 9]\n",
    "x = 10\n",
    "if x not in list:\n",
    "    print(\"False\")\n",
    "else:\n",
    "    print(\"True\")"
   ]
  },
  {
   "cell_type": "code",
   "execution_count": 72,
   "id": "bf25e397",
   "metadata": {},
   "outputs": [
    {
     "name": "stdout",
     "output_type": "stream",
     "text": [
      "'x' is not in the list, so this is True!\n"
     ]
    }
   ],
   "source": [
    "my_list = [1, 2, 3, 4]\n",
    "x = 10\n",
    "if x not in my_list:\n",
    "    print(\"'x' is not in the list, so this is True!\")"
   ]
  },
  {
   "cell_type": "code",
   "execution_count": 73,
   "id": "20bdb545",
   "metadata": {},
   "outputs": [
    {
     "name": "stdout",
     "output_type": "stream",
     "text": [
      "x is not equal to 11!\n"
     ]
    }
   ],
   "source": [
    "x = 10\n",
    "if x != 11:\n",
    "    print(\"x is not equal to 11!\")"
   ]
  },
  {
   "cell_type": "code",
   "execution_count": 75,
   "id": "b6ed27b1",
   "metadata": {},
   "outputs": [
    {
     "name": "stdout",
     "output_type": "stream",
     "text": [
      "This is True!\n"
     ]
    }
   ],
   "source": [
    "my_list = [1, 2, 3, 4]\n",
    "x = 10\n",
    "z = 11\n",
    "if x not in my_list and z != 10:\n",
    "    print(\"This is True!\")\n"
   ]
  },
  {
   "cell_type": "code",
   "execution_count": 78,
   "id": "f73609c8",
   "metadata": {},
   "outputs": [
    {
     "name": "stdout",
     "output_type": "stream",
     "text": [
      "It's an empty list!\n"
     ]
    },
    {
     "ename": "NameError",
     "evalue": "name 'empty_tuple' is not defined",
     "output_type": "error",
     "traceback": [
      "\u001b[1;31m---------------------------------------------------------------------------\u001b[0m",
      "\u001b[1;31mNameError\u001b[0m                                 Traceback (most recent call last)",
      "\u001b[1;32m<ipython-input-78-6a9dec9b100f>\u001b[0m in \u001b[0;36m<module>\u001b[1;34m\u001b[0m\n\u001b[0;32m      2\u001b[0m \u001b[1;32mif\u001b[0m \u001b[0mempty_list\u001b[0m \u001b[1;33m==\u001b[0m \u001b[1;33m[\u001b[0m\u001b[1;33m]\u001b[0m\u001b[1;33m:\u001b[0m\u001b[1;33m\u001b[0m\u001b[1;33m\u001b[0m\u001b[0m\n\u001b[0;32m      3\u001b[0m     \u001b[0mprint\u001b[0m\u001b[1;33m(\u001b[0m\u001b[1;34m\"It's an empty list!\"\u001b[0m\u001b[1;33m)\u001b[0m\u001b[1;33m\u001b[0m\u001b[1;33m\u001b[0m\u001b[0m\n\u001b[1;32m----> 4\u001b[1;33m \u001b[1;32mif\u001b[0m \u001b[0mempty_tuple\u001b[0m \u001b[1;33m==\u001b[0m \u001b[1;33m(\u001b[0m\u001b[1;33m)\u001b[0m\u001b[1;33m:\u001b[0m\u001b[1;33m\u001b[0m\u001b[1;33m\u001b[0m\u001b[0m\n\u001b[0m\u001b[0;32m      5\u001b[0m     \u001b[0mprint\u001b[0m\u001b[1;33m(\u001b[0m\u001b[1;34m\"It's not an empty tuple!\"\u001b[0m\u001b[1;33m)\u001b[0m\u001b[1;33m\u001b[0m\u001b[1;33m\u001b[0m\u001b[0m\n\u001b[0;32m      6\u001b[0m \u001b[1;32mif\u001b[0m \u001b[1;32mnot\u001b[0m \u001b[0mempty_string\u001b[0m \u001b[1;33m==\u001b[0m \u001b[1;34m\"\"\u001b[0m\u001b[1;33m:\u001b[0m\u001b[1;33m\u001b[0m\u001b[1;33m\u001b[0m\u001b[0m\n",
      "\u001b[1;31mNameError\u001b[0m: name 'empty_tuple' is not defined"
     ]
    }
   ],
   "source": [
    "# NONE\n",
    "if empty_list == []:\n",
    "    print(\"It's an empty list!\")\n",
    "if empty_tuple == ():\n",
    "    print(\"It's not an empty tuple!\")\n",
    "if not empty_string == \"\":\n",
    "    print(\"This is an empty string!\")\n",
    "if not nothing:\n",
    "    print(\"Then it's nothing!\")"
   ]
  },
  {
   "cell_type": "code",
   "execution_count": 80,
   "id": "7ecb94af",
   "metadata": {},
   "outputs": [],
   "source": [
    "empty_string = \"something\"\n",
    "if empty_string == \"\":\n",
    "    print(\"This is an empty string!\")"
   ]
  },
  {
   "cell_type": "code",
   "execution_count": null,
   "id": "4640f713",
   "metadata": {},
   "outputs": [],
   "source": [
    "# Spaial characters \\n, \\t, \\\\"
   ]
  }
 ],
 "metadata": {
  "kernelspec": {
   "display_name": "Python 3",
   "language": "python",
   "name": "python3"
  },
  "language_info": {
   "codemirror_mode": {
    "name": "ipython",
    "version": 3
   },
   "file_extension": ".py",
   "mimetype": "text/x-python",
   "name": "python",
   "nbconvert_exporter": "python",
   "pygments_lexer": "ipython3",
   "version": "3.8.8"
  }
 },
 "nbformat": 4,
 "nbformat_minor": 5
}
