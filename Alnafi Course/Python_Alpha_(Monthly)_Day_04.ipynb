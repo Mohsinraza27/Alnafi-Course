{
 "cells": [
  {
   "cell_type": "code",
   "execution_count": 1,
   "id": "798a345c",
   "metadata": {},
   "outputs": [],
   "source": [
    "# Errors and Exceptions"
   ]
  },
  {
   "cell_type": "code",
   "execution_count": 2,
   "id": "a55dca90",
   "metadata": {},
   "outputs": [
    {
     "ename": "ZeroDivisionError",
     "evalue": "division by zero",
     "output_type": "error",
     "traceback": [
      "\u001b[1;31m---------------------------------------------------------------------------\u001b[0m",
      "\u001b[1;31mZeroDivisionError\u001b[0m                         Traceback (most recent call last)",
      "\u001b[1;32m<ipython-input-2-9e1622b385b6>\u001b[0m in \u001b[0;36m<module>\u001b[1;34m\u001b[0m\n\u001b[1;32m----> 1\u001b[1;33m \u001b[1;36m1\u001b[0m\u001b[1;33m/\u001b[0m\u001b[1;36m0\u001b[0m\u001b[1;33m\u001b[0m\u001b[1;33m\u001b[0m\u001b[0m\n\u001b[0m",
      "\u001b[1;31mZeroDivisionError\u001b[0m: division by zero"
     ]
    }
   ],
   "source": [
    "1/0"
   ]
  },
  {
   "cell_type": "code",
   "execution_count": null,
   "id": "91637826",
   "metadata": {},
   "outputs": [],
   "source": [
    "# Catching Errors with 'Try and except'"
   ]
  },
  {
   "cell_type": "code",
   "execution_count": 3,
   "id": "195e6638",
   "metadata": {},
   "outputs": [
    {
     "name": "stdout",
     "output_type": "stream",
     "text": [
      "You can't devide 1 into 0!\n"
     ]
    }
   ],
   "source": [
    "try:\n",
    "    1/0\n",
    "except ZeroDivisionError:\n",
    "    print(\"You can't devide 1 into 0!\")"
   ]
  },
  {
   "cell_type": "code",
   "execution_count": 4,
   "id": "f10ad438",
   "metadata": {},
   "outputs": [
    {
     "name": "stdout",
     "output_type": "stream",
     "text": [
      "You can't devide 0 into 1!\n"
     ]
    }
   ],
   "source": [
    "# Bare except\n",
    "try:\n",
    "    1/0\n",
    "except: \n",
    "    print(\"You can't devide 0 into 1!\")"
   ]
  },
  {
   "cell_type": "code",
   "execution_count": 6,
   "id": "ce7f9bf8",
   "metadata": {},
   "outputs": [
    {
     "ename": "KeyError",
     "evalue": "'Abdullah'",
     "output_type": "error",
     "traceback": [
      "\u001b[1;31m---------------------------------------------------------------------------\u001b[0m",
      "\u001b[1;31mKeyError\u001b[0m                                  Traceback (most recent call last)",
      "\u001b[1;32m<ipython-input-6-aaa8f64e90ef>\u001b[0m in \u001b[0;36m<module>\u001b[1;34m\u001b[0m\n\u001b[0;32m      1\u001b[0m \u001b[0mdict\u001b[0m \u001b[1;33m=\u001b[0m \u001b[1;33m{\u001b[0m\u001b[1;34m\"Mohsin\"\u001b[0m\u001b[1;33m:\u001b[0m \u001b[1;34m\"Raza\"\u001b[0m\u001b[1;33m,\u001b[0m \u001b[1;34m\"Ali\"\u001b[0m\u001b[1;33m:\u001b[0m \u001b[1;34m\"Ahmed\"\u001b[0m\u001b[1;33m,\u001b[0m \u001b[1;34m\"Hamza\"\u001b[0m\u001b[1;33m:\u001b[0m \u001b[1;34m\"Zain\"\u001b[0m\u001b[1;33m}\u001b[0m\u001b[1;33m\u001b[0m\u001b[1;33m\u001b[0m\u001b[0m\n\u001b[0;32m      2\u001b[0m \u001b[1;33m\u001b[0m\u001b[0m\n\u001b[1;32m----> 3\u001b[1;33m \u001b[0mmy_dict\u001b[0m \u001b[1;33m=\u001b[0m \u001b[0mdict\u001b[0m\u001b[1;33m[\u001b[0m\u001b[1;34m\"Abdullah\"\u001b[0m\u001b[1;33m]\u001b[0m\u001b[1;33m\u001b[0m\u001b[1;33m\u001b[0m\u001b[0m\n\u001b[0m\u001b[0;32m      4\u001b[0m \u001b[1;33m\u001b[0m\u001b[0m\n\u001b[0;32m      5\u001b[0m \u001b[0mprint\u001b[0m\u001b[1;33m(\u001b[0m\u001b[0mmy_dict\u001b[0m\u001b[1;33m)\u001b[0m\u001b[1;33m\u001b[0m\u001b[1;33m\u001b[0m\u001b[0m\n",
      "\u001b[1;31mKeyError\u001b[0m: 'Abdullah'"
     ]
    }
   ],
   "source": [
    "dict = {\"Mohsin\": \"Raza\", \"Ali\": \"Ahmed\", \"Hamza\": \"Zain\"}\n",
    "\n",
    "my_dict = dict[\"Abdullah\"]\n",
    "\n",
    "print(my_dict)"
   ]
  },
  {
   "cell_type": "code",
   "execution_count": 7,
   "id": "a02804fe",
   "metadata": {},
   "outputs": [
    {
     "name": "stdout",
     "output_type": "stream",
     "text": [
      "The key in not defined!\n"
     ]
    }
   ],
   "source": [
    "dict = {\"Mohsin\": \"Raza\", \"Ali\": \"Ahmed\", \"Hamza\": \"Zain\"}\n",
    "try:\n",
    "    my_dict = dict[\"Abdullah\"]\n",
    "except KeyError:\n",
    "    print(\"The key in not defined!\")"
   ]
  },
  {
   "cell_type": "code",
   "execution_count": 8,
   "id": "dfb48786",
   "metadata": {},
   "outputs": [
    {
     "ename": "IndexError",
     "evalue": "list index out of range",
     "output_type": "error",
     "traceback": [
      "\u001b[1;31m---------------------------------------------------------------------------\u001b[0m",
      "\u001b[1;31mIndexError\u001b[0m                                Traceback (most recent call last)",
      "\u001b[1;32m<ipython-input-8-a3ccd40c9b7b>\u001b[0m in \u001b[0;36m<module>\u001b[1;34m\u001b[0m\n\u001b[0;32m      1\u001b[0m \u001b[0mlist\u001b[0m \u001b[1;33m=\u001b[0m \u001b[1;33m[\u001b[0m\u001b[1;36m1\u001b[0m\u001b[1;33m,\u001b[0m \u001b[1;36m2\u001b[0m\u001b[1;33m,\u001b[0m \u001b[1;36m3\u001b[0m\u001b[1;33m,\u001b[0m \u001b[1;36m4\u001b[0m\u001b[1;33m,\u001b[0m \u001b[1;36m5\u001b[0m\u001b[1;33m,\u001b[0m \u001b[1;36m6\u001b[0m\u001b[1;33m,\u001b[0m \u001b[1;36m7\u001b[0m\u001b[1;33m]\u001b[0m\u001b[1;33m\u001b[0m\u001b[1;33m\u001b[0m\u001b[0m\n\u001b[1;32m----> 2\u001b[1;33m \u001b[0mprint\u001b[0m\u001b[1;33m(\u001b[0m\u001b[0mlist\u001b[0m\u001b[1;33m[\u001b[0m\u001b[1;36m8\u001b[0m\u001b[1;33m]\u001b[0m\u001b[1;33m)\u001b[0m\u001b[1;33m\u001b[0m\u001b[1;33m\u001b[0m\u001b[0m\n\u001b[0m",
      "\u001b[1;31mIndexError\u001b[0m: list index out of range"
     ]
    }
   ],
   "source": [
    "list = [1, 2, 3, 4, 5, 6, 7]\n",
    "print(list[8])"
   ]
  },
  {
   "cell_type": "code",
   "execution_count": 9,
   "id": "40e68f32",
   "metadata": {},
   "outputs": [
    {
     "name": "stdout",
     "output_type": "stream",
     "text": [
      "The index number is not in the list!\n"
     ]
    }
   ],
   "source": [
    "list = [1, 2, 3, 4, 5, 6, 7]\n",
    "try:\n",
    "    list[8]\n",
    "except IndexError:\n",
    "    print(\"The index number is not in the list!\")"
   ]
  },
  {
   "cell_type": "code",
   "execution_count": 13,
   "id": "0392bcc5",
   "metadata": {},
   "outputs": [
    {
     "name": "stdout",
     "output_type": "stream",
     "text": [
      "The index number is not in the list!  \n",
      "The index number is end in number 8\n"
     ]
    }
   ],
   "source": [
    "list = [1, 2, 3, 4, 5, 6, 7, 8]\n",
    "try:\n",
    "    list[8]\n",
    "except IndexError:\n",
    "    print(\"The index number is not in the list!  \\nThe index number is end in number\", list[-1] )"
   ]
  },
  {
   "cell_type": "code",
   "execution_count": 14,
   "id": "0d86d348",
   "metadata": {},
   "outputs": [],
   "source": [
    "# Catching multiple Exceptions"
   ]
  },
  {
   "cell_type": "code",
   "execution_count": 15,
   "id": "49c45a03",
   "metadata": {},
   "outputs": [
    {
     "name": "stdout",
     "output_type": "stream",
     "text": [
      "This key is not in the dictionary!\n"
     ]
    }
   ],
   "source": [
    "dict = {\"Mohsin\": \"Raza\", \"Ali\": \"Ahmed\", \"Hamza\": \"Zain\"}\n",
    "try:\n",
    "    value = dict['Abdullah']\n",
    "except IndexError:\n",
    "    print(\"This index doesn't exist!\")\n",
    "except KeyError:\n",
    "    print(\"This key is not in the dictionary!\")\n",
    "except:\n",
    "    print(\"Some other error occurred!\")"
   ]
  },
  {
   "cell_type": "code",
   "execution_count": 23,
   "id": "38a89a96",
   "metadata": {},
   "outputs": [
    {
     "name": "stdout",
     "output_type": "stream",
     "text": [
      "Some other error occurred!\n"
     ]
    }
   ],
   "source": [
    "dict = {\"Mohsin\": 27, \"Ali\": 31, \"Hamza\": 7}\n",
    "try:\n",
    "    dict[1:3]\n",
    "except IndexError:\n",
    "    print(\"This index doesn't exist!\")\n",
    "except KeyError:\n",
    "    print(\"This key is not in the dictionary!\")\n",
    "except:\n",
    "    print(\"Some other error occurred!\")\n"
   ]
  },
  {
   "cell_type": "code",
   "execution_count": 24,
   "id": "ea62d2d9",
   "metadata": {},
   "outputs": [
    {
     "name": "stdout",
     "output_type": "stream",
     "text": [
      "This index and key doesn't exist!\n"
     ]
    }
   ],
   "source": [
    "dict = {\"Mohsin\": \"Raza\", \"Ali\": \"Ahmed\", \"Hamza\": \"Zain\"}\n",
    "try:\n",
    "    value = dict['Abdullah']\n",
    "except (IndexError, KeyError):\n",
    "    print(\"This index and key doesn't exist!\")\n",
    "else:\n",
    "    print(\"This index and key is in the dictionary!\")\n"
   ]
  },
  {
   "cell_type": "code",
   "execution_count": 25,
   "id": "8b7ed3f2",
   "metadata": {},
   "outputs": [
    {
     "name": "stdout",
     "output_type": "stream",
     "text": [
      "This index and key is in the dictionary!\n"
     ]
    }
   ],
   "source": [
    "dict = {\"Mohsin\": \"Raza\", \"Ali\": \"Ahmed\", \"Hamza\": \"Zain\"}\n",
    "try:\n",
    "    value = dict['Ali']\n",
    "except (IndexError, KeyError):\n",
    "    print(\"This index and key doesn't exist!\")\n",
    "else:\n",
    "    print(\"This index and key is in the dictionary!\")\n"
   ]
  },
  {
   "cell_type": "code",
   "execution_count": null,
   "id": "a1a59a25",
   "metadata": {},
   "outputs": [],
   "source": [
    "# AN EXAMPLE FOR FINALLY...."
   ]
  },
  {
   "cell_type": "code",
   "execution_count": 28,
   "id": "3b5f705b",
   "metadata": {},
   "outputs": [
    {
     "name": "stdout",
     "output_type": "stream",
     "text": [
      "This key is not in the dictionary!\n",
      "Finally statement has executed!\n"
     ]
    }
   ],
   "source": [
    "dict = {\"Mohsin\": \"Raza\", \"Ali\": \"Ahmed\", \"Hamza\": \"Zain\"}\n",
    "try:\n",
    "    value = dict['Abdullah']\n",
    "\n",
    "except KeyError:\n",
    "    print(\"This key is not in the dictionary!\")\n",
    "\n",
    "finally:\n",
    "    print(\"Finally statement has executed!\")"
   ]
  },
  {
   "cell_type": "code",
   "execution_count": 29,
   "id": "67e91ee4",
   "metadata": {},
   "outputs": [],
   "source": [
    "# Else statement"
   ]
  },
  {
   "cell_type": "code",
   "execution_count": 31,
   "id": "2d859c59",
   "metadata": {},
   "outputs": [
    {
     "name": "stdout",
     "output_type": "stream",
     "text": [
      "No! error occured\n",
      "Finally statement has executed!\n"
     ]
    }
   ],
   "source": [
    "dict = {\"Mohsin\": \"Raza\", \"Ali\": \"Ahmed\", \"Hamza\": \"Zain\"}\n",
    "try:\n",
    "    value = dict['Ali']\n",
    "\n",
    "except KeyError:\n",
    "    print(\"This key is not in the dictionary!\")\n",
    "else:\n",
    "    print(\"No! error occured\")\n",
    "\n",
    "finally:\n",
    "    print(\"Finally statement has executed!\")"
   ]
  },
  {
   "cell_type": "code",
   "execution_count": 32,
   "id": "a4b28620",
   "metadata": {},
   "outputs": [],
   "source": [
    "# Other Examples"
   ]
  },
  {
   "cell_type": "code",
   "execution_count": 36,
   "id": "fe77a5d4",
   "metadata": {},
   "outputs": [
    {
     "name": "stdout",
     "output_type": "stream",
     "text": [
      "Type error solved!\n"
     ]
    }
   ],
   "source": [
    "\n",
    "try:\n",
    "    list = []\n",
    "except TypeError:\n",
    "    print(\"'list' object is not callable! \\ntry another way...\")\n",
    "else:\n",
    "    print(\"Type error solved!\")\n"
   ]
  },
  {
   "cell_type": "code",
   "execution_count": null,
   "id": "475a383c",
   "metadata": {},
   "outputs": [],
   "source": []
  }
 ],
 "metadata": {
  "kernelspec": {
   "display_name": "Python 3",
   "language": "python",
   "name": "python3"
  },
  "language_info": {
   "codemirror_mode": {
    "name": "ipython",
    "version": 3
   },
   "file_extension": ".py",
   "mimetype": "text/x-python",
   "name": "python",
   "nbconvert_exporter": "python",
   "pygments_lexer": "ipython3",
   "version": "3.8.8"
  }
 },
 "nbformat": 4,
 "nbformat_minor": 5
}
