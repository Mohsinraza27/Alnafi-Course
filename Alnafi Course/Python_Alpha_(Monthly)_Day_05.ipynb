{
 "cells": [
  {
   "cell_type": "code",
   "execution_count": 1,
   "id": "573847f0",
   "metadata": {},
   "outputs": [],
   "source": [
    "# WORKING WITH FILES"
   ]
  },
  {
   "cell_type": "code",
   "execution_count": 9,
   "id": "b65a5a17",
   "metadata": {},
   "outputs": [
    {
     "name": "stdout",
     "output_type": "stream",
     "text": [
      "<_io.TextIOWrapper name='E:\\\\courses\\\\linux_primer_commands.txt' mode='r' encoding='cp1252'>\n"
     ]
    }
   ],
   "source": [
    "x = open(r\"E:\\courses\\linux_primer_commands.txt\",\"r\")\n",
    "print(x)"
   ]
  },
  {
   "cell_type": "code",
   "execution_count": 6,
   "id": "4b92a1b1",
   "metadata": {},
   "outputs": [
    {
     "name": "stdout",
     "output_type": "stream",
     "text": [
      "E:\\courses\\linux_primer_commands.txt\n"
     ]
    }
   ],
   "source": [
    "print(\"E:\\courses\\linux_primer_commands.txt\")"
   ]
  },
  {
   "cell_type": "code",
   "execution_count": 7,
   "id": "854d6319",
   "metadata": {},
   "outputs": [
    {
     "name": "stdout",
     "output_type": "stream",
     "text": [
      "E:\\courses\\linux_primer_commands.txt\n"
     ]
    }
   ],
   "source": [
    "print(r\"E:\\courses\\linux_primer_commands.txt\")"
   ]
  },
  {
   "cell_type": "code",
   "execution_count": 8,
   "id": "9738e213",
   "metadata": {},
   "outputs": [
    {
     "name": "stdout",
     "output_type": "stream",
     "text": [
      "Two kinds of users\n",
      "\n",
      "standard = alnafi\n",
      "\n",
      "admin/root =\n",
      "-----------------------\n",
      "\n",
      "useradd abdullah\n",
      "\n",
      "--------------\n",
      "useradd -m abdullah\n",
      "\n",
      "-----------------------\n",
      "\n",
      "useradd -m -s \"/bin/bash\" abdullah\n",
      "\n",
      "----------------------------------\n",
      "\n",
      "useradd -c \"Abullah Ibn Az Zubyar\" -m -s \"/bin/bash\" abdullah\n",
      "\n",
      "-------------\n",
      "\n",
      "passwd abdullah\n",
      "\n",
      "-----------------------\n",
      "\n",
      "\n",
      "userdel abdullah\n",
      "\n",
      "\n",
      "------------------------\n",
      "\n",
      "\n",
      "usermod -L abdullah\n",
      "\n",
      "locking the account\n",
      "----------------------------\n",
      "\n",
      "usermod -U abdullah\n",
      "\n",
      "uncking the account\n",
      "\n",
      "----------------------------\n",
      "usermod -c \"Abullah ibn Umer\" abdullah\n",
      "\n",
      "---------------------------\n",
      "\n",
      "Difference between su and sudo\n",
      "su command moves you to root without terminating your session.\n",
      "\n",
      "sudo simply borrows the root powers until you run your session.\n",
      "\n",
      "\n",
      "----------------\n",
      "\n",
      "\n",
      "usermod -L abdullah\n",
      "\n",
      "\n",
      "sudo usermod -L abdullah\n",
      "\n",
      "-----------------------------\n",
      "\n",
      "How to view key files\n",
      "\n",
      "cat/etc/sudoers\n",
      "\n",
      "-------------------------\n",
      "\n",
      "#How to view log files\n",
      "\n",
      "cat/etc/var/auth.log\n",
      "\n",
      "--------------------------------\n",
      "\n",
      "#2 Types of groups\n",
      "\n",
      "#user group\n",
      "#admin group\n",
      "\n",
      "-----------------------------\n",
      "\n",
      "#creating a group\n",
      "\n",
      "groudpadd mujahid\n",
      "\n",
      "\n",
      "---------------------------\n",
      "\n",
      "#adding user to a group\n",
      "\n",
      "usermod -G mujahid umer\n",
      "\n",
      "-----------------------\n",
      "\n",
      "#removing a user from a group\n",
      "\n",
      "gpasswd -d umer mujahid\n",
      "\n",
      "-----------------------\n",
      "#deleting a group\n",
      "\n",
      "groupdel mujahid\n",
      "\n",
      "--------------------------\n",
      "\n",
      "#Changing owners\n",
      "\n",
      "chown abdullah file name\n",
      "\n",
      "chown abdullah /home/abdullah/file name\n",
      "\n",
      "\n",
      "___________________________\n",
      "#without changing the user to root user\n",
      "\n",
      "sudo chown -R alnafi file name\n",
      "\n",
      "_________________________\n",
      "\n",
      "#changing group\n",
      "\n",
      "chgrp alnafi file name\n",
      "\n",
      "\n",
      "___________________________\n",
      "#without changing the user to root user\n",
      "\n",
      "sudo chgrp -R alnafi file name\n",
      "\n",
      "\n",
      "_________________________\n",
      "#changing permission\n",
      "\n",
      "chmod u+x filename\n",
      "\n",
      "_________________________________\n",
      "\n",
      "#Execute permission on a group\n",
      "\n",
      "chmod g+x filename\n",
      "\n",
      "__________________________________\n",
      "\n",
      "#Give permission to everyone\n",
      "\n",
      "chmod o+x filename\n",
      "\n",
      "_____________________\n",
      "\n",
      "#Give permission for all the priviliges\n",
      "\n",
      "chmod u+x,g+x,o+x file name\n",
      "\n",
      "_____________________\n",
      "\n",
      "#taking away priviliges\n",
      "\n",
      "chmod u-x,g-x,o-x file name\n",
      "\n",
      "-----------------------\n",
      "\n",
      "#creating a blank file\n",
      "\n",
      "ls -l >> data\n",
      "\n",
      "_______________\n",
      "\n",
      "#directing all the input to that file\n",
      "\n",
      "touch data\n",
      "\n",
      "\n",
      "_______________________\n",
      "\n",
      "#how to check file using pause feature\n",
      "\n",
      "cat documentname | more\n",
      "\n",
      "\n",
      "________________________-\n",
      "\n",
      "#how to search for a specific name within a file\n",
      "\n",
      "cat filename | grep keyword\n",
      "\n",
      "# keyword can be anything you are looking for\n",
      "\n",
      "_________________________\n",
      "# how to count number of lines in a document\n",
      "\n",
      "cat -b documentname\n",
      "\n",
      "__________________________________\n",
      "# view to beginning of the text file\n",
      "\n",
      "head doucmentname\n",
      "\n",
      "_______________________\n",
      "\n",
      "# how to view number of lines\n",
      "\n",
      "head -n doucmentname\n",
      "\n",
      "running example\n",
      "\n",
      "head -10 documentname\n",
      "\n",
      "\n",
      "note: where n can be any number. it can be 4 or 5 or 6 etc\n",
      "\n",
      "______________________________\n",
      "\n",
      "\n",
      "#this will display the final 5 lines in a document\n",
      "\n",
      "tail document name\n",
      "\n",
      "_______________________\n",
      "\n",
      "\n",
      "# how to view number of lines while tailing.\n",
      "\n",
      "tail -10 document name\n",
      "\n",
      "\n",
      "_____________________\n",
      "\n",
      "\n",
      "#displaying file with less command\n",
      "\n",
      "\n",
      "less document name\n",
      "\n",
      "____________________________\n",
      "\n",
      "#editing text file (very important to know)\n",
      "\n",
      "#if you type\n",
      "\n",
      "vi\n",
      "\n",
      "#you will be in an empty file\n",
      "\n",
      "# but to exit the file, press Esc key and then press shift :q\n",
      "\n",
      "_____________________________\n",
      "\n",
      "#to check IP address details\n",
      "\n",
      "ifconfig\n",
      "\n",
      "____________________________\n",
      "#if you ifconfig doesnt work then run this\n",
      "\n",
      "sudo apt install net-tools\n",
      "\n",
      "\n",
      "_________________________\n",
      "\n",
      "ifconfig | grep _____\n",
      "\n",
      "\n",
      "________________________\n",
      "\n",
      "#how to check default gateway\n",
      "\n",
      "ip route\n",
      "\n",
      "_________________________\n",
      "\n",
      "dhclient\n",
      "\n",
      "___________________________-\n",
      "\n",
      "#for finding disk space usage\n",
      "\n",
      "df\n",
      "\n",
      "______________________\n",
      "\n",
      "# for finding disk space usage in gig and mbs\n",
      "\n",
      "df -h\n",
      "\n",
      "\n",
      "_______________________\n",
      "\n",
      "#for checking the filesystem\n",
      "\n",
      "df -th\n",
      "\n",
      "\n",
      "_____________________\n",
      "\n",
      "#for checking the permissions to the target files and directories\n",
      "\n",
      "du -sh /var\n",
      "\n",
      "_____________________________\n",
      "\n",
      "\n",
      "#unmounting removable media disks\n",
      "\n",
      "unmount /media/USBDRIVE\n",
      "\n",
      "\n",
      "____________________\n",
      "\n",
      "#forcing usb to unmount\n",
      "\n",
      "unmount -f /media/USBDRIVE\n",
      "\n",
      "_______________________\n",
      "#checking running processes\n",
      "\n",
      "ps\n",
      "\n",
      "_________________________\n",
      "#checking extended running processes\n",
      "ps-e\n",
      "\n",
      "______________________\n",
      "#checking extended running processes with listing\n",
      "\n",
      "ps -el\n",
      "\n",
      "________________________________\n",
      "#checking extended running processes with listing and display date\n",
      "\n",
      "ps -elf\n",
      "\n",
      "\n",
      "\n",
      "_______________________________\n",
      "\n",
      "#top command to check CPU and memory usage among other things.\n",
      "\n",
      "top\n",
      "\n",
      "________________________\n",
      "# to kill a process\n",
      "\n",
      "kill (type here the PID number)\n",
      "\n",
      "\n",
      "_______________________________________\n",
      "# to install a package\n",
      "\n",
      "dpkg -i (installer.deb name)\n",
      "\n",
      "dpkg -i installer.deb\n",
      "\n",
      "\n",
      "_______________________________________\n",
      "# to uninstall\n",
      "\n",
      "dpkg -r installer.deb\n",
      "\n",
      "\n",
      "_______________________________________\n",
      "#installing advance package tools\n",
      "\n",
      "apt-get install (name of the package)\n",
      "\n",
      "apt-get remove (name of the package)\n",
      "\n",
      "_______________________________________\n",
      "#installing RPM packages\n",
      "\n",
      "rpm -i installer.rpm\n",
      "\n",
      "\n",
      "rpm -e installer.rpm\n",
      "\n",
      "_________________________\n",
      "# yellow dog updater\n",
      "\n",
      "\n",
      "yum install (name of the package)\n",
      "\n",
      "\n",
      "yum remove (name of the package)\n",
      "\n",
      "\n",
      "_________________________________-\n",
      "\n",
      "#getting help\n",
      "\n",
      "apropos ext3\n",
      "\n"
     ]
    }
   ],
   "source": [
    "x = open(r\"E:\\courses\\linux_primer_commands.txt\", \"r\")\n",
    "data = x.read()\n",
    "print(data)\n",
    "x.close()"
   ]
  },
  {
   "cell_type": "code",
   "execution_count": 10,
   "id": "aafe58e1",
   "metadata": {},
   "outputs": [
    {
     "name": "stdout",
     "output_type": "stream",
     "text": [
      "GIT (Distributive Version Control System)\n",
      "\n",
      "1) Goto git-scm.com to Download git\n",
      "2) Make directory / folder and put all your files there\n",
      "3) Right click and open git bash\n",
      "4) To make folder as repo use command:\n",
      "\tgit init\n",
      "5) To check status of all files and folders use:\n",
      "\tgit status\n",
      "6) To stage all files and folders use:\n",
      "\tgit add -A\n",
      "7) To configure your git use commands:\n",
      "\ti) git config --global user.name \"Muhammad Ali Mughal\"\n",
      "\tii git config --global user.email \"abc@xyz.com\"\n",
      "8) To store data use:\n",
      "\tgit commit -m \"<Your message>\"\n",
      "\n",
      "9) Goto github.com and signup\n",
      "10) Make repo on remote using add button on top right\n",
      "11) Goto git bash agin and connect your local repo with remote\n",
      "\tgit remote add origin <Remote repo link>\n",
      "12) Push your code from local to remote\n",
      "\tGIT PUSH -U ORIGIN MASTER\n",
      "13) Signup with code or Signup with browser\n",
      "\n"
     ]
    }
   ],
   "source": [
    "file = open(r\"E:\\courses\\Github points.txt\", \"r\")\n",
    "data = file.read()\n",
    "print(data)\n",
    "file.close()"
   ]
  },
  {
   "cell_type": "code",
   "execution_count": 11,
   "id": "f4f87760",
   "metadata": {},
   "outputs": [
    {
     "name": "stdout",
     "output_type": "stream",
     "text": [
      "GIT (Distributive Version Control System)\n",
      "\n"
     ]
    }
   ],
   "source": [
    "file = open(r\"E:\\courses\\Github points.txt\", \"r\")\n",
    "data = file.readline()\n",
    "print(data)\n",
    "file.close()"
   ]
  },
  {
   "cell_type": "code",
   "execution_count": 12,
   "id": "b726008a",
   "metadata": {},
   "outputs": [
    {
     "name": "stdout",
     "output_type": "stream",
     "text": [
      "['GIT (Distributive Version Control System)\\n', '\\n', '1) Goto git-scm.com to Download git\\n', '2) Make directory / folder and put all your files there\\n', '3) Right click and open git bash\\n', '4) To make folder as repo use command:\\n', '\\tgit init\\n', '5) To check status of all files and folders use:\\n', '\\tgit status\\n', '6) To stage all files and folders use:\\n', '\\tgit add -A\\n', '7) To configure your git use commands:\\n', '\\ti) git config --global user.name \"Muhammad Ali Mughal\"\\n', '\\tii git config --global user.email \"abc@xyz.com\"\\n', '8) To store data use:\\n', '\\tgit commit -m \"<Your message>\"\\n', '\\n', '9) Goto github.com and signup\\n', '10) Make repo on remote using add button on top right\\n', '11) Goto git bash agin and connect your local repo with remote\\n', '\\tgit remote add origin <Remote repo link>\\n', '12) Push your code from local to remote\\n', '\\tGIT PUSH -U ORIGIN MASTER\\n', '13) Signup with code or Signup with browser\\n']\n"
     ]
    }
   ],
   "source": [
    "file = open(r\"E:\\courses\\Github points.txt\", \"r\")\n",
    "x = file.readlines()\n",
    "print(x)\n",
    "file.close()"
   ]
  },
  {
   "cell_type": "code",
   "execution_count": 14,
   "id": "b248b492",
   "metadata": {},
   "outputs": [
    {
     "name": "stdout",
     "output_type": "stream",
     "text": [
      "GIT (Distributive Version Control System)\n",
      "\n",
      "\n",
      "\n",
      "1) Goto git-scm.com to Download git\n",
      "\n",
      "2) Make directory / folder and put all your files there\n",
      "\n",
      "3) Right click and open git bash\n",
      "\n",
      "4) To make folder as repo use command:\n",
      "\n",
      "\tgit init\n",
      "\n",
      "5) To check status of all files and folders use:\n",
      "\n",
      "\tgit status\n",
      "\n",
      "6) To stage all files and folders use:\n",
      "\n",
      "\tgit add -A\n",
      "\n",
      "7) To configure your git use commands:\n",
      "\n",
      "\ti) git config --global user.name \"Muhammad Ali Mughal\"\n",
      "\n",
      "\tii git config --global user.email \"abc@xyz.com\"\n",
      "\n",
      "8) To store data use:\n",
      "\n",
      "\tgit commit -m \"<Your message>\"\n",
      "\n",
      "\n",
      "\n",
      "9) Goto github.com and signup\n",
      "\n",
      "10) Make repo on remote using add button on top right\n",
      "\n",
      "11) Goto git bash agin and connect your local repo with remote\n",
      "\n",
      "\tgit remote add origin <Remote repo link>\n",
      "\n",
      "12) Push your code from local to remote\n",
      "\n",
      "\tGIT PUSH -U ORIGIN MASTER\n",
      "\n",
      "13) Signup with code or Signup with browser\n",
      "\n"
     ]
    }
   ],
   "source": [
    "file = open(r\"E:\\courses\\Github points.txt\", \"r\")\n",
    "for line in file:\n",
    "    print(line)\n",
    "file.close()"
   ]
  },
  {
   "cell_type": "code",
   "execution_count": 15,
   "id": "cb3aecbb",
   "metadata": {},
   "outputs": [],
   "source": [
    "x = open(r\"E:\\courses\\Github points 2.txt\", \"w\")\n",
    "x.write(\"This is write a file using Python! \\nPease make sure your write good code..\")\n",
    "x.close()"
   ]
  },
  {
   "cell_type": "code",
   "execution_count": 16,
   "id": "126a5923",
   "metadata": {},
   "outputs": [
    {
     "ename": "TypeError",
     "evalue": "a bytes-like object is required, not 'str'",
     "output_type": "error",
     "traceback": [
      "\u001b[1;31m---------------------------------------------------------------------------\u001b[0m",
      "\u001b[1;31mTypeError\u001b[0m                                 Traceback (most recent call last)",
      "\u001b[1;32m<ipython-input-16-0f0ab38dfe2b>\u001b[0m in \u001b[0;36m<module>\u001b[1;34m\u001b[0m\n\u001b[0;32m      1\u001b[0m \u001b[0mx\u001b[0m \u001b[1;33m=\u001b[0m \u001b[0mopen\u001b[0m\u001b[1;33m(\u001b[0m\u001b[1;34mr\"E:\\courses\\Github points 2.txt\"\u001b[0m\u001b[1;33m,\u001b[0m \u001b[1;34m\"wb\"\u001b[0m\u001b[1;33m)\u001b[0m\u001b[1;33m\u001b[0m\u001b[1;33m\u001b[0m\u001b[0m\n\u001b[1;32m----> 2\u001b[1;33m \u001b[0mx\u001b[0m\u001b[1;33m.\u001b[0m\u001b[0mwrite\u001b[0m\u001b[1;33m(\u001b[0m\u001b[1;34m\"This is write a file using Python! \\nPease make sure your write good code..\"\u001b[0m\u001b[1;33m)\u001b[0m\u001b[1;33m\u001b[0m\u001b[1;33m\u001b[0m\u001b[0m\n\u001b[0m\u001b[0;32m      3\u001b[0m \u001b[0mx\u001b[0m\u001b[1;33m.\u001b[0m\u001b[0mclose\u001b[0m\u001b[1;33m(\u001b[0m\u001b[1;33m)\u001b[0m\u001b[1;33m\u001b[0m\u001b[1;33m\u001b[0m\u001b[0m\n",
      "\u001b[1;31mTypeError\u001b[0m: a bytes-like object is required, not 'str'"
     ]
    }
   ],
   "source": [
    "x = open(r\"E:\\courses\\Github points 2.txt\", \"wb\")\n",
    "x.write(\"This is write a file using Python! \\nPease make sure your write good code..\")\n",
    "x.close()"
   ]
  },
  {
   "cell_type": "code",
   "execution_count": 17,
   "id": "b091e9d7",
   "metadata": {},
   "outputs": [
    {
     "name": "stdout",
     "output_type": "stream",
     "text": [
      "The Zen of Python, by Tim Peters\n",
      "\n",
      "Beautiful is better than ugly.\n",
      "Explicit is better than implicit.\n",
      "Simple is better than complex.\n",
      "Complex is better than complicated.\n",
      "Flat is better than nested.\n",
      "Sparse is better than dense.\n",
      "Readability counts.\n",
      "Special cases aren't special enough to break the rules.\n",
      "Although practicality beats purity.\n",
      "Errors should never pass silently.\n",
      "Unless explicitly silenced.\n",
      "In the face of ambiguity, refuse the temptation to guess.\n",
      "There should be one-- and preferably only one --obvious way to do it.\n",
      "Although that way may not be obvious at first unless you're Dutch.\n",
      "Now is better than never.\n",
      "Although never is often better than *right* now.\n",
      "If the implementation is hard to explain, it's a bad idea.\n",
      "If the implementation is easy to explain, it may be a good idea.\n",
      "Namespaces are one honking great idea -- let's do more of those!\n"
     ]
    }
   ],
   "source": [
    "import this"
   ]
  },
  {
   "cell_type": "code",
   "execution_count": 1,
   "id": "e4f8c8d2",
   "metadata": {},
   "outputs": [],
   "source": [
    "import black"
   ]
  },
  {
   "cell_type": "code",
   "execution_count": 2,
   "id": "56d81b7e",
   "metadata": {},
   "outputs": [
    {
     "data": {
      "text/plain": [
       "3.1622776601683795"
      ]
     },
     "execution_count": 2,
     "metadata": {},
     "output_type": "execute_result"
    }
   ],
   "source": [
    "import math\n",
    "math.sqrt(10)"
   ]
  },
  {
   "cell_type": "code",
   "execution_count": 3,
   "id": "c7c56c96",
   "metadata": {},
   "outputs": [
    {
     "data": {
      "text/plain": [
       "10.0"
      ]
     },
     "execution_count": 3,
     "metadata": {},
     "output_type": "execute_result"
    }
   ],
   "source": [
    "import math\n",
    "math.sqrt(100)"
   ]
  },
  {
   "cell_type": "code",
   "execution_count": 4,
   "id": "5e97234d",
   "metadata": {},
   "outputs": [
    {
     "data": {
      "text/plain": [
       "31.622776601683793"
      ]
     },
     "execution_count": 4,
     "metadata": {},
     "output_type": "execute_result"
    }
   ],
   "source": [
    "import math\n",
    "math.sqrt(1000)"
   ]
  },
  {
   "cell_type": "code",
   "execution_count": 5,
   "id": "deb37c93",
   "metadata": {},
   "outputs": [
    {
     "data": {
      "text/plain": [
       "7.0710678118654755"
      ]
     },
     "execution_count": 5,
     "metadata": {},
     "output_type": "execute_result"
    }
   ],
   "source": [
    "import math\n",
    "math.sqrt(50)"
   ]
  },
  {
   "cell_type": "code",
   "execution_count": 7,
   "id": "faf17016",
   "metadata": {},
   "outputs": [
    {
     "data": {
      "text/plain": [
       "11013.232874703393"
      ]
     },
     "execution_count": 7,
     "metadata": {},
     "output_type": "execute_result"
    }
   ],
   "source": [
    "import math\n",
    "math.sinh(10)"
   ]
  },
  {
   "cell_type": "code",
   "execution_count": 8,
   "id": "d7b25fd7",
   "metadata": {},
   "outputs": [
    {
     "data": {
      "text/plain": [
       "7.0710678118654755"
      ]
     },
     "execution_count": 8,
     "metadata": {},
     "output_type": "execute_result"
    }
   ],
   "source": [
    "from math import sqrt\n",
    "sqrt(50)"
   ]
  },
  {
   "cell_type": "code",
   "execution_count": 9,
   "id": "04dded95",
   "metadata": {},
   "outputs": [
    {
     "data": {
      "text/plain": [
       "11013.232874703393"
      ]
     },
     "execution_count": 9,
     "metadata": {},
     "output_type": "execute_result"
    }
   ],
   "source": [
    "from math import sinh\n",
    "sinh(10)"
   ]
  },
  {
   "cell_type": "code",
   "execution_count": 10,
   "id": "6dc2887a",
   "metadata": {},
   "outputs": [
    {
     "data": {
      "text/plain": [
       "1.3440585709080678e+43"
      ]
     },
     "execution_count": 10,
     "metadata": {},
     "output_type": "execute_result"
    }
   ],
   "source": [
    "from math import sinh\n",
    "sinh(100)"
   ]
  },
  {
   "cell_type": "code",
   "execution_count": 11,
   "id": "be5bb24a",
   "metadata": {},
   "outputs": [
    {
     "data": {
      "text/plain": [
       "3.141592653589793"
      ]
     },
     "execution_count": 11,
     "metadata": {},
     "output_type": "execute_result"
    }
   ],
   "source": [
    "from math import pi, sqrt\n",
    "sqrt(100)\n",
    "pi"
   ]
  },
  {
   "cell_type": "code",
   "execution_count": 12,
   "id": "02c23199",
   "metadata": {},
   "outputs": [
    {
     "ename": "TypeError",
     "evalue": "'int' object is not callable",
     "output_type": "error",
     "traceback": [
      "\u001b[1;31m---------------------------------------------------------------------------\u001b[0m",
      "\u001b[1;31mTypeError\u001b[0m                                 Traceback (most recent call last)",
      "\u001b[1;32m<ipython-input-12-e20bfc724944>\u001b[0m in \u001b[0;36m<module>\u001b[1;34m\u001b[0m\n\u001b[0;32m      1\u001b[0m \u001b[1;32mfrom\u001b[0m \u001b[0mmath\u001b[0m \u001b[1;32mimport\u001b[0m \u001b[0msqrt\u001b[0m\u001b[1;33m\u001b[0m\u001b[1;33m\u001b[0m\u001b[0m\n\u001b[0;32m      2\u001b[0m \u001b[0msqrt\u001b[0m \u001b[1;33m=\u001b[0m \u001b[1;36m10\u001b[0m\u001b[1;33m\u001b[0m\u001b[1;33m\u001b[0m\u001b[0m\n\u001b[1;32m----> 3\u001b[1;33m \u001b[0msqrt\u001b[0m\u001b[1;33m(\u001b[0m\u001b[1;36m10\u001b[0m\u001b[1;33m)\u001b[0m\u001b[1;33m\u001b[0m\u001b[1;33m\u001b[0m\u001b[0m\n\u001b[0m",
      "\u001b[1;31mTypeError\u001b[0m: 'int' object is not callable"
     ]
    }
   ],
   "source": [
    "from math import sqrt\n",
    "sqrt = 10\n",
    "sqrt(10)"
   ]
  },
  {
   "cell_type": "code",
   "execution_count": null,
   "id": "c3885bb4",
   "metadata": {},
   "outputs": [],
   "source": []
  }
 ],
 "metadata": {
  "kernelspec": {
   "display_name": "Python 3",
   "language": "python",
   "name": "python3"
  },
  "language_info": {
   "codemirror_mode": {
    "name": "ipython",
    "version": 3
   },
   "file_extension": ".py",
   "mimetype": "text/x-python",
   "name": "python",
   "nbconvert_exporter": "python",
   "pygments_lexer": "ipython3",
   "version": "3.8.8"
  }
 },
 "nbformat": 4,
 "nbformat_minor": 5
}
