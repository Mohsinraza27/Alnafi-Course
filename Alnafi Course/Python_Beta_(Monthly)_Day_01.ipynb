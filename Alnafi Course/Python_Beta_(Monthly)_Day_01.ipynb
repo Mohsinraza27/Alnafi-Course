{
 "cells": [
  {
   "cell_type": "markdown",
   "id": "8dae64ee",
   "metadata": {},
   "source": [
    "# String in Python"
   ]
  },
  {
   "cell_type": "markdown",
   "id": "34e3e48e",
   "metadata": {},
   "source": [
    "Assigning value to variables!!"
   ]
  },
  {
   "cell_type": "code",
   "execution_count": 1,
   "id": "44ac967c",
   "metadata": {},
   "outputs": [],
   "source": [
    "raza_ali = 23"
   ]
  },
  {
   "cell_type": "code",
   "execution_count": 2,
   "id": "639c288e",
   "metadata": {},
   "outputs": [
    {
     "data": {
      "text/plain": [
       "23"
      ]
     },
     "execution_count": 2,
     "metadata": {},
     "output_type": "execute_result"
    }
   ],
   "source": [
    "raza_ali"
   ]
  },
  {
   "cell_type": "markdown",
   "id": "0da9bddf",
   "metadata": {},
   "source": [
    "Rules for variable names\n"
   ]
  },
  {
   "cell_type": "markdown",
   "id": "b6abc7cd",
   "metadata": {},
   "source": [
    "• Names cannot start with a number.\n",
    "• There can be no space in the name we MUST use _ for example\n",
    "• muhammad faisal is incorrect as we can use muhammad_faisal which is \n",
    "correct.\n",
    "• We cannot use any of these symbols\n",
    "• : > < ? / “” \\ !@#$%^&~* as none of these symbols can be used when \n",
    "naming variables."
   ]
  },
  {
   "cell_type": "markdown",
   "id": "89d051a1",
   "metadata": {},
   "source": [
    "Rules for variable names"
   ]
  },
  {
   "cell_type": "markdown",
   "id": "62d4824a",
   "metadata": {},
   "source": [
    "• Avoid using words that have special meaning in python like “list” and \n",
    "“str”\n",
    "• Python uses Dynamic Typing which means we can reassign variables \n",
    "to different data types and its not a statically-Typed language."
   ]
  },
  {
   "cell_type": "markdown",
   "id": "a0764388",
   "metadata": {},
   "source": [
    "Dynamic typing in Python"
   ]
  },
  {
   "cell_type": "code",
   "execution_count": 4,
   "id": "6ea4c393",
   "metadata": {},
   "outputs": [],
   "source": [
    "ali_ahmed = 1\n",
    "ali_ahmed = [\"cissp\", \"ocsp\"]"
   ]
  },
  {
   "cell_type": "code",
   "execution_count": 5,
   "id": "8a9be7a9",
   "metadata": {},
   "outputs": [
    {
     "data": {
      "text/plain": [
       "['cissp', 'ocsp']"
      ]
     },
     "execution_count": 5,
     "metadata": {},
     "output_type": "execute_result"
    }
   ],
   "source": [
    "ali_ahmed"
   ]
  },
  {
   "cell_type": "markdown",
   "id": "483e6c47",
   "metadata": {},
   "source": [
    "Strings\n"
   ]
  },
  {
   "cell_type": "markdown",
   "id": "ee633e72",
   "metadata": {},
   "source": [
    "Strings are sequences of characters, written either in single, or double \n",
    "quotes."
   ]
  },
  {
   "cell_type": "code",
   "execution_count": 10,
   "id": "38ee17e1",
   "metadata": {},
   "outputs": [
    {
     "data": {
      "text/plain": [
       "'Islam is the religion of Peace'"
      ]
     },
     "execution_count": 10,
     "metadata": {},
     "output_type": "execute_result"
    }
   ],
   "source": [
    " 'Islam is the religion of Peace'\n"
   ]
  },
  {
   "cell_type": "code",
   "execution_count": 11,
   "id": "4ba5ebd2",
   "metadata": {},
   "outputs": [
    {
     "data": {
      "text/plain": [
       "'Islam is the relgion of Peace'"
      ]
     },
     "execution_count": 11,
     "metadata": {},
     "output_type": "execute_result"
    }
   ],
   "source": [
    "\"Islam is the relgion of Peace\""
   ]
  },
  {
   "cell_type": "code",
   "execution_count": 15,
   "id": "a892e161",
   "metadata": {},
   "outputs": [],
   "source": [
    "a = '''Islam is the religion of Peace\n",
    "Islam is the religion of Peace'''\n"
   ]
  },
  {
   "cell_type": "code",
   "execution_count": 16,
   "id": "bec5f503",
   "metadata": {},
   "outputs": [
    {
     "data": {
      "text/plain": [
       "'Islam is the religion of Peace\\nIslam is the religion of Peace'"
      ]
     },
     "execution_count": 16,
     "metadata": {},
     "output_type": "execute_result"
    }
   ],
   "source": [
    "a"
   ]
  },
  {
   "cell_type": "markdown",
   "id": "c479c112",
   "metadata": {},
   "source": [
    "Strings Slicing and Indexing"
   ]
  },
  {
   "cell_type": "markdown",
   "id": "6db919b4",
   "metadata": {},
   "source": [
    "The syntax is [start:stop:step]\n"
   ]
  },
  {
   "cell_type": "code",
   "execution_count": 18,
   "id": "2c243f85",
   "metadata": {},
   "outputs": [],
   "source": [
    "a = \"Islam is the religion of Peace\""
   ]
  },
  {
   "cell_type": "code",
   "execution_count": 19,
   "id": "d3247a49",
   "metadata": {},
   "outputs": [
    {
     "name": "stdout",
     "output_type": "stream",
     "text": [
      "l\n"
     ]
    }
   ],
   "source": [
    "print(a[2])"
   ]
  },
  {
   "cell_type": "code",
   "execution_count": 20,
   "id": "1a718fc5",
   "metadata": {},
   "outputs": [
    {
     "data": {
      "text/plain": [
       "'i'"
      ]
     },
     "execution_count": 20,
     "metadata": {},
     "output_type": "execute_result"
    }
   ],
   "source": [
    "a[6]"
   ]
  },
  {
   "cell_type": "code",
   "execution_count": 21,
   "id": "1e5690b6",
   "metadata": {},
   "outputs": [
    {
     "data": {
      "text/plain": [
       "'h'"
      ]
     },
     "execution_count": 21,
     "metadata": {},
     "output_type": "execute_result"
    }
   ],
   "source": [
    "a[10]"
   ]
  },
  {
   "cell_type": "code",
   "execution_count": 22,
   "id": "43bcd914",
   "metadata": {},
   "outputs": [
    {
     "data": {
      "text/plain": [
       "'i'"
      ]
     },
     "execution_count": 22,
     "metadata": {},
     "output_type": "execute_result"
    }
   ],
   "source": [
    "a[18]"
   ]
  },
  {
   "cell_type": "code",
   "execution_count": 32,
   "id": "2c232ef1",
   "metadata": {},
   "outputs": [
    {
     "ename": "IndexError",
     "evalue": "string index out of range",
     "output_type": "error",
     "traceback": [
      "\u001b[1;31m---------------------------------------------------------------------------\u001b[0m",
      "\u001b[1;31mIndexError\u001b[0m                                Traceback (most recent call last)",
      "\u001b[1;32m<ipython-input-32-c6c77f94470a>\u001b[0m in \u001b[0;36m<module>\u001b[1;34m\u001b[0m\n\u001b[1;32m----> 1\u001b[1;33m \u001b[0ma\u001b[0m\u001b[1;33m[\u001b[0m\u001b[1;36m31\u001b[0m\u001b[1;33m]\u001b[0m  \u001b[1;31m#this index is not in the string a\u001b[0m\u001b[1;33m\u001b[0m\u001b[1;33m\u001b[0m\u001b[0m\n\u001b[0m",
      "\u001b[1;31mIndexError\u001b[0m: string index out of range"
     ]
    }
   ],
   "source": [
    "a[31]  #this index is not in the string a"
   ]
  },
  {
   "cell_type": "code",
   "execution_count": 24,
   "id": "a0e92483",
   "metadata": {},
   "outputs": [
    {
     "data": {
      "text/plain": [
       "'slam'"
      ]
     },
     "execution_count": 24,
     "metadata": {},
     "output_type": "execute_result"
    }
   ],
   "source": [
    "a[1:5]"
   ]
  },
  {
   "cell_type": "code",
   "execution_count": 26,
   "id": "012c1add",
   "metadata": {},
   "outputs": [
    {
     "data": {
      "text/plain": [
       "'Islam is the religion'"
      ]
     },
     "execution_count": 26,
     "metadata": {},
     "output_type": "execute_result"
    }
   ],
   "source": [
    "a[:21]"
   ]
  },
  {
   "cell_type": "code",
   "execution_count": 27,
   "id": "c83ca16d",
   "metadata": {},
   "outputs": [
    {
     "data": {
      "text/plain": [
       "' of Peace'"
      ]
     },
     "execution_count": 27,
     "metadata": {},
     "output_type": "execute_result"
    }
   ],
   "source": [
    "a[21:]"
   ]
  },
  {
   "cell_type": "code",
   "execution_count": 31,
   "id": "ed1feba0",
   "metadata": {},
   "outputs": [
    {
     "data": {
      "text/plain": [
       "'the religion of Peace'"
      ]
     },
     "execution_count": 31,
     "metadata": {},
     "output_type": "execute_result"
    }
   ],
   "source": [
    "a[9:30]"
   ]
  },
  {
   "cell_type": "code",
   "execution_count": 33,
   "id": "4ff11e0d",
   "metadata": {},
   "outputs": [
    {
     "data": {
      "text/plain": [
       "'n of Peac'"
      ]
     },
     "execution_count": 33,
     "metadata": {},
     "output_type": "execute_result"
    }
   ],
   "source": [
    "a[-10:-1]"
   ]
  },
  {
   "cell_type": "code",
   "execution_count": 34,
   "id": "516df105",
   "metadata": {},
   "outputs": [
    {
     "data": {
      "text/plain": [
       "'the religion of Peace'"
      ]
     },
     "execution_count": 34,
     "metadata": {},
     "output_type": "execute_result"
    }
   ],
   "source": [
    "a[-21:]"
   ]
  },
  {
   "cell_type": "code",
   "execution_count": 35,
   "id": "696f70a5",
   "metadata": {},
   "outputs": [
    {
     "data": {
      "text/plain": [
       "'Islam is '"
      ]
     },
     "execution_count": 35,
     "metadata": {},
     "output_type": "execute_result"
    }
   ],
   "source": [
    "a[-30:-21]"
   ]
  },
  {
   "cell_type": "code",
   "execution_count": 36,
   "id": "36cd03a0",
   "metadata": {},
   "outputs": [
    {
     "data": {
      "text/plain": [
       "'Islam is the religion of Peac'"
      ]
     },
     "execution_count": 36,
     "metadata": {},
     "output_type": "execute_result"
    }
   ],
   "source": [
    "a[:-1]"
   ]
  },
  {
   "cell_type": "code",
   "execution_count": 37,
   "id": "ca022b19",
   "metadata": {},
   "outputs": [
    {
     "data": {
      "text/plain": [
       "'Islam is the religion of Peace'"
      ]
     },
     "execution_count": 37,
     "metadata": {},
     "output_type": "execute_result"
    }
   ],
   "source": [
    "a[:]"
   ]
  },
  {
   "cell_type": "code",
   "execution_count": 40,
   "id": "48ff2fc6",
   "metadata": {},
   "outputs": [
    {
     "data": {
      "text/plain": [
       "''"
      ]
     },
     "execution_count": 40,
     "metadata": {},
     "output_type": "execute_result"
    }
   ],
   "source": [
    "a[2:2:24]"
   ]
  },
  {
   "cell_type": "code",
   "execution_count": 41,
   "id": "761f4afe",
   "metadata": {},
   "outputs": [
    {
     "data": {
      "text/plain": [
       "'sa sterlgo '"
      ]
     },
     "execution_count": 41,
     "metadata": {},
     "output_type": "execute_result"
    }
   ],
   "source": [
    "a[1:22:2]"
   ]
  },
  {
   "cell_type": "code",
   "execution_count": 42,
   "id": "afcdc7e1",
   "metadata": {},
   "outputs": [
    {
     "data": {
      "text/plain": [
       "'Iait li  a'"
      ]
     },
     "execution_count": 42,
     "metadata": {},
     "output_type": "execute_result"
    }
   ],
   "source": [
    "a[:28:3]"
   ]
  },
  {
   "cell_type": "code",
   "execution_count": 43,
   "id": "72bd515d",
   "metadata": {},
   "outputs": [
    {
     "data": {
      "text/plain": [
       "'ecaeP fo noigiler eht s'"
      ]
     },
     "execution_count": 43,
     "metadata": {},
     "output_type": "execute_result"
    }
   ],
   "source": [
    "a[-1:-24:-1]"
   ]
  },
  {
   "cell_type": "code",
   "execution_count": 44,
   "id": "7f1d103c",
   "metadata": {},
   "outputs": [
    {
     "data": {
      "text/plain": [
       "'Islam is t'"
      ]
     },
     "execution_count": 44,
     "metadata": {},
     "output_type": "execute_result"
    }
   ],
   "source": [
    "a[:-20:]"
   ]
  },
  {
   "cell_type": "code",
   "execution_count": 45,
   "id": "00ac956b",
   "metadata": {},
   "outputs": [
    {
     "data": {
      "text/plain": [
       "'Islam is the religion of Peace'"
      ]
     },
     "execution_count": 45,
     "metadata": {},
     "output_type": "execute_result"
    }
   ],
   "source": [
    "a[::]"
   ]
  },
  {
   "cell_type": "markdown",
   "id": "69e72e89",
   "metadata": {},
   "source": [
    "String Formatting methods\n"
   ]
  },
  {
   "cell_type": "code",
   "execution_count": 48,
   "id": "242ba9a1",
   "metadata": {},
   "outputs": [],
   "source": [
    "x = \"Alnafi is a\""
   ]
  },
  {
   "cell_type": "code",
   "execution_count": 49,
   "id": "7890506b",
   "metadata": {},
   "outputs": [
    {
     "data": {
      "text/plain": [
       "'Alnafi is a'"
      ]
     },
     "execution_count": 49,
     "metadata": {},
     "output_type": "execute_result"
    }
   ],
   "source": [
    "x"
   ]
  },
  {
   "cell_type": "code",
   "execution_count": 54,
   "id": "39fc331a",
   "metadata": {},
   "outputs": [
    {
     "data": {
      "text/plain": [
       "'Alnafi is a'"
      ]
     },
     "execution_count": 54,
     "metadata": {},
     "output_type": "execute_result"
    }
   ],
   "source": [
    "y = (x.format('good institute'))\n",
    "y"
   ]
  },
  {
   "cell_type": "code",
   "execution_count": 55,
   "id": "41ea01b9",
   "metadata": {},
   "outputs": [
    {
     "name": "stdout",
     "output_type": "stream",
     "text": [
      "Alnafi is a good institute\n"
     ]
    }
   ],
   "source": [
    "print(\"Alnafi is a {}\".format('good institute'))"
   ]
  },
  {
   "cell_type": "code",
   "execution_count": 58,
   "id": "635c25ff",
   "metadata": {},
   "outputs": [
    {
     "name": "stdout",
     "output_type": "stream",
     "text": [
      "Alnafi is a good institue\n"
     ]
    }
   ],
   "source": [
    "print(\"Alnafi {} {} {} {}\".format('is', 'a', 'good', 'institue',))"
   ]
  },
  {
   "cell_type": "code",
   "execution_count": 59,
   "id": "04c1d047",
   "metadata": {},
   "outputs": [
    {
     "name": "stdout",
     "output_type": "stream",
     "text": [
      "Alnafi is is is is\n"
     ]
    }
   ],
   "source": [
    "print(\"Alnafi {0} {0} {0} {0}\".format('is', 'a', 'good', 'institute'))"
   ]
  },
  {
   "cell_type": "code",
   "execution_count": 60,
   "id": "9f7be8b8",
   "metadata": {},
   "outputs": [
    {
     "name": "stdout",
     "output_type": "stream",
     "text": [
      "Alnafi is a good good\n"
     ]
    }
   ],
   "source": [
    "print(\"Alnafi {0} {1} {2} {2}\".format(\"is\", 'a', \"good\", 'institute'))"
   ]
  },
  {
   "cell_type": "code",
   "execution_count": 61,
   "id": "0c907436",
   "metadata": {},
   "outputs": [],
   "source": [
    "x = \"Alnafi {0} {1} {2} {3}\".format('is', 'a', 'good', 'institute')"
   ]
  },
  {
   "cell_type": "code",
   "execution_count": 62,
   "id": "5a0fe627",
   "metadata": {},
   "outputs": [
    {
     "data": {
      "text/plain": [
       "'Alnafi is a good institute'"
      ]
     },
     "execution_count": 62,
     "metadata": {},
     "output_type": "execute_result"
    }
   ],
   "source": [
    "x"
   ]
  },
  {
   "cell_type": "code",
   "execution_count": 71,
   "id": "768cc71c",
   "metadata": {},
   "outputs": [],
   "source": [
    "result = 400/1200"
   ]
  },
  {
   "cell_type": "code",
   "execution_count": 72,
   "id": "f02be39b",
   "metadata": {},
   "outputs": [
    {
     "data": {
      "text/plain": [
       "0.3333333333333333"
      ]
     },
     "execution_count": 72,
     "metadata": {},
     "output_type": "execute_result"
    }
   ],
   "source": [
    "result"
   ]
  },
  {
   "cell_type": "code",
   "execution_count": 74,
   "id": "2db9c22c",
   "metadata": {},
   "outputs": [
    {
     "name": "stdout",
     "output_type": "stream",
     "text": [
      "The result was 0.3333333333333333\n"
     ]
    }
   ],
   "source": [
    "print(\"The result was {r}\".format(r=result))"
   ]
  },
  {
   "cell_type": "code",
   "execution_count": 76,
   "id": "9c42ba10",
   "metadata": {},
   "outputs": [
    {
     "name": "stdout",
     "output_type": "stream",
     "text": [
      "The result was 0.333\n"
     ]
    }
   ],
   "source": [
    "print(\"The result was {r:1.3f}\".format(r=result))"
   ]
  },
  {
   "cell_type": "code",
   "execution_count": 77,
   "id": "d8e53518",
   "metadata": {},
   "outputs": [
    {
     "name": "stdout",
     "output_type": "stream",
     "text": [
      "The result was 0.33333\n"
     ]
    }
   ],
   "source": [
    "print(\"The result was {r:1.5f}\".format(r=result))"
   ]
  },
  {
   "cell_type": "markdown",
   "id": "fa13dd1d",
   "metadata": {},
   "source": [
    "2 Method"
   ]
  },
  {
   "cell_type": "code",
   "execution_count": 63,
   "id": "0d89f824",
   "metadata": {},
   "outputs": [],
   "source": [
    "name = 'Abdullah'"
   ]
  },
  {
   "cell_type": "code",
   "execution_count": 64,
   "id": "6039507c",
   "metadata": {},
   "outputs": [
    {
     "data": {
      "text/plain": [
       "'Abdullah'"
      ]
     },
     "execution_count": 64,
     "metadata": {},
     "output_type": "execute_result"
    }
   ],
   "source": [
    "name"
   ]
  },
  {
   "cell_type": "code",
   "execution_count": 65,
   "id": "acfb757a",
   "metadata": {},
   "outputs": [
    {
     "name": "stdout",
     "output_type": "stream",
     "text": [
      "Salam! my name is Abdullah\n"
     ]
    }
   ],
   "source": [
    "print(f\"Salam! my name is {name}\")"
   ]
  },
  {
   "cell_type": "code",
   "execution_count": 66,
   "id": "8f67e27e",
   "metadata": {},
   "outputs": [],
   "source": [
    "age = 13"
   ]
  },
  {
   "cell_type": "code",
   "execution_count": 67,
   "id": "46d5c1e4",
   "metadata": {},
   "outputs": [
    {
     "name": "stdout",
     "output_type": "stream",
     "text": [
      "Abdullah is 13 years old!\n"
     ]
    }
   ],
   "source": [
    "print(f\"{name} is {age} years old!\")"
   ]
  },
  {
   "cell_type": "code",
   "execution_count": 79,
   "id": "d3f3b86d",
   "metadata": {},
   "outputs": [],
   "source": [
    "section = '9B'"
   ]
  },
  {
   "cell_type": "code",
   "execution_count": 83,
   "id": "340b2b78",
   "metadata": {},
   "outputs": [
    {
     "name": "stdout",
     "output_type": "stream",
     "text": [
      "Abdullah is in section 9B....\n"
     ]
    }
   ],
   "source": [
    "print(f\"{name} is in section {section}....\")"
   ]
  },
  {
   "cell_type": "markdown",
   "id": "166bf985",
   "metadata": {},
   "source": [
    "split method"
   ]
  },
  {
   "cell_type": "code",
   "execution_count": 1,
   "id": "8d102224",
   "metadata": {},
   "outputs": [],
   "source": [
    "x = 'Islam is the religion of Peace'\n"
   ]
  },
  {
   "cell_type": "code",
   "execution_count": 2,
   "id": "54be3ea8",
   "metadata": {},
   "outputs": [
    {
     "data": {
      "text/plain": [
       "'Islam is the religion of Peace'"
      ]
     },
     "execution_count": 2,
     "metadata": {},
     "output_type": "execute_result"
    }
   ],
   "source": [
    "x"
   ]
  },
  {
   "cell_type": "code",
   "execution_count": 3,
   "id": "8e62951e",
   "metadata": {},
   "outputs": [
    {
     "data": {
      "text/plain": [
       "<function str.split(sep=None, maxsplit=-1)>"
      ]
     },
     "execution_count": 3,
     "metadata": {},
     "output_type": "execute_result"
    }
   ],
   "source": [
    "x.split"
   ]
  },
  {
   "cell_type": "code",
   "execution_count": 4,
   "id": "4b03735e",
   "metadata": {},
   "outputs": [
    {
     "data": {
      "text/plain": [
       "['Islam', 'is', 'the', 'religion', 'of', 'Peace']"
      ]
     },
     "execution_count": 4,
     "metadata": {},
     "output_type": "execute_result"
    }
   ],
   "source": [
    "x.split()"
   ]
  },
  {
   "cell_type": "code",
   "execution_count": 5,
   "id": "2f95ea42",
   "metadata": {},
   "outputs": [
    {
     "data": {
      "text/plain": [
       "['I', 'lam i', ' the religion of Peace']"
      ]
     },
     "execution_count": 5,
     "metadata": {},
     "output_type": "execute_result"
    }
   ],
   "source": [
    "x.split(\"s\")"
   ]
  },
  {
   "cell_type": "code",
   "execution_count": 6,
   "id": "9ab9eeb4",
   "metadata": {},
   "outputs": [
    {
     "data": {
      "text/plain": [
       "['Islam ', 's the rel', 'g', 'on of Peace']"
      ]
     },
     "execution_count": 6,
     "metadata": {},
     "output_type": "execute_result"
    }
   ],
   "source": [
    "x.split('i')"
   ]
  },
  {
   "cell_type": "code",
   "execution_count": 7,
   "id": "fffeff5d",
   "metadata": {},
   "outputs": [
    {
     "data": {
      "text/plain": [
       "['Islam is th', ' r', 'ligion of P', 'ac', '']"
      ]
     },
     "execution_count": 7,
     "metadata": {},
     "output_type": "execute_result"
    }
   ],
   "source": [
    "x.split('e')"
   ]
  },
  {
   "cell_type": "markdown",
   "id": "aa64ca74",
   "metadata": {},
   "source": [
    "Capatalize Method"
   ]
  },
  {
   "cell_type": "code",
   "execution_count": 8,
   "id": "ca50487b",
   "metadata": {},
   "outputs": [
    {
     "data": {
      "text/plain": [
       "<function str.capitalize()>"
      ]
     },
     "execution_count": 8,
     "metadata": {},
     "output_type": "execute_result"
    }
   ],
   "source": [
    "x.capitalize"
   ]
  },
  {
   "cell_type": "code",
   "execution_count": 12,
   "id": "1c773bd5",
   "metadata": {},
   "outputs": [],
   "source": [
    "y = 'python'"
   ]
  },
  {
   "cell_type": "code",
   "execution_count": 13,
   "id": "1bc7682f",
   "metadata": {},
   "outputs": [
    {
     "data": {
      "text/plain": [
       "'Python'"
      ]
     },
     "execution_count": 13,
     "metadata": {},
     "output_type": "execute_result"
    }
   ],
   "source": [
    "y.capitalize()"
   ]
  },
  {
   "cell_type": "markdown",
   "id": "fac4b8f6",
   "metadata": {},
   "source": [
    "Casefold Method"
   ]
  },
  {
   "cell_type": "code",
   "execution_count": 14,
   "id": "8024637d",
   "metadata": {},
   "outputs": [
    {
     "data": {
      "text/plain": [
       "<function str.casefold()>"
      ]
     },
     "execution_count": 14,
     "metadata": {},
     "output_type": "execute_result"
    }
   ],
   "source": [
    "x.casefold"
   ]
  },
  {
   "cell_type": "code",
   "execution_count": 15,
   "id": "815cbba5",
   "metadata": {},
   "outputs": [
    {
     "data": {
      "text/plain": [
       "'islam is the religion of peace'"
      ]
     },
     "execution_count": 15,
     "metadata": {},
     "output_type": "execute_result"
    }
   ],
   "source": [
    "x.casefold()"
   ]
  },
  {
   "cell_type": "code",
   "execution_count": 16,
   "id": "ee4239f4",
   "metadata": {},
   "outputs": [
    {
     "data": {
      "text/plain": [
       "'python'"
      ]
     },
     "execution_count": 16,
     "metadata": {},
     "output_type": "execute_result"
    }
   ],
   "source": [
    "y.casefold()"
   ]
  },
  {
   "cell_type": "markdown",
   "id": "f733ad66",
   "metadata": {},
   "source": [
    "Count Method"
   ]
  },
  {
   "cell_type": "code",
   "execution_count": 21,
   "id": "ee9e0693",
   "metadata": {},
   "outputs": [
    {
     "data": {
      "text/plain": [
       "<function str.count>"
      ]
     },
     "execution_count": 21,
     "metadata": {},
     "output_type": "execute_result"
    }
   ],
   "source": [
    "x.count"
   ]
  },
  {
   "cell_type": "code",
   "execution_count": 24,
   "id": "56207de0",
   "metadata": {},
   "outputs": [
    {
     "data": {
      "text/plain": [
       "0"
      ]
     },
     "execution_count": 24,
     "metadata": {},
     "output_type": "execute_result"
    }
   ],
   "source": [
    "x.count('peace')"
   ]
  },
  {
   "cell_type": "code",
   "execution_count": 25,
   "id": "ce7cad2e",
   "metadata": {},
   "outputs": [
    {
     "data": {
      "text/plain": [
       "1"
      ]
     },
     "execution_count": 25,
     "metadata": {},
     "output_type": "execute_result"
    }
   ],
   "source": [
    "y.count('python')"
   ]
  },
  {
   "cell_type": "code",
   "execution_count": 27,
   "id": "53a7df89",
   "metadata": {},
   "outputs": [
    {
     "data": {
      "text/plain": [
       "3"
      ]
     },
     "execution_count": 27,
     "metadata": {},
     "output_type": "execute_result"
    }
   ],
   "source": [
    "x.count('i')"
   ]
  },
  {
   "cell_type": "code",
   "execution_count": 32,
   "id": "9175e3fb",
   "metadata": {},
   "outputs": [
    {
     "data": {
      "text/plain": [
       "2"
      ]
     },
     "execution_count": 32,
     "metadata": {},
     "output_type": "execute_result"
    }
   ],
   "source": [
    "x.count('s')"
   ]
  },
  {
   "cell_type": "markdown",
   "id": "1fcbd626",
   "metadata": {},
   "source": [
    "Encode Method"
   ]
  },
  {
   "cell_type": "code",
   "execution_count": 29,
   "id": "0705dbbc",
   "metadata": {},
   "outputs": [
    {
     "data": {
      "text/plain": [
       "'Islam is the religion of Peace'"
      ]
     },
     "execution_count": 29,
     "metadata": {},
     "output_type": "execute_result"
    }
   ],
   "source": [
    "x"
   ]
  },
  {
   "cell_type": "code",
   "execution_count": 30,
   "id": "31bc06dc",
   "metadata": {},
   "outputs": [
    {
     "data": {
      "text/plain": [
       "<function str.encode(encoding='utf-8', errors='strict')>"
      ]
     },
     "execution_count": 30,
     "metadata": {},
     "output_type": "execute_result"
    }
   ],
   "source": [
    "x.encode"
   ]
  },
  {
   "cell_type": "code",
   "execution_count": 33,
   "id": "0c773142",
   "metadata": {},
   "outputs": [
    {
     "data": {
      "text/plain": [
       "b'Islam is the religion of Peace'"
      ]
     },
     "execution_count": 33,
     "metadata": {},
     "output_type": "execute_result"
    }
   ],
   "source": [
    "x.encode()"
   ]
  },
  {
   "cell_type": "code",
   "execution_count": 37,
   "id": "977a2a80",
   "metadata": {},
   "outputs": [],
   "source": [
    "y = 'Python is very easy to learn'"
   ]
  },
  {
   "cell_type": "code",
   "execution_count": 38,
   "id": "d061f922",
   "metadata": {},
   "outputs": [
    {
     "data": {
      "text/plain": [
       "'Python is very easy to learn'"
      ]
     },
     "execution_count": 38,
     "metadata": {},
     "output_type": "execute_result"
    }
   ],
   "source": [
    "y"
   ]
  },
  {
   "cell_type": "code",
   "execution_count": 39,
   "id": "848f9104",
   "metadata": {},
   "outputs": [
    {
     "data": {
      "text/plain": [
       "b'Python is very easy to learn'"
      ]
     },
     "execution_count": 39,
     "metadata": {},
     "output_type": "execute_result"
    }
   ],
   "source": [
    "y.encode()"
   ]
  },
  {
   "cell_type": "markdown",
   "id": "ba30f9e8",
   "metadata": {},
   "source": [
    "Endswith Method"
   ]
  },
  {
   "cell_type": "code",
   "execution_count": 40,
   "id": "d0f49a8a",
   "metadata": {},
   "outputs": [
    {
     "data": {
      "text/plain": [
       "<function str.endswith>"
      ]
     },
     "execution_count": 40,
     "metadata": {},
     "output_type": "execute_result"
    }
   ],
   "source": [
    "x.endswith"
   ]
  },
  {
   "cell_type": "code",
   "execution_count": 41,
   "id": "618bcc81",
   "metadata": {},
   "outputs": [
    {
     "data": {
      "text/plain": [
       "'Islam is the religion of Peace'"
      ]
     },
     "execution_count": 41,
     "metadata": {},
     "output_type": "execute_result"
    }
   ],
   "source": [
    "x"
   ]
  },
  {
   "cell_type": "code",
   "execution_count": 43,
   "id": "ab163780",
   "metadata": {},
   "outputs": [
    {
     "data": {
      "text/plain": [
       "False"
      ]
     },
     "execution_count": 43,
     "metadata": {},
     "output_type": "execute_result"
    }
   ],
   "source": [
    "x.endswith('a')"
   ]
  },
  {
   "cell_type": "code",
   "execution_count": 44,
   "id": "69d8a8a8",
   "metadata": {},
   "outputs": [
    {
     "data": {
      "text/plain": [
       "False"
      ]
     },
     "execution_count": 44,
     "metadata": {},
     "output_type": "execute_result"
    }
   ],
   "source": [
    "x.endswith('s')"
   ]
  },
  {
   "cell_type": "code",
   "execution_count": 45,
   "id": "90624a5a",
   "metadata": {},
   "outputs": [
    {
     "data": {
      "text/plain": [
       "True"
      ]
     },
     "execution_count": 45,
     "metadata": {},
     "output_type": "execute_result"
    }
   ],
   "source": [
    "x.endswith('e')"
   ]
  },
  {
   "cell_type": "code",
   "execution_count": 46,
   "id": "ef668762",
   "metadata": {},
   "outputs": [
    {
     "data": {
      "text/plain": [
       "'Python is very easy to learn'"
      ]
     },
     "execution_count": 46,
     "metadata": {},
     "output_type": "execute_result"
    }
   ],
   "source": [
    "y"
   ]
  },
  {
   "cell_type": "code",
   "execution_count": 47,
   "id": "d68864c9",
   "metadata": {},
   "outputs": [
    {
     "data": {
      "text/plain": [
       "False"
      ]
     },
     "execution_count": 47,
     "metadata": {},
     "output_type": "execute_result"
    }
   ],
   "source": [
    "y.endswith('y')"
   ]
  },
  {
   "cell_type": "code",
   "execution_count": 48,
   "id": "24a746e2",
   "metadata": {},
   "outputs": [
    {
     "data": {
      "text/plain": [
       "True"
      ]
     },
     "execution_count": 48,
     "metadata": {},
     "output_type": "execute_result"
    }
   ],
   "source": [
    "y.endswith('n')"
   ]
  },
  {
   "cell_type": "markdown",
   "id": "08e2e1e0",
   "metadata": {},
   "source": [
    "Expandtabs Method"
   ]
  },
  {
   "cell_type": "code",
   "execution_count": 49,
   "id": "7d65b7f6",
   "metadata": {},
   "outputs": [
    {
     "data": {
      "text/plain": [
       "<function str.expandtabs(tabsize=8)>"
      ]
     },
     "execution_count": 49,
     "metadata": {},
     "output_type": "execute_result"
    }
   ],
   "source": [
    "x.expandtabs"
   ]
  },
  {
   "cell_type": "code",
   "execution_count": 50,
   "id": "9a7103fc",
   "metadata": {},
   "outputs": [
    {
     "data": {
      "text/plain": [
       "'Islam is the religion of Peace'"
      ]
     },
     "execution_count": 50,
     "metadata": {},
     "output_type": "execute_result"
    }
   ],
   "source": [
    "x"
   ]
  },
  {
   "cell_type": "code",
   "execution_count": 51,
   "id": "3057afd4",
   "metadata": {},
   "outputs": [
    {
     "data": {
      "text/plain": [
       "'Islam is the religion of Peace'"
      ]
     },
     "execution_count": 51,
     "metadata": {},
     "output_type": "execute_result"
    }
   ],
   "source": [
    "x.expandtabs()"
   ]
  },
  {
   "cell_type": "code",
   "execution_count": 54,
   "id": "2d967ee8",
   "metadata": {},
   "outputs": [
    {
     "data": {
      "text/plain": [
       "'Islam is the religion of Peace'"
      ]
     },
     "execution_count": 54,
     "metadata": {},
     "output_type": "execute_result"
    }
   ],
   "source": [
    "x.expandtabs(5)"
   ]
  },
  {
   "cell_type": "code",
   "execution_count": 55,
   "id": "87582460",
   "metadata": {},
   "outputs": [
    {
     "data": {
      "text/plain": [
       "'Python is very easy to learn'"
      ]
     },
     "execution_count": 55,
     "metadata": {},
     "output_type": "execute_result"
    }
   ],
   "source": [
    "y"
   ]
  },
  {
   "cell_type": "code",
   "execution_count": 56,
   "id": "11360f4e",
   "metadata": {},
   "outputs": [
    {
     "data": {
      "text/plain": [
       "'Python is very easy to learn'"
      ]
     },
     "execution_count": 56,
     "metadata": {},
     "output_type": "execute_result"
    }
   ],
   "source": [
    "y.expandtabs()"
   ]
  },
  {
   "cell_type": "code",
   "execution_count": 57,
   "id": "60b085d0",
   "metadata": {},
   "outputs": [
    {
     "data": {
      "text/plain": [
       "'Python is very easy to learn'"
      ]
     },
     "execution_count": 57,
     "metadata": {},
     "output_type": "execute_result"
    }
   ],
   "source": [
    "y.expandtabs(3)"
   ]
  },
  {
   "cell_type": "markdown",
   "id": "e4fa9bd5",
   "metadata": {},
   "source": [
    "Find Method"
   ]
  },
  {
   "cell_type": "code",
   "execution_count": 58,
   "id": "c0d916e3",
   "metadata": {},
   "outputs": [
    {
     "data": {
      "text/plain": [
       "<function str.find>"
      ]
     },
     "execution_count": 58,
     "metadata": {},
     "output_type": "execute_result"
    }
   ],
   "source": [
    "x.find"
   ]
  },
  {
   "cell_type": "code",
   "execution_count": 63,
   "id": "91983e7c",
   "metadata": {},
   "outputs": [
    {
     "data": {
      "text/plain": [
       "'Islam is the religion of Peace'"
      ]
     },
     "execution_count": 63,
     "metadata": {},
     "output_type": "execute_result"
    }
   ],
   "source": [
    "x"
   ]
  },
  {
   "cell_type": "code",
   "execution_count": 61,
   "id": "bb994b91",
   "metadata": {},
   "outputs": [
    {
     "data": {
      "text/plain": [
       "11"
      ]
     },
     "execution_count": 61,
     "metadata": {},
     "output_type": "execute_result"
    }
   ],
   "source": [
    "x.find('e')"
   ]
  },
  {
   "cell_type": "code",
   "execution_count": 62,
   "id": "e0925d09",
   "metadata": {},
   "outputs": [
    {
     "data": {
      "text/plain": [
       "6"
      ]
     },
     "execution_count": 62,
     "metadata": {},
     "output_type": "execute_result"
    }
   ],
   "source": [
    "x.find('i')"
   ]
  },
  {
   "cell_type": "code",
   "execution_count": 64,
   "id": "8e01fd6b",
   "metadata": {},
   "outputs": [
    {
     "data": {
      "text/plain": [
       "1"
      ]
     },
     "execution_count": 64,
     "metadata": {},
     "output_type": "execute_result"
    }
   ],
   "source": [
    "x.find('s')"
   ]
  },
  {
   "cell_type": "code",
   "execution_count": 65,
   "id": "07fb1552",
   "metadata": {},
   "outputs": [
    {
     "data": {
      "text/plain": [
       "-1"
      ]
     },
     "execution_count": 65,
     "metadata": {},
     "output_type": "execute_result"
    }
   ],
   "source": [
    "x.find('p')"
   ]
  },
  {
   "cell_type": "code",
   "execution_count": 66,
   "id": "5b4032ea",
   "metadata": {},
   "outputs": [
    {
     "data": {
      "text/plain": [
       "17"
      ]
     },
     "execution_count": 66,
     "metadata": {},
     "output_type": "execute_result"
    }
   ],
   "source": [
    "x.find('g')"
   ]
  },
  {
   "cell_type": "markdown",
   "id": "955cb2af",
   "metadata": {},
   "source": [
    "Index Method"
   ]
  },
  {
   "cell_type": "code",
   "execution_count": 67,
   "id": "7c217083",
   "metadata": {},
   "outputs": [
    {
     "data": {
      "text/plain": [
       "<function str.index>"
      ]
     },
     "execution_count": 67,
     "metadata": {},
     "output_type": "execute_result"
    }
   ],
   "source": [
    "x.index"
   ]
  },
  {
   "cell_type": "code",
   "execution_count": 69,
   "id": "67291de5",
   "metadata": {},
   "outputs": [
    {
     "data": {
      "text/plain": [
       "6"
      ]
     },
     "execution_count": 69,
     "metadata": {},
     "output_type": "execute_result"
    }
   ],
   "source": [
    "x.index('i')"
   ]
  },
  {
   "cell_type": "code",
   "execution_count": 70,
   "id": "3e94c04f",
   "metadata": {},
   "outputs": [
    {
     "data": {
      "text/plain": [
       "11"
      ]
     },
     "execution_count": 70,
     "metadata": {},
     "output_type": "execute_result"
    }
   ],
   "source": [
    "x.index('e')"
   ]
  },
  {
   "cell_type": "markdown",
   "id": "cbbe4b77",
   "metadata": {},
   "source": [
    "Isalpha Method"
   ]
  },
  {
   "cell_type": "code",
   "execution_count": 71,
   "id": "5df65dc5",
   "metadata": {},
   "outputs": [
    {
     "data": {
      "text/plain": [
       "<function str.isalpha()>"
      ]
     },
     "execution_count": 71,
     "metadata": {},
     "output_type": "execute_result"
    }
   ],
   "source": [
    "x.isalpha"
   ]
  },
  {
   "cell_type": "code",
   "execution_count": 72,
   "id": "91949700",
   "metadata": {},
   "outputs": [
    {
     "data": {
      "text/plain": [
       "False"
      ]
     },
     "execution_count": 72,
     "metadata": {},
     "output_type": "execute_result"
    }
   ],
   "source": [
    "x.isalpha()"
   ]
  },
  {
   "cell_type": "code",
   "execution_count": 74,
   "id": "619b3429",
   "metadata": {},
   "outputs": [
    {
     "data": {
      "text/plain": [
       "False"
      ]
     },
     "execution_count": 74,
     "metadata": {},
     "output_type": "execute_result"
    }
   ],
   "source": [
    "y.isalpha()"
   ]
  },
  {
   "cell_type": "markdown",
   "id": "2c325d17",
   "metadata": {},
   "source": [
    "Isalnum Method"
   ]
  },
  {
   "cell_type": "code",
   "execution_count": 81,
   "id": "4b208c77",
   "metadata": {},
   "outputs": [
    {
     "data": {
      "text/plain": [
       "<function str.isalnum()>"
      ]
     },
     "execution_count": 81,
     "metadata": {},
     "output_type": "execute_result"
    }
   ],
   "source": [
    "x.isalnum"
   ]
  },
  {
   "cell_type": "code",
   "execution_count": 82,
   "id": "e63abc40",
   "metadata": {},
   "outputs": [
    {
     "data": {
      "text/plain": [
       "False"
      ]
     },
     "execution_count": 82,
     "metadata": {},
     "output_type": "execute_result"
    }
   ],
   "source": [
    "x.isalnum()"
   ]
  },
  {
   "cell_type": "code",
   "execution_count": 84,
   "id": "963b944d",
   "metadata": {},
   "outputs": [
    {
     "data": {
      "text/plain": [
       "False"
      ]
     },
     "execution_count": 84,
     "metadata": {},
     "output_type": "execute_result"
    }
   ],
   "source": [
    "y.isalnum()"
   ]
  },
  {
   "cell_type": "markdown",
   "id": "eb827123",
   "metadata": {},
   "source": [
    "Lower Method"
   ]
  },
  {
   "cell_type": "code",
   "execution_count": 87,
   "id": "07ae5415",
   "metadata": {},
   "outputs": [
    {
     "data": {
      "text/plain": [
       "<function str.lower()>"
      ]
     },
     "execution_count": 87,
     "metadata": {},
     "output_type": "execute_result"
    }
   ],
   "source": [
    "x.lower"
   ]
  },
  {
   "cell_type": "code",
   "execution_count": 88,
   "id": "8cf9c9f6",
   "metadata": {},
   "outputs": [
    {
     "data": {
      "text/plain": [
       "'islam is the religion of peace'"
      ]
     },
     "execution_count": 88,
     "metadata": {},
     "output_type": "execute_result"
    }
   ],
   "source": [
    "x.lower()"
   ]
  },
  {
   "cell_type": "code",
   "execution_count": 89,
   "id": "062920a2",
   "metadata": {},
   "outputs": [
    {
     "data": {
      "text/plain": [
       "'python is very easy to learn'"
      ]
     },
     "execution_count": 89,
     "metadata": {},
     "output_type": "execute_result"
    }
   ],
   "source": [
    "y.lower()"
   ]
  },
  {
   "cell_type": "markdown",
   "id": "a7286ea3",
   "metadata": {},
   "source": [
    "Startswith Method"
   ]
  },
  {
   "cell_type": "code",
   "execution_count": 90,
   "id": "0784ab4d",
   "metadata": {},
   "outputs": [
    {
     "data": {
      "text/plain": [
       "<function str.startswith>"
      ]
     },
     "execution_count": 90,
     "metadata": {},
     "output_type": "execute_result"
    }
   ],
   "source": [
    "x.startswith"
   ]
  },
  {
   "cell_type": "code",
   "execution_count": 93,
   "id": "f0982760",
   "metadata": {},
   "outputs": [
    {
     "data": {
      "text/plain": [
       "False"
      ]
     },
     "execution_count": 93,
     "metadata": {},
     "output_type": "execute_result"
    }
   ],
   "source": [
    "x.startswith('s')"
   ]
  },
  {
   "cell_type": "code",
   "execution_count": 94,
   "id": "0bd6be9e",
   "metadata": {},
   "outputs": [
    {
     "data": {
      "text/plain": [
       "False"
      ]
     },
     "execution_count": 94,
     "metadata": {},
     "output_type": "execute_result"
    }
   ],
   "source": [
    "x.startswith('i')"
   ]
  },
  {
   "cell_type": "code",
   "execution_count": 95,
   "id": "8879e0bb",
   "metadata": {},
   "outputs": [
    {
     "data": {
      "text/plain": [
       "True"
      ]
     },
     "execution_count": 95,
     "metadata": {},
     "output_type": "execute_result"
    }
   ],
   "source": [
    "x.startswith('I')"
   ]
  },
  {
   "cell_type": "code",
   "execution_count": null,
   "id": "5b1c2b49",
   "metadata": {},
   "outputs": [],
   "source": []
  },
  {
   "cell_type": "code",
   "execution_count": null,
   "id": "d2cad18d",
   "metadata": {},
   "outputs": [],
   "source": []
  }
 ],
 "metadata": {
  "kernelspec": {
   "display_name": "Python 3",
   "language": "python",
   "name": "python3"
  },
  "language_info": {
   "codemirror_mode": {
    "name": "ipython",
    "version": 3
   },
   "file_extension": ".py",
   "mimetype": "text/x-python",
   "name": "python",
   "nbconvert_exporter": "python",
   "pygments_lexer": "ipython3",
   "version": "3.8.8"
  }
 },
 "nbformat": 4,
 "nbformat_minor": 5
}
