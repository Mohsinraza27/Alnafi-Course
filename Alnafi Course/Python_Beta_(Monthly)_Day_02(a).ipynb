{
 "cells": [
  {
   "cell_type": "markdown",
   "id": "83e22f40",
   "metadata": {},
   "source": [
    "# Lists in Python\n"
   ]
  },
  {
   "cell_type": "markdown",
   "id": "b0c01b8c",
   "metadata": {},
   "source": [
    "• Lists: objects retrieved by location.\n",
    "Ordered sequence can be indexed or sliced."
   ]
  },
  {
   "cell_type": "markdown",
   "id": "435d9c9f",
   "metadata": {},
   "source": [
    "Lists are ordered sequences"
   ]
  },
  {
   "cell_type": "markdown",
   "id": "eb8a1ed2",
   "metadata": {},
   "source": [
    "We can use [ ] brackets and commas to separate objects in the list for \n",
    "example [1,2,3,4,5,6,7,8]"
   ]
  },
  {
   "cell_type": "code",
   "execution_count": 1,
   "id": "724bee5c",
   "metadata": {},
   "outputs": [
    {
     "data": {
      "text/plain": [
       "[1, 2, 3, 4, 5]"
      ]
     },
     "execution_count": 1,
     "metadata": {},
     "output_type": "execute_result"
    }
   ],
   "source": [
    "l = [1, 2,3, 4, 5]\n",
    "l"
   ]
  },
  {
   "cell_type": "code",
   "execution_count": 2,
   "id": "90cae1b5",
   "metadata": {},
   "outputs": [
    {
     "data": {
      "text/plain": [
       "list"
      ]
     },
     "execution_count": 2,
     "metadata": {},
     "output_type": "execute_result"
    }
   ],
   "source": [
    "type(l)"
   ]
  },
  {
   "cell_type": "code",
   "execution_count": 3,
   "id": "99f1168d",
   "metadata": {},
   "outputs": [
    {
     "data": {
      "text/plain": [
       "['Python', 'List', 'Anaconda']"
      ]
     },
     "execution_count": 3,
     "metadata": {},
     "output_type": "execute_result"
    }
   ],
   "source": [
    "l = ['Python', 'List', 'Anaconda']\n",
    "l"
   ]
  },
  {
   "cell_type": "markdown",
   "id": "c46ebb04",
   "metadata": {},
   "source": [
    "Indexing"
   ]
  },
  {
   "cell_type": "code",
   "execution_count": 4,
   "id": "b4bc6292",
   "metadata": {},
   "outputs": [
    {
     "data": {
      "text/plain": [
       "'Python'"
      ]
     },
     "execution_count": 4,
     "metadata": {},
     "output_type": "execute_result"
    }
   ],
   "source": [
    "l[0]"
   ]
  },
  {
   "cell_type": "code",
   "execution_count": 5,
   "id": "08982a9d",
   "metadata": {},
   "outputs": [
    {
     "data": {
      "text/plain": [
       "'Anaconda'"
      ]
     },
     "execution_count": 5,
     "metadata": {},
     "output_type": "execute_result"
    }
   ],
   "source": [
    "l[2]"
   ]
  },
  {
   "cell_type": "code",
   "execution_count": 6,
   "id": "f707c7b7",
   "metadata": {},
   "outputs": [
    {
     "ename": "IndexError",
     "evalue": "list index out of range",
     "output_type": "error",
     "traceback": [
      "\u001b[1;31m---------------------------------------------------------------------------\u001b[0m",
      "\u001b[1;31mIndexError\u001b[0m                                Traceback (most recent call last)",
      "\u001b[1;32m<ipython-input-6-32713d2680e6>\u001b[0m in \u001b[0;36m<module>\u001b[1;34m\u001b[0m\n\u001b[1;32m----> 1\u001b[1;33m \u001b[0ml\u001b[0m\u001b[1;33m[\u001b[0m\u001b[1;36m4\u001b[0m\u001b[1;33m]\u001b[0m\u001b[1;33m\u001b[0m\u001b[1;33m\u001b[0m\u001b[0m\n\u001b[0m",
      "\u001b[1;31mIndexError\u001b[0m: list index out of range"
     ]
    }
   ],
   "source": [
    "l[4]"
   ]
  },
  {
   "cell_type": "code",
   "execution_count": 7,
   "id": "64a29a69",
   "metadata": {},
   "outputs": [
    {
     "data": {
      "text/plain": [
       "['List', 'Anaconda']"
      ]
     },
     "execution_count": 7,
     "metadata": {},
     "output_type": "execute_result"
    }
   ],
   "source": [
    "l[1:]"
   ]
  },
  {
   "cell_type": "code",
   "execution_count": 8,
   "id": "252215f2",
   "metadata": {},
   "outputs": [
    {
     "data": {
      "text/plain": [
       "['Python', 'List', 'Anaconda']"
      ]
     },
     "execution_count": 8,
     "metadata": {},
     "output_type": "execute_result"
    }
   ],
   "source": [
    "l[:3]"
   ]
  },
  {
   "cell_type": "code",
   "execution_count": 9,
   "id": "2e14fa14",
   "metadata": {},
   "outputs": [
    {
     "data": {
      "text/plain": [
       "['Python', 'List', 'Anaconda']"
      ]
     },
     "execution_count": 9,
     "metadata": {},
     "output_type": "execute_result"
    }
   ],
   "source": [
    "l"
   ]
  },
  {
   "cell_type": "code",
   "execution_count": 10,
   "id": "1e5bfdd9",
   "metadata": {},
   "outputs": [
    {
     "data": {
      "text/plain": [
       "['Primer', 'Alpha', 'Beta']"
      ]
     },
     "execution_count": 10,
     "metadata": {},
     "output_type": "execute_result"
    }
   ],
   "source": [
    "l2 = ['Primer', \"Alpha\", 'Beta']\n",
    "l2"
   ]
  },
  {
   "cell_type": "code",
   "execution_count": 13,
   "id": "c7916cc1",
   "metadata": {},
   "outputs": [],
   "source": [
    "new_l = l + l2"
   ]
  },
  {
   "cell_type": "code",
   "execution_count": 14,
   "id": "95701807",
   "metadata": {},
   "outputs": [
    {
     "data": {
      "text/plain": [
       "['Python', 'List', 'Anaconda', 'Primer', 'Alpha', 'Beta']"
      ]
     },
     "execution_count": 14,
     "metadata": {},
     "output_type": "execute_result"
    }
   ],
   "source": [
    "new_l"
   ]
  },
  {
   "cell_type": "code",
   "execution_count": 16,
   "id": "71c5b931",
   "metadata": {},
   "outputs": [
    {
     "data": {
      "text/plain": [
       "'Primer'"
      ]
     },
     "execution_count": 16,
     "metadata": {},
     "output_type": "execute_result"
    }
   ],
   "source": [
    "new_l[3]"
   ]
  },
  {
   "cell_type": "code",
   "execution_count": 17,
   "id": "25c358e0",
   "metadata": {},
   "outputs": [
    {
     "data": {
      "text/plain": [
       "['List', 'Anaconda', 'Primer', 'Alpha']"
      ]
     },
     "execution_count": 17,
     "metadata": {},
     "output_type": "execute_result"
    }
   ],
   "source": [
    "new_l[1:5]"
   ]
  },
  {
   "cell_type": "markdown",
   "id": "72db5e00",
   "metadata": {},
   "source": [
    "Check List is a Mutable"
   ]
  },
  {
   "cell_type": "code",
   "execution_count": 25,
   "id": "279fdc2b",
   "metadata": {},
   "outputs": [
    {
     "data": {
      "text/plain": [
       "['Python', 'Jupyter', 'Anaconda', 'Primer', 'Alpha', 'Beta']"
      ]
     },
     "execution_count": 25,
     "metadata": {},
     "output_type": "execute_result"
    }
   ],
   "source": [
    "new_l"
   ]
  },
  {
   "cell_type": "code",
   "execution_count": 26,
   "id": "01057163",
   "metadata": {},
   "outputs": [],
   "source": [
    "new_l[1] = 'Jupyter'"
   ]
  },
  {
   "cell_type": "code",
   "execution_count": 27,
   "id": "1347aec8",
   "metadata": {},
   "outputs": [
    {
     "data": {
      "text/plain": [
       "['Python', 'Jupyter', 'Anaconda', 'Primer', 'Alpha', 'Beta']"
      ]
     },
     "execution_count": 27,
     "metadata": {},
     "output_type": "execute_result"
    }
   ],
   "source": [
    "new_l"
   ]
  },
  {
   "cell_type": "code",
   "execution_count": 28,
   "id": "3898dcb4",
   "metadata": {},
   "outputs": [],
   "source": [
    "new_l[2] = 'Notebook'"
   ]
  },
  {
   "cell_type": "code",
   "execution_count": 29,
   "id": "58f0d909",
   "metadata": {},
   "outputs": [
    {
     "data": {
      "text/plain": [
       "['Python', 'Jupyter', 'Notebook', 'Primer', 'Alpha', 'Beta']"
      ]
     },
     "execution_count": 29,
     "metadata": {},
     "output_type": "execute_result"
    }
   ],
   "source": [
    "new_l"
   ]
  },
  {
   "cell_type": "markdown",
   "id": "a89253ef",
   "metadata": {},
   "source": [
    "Append Method"
   ]
  },
  {
   "cell_type": "code",
   "execution_count": 30,
   "id": "35691ee0",
   "metadata": {},
   "outputs": [
    {
     "data": {
      "text/plain": [
       "['Python', 'List', 'Anaconda']"
      ]
     },
     "execution_count": 30,
     "metadata": {},
     "output_type": "execute_result"
    }
   ],
   "source": [
    "l "
   ]
  },
  {
   "cell_type": "code",
   "execution_count": 31,
   "id": "9c2fb080",
   "metadata": {},
   "outputs": [
    {
     "data": {
      "text/plain": [
       "<function list.append(object, /)>"
      ]
     },
     "execution_count": 31,
     "metadata": {},
     "output_type": "execute_result"
    }
   ],
   "source": [
    "l.append"
   ]
  },
  {
   "cell_type": "code",
   "execution_count": 32,
   "id": "054c4d6a",
   "metadata": {},
   "outputs": [],
   "source": [
    "l.append('vs.code')"
   ]
  },
  {
   "cell_type": "code",
   "execution_count": 33,
   "id": "59b1d198",
   "metadata": {},
   "outputs": [
    {
     "data": {
      "text/plain": [
       "['Python', 'List', 'Anaconda', 'vs.code']"
      ]
     },
     "execution_count": 33,
     "metadata": {},
     "output_type": "execute_result"
    }
   ],
   "source": [
    "l"
   ]
  },
  {
   "cell_type": "markdown",
   "id": "4d12fe2f",
   "metadata": {},
   "source": [
    "Pop Method"
   ]
  },
  {
   "cell_type": "code",
   "execution_count": 34,
   "id": "95342b4f",
   "metadata": {},
   "outputs": [
    {
     "data": {
      "text/plain": [
       "<function list.pop(index=-1, /)>"
      ]
     },
     "execution_count": 34,
     "metadata": {},
     "output_type": "execute_result"
    }
   ],
   "source": [
    "l.pop"
   ]
  },
  {
   "cell_type": "code",
   "execution_count": 35,
   "id": "56cb40ee",
   "metadata": {},
   "outputs": [
    {
     "data": {
      "text/plain": [
       "'vs.code'"
      ]
     },
     "execution_count": 35,
     "metadata": {},
     "output_type": "execute_result"
    }
   ],
   "source": [
    "l.pop()"
   ]
  },
  {
   "cell_type": "code",
   "execution_count": 36,
   "id": "4d16efb1",
   "metadata": {},
   "outputs": [
    {
     "data": {
      "text/plain": [
       "['Python', 'List', 'Anaconda']"
      ]
     },
     "execution_count": 36,
     "metadata": {},
     "output_type": "execute_result"
    }
   ],
   "source": [
    "l"
   ]
  },
  {
   "cell_type": "code",
   "execution_count": 37,
   "id": "3d5c6d36",
   "metadata": {},
   "outputs": [
    {
     "data": {
      "text/plain": [
       "'Anaconda'"
      ]
     },
     "execution_count": 37,
     "metadata": {},
     "output_type": "execute_result"
    }
   ],
   "source": [
    "l.pop()"
   ]
  },
  {
   "cell_type": "code",
   "execution_count": 38,
   "id": "8fd24a4e",
   "metadata": {},
   "outputs": [
    {
     "data": {
      "text/plain": [
       "['Python', 'List']"
      ]
     },
     "execution_count": 38,
     "metadata": {},
     "output_type": "execute_result"
    }
   ],
   "source": [
    "l"
   ]
  },
  {
   "cell_type": "code",
   "execution_count": 39,
   "id": "73484dc6",
   "metadata": {},
   "outputs": [
    {
     "data": {
      "text/plain": [
       "['Python', 'Jupyter', 'Notebook', 'Primer', 'Alpha', 'Beta']"
      ]
     },
     "execution_count": 39,
     "metadata": {},
     "output_type": "execute_result"
    }
   ],
   "source": [
    "new_l"
   ]
  },
  {
   "cell_type": "code",
   "execution_count": 40,
   "id": "9348eec0",
   "metadata": {},
   "outputs": [
    {
     "data": {
      "text/plain": [
       "'Notebook'"
      ]
     },
     "execution_count": 40,
     "metadata": {},
     "output_type": "execute_result"
    }
   ],
   "source": [
    "new_l.pop(2)"
   ]
  },
  {
   "cell_type": "code",
   "execution_count": 41,
   "id": "37323588",
   "metadata": {},
   "outputs": [
    {
     "data": {
      "text/plain": [
       "['Python', 'Jupyter', 'Primer', 'Alpha', 'Beta']"
      ]
     },
     "execution_count": 41,
     "metadata": {},
     "output_type": "execute_result"
    }
   ],
   "source": [
    "new_l"
   ]
  },
  {
   "cell_type": "code",
   "execution_count": 43,
   "id": "0b18e062",
   "metadata": {},
   "outputs": [
    {
     "data": {
      "text/plain": [
       "'Jupyter'"
      ]
     },
     "execution_count": 43,
     "metadata": {},
     "output_type": "execute_result"
    }
   ],
   "source": [
    "new_l.pop(1)"
   ]
  },
  {
   "cell_type": "code",
   "execution_count": 44,
   "id": "6038bc45",
   "metadata": {},
   "outputs": [
    {
     "data": {
      "text/plain": [
       "['Python', 'Primer', 'Alpha', 'Beta']"
      ]
     },
     "execution_count": 44,
     "metadata": {},
     "output_type": "execute_result"
    }
   ],
   "source": [
    "new_l"
   ]
  },
  {
   "cell_type": "markdown",
   "id": "d2a600f7",
   "metadata": {},
   "source": [
    "Sort Method"
   ]
  },
  {
   "cell_type": "code",
   "execution_count": 50,
   "id": "1cb73e01",
   "metadata": {},
   "outputs": [],
   "source": [
    "a_num = ['2', '5', '7', '1', '9', '4', '6']\n",
    "b_alpha = ['w', 'r', 't', 's', 'z', 'o', 'v'] "
   ]
  },
  {
   "cell_type": "code",
   "execution_count": 51,
   "id": "e7d1d394",
   "metadata": {},
   "outputs": [
    {
     "data": {
      "text/plain": [
       "['2', '5', '7', '1', '9', '4', '6']"
      ]
     },
     "execution_count": 51,
     "metadata": {},
     "output_type": "execute_result"
    }
   ],
   "source": [
    "a_num\n"
   ]
  },
  {
   "cell_type": "code",
   "execution_count": 52,
   "id": "7e5a9fc8",
   "metadata": {},
   "outputs": [
    {
     "data": {
      "text/plain": [
       "['w', 'r', 't', 's', 'z', 'o', 'v']"
      ]
     },
     "execution_count": 52,
     "metadata": {},
     "output_type": "execute_result"
    }
   ],
   "source": [
    "b_alpha"
   ]
  },
  {
   "cell_type": "code",
   "execution_count": 53,
   "id": "96a45fef",
   "metadata": {},
   "outputs": [
    {
     "data": {
      "text/plain": [
       "<function list.sort(*, key=None, reverse=False)>"
      ]
     },
     "execution_count": 53,
     "metadata": {},
     "output_type": "execute_result"
    }
   ],
   "source": [
    "a_num.sort"
   ]
  },
  {
   "cell_type": "code",
   "execution_count": 54,
   "id": "d852f629",
   "metadata": {},
   "outputs": [],
   "source": [
    "a_num.sort()"
   ]
  },
  {
   "cell_type": "code",
   "execution_count": 55,
   "id": "d2fc434a",
   "metadata": {},
   "outputs": [
    {
     "data": {
      "text/plain": [
       "['1', '2', '4', '5', '6', '7', '9']"
      ]
     },
     "execution_count": 55,
     "metadata": {},
     "output_type": "execute_result"
    }
   ],
   "source": [
    "a_num"
   ]
  },
  {
   "cell_type": "code",
   "execution_count": 56,
   "id": "a10a1343",
   "metadata": {},
   "outputs": [],
   "source": [
    "b_alpha.sort()"
   ]
  },
  {
   "cell_type": "code",
   "execution_count": 57,
   "id": "cebb5474",
   "metadata": {},
   "outputs": [
    {
     "data": {
      "text/plain": [
       "['o', 'r', 's', 't', 'v', 'w', 'z']"
      ]
     },
     "execution_count": 57,
     "metadata": {},
     "output_type": "execute_result"
    }
   ],
   "source": [
    "b_alpha"
   ]
  },
  {
   "cell_type": "markdown",
   "id": "1eb41992",
   "metadata": {},
   "source": [
    "Reverse Method"
   ]
  },
  {
   "cell_type": "code",
   "execution_count": 58,
   "id": "79ff32b0",
   "metadata": {},
   "outputs": [
    {
     "data": {
      "text/plain": [
       "['1', '2', '4', '5', '6', '7', '9']"
      ]
     },
     "execution_count": 58,
     "metadata": {},
     "output_type": "execute_result"
    }
   ],
   "source": [
    "a_num"
   ]
  },
  {
   "cell_type": "code",
   "execution_count": 59,
   "id": "a7297275",
   "metadata": {},
   "outputs": [],
   "source": [
    "a_num.reverse()"
   ]
  },
  {
   "cell_type": "code",
   "execution_count": 60,
   "id": "6c2e4591",
   "metadata": {},
   "outputs": [
    {
     "data": {
      "text/plain": [
       "['9', '7', '6', '5', '4', '2', '1']"
      ]
     },
     "execution_count": 60,
     "metadata": {},
     "output_type": "execute_result"
    }
   ],
   "source": [
    "a_num"
   ]
  },
  {
   "cell_type": "code",
   "execution_count": 61,
   "id": "8e3c2ac2",
   "metadata": {},
   "outputs": [
    {
     "data": {
      "text/plain": [
       "['o', 'r', 's', 't', 'v', 'w', 'z']"
      ]
     },
     "execution_count": 61,
     "metadata": {},
     "output_type": "execute_result"
    }
   ],
   "source": [
    "b_alpha"
   ]
  },
  {
   "cell_type": "code",
   "execution_count": 62,
   "id": "1e212cfe",
   "metadata": {},
   "outputs": [],
   "source": [
    "b_alpha.reverse()"
   ]
  },
  {
   "cell_type": "code",
   "execution_count": 63,
   "id": "36f80172",
   "metadata": {},
   "outputs": [
    {
     "data": {
      "text/plain": [
       "['z', 'w', 'v', 't', 's', 'r', 'o']"
      ]
     },
     "execution_count": 63,
     "metadata": {},
     "output_type": "execute_result"
    }
   ],
   "source": [
    "b_alpha"
   ]
  },
  {
   "cell_type": "markdown",
   "id": "5fbeecce",
   "metadata": {},
   "source": [
    "Clear Method"
   ]
  },
  {
   "cell_type": "code",
   "execution_count": 64,
   "id": "8c8406f7",
   "metadata": {},
   "outputs": [
    {
     "data": {
      "text/plain": [
       "['Python', 'List']"
      ]
     },
     "execution_count": 64,
     "metadata": {},
     "output_type": "execute_result"
    }
   ],
   "source": [
    "l"
   ]
  },
  {
   "cell_type": "code",
   "execution_count": 65,
   "id": "0d36d389",
   "metadata": {},
   "outputs": [
    {
     "data": {
      "text/plain": [
       "<function list.clear()>"
      ]
     },
     "execution_count": 65,
     "metadata": {},
     "output_type": "execute_result"
    }
   ],
   "source": [
    "l.clear"
   ]
  },
  {
   "cell_type": "code",
   "execution_count": 66,
   "id": "5f0a5a21",
   "metadata": {},
   "outputs": [],
   "source": [
    "l.clear()"
   ]
  },
  {
   "cell_type": "code",
   "execution_count": 67,
   "id": "3b51c4f8",
   "metadata": {},
   "outputs": [
    {
     "data": {
      "text/plain": [
       "[]"
      ]
     },
     "execution_count": 67,
     "metadata": {},
     "output_type": "execute_result"
    }
   ],
   "source": [
    "l"
   ]
  },
  {
   "cell_type": "markdown",
   "id": "dbc86455",
   "metadata": {},
   "source": [
    "Remove Method"
   ]
  },
  {
   "cell_type": "code",
   "execution_count": 68,
   "id": "fc9e1707",
   "metadata": {},
   "outputs": [
    {
     "data": {
      "text/plain": [
       "['Primer', 'Alpha', 'Beta']"
      ]
     },
     "execution_count": 68,
     "metadata": {},
     "output_type": "execute_result"
    }
   ],
   "source": [
    "l2"
   ]
  },
  {
   "cell_type": "code",
   "execution_count": 69,
   "id": "33d9d098",
   "metadata": {},
   "outputs": [
    {
     "data": {
      "text/plain": [
       "<function list.remove(value, /)>"
      ]
     },
     "execution_count": 69,
     "metadata": {},
     "output_type": "execute_result"
    }
   ],
   "source": [
    "l2.remove"
   ]
  },
  {
   "cell_type": "code",
   "execution_count": 72,
   "id": "46d518a7",
   "metadata": {},
   "outputs": [],
   "source": [
    "l2.remove('Beta')"
   ]
  },
  {
   "cell_type": "code",
   "execution_count": 73,
   "id": "076dc177",
   "metadata": {},
   "outputs": [
    {
     "data": {
      "text/plain": [
       "['Primer', 'Alpha']"
      ]
     },
     "execution_count": 73,
     "metadata": {},
     "output_type": "execute_result"
    }
   ],
   "source": [
    "l2"
   ]
  },
  {
   "cell_type": "markdown",
   "id": "52fe57a9",
   "metadata": {},
   "source": [
    "Count Method"
   ]
  },
  {
   "cell_type": "code",
   "execution_count": 74,
   "id": "997d2932",
   "metadata": {},
   "outputs": [
    {
     "data": {
      "text/plain": [
       "<function list.count(value, /)>"
      ]
     },
     "execution_count": 74,
     "metadata": {},
     "output_type": "execute_result"
    }
   ],
   "source": [
    "a_num.count"
   ]
  },
  {
   "cell_type": "code",
   "execution_count": 76,
   "id": "ee68c523",
   "metadata": {},
   "outputs": [
    {
     "data": {
      "text/plain": [
       "['9', '7', '6', '5', '4', '2', '1']"
      ]
     },
     "execution_count": 76,
     "metadata": {},
     "output_type": "execute_result"
    }
   ],
   "source": [
    "a_num"
   ]
  },
  {
   "cell_type": "code",
   "execution_count": 77,
   "id": "4b685a0c",
   "metadata": {},
   "outputs": [
    {
     "data": {
      "text/plain": [
       "1"
      ]
     },
     "execution_count": 77,
     "metadata": {},
     "output_type": "execute_result"
    }
   ],
   "source": [
    "a_num.count('5')"
   ]
  },
  {
   "cell_type": "code",
   "execution_count": 78,
   "id": "a3aafbd6",
   "metadata": {},
   "outputs": [
    {
     "data": {
      "text/plain": [
       "1"
      ]
     },
     "execution_count": 78,
     "metadata": {},
     "output_type": "execute_result"
    }
   ],
   "source": [
    "a_num.count('2')"
   ]
  },
  {
   "cell_type": "markdown",
   "id": "e7c3c9c3",
   "metadata": {},
   "source": [
    "Copy Method"
   ]
  },
  {
   "cell_type": "code",
   "execution_count": 79,
   "id": "1cc65187",
   "metadata": {},
   "outputs": [
    {
     "data": {
      "text/plain": [
       "<function list.copy()>"
      ]
     },
     "execution_count": 79,
     "metadata": {},
     "output_type": "execute_result"
    }
   ],
   "source": [
    "b_alpha.copy"
   ]
  },
  {
   "cell_type": "code",
   "execution_count": 80,
   "id": "dbe74a7e",
   "metadata": {},
   "outputs": [
    {
     "data": {
      "text/plain": [
       "['z', 'w', 'v', 't', 's', 'r', 'o']"
      ]
     },
     "execution_count": 80,
     "metadata": {},
     "output_type": "execute_result"
    }
   ],
   "source": [
    "b_alpha.copy()"
   ]
  },
  {
   "cell_type": "code",
   "execution_count": 81,
   "id": "6b111238",
   "metadata": {},
   "outputs": [
    {
     "data": {
      "text/plain": [
       "['z', 'w', 'v', 't', 's', 'r', 'o']"
      ]
     },
     "execution_count": 81,
     "metadata": {},
     "output_type": "execute_result"
    }
   ],
   "source": [
    "b_alpha"
   ]
  },
  {
   "cell_type": "markdown",
   "id": "17183eac",
   "metadata": {},
   "source": [
    "Insert Method"
   ]
  },
  {
   "cell_type": "code",
   "execution_count": 82,
   "id": "0a2b5623",
   "metadata": {},
   "outputs": [
    {
     "data": {
      "text/plain": [
       "['Primer', 'Alpha']"
      ]
     },
     "execution_count": 82,
     "metadata": {},
     "output_type": "execute_result"
    }
   ],
   "source": [
    "l2"
   ]
  },
  {
   "cell_type": "code",
   "execution_count": 83,
   "id": "defb1340",
   "metadata": {},
   "outputs": [
    {
     "data": {
      "text/plain": [
       "<function list.insert(index, object, /)>"
      ]
     },
     "execution_count": 83,
     "metadata": {},
     "output_type": "execute_result"
    }
   ],
   "source": [
    "l2.insert"
   ]
  },
  {
   "cell_type": "code",
   "execution_count": 86,
   "id": "e5163f4e",
   "metadata": {},
   "outputs": [],
   "source": [
    "l2.insert(3, 'Beta')"
   ]
  },
  {
   "cell_type": "code",
   "execution_count": 87,
   "id": "5b166661",
   "metadata": {},
   "outputs": [
    {
     "data": {
      "text/plain": [
       "['Primer', 'Alpha', 'Beta']"
      ]
     },
     "execution_count": 87,
     "metadata": {},
     "output_type": "execute_result"
    }
   ],
   "source": [
    "l2"
   ]
  },
  {
   "cell_type": "code",
   "execution_count": 88,
   "id": "7b94836a",
   "metadata": {},
   "outputs": [],
   "source": [
    "l2.insert(4, 'Gamma')"
   ]
  },
  {
   "cell_type": "code",
   "execution_count": 89,
   "id": "88f1ffa6",
   "metadata": {},
   "outputs": [
    {
     "data": {
      "text/plain": [
       "['Primer', 'Alpha', 'Beta', 'Gamma']"
      ]
     },
     "execution_count": 89,
     "metadata": {},
     "output_type": "execute_result"
    }
   ],
   "source": [
    "l2"
   ]
  },
  {
   "cell_type": "markdown",
   "id": "0d40b37d",
   "metadata": {},
   "source": [
    "Extend Method"
   ]
  },
  {
   "cell_type": "code",
   "execution_count": 90,
   "id": "4bf4bcfc",
   "metadata": {},
   "outputs": [
    {
     "data": {
      "text/plain": [
       "<function list.extend(iterable, /)>"
      ]
     },
     "execution_count": 90,
     "metadata": {},
     "output_type": "execute_result"
    }
   ],
   "source": [
    "l2.extend"
   ]
  },
  {
   "cell_type": "code",
   "execution_count": 93,
   "id": "6a8ab47d",
   "metadata": {},
   "outputs": [],
   "source": [
    "l2.extend(\"2\")"
   ]
  },
  {
   "cell_type": "code",
   "execution_count": 94,
   "id": "938110e2",
   "metadata": {},
   "outputs": [
    {
     "data": {
      "text/plain": [
       "['Primer', 'Alpha', 'Beta', 'Gamma', '2']"
      ]
     },
     "execution_count": 94,
     "metadata": {},
     "output_type": "execute_result"
    }
   ],
   "source": [
    "l2"
   ]
  },
  {
   "cell_type": "code",
   "execution_count": 95,
   "id": "56a0a37f",
   "metadata": {},
   "outputs": [],
   "source": [
    "l2.extend('Zeta')"
   ]
  },
  {
   "cell_type": "code",
   "execution_count": 96,
   "id": "abd2cd21",
   "metadata": {},
   "outputs": [
    {
     "data": {
      "text/plain": [
       "['Primer', 'Alpha', 'Beta', 'Gamma', '2', 'Z', 'e', 't', 'a']"
      ]
     },
     "execution_count": 96,
     "metadata": {},
     "output_type": "execute_result"
    }
   ],
   "source": [
    "l2"
   ]
  },
  {
   "cell_type": "code",
   "execution_count": null,
   "id": "8bea981c",
   "metadata": {},
   "outputs": [],
   "source": []
  }
 ],
 "metadata": {
  "kernelspec": {
   "display_name": "Python 3",
   "language": "python",
   "name": "python3"
  },
  "language_info": {
   "codemirror_mode": {
    "name": "ipython",
    "version": 3
   },
   "file_extension": ".py",
   "mimetype": "text/x-python",
   "name": "python",
   "nbconvert_exporter": "python",
   "pygments_lexer": "ipython3",
   "version": "3.8.8"
  }
 },
 "nbformat": 4,
 "nbformat_minor": 5
}
