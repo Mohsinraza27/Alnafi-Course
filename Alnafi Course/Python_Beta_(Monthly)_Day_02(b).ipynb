{
 "cells": [
  {
   "cell_type": "markdown",
   "id": "2262b700",
   "metadata": {},
   "source": [
    "# Dictionaries in Python"
   ]
  },
  {
   "cell_type": "markdown",
   "id": "3e9b1430",
   "metadata": {},
   "source": [
    "• A dictionary is a collection which is unordered, changeable and \n",
    "indexed."
   ]
  },
  {
   "cell_type": "markdown",
   "id": "52fc623d",
   "metadata": {},
   "source": [
    "In Python dictionaries are written with curly brackets, and \n",
    "they have keys and values."
   ]
  },
  {
   "cell_type": "markdown",
   "id": "a37a38dc",
   "metadata": {},
   "source": [
    "Dictionaries use a key-value pairing instead \n",
    "{‘key1’:’value1,\n",
    "’key2’:’value2’}\n"
   ]
  },
  {
   "cell_type": "markdown",
   "id": "7b7710a2",
   "metadata": {},
   "source": [
    "• Dictionaries: Objects retrieved by key name.\n",
    "They are unordered and cannot be sorted."
   ]
  },
  {
   "cell_type": "code",
   "execution_count": 2,
   "id": "4623260f",
   "metadata": {},
   "outputs": [
    {
     "data": {
      "text/plain": [
       "{'daba': 'Box', 'kursi': 'Chear'}"
      ]
     },
     "execution_count": 2,
     "metadata": {},
     "output_type": "execute_result"
    }
   ],
   "source": [
    "dict1 = {\"daba\": \"Box\", \"kursi\": \"Chear\"}\n",
    "dict1"
   ]
  },
  {
   "cell_type": "code",
   "execution_count": 3,
   "id": "c46df2e2",
   "metadata": {},
   "outputs": [
    {
     "data": {
      "text/plain": [
       "'Box'"
      ]
     },
     "execution_count": 3,
     "metadata": {},
     "output_type": "execute_result"
    }
   ],
   "source": [
    "dict1[\"daba\"]"
   ]
  },
  {
   "cell_type": "code",
   "execution_count": 5,
   "id": "755d2b83",
   "metadata": {},
   "outputs": [
    {
     "data": {
      "text/plain": [
       "'Chear'"
      ]
     },
     "execution_count": 5,
     "metadata": {},
     "output_type": "execute_result"
    }
   ],
   "source": [
    "dict1[\"kursi\"]"
   ]
  },
  {
   "cell_type": "code",
   "execution_count": 6,
   "id": "4b2d709e",
   "metadata": {},
   "outputs": [
    {
     "data": {
      "text/plain": [
       "{'pencil': 120, 'copy': 160, 'box': 220}"
      ]
     },
     "execution_count": 6,
     "metadata": {},
     "output_type": "execute_result"
    }
   ],
   "source": [
    "prices = {\"pencil\":120, \"copy\":160, \"box\":220}\n",
    "prices"
   ]
  },
  {
   "cell_type": "code",
   "execution_count": 7,
   "id": "ca14c788",
   "metadata": {},
   "outputs": [
    {
     "data": {
      "text/plain": [
       "120"
      ]
     },
     "execution_count": 7,
     "metadata": {},
     "output_type": "execute_result"
    }
   ],
   "source": [
    "prices['pencil']"
   ]
  },
  {
   "cell_type": "code",
   "execution_count": 8,
   "id": "d281aa3b",
   "metadata": {},
   "outputs": [
    {
     "data": {
      "text/plain": [
       "160"
      ]
     },
     "execution_count": 8,
     "metadata": {},
     "output_type": "execute_result"
    }
   ],
   "source": [
    "prices['copy']"
   ]
  },
  {
   "cell_type": "code",
   "execution_count": 9,
   "id": "e38177d3",
   "metadata": {},
   "outputs": [
    {
     "data": {
      "text/plain": [
       "220"
      ]
     },
     "execution_count": 9,
     "metadata": {},
     "output_type": "execute_result"
    }
   ],
   "source": [
    "prices['box']"
   ]
  },
  {
   "cell_type": "code",
   "execution_count": 10,
   "id": "4816dfb6",
   "metadata": {},
   "outputs": [
    {
     "data": {
      "text/plain": [
       "{'k1': 200, 'k2': [0, 1, 3, 4, 6, 7], 'k3': {'2k': 200}}"
      ]
     },
     "execution_count": 10,
     "metadata": {},
     "output_type": "execute_result"
    }
   ],
   "source": [
    "dict2 = {'k1':200, \"k2\":[0, 1, 3, 4, 6, 7], \"k3\":{\"2k\":200}}\n",
    "dict2"
   ]
  },
  {
   "cell_type": "code",
   "execution_count": 11,
   "id": "f3d2f33c",
   "metadata": {},
   "outputs": [
    {
     "data": {
      "text/plain": [
       "200"
      ]
     },
     "execution_count": 11,
     "metadata": {},
     "output_type": "execute_result"
    }
   ],
   "source": [
    "dict2['k1']"
   ]
  },
  {
   "cell_type": "code",
   "execution_count": 12,
   "id": "af058392",
   "metadata": {},
   "outputs": [
    {
     "data": {
      "text/plain": [
       "[0, 1, 3, 4, 6, 7]"
      ]
     },
     "execution_count": 12,
     "metadata": {},
     "output_type": "execute_result"
    }
   ],
   "source": [
    "dict2['k2']"
   ]
  },
  {
   "cell_type": "code",
   "execution_count": 17,
   "id": "e6465abf",
   "metadata": {},
   "outputs": [
    {
     "data": {
      "text/plain": [
       "7"
      ]
     },
     "execution_count": 17,
     "metadata": {},
     "output_type": "execute_result"
    }
   ],
   "source": [
    "dict2['k2'][5]"
   ]
  },
  {
   "cell_type": "code",
   "execution_count": 13,
   "id": "b1a01d6d",
   "metadata": {},
   "outputs": [
    {
     "data": {
      "text/plain": [
       "{'2k': 200}"
      ]
     },
     "execution_count": 13,
     "metadata": {},
     "output_type": "execute_result"
    }
   ],
   "source": [
    "dict2['k3']"
   ]
  },
  {
   "cell_type": "code",
   "execution_count": 14,
   "id": "46a75b4f",
   "metadata": {},
   "outputs": [
    {
     "data": {
      "text/plain": [
       "200"
      ]
     },
     "execution_count": 14,
     "metadata": {},
     "output_type": "execute_result"
    }
   ],
   "source": [
    "dict2['k3']['2k']"
   ]
  },
  {
   "cell_type": "code",
   "execution_count": 18,
   "id": "75fdf57c",
   "metadata": {},
   "outputs": [
    {
     "data": {
      "text/plain": [
       "{'k1': ['Python', 'List', 'Anaconda']}"
      ]
     },
     "execution_count": 18,
     "metadata": {},
     "output_type": "execute_result"
    }
   ],
   "source": [
    "dict3 = {'k1':['Python', 'List', 'Anaconda']}\n",
    "dict3"
   ]
  },
  {
   "cell_type": "code",
   "execution_count": 19,
   "id": "5dc7e1df",
   "metadata": {},
   "outputs": [
    {
     "data": {
      "text/plain": [
       "['Python', 'List', 'Anaconda']"
      ]
     },
     "execution_count": 19,
     "metadata": {},
     "output_type": "execute_result"
    }
   ],
   "source": [
    "dict3['k1']"
   ]
  },
  {
   "cell_type": "code",
   "execution_count": 20,
   "id": "7b8d71b6",
   "metadata": {},
   "outputs": [
    {
     "data": {
      "text/plain": [
       "'Anaconda'"
      ]
     },
     "execution_count": 20,
     "metadata": {},
     "output_type": "execute_result"
    }
   ],
   "source": [
    "dict3['k1'][2]"
   ]
  },
  {
   "cell_type": "code",
   "execution_count": 21,
   "id": "0f5039db",
   "metadata": {},
   "outputs": [
    {
     "data": {
      "text/plain": [
       "'Python'"
      ]
     },
     "execution_count": 21,
     "metadata": {},
     "output_type": "execute_result"
    }
   ],
   "source": [
    "dict3['k1'][0]"
   ]
  },
  {
   "cell_type": "code",
   "execution_count": 22,
   "id": "0adce387",
   "metadata": {},
   "outputs": [],
   "source": [
    "l = dict3['k1']"
   ]
  },
  {
   "cell_type": "code",
   "execution_count": 23,
   "id": "cbb264ef",
   "metadata": {},
   "outputs": [
    {
     "data": {
      "text/plain": [
       "['Python', 'List', 'Anaconda']"
      ]
     },
     "execution_count": 23,
     "metadata": {},
     "output_type": "execute_result"
    }
   ],
   "source": [
    "l"
   ]
  },
  {
   "cell_type": "code",
   "execution_count": 24,
   "id": "bda99a2d",
   "metadata": {},
   "outputs": [],
   "source": [
    "software = l[2]"
   ]
  },
  {
   "cell_type": "code",
   "execution_count": 25,
   "id": "31bfd17f",
   "metadata": {},
   "outputs": [
    {
     "data": {
      "text/plain": [
       "'Anaconda'"
      ]
     },
     "execution_count": 25,
     "metadata": {},
     "output_type": "execute_result"
    }
   ],
   "source": [
    "software"
   ]
  },
  {
   "cell_type": "code",
   "execution_count": 26,
   "id": "e52bee60",
   "metadata": {},
   "outputs": [
    {
     "data": {
      "text/plain": [
       "'ANACONDA'"
      ]
     },
     "execution_count": 26,
     "metadata": {},
     "output_type": "execute_result"
    }
   ],
   "source": [
    "software.upper()"
   ]
  },
  {
   "cell_type": "code",
   "execution_count": 27,
   "id": "ccf9aebd",
   "metadata": {},
   "outputs": [
    {
     "data": {
      "text/plain": [
       "'ANACONDA'"
      ]
     },
     "execution_count": 27,
     "metadata": {},
     "output_type": "execute_result"
    }
   ],
   "source": [
    "dict3['k1'][2].upper()"
   ]
  },
  {
   "cell_type": "code",
   "execution_count": 28,
   "id": "ec89a913",
   "metadata": {},
   "outputs": [
    {
     "data": {
      "text/plain": [
       "'LIST'"
      ]
     },
     "execution_count": 28,
     "metadata": {},
     "output_type": "execute_result"
    }
   ],
   "source": [
    "dict3['k1'][1].upper()"
   ]
  },
  {
   "cell_type": "code",
   "execution_count": 29,
   "id": "04e288f1",
   "metadata": {},
   "outputs": [
    {
     "data": {
      "text/plain": [
       "{'pencil': 120, 'copy': 160, 'box': 220}"
      ]
     },
     "execution_count": 29,
     "metadata": {},
     "output_type": "execute_result"
    }
   ],
   "source": [
    "prices"
   ]
  },
  {
   "cell_type": "code",
   "execution_count": 30,
   "id": "0bc5569d",
   "metadata": {},
   "outputs": [],
   "source": [
    "prices['bag'] = 350"
   ]
  },
  {
   "cell_type": "code",
   "execution_count": 31,
   "id": "f5c3de84",
   "metadata": {},
   "outputs": [
    {
     "data": {
      "text/plain": [
       "{'pencil': 120, 'copy': 160, 'box': 220, 'bag': 350}"
      ]
     },
     "execution_count": 31,
     "metadata": {},
     "output_type": "execute_result"
    }
   ],
   "source": [
    "prices"
   ]
  },
  {
   "cell_type": "code",
   "execution_count": 32,
   "id": "d70965f3",
   "metadata": {},
   "outputs": [
    {
     "data": {
      "text/plain": [
       "{'pencil': 120, 'copy': 160, 'box': 220, 'bag': 350, 'cycle': 7500}"
      ]
     },
     "execution_count": 32,
     "metadata": {},
     "output_type": "execute_result"
    }
   ],
   "source": [
    "prices['cycle'] = 7500\n",
    "prices"
   ]
  },
  {
   "cell_type": "markdown",
   "id": "ea0ffa7c",
   "metadata": {},
   "source": [
    "Dictionary Methods"
   ]
  },
  {
   "cell_type": "code",
   "execution_count": 33,
   "id": "96035461",
   "metadata": {},
   "outputs": [
    {
     "data": {
      "text/plain": [
       "dict_keys(['pencil', 'copy', 'box', 'bag', 'cycle'])"
      ]
     },
     "execution_count": 33,
     "metadata": {},
     "output_type": "execute_result"
    }
   ],
   "source": [
    "prices.keys()"
   ]
  },
  {
   "cell_type": "code",
   "execution_count": 34,
   "id": "4d24caee",
   "metadata": {},
   "outputs": [
    {
     "data": {
      "text/plain": [
       "dict_values([120, 160, 220, 350, 7500])"
      ]
     },
     "execution_count": 34,
     "metadata": {},
     "output_type": "execute_result"
    }
   ],
   "source": [
    "prices.values()"
   ]
  },
  {
   "cell_type": "code",
   "execution_count": 35,
   "id": "72aa93ec",
   "metadata": {},
   "outputs": [
    {
     "data": {
      "text/plain": [
       "dict_items([('pencil', 120), ('copy', 160), ('box', 220), ('bag', 350), ('cycle', 7500)])"
      ]
     },
     "execution_count": 35,
     "metadata": {},
     "output_type": "execute_result"
    }
   ],
   "source": [
    "prices.items()"
   ]
  },
  {
   "cell_type": "code",
   "execution_count": 36,
   "id": "4bbb6581",
   "metadata": {},
   "outputs": [
    {
     "data": {
      "text/plain": [
       "<function dict.get(key, default=None, /)>"
      ]
     },
     "execution_count": 36,
     "metadata": {},
     "output_type": "execute_result"
    }
   ],
   "source": [
    "prices.get"
   ]
  },
  {
   "cell_type": "code",
   "execution_count": 40,
   "id": "605b6b32",
   "metadata": {},
   "outputs": [
    {
     "data": {
      "text/plain": [
       "220"
      ]
     },
     "execution_count": 40,
     "metadata": {},
     "output_type": "execute_result"
    }
   ],
   "source": [
    "prices.get('box')"
   ]
  },
  {
   "cell_type": "code",
   "execution_count": 41,
   "id": "951e9415",
   "metadata": {},
   "outputs": [
    {
     "data": {
      "text/plain": [
       "7500"
      ]
     },
     "execution_count": 41,
     "metadata": {},
     "output_type": "execute_result"
    }
   ],
   "source": [
    "prices.get('cycle')"
   ]
  },
  {
   "cell_type": "code",
   "execution_count": 42,
   "id": "003568e7",
   "metadata": {},
   "outputs": [
    {
     "data": {
      "text/plain": [
       "<function dict.update>"
      ]
     },
     "execution_count": 42,
     "metadata": {},
     "output_type": "execute_result"
    }
   ],
   "source": [
    "prices.update"
   ]
  },
  {
   "cell_type": "code",
   "execution_count": 46,
   "id": "6040bf09",
   "metadata": {},
   "outputs": [],
   "source": [
    "prices.update()"
   ]
  },
  {
   "cell_type": "code",
   "execution_count": 44,
   "id": "581ad921",
   "metadata": {},
   "outputs": [
    {
     "data": {
      "text/plain": [
       "{'pencil': 120, 'copy': 160, 'box': 220, 'bag': 350, 'cycle': 7500}"
      ]
     },
     "execution_count": 44,
     "metadata": {},
     "output_type": "execute_result"
    }
   ],
   "source": [
    "prices"
   ]
  },
  {
   "cell_type": "code",
   "execution_count": null,
   "id": "b63a4e53",
   "metadata": {},
   "outputs": [],
   "source": []
  }
 ],
 "metadata": {
  "kernelspec": {
   "display_name": "Python 3",
   "language": "python",
   "name": "python3"
  },
  "language_info": {
   "codemirror_mode": {
    "name": "ipython",
    "version": 3
   },
   "file_extension": ".py",
   "mimetype": "text/x-python",
   "name": "python",
   "nbconvert_exporter": "python",
   "pygments_lexer": "ipython3",
   "version": "3.8.8"
  }
 },
 "nbformat": 4,
 "nbformat_minor": 5
}
