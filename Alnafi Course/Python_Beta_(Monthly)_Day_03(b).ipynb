{
 "cells": [
  {
   "cell_type": "markdown",
   "id": "c17473ad",
   "metadata": {},
   "source": [
    "# Input and Output in Python\n"
   ]
  },
  {
   "cell_type": "markdown",
   "id": "6bce67d1",
   "metadata": {},
   "source": [
    "• There are several ways to present the output of a program; data can \n",
    "be printed in a human-readable form, or written to a file for future \n",
    "use. The same applies to video files, word files, and or any kind of \n",
    "files to be used at a later stage with respect to ML, DL, AI and DS."
   ]
  },
  {
   "cell_type": "code",
   "execution_count": 3,
   "id": "e3ad9e78",
   "metadata": {},
   "outputs": [
    {
     "name": "stdout",
     "output_type": "stream",
     "text": [
      "Writing myfile.txt\n"
     ]
    }
   ],
   "source": [
    "%%writefile myfile.txt\n",
    "This is a file about the input and output fuctions in Python\n",
    "There are several ways to present the output of a program; data can \n",
    "be printed in a human-readable form, or written to a file for future \n",
    "use. The same applies to video files, word files, and or any kind of \n",
    "files to be used at a later stage with respect to ML, DL, AI and DS."
   ]
  },
  {
   "cell_type": "code",
   "execution_count": 4,
   "id": "94a9661c",
   "metadata": {},
   "outputs": [],
   "source": [
    "myfile = open('myfile.txt')"
   ]
  },
  {
   "cell_type": "code",
   "execution_count": 5,
   "id": "20c244d7",
   "metadata": {},
   "outputs": [
    {
     "data": {
      "text/plain": [
       "'This is a file about the input and output fuctions in Python\\nThere are several ways to present the output of a program; data can \\nbe printed in a human-readable form, or written to a file for future \\nuse. The same applies to video files, word files, and or any kind of \\nfiles to be used at a later stage with respect to ML, DL, AI and DS.\\n'"
      ]
     },
     "execution_count": 5,
     "metadata": {},
     "output_type": "execute_result"
    }
   ],
   "source": [
    "myfile.read()"
   ]
  },
  {
   "cell_type": "code",
   "execution_count": 6,
   "id": "899961d5",
   "metadata": {},
   "outputs": [
    {
     "data": {
      "text/plain": [
       "''"
      ]
     },
     "execution_count": 6,
     "metadata": {},
     "output_type": "execute_result"
    }
   ],
   "source": [
    "myfile.read()"
   ]
  },
  {
   "cell_type": "code",
   "execution_count": 7,
   "id": "edb54a04",
   "metadata": {},
   "outputs": [
    {
     "data": {
      "text/plain": [
       "0"
      ]
     },
     "execution_count": 7,
     "metadata": {},
     "output_type": "execute_result"
    }
   ],
   "source": [
    "myfile.seek(0)"
   ]
  },
  {
   "cell_type": "code",
   "execution_count": 8,
   "id": "46630ba8",
   "metadata": {},
   "outputs": [
    {
     "data": {
      "text/plain": [
       "'This is a file about the input and output fuctions in Python\\nThere are several ways to present the output of a program; data can \\nbe printed in a human-readable form, or written to a file for future \\nuse. The same applies to video files, word files, and or any kind of \\nfiles to be used at a later stage with respect to ML, DL, AI and DS.\\n'"
      ]
     },
     "execution_count": 8,
     "metadata": {},
     "output_type": "execute_result"
    }
   ],
   "source": [
    "myfile.read()"
   ]
  },
  {
   "cell_type": "code",
   "execution_count": 9,
   "id": "e4f06dd9",
   "metadata": {},
   "outputs": [
    {
     "data": {
      "text/plain": [
       "''"
      ]
     },
     "execution_count": 9,
     "metadata": {},
     "output_type": "execute_result"
    }
   ],
   "source": [
    "myfile.read()"
   ]
  },
  {
   "cell_type": "code",
   "execution_count": 10,
   "id": "d9101d7a",
   "metadata": {},
   "outputs": [
    {
     "data": {
      "text/plain": [
       "0"
      ]
     },
     "execution_count": 10,
     "metadata": {},
     "output_type": "execute_result"
    }
   ],
   "source": [
    "myfile.seek(0)"
   ]
  },
  {
   "cell_type": "code",
   "execution_count": 11,
   "id": "43a3757e",
   "metadata": {},
   "outputs": [
    {
     "data": {
      "text/plain": [
       "'This is a file about the input and output fuctions in Python\\n'"
      ]
     },
     "execution_count": 11,
     "metadata": {},
     "output_type": "execute_result"
    }
   ],
   "source": [
    "myfile.readline()"
   ]
  },
  {
   "cell_type": "code",
   "execution_count": 12,
   "id": "87694142",
   "metadata": {},
   "outputs": [
    {
     "data": {
      "text/plain": [
       "['There are several ways to present the output of a program; data can \\n',\n",
       " 'be printed in a human-readable form, or written to a file for future \\n',\n",
       " 'use. The same applies to video files, word files, and or any kind of \\n',\n",
       " 'files to be used at a later stage with respect to ML, DL, AI and DS.\\n']"
      ]
     },
     "execution_count": 12,
     "metadata": {},
     "output_type": "execute_result"
    }
   ],
   "source": [
    "myfile.readlines()"
   ]
  },
  {
   "cell_type": "code",
   "execution_count": 13,
   "id": "aacfb5aa",
   "metadata": {},
   "outputs": [
    {
     "data": {
      "text/plain": [
       "'C:\\\\Users\\\\razat'"
      ]
     },
     "execution_count": 13,
     "metadata": {},
     "output_type": "execute_result"
    }
   ],
   "source": [
    "pwd"
   ]
  },
  {
   "cell_type": "code",
   "execution_count": 14,
   "id": "7b606538",
   "metadata": {},
   "outputs": [
    {
     "ename": "SyntaxError",
     "evalue": "unexpected character after line continuation character (<ipython-input-14-11a20aae3b22>, line 1)",
     "output_type": "error",
     "traceback": [
      "\u001b[1;36m  File \u001b[1;32m\"<ipython-input-14-11a20aae3b22>\"\u001b[1;36m, line \u001b[1;32m1\u001b[0m\n\u001b[1;33m    c:\\Users\\razat\u001b[0m\n\u001b[1;37m                  ^\u001b[0m\n\u001b[1;31mSyntaxError\u001b[0m\u001b[1;31m:\u001b[0m unexpected character after line continuation character\n"
     ]
    }
   ],
   "source": [
    "c:\\Users\\razat"
   ]
  },
  {
   "cell_type": "code",
   "execution_count": null,
   "id": "dd0e0141",
   "metadata": {},
   "outputs": [],
   "source": []
  }
 ],
 "metadata": {
  "kernelspec": {
   "display_name": "Python 3",
   "language": "python",
   "name": "python3"
  },
  "language_info": {
   "codemirror_mode": {
    "name": "ipython",
    "version": 3
   },
   "file_extension": ".py",
   "mimetype": "text/x-python",
   "name": "python",
   "nbconvert_exporter": "python",
   "pygments_lexer": "ipython3",
   "version": "3.8.8"
  }
 },
 "nbformat": 4,
 "nbformat_minor": 5
}
