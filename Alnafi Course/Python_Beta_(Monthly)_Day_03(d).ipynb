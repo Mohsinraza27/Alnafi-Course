{
 "cells": [
  {
   "cell_type": "markdown",
   "id": "240813cf",
   "metadata": {},
   "source": [
    "# If, Elif and Else in Python"
   ]
  },
  {
   "cell_type": "markdown",
   "id": "23170a52",
   "metadata": {},
   "source": [
    "The if..else statement evaluates test expression and will execute \n",
    "body of if only when test condition is True . If the condition is \n",
    "False , body of else is executed. Indentation is used to separate \n",
    "the blocks."
   ]
  },
  {
   "cell_type": "markdown",
   "id": "16483210",
   "metadata": {},
   "source": [
    "The key statements are \n",
    "if,\n",
    "elif,\n",
    "else.\n"
   ]
  },
  {
   "cell_type": "code",
   "execution_count": 5,
   "id": "00c00798",
   "metadata": {},
   "outputs": [
    {
     "name": "stdout",
     "output_type": "stream",
     "text": [
      "This is False\n"
     ]
    }
   ],
   "source": [
    "tired = False\n",
    "if tired:\n",
    "    print(\"This is True\")\n",
    "else: \n",
    "    print(\"This is False\")"
   ]
  },
  {
   "cell_type": "code",
   "execution_count": 6,
   "id": "e3188e1a",
   "metadata": {},
   "outputs": [
    {
     "name": "stdout",
     "output_type": "stream",
     "text": [
      "This is True\n"
     ]
    }
   ],
   "source": [
    "tired = True\n",
    "if tired:\n",
    "    print(\"This is True\")\n",
    "else: \n",
    "    print(\"This is False\")"
   ]
  },
  {
   "cell_type": "code",
   "execution_count": 7,
   "id": "91facb7d",
   "metadata": {},
   "outputs": [
    {
     "name": "stdout",
     "output_type": "stream",
     "text": [
      "This is False\n"
     ]
    }
   ],
   "source": [
    "tired = False\n",
    "if tired == True:\n",
    "    print(\"This is True\")\n",
    "else: \n",
    "    print(\"This is False\")"
   ]
  },
  {
   "cell_type": "code",
   "execution_count": 8,
   "id": "2a80cf6e",
   "metadata": {},
   "outputs": [
    {
     "name": "stdout",
     "output_type": "stream",
     "text": [
      "This is True\n"
     ]
    }
   ],
   "source": [
    "tired = True\n",
    "if tired == True:\n",
    "    print(\"This is True\")\n",
    "else: \n",
    "    print(\"This is False\")"
   ]
  },
  {
   "cell_type": "code",
   "execution_count": 9,
   "id": "9b1b622e",
   "metadata": {},
   "outputs": [
    {
     "name": "stdout",
     "output_type": "stream",
     "text": [
      "Pray your salah!\n"
     ]
    }
   ],
   "source": [
    "location = 'Masjid'\n",
    "if location == 'Masjid':\n",
    "    print(\"Pray your salah!\")\n",
    "else:\n",
    "    print(\"Come back home!\")"
   ]
  },
  {
   "cell_type": "code",
   "execution_count": 10,
   "id": "f8e21dac",
   "metadata": {},
   "outputs": [
    {
     "name": "stdout",
     "output_type": "stream",
     "text": [
      "Come back home!\n"
     ]
    }
   ],
   "source": [
    "location = 'Park'\n",
    "if location == 'Masjid':\n",
    "    print(\"Pray your salah!\")\n",
    "else:\n",
    "    print(\"Come back home!\")"
   ]
  },
  {
   "cell_type": "code",
   "execution_count": 11,
   "id": "d4ebd21b",
   "metadata": {},
   "outputs": [
    {
     "name": "stdout",
     "output_type": "stream",
     "text": [
      "Pray your salah!\n"
     ]
    }
   ],
   "source": [
    "location = 'Masjid'\n",
    "if location == 'Masjid':\n",
    "    print(\"Pray your salah!\")\n",
    "elif location == \"restaurant\":\n",
    "    print(\"Eat at sharfoo's restaurant!\")\n",
    "elif location == \"Park\":\n",
    "    print(\"what are you doing in park, come back to home!\")\n",
    "elif location == \"bakery\":\n",
    "    print(\"Buy some eggs as they are on discount!\")\n",
    "else:\n",
    "    print(\"Come back home!\")"
   ]
  },
  {
   "cell_type": "code",
   "execution_count": 12,
   "id": "c8264b25",
   "metadata": {},
   "outputs": [
    {
     "name": "stdout",
     "output_type": "stream",
     "text": [
      "what are you doing in park, come back to home!\n"
     ]
    }
   ],
   "source": [
    "location = 'Park'\n",
    "if location == 'Masjid':\n",
    "    print(\"Pray your salah!\")\n",
    "elif location == \"restaurant\":\n",
    "    print(\"Eat at sharfoo's restaurant!\")\n",
    "elif location == \"Park\":\n",
    "    print(\"what are you doing in park, come back to home!\")\n",
    "elif location == \"bakery\":\n",
    "    print(\"Buy some eggs as they are on discount!\")\n",
    "else:\n",
    "    print(\"Come back home!\")"
   ]
  },
  {
   "cell_type": "code",
   "execution_count": 13,
   "id": "9f732ac7",
   "metadata": {},
   "outputs": [
    {
     "name": "stdout",
     "output_type": "stream",
     "text": [
      "Eat at sharfoo's restaurant!\n"
     ]
    }
   ],
   "source": [
    "location = 'restaurant'\n",
    "if location == 'Masjid':\n",
    "    print(\"Pray your salah!\")\n",
    "elif location == \"restaurant\":\n",
    "    print(\"Eat at sharfoo's restaurant!\")\n",
    "elif location == \"Park\":\n",
    "    print(\"what are you doing in park, come back to home!\")\n",
    "elif location == \"bakery\":\n",
    "    print(\"Buy some eggs as they are on discount!\")\n",
    "else:\n",
    "    print(\"Come back home!\")"
   ]
  },
  {
   "cell_type": "code",
   "execution_count": 14,
   "id": "81945725",
   "metadata": {},
   "outputs": [
    {
     "name": "stdout",
     "output_type": "stream",
     "text": [
      "Buy some eggs as they are on discount!\n"
     ]
    }
   ],
   "source": [
    "location = 'bakery'\n",
    "if location == 'Masjid':\n",
    "    print(\"Pray your salah!\")\n",
    "elif location == \"restaurant\":\n",
    "    print(\"Eat at sharfoo's restaurant!\")\n",
    "elif location == \"Park\":\n",
    "    print(\"what are you doing in park, come back to home!\")\n",
    "elif location == \"bakery\":\n",
    "    print(\"Buy some eggs as they are on discount!\")\n",
    "else:\n",
    "    print(\"Come back home!\")"
   ]
  },
  {
   "cell_type": "code",
   "execution_count": 15,
   "id": "c732eb2f",
   "metadata": {},
   "outputs": [
    {
     "name": "stdout",
     "output_type": "stream",
     "text": [
      "Come back home!\n"
     ]
    }
   ],
   "source": [
    "location = 'garden'\n",
    "if location == 'Masjid':\n",
    "    print(\"Pray your salah!\")\n",
    "elif location == \"restaurant\":\n",
    "    print(\"Eat at sharfoo's restaurant!\")\n",
    "elif location == \"Park\":\n",
    "    print(\"what are you doing in park, come back to home!\")\n",
    "elif location == \"bakery\":\n",
    "    print(\"Buy some eggs as they are on discount!\")\n",
    "else:\n",
    "    print(\"Come back home!\")"
   ]
  },
  {
   "cell_type": "code",
   "execution_count": null,
   "id": "f757c5b4",
   "metadata": {},
   "outputs": [],
   "source": []
  }
 ],
 "metadata": {
  "kernelspec": {
   "display_name": "Python 3",
   "language": "python",
   "name": "python3"
  },
  "language_info": {
   "codemirror_mode": {
    "name": "ipython",
    "version": 3
   },
   "file_extension": ".py",
   "mimetype": "text/x-python",
   "name": "python",
   "nbconvert_exporter": "python",
   "pygments_lexer": "ipython3",
   "version": "3.8.8"
  }
 },
 "nbformat": 4,
 "nbformat_minor": 5
}
