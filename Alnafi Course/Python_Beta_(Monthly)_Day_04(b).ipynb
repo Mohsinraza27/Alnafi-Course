{
 "cells": [
  {
   "cell_type": "markdown",
   "id": "3dfd148a",
   "metadata": {},
   "source": [
    "# Functions in Python"
   ]
  },
  {
   "cell_type": "markdown",
   "id": "2cf69077",
   "metadata": {},
   "source": [
    "You define a method as a combination of 'def' statement and return statement, including your code block in between."
   ]
  },
  {
   "cell_type": "markdown",
   "id": "870e0b0a",
   "metadata": {},
   "source": [
    "Suppose, If you were to write code that takes one integer argument and returns 'TRUE' If the number is 'Even' and 'FALSE' If the number is 'Odd', You can do so using the following Methods......."
   ]
  },
  {
   "cell_type": "code",
   "execution_count": 1,
   "id": "d801409b",
   "metadata": {},
   "outputs": [],
   "source": [
    "def is_even(number):\n",
    "    if number % 2 == 0:\n",
    "        return True\n",
    "    else:\n",
    "        return False"
   ]
  },
  {
   "cell_type": "code",
   "execution_count": 2,
   "id": "dd8a152e",
   "metadata": {},
   "outputs": [
    {
     "data": {
      "text/plain": [
       "False"
      ]
     },
     "execution_count": 2,
     "metadata": {},
     "output_type": "execute_result"
    }
   ],
   "source": [
    "is_even(5)"
   ]
  },
  {
   "cell_type": "code",
   "execution_count": 3,
   "id": "20566a68",
   "metadata": {},
   "outputs": [
    {
     "data": {
      "text/plain": [
       "True"
      ]
     },
     "execution_count": 3,
     "metadata": {},
     "output_type": "execute_result"
    }
   ],
   "source": [
    "is_even(8)"
   ]
  },
  {
   "cell_type": "code",
   "execution_count": 4,
   "id": "e1546dd4",
   "metadata": {},
   "outputs": [
    {
     "data": {
      "text/plain": [
       "False"
      ]
     },
     "execution_count": 4,
     "metadata": {},
     "output_type": "execute_result"
    }
   ],
   "source": [
    "is_even(13)"
   ]
  },
  {
   "cell_type": "code",
   "execution_count": 5,
   "id": "3ab37553",
   "metadata": {},
   "outputs": [
    {
     "data": {
      "text/plain": [
       "True"
      ]
     },
     "execution_count": 5,
     "metadata": {},
     "output_type": "execute_result"
    }
   ],
   "source": [
    "is_even(14)"
   ]
  },
  {
   "cell_type": "code",
   "execution_count": 9,
   "id": "83e96977",
   "metadata": {},
   "outputs": [],
   "source": [
    "def is_even(number):\n",
    "    if number%2 == 0 and number != 0:\n",
    "        print(f\"This {number} is an Even Number.\")\n",
    "    elif number%2 != 0:\n",
    "        print(f\"This {number} is an Odd Number.\")\n",
    "    else:\n",
    "        print(\"This {number} is Zero!\")"
   ]
  },
  {
   "cell_type": "code",
   "execution_count": 10,
   "id": "94f0d46a",
   "metadata": {},
   "outputs": [
    {
     "name": "stdout",
     "output_type": "stream",
     "text": [
      "This 24 is an Even Number.\n"
     ]
    }
   ],
   "source": [
    "is_even(24)"
   ]
  },
  {
   "cell_type": "code",
   "execution_count": 11,
   "id": "4be7d2fc",
   "metadata": {},
   "outputs": [
    {
     "name": "stdout",
     "output_type": "stream",
     "text": [
      "This 23 is an Odd Number.\n"
     ]
    }
   ],
   "source": [
    "is_even(23)"
   ]
  },
  {
   "cell_type": "code",
   "execution_count": 12,
   "id": "6eac8258",
   "metadata": {},
   "outputs": [
    {
     "name": "stdout",
     "output_type": "stream",
     "text": [
      "This 100 is an Even Number.\n"
     ]
    }
   ],
   "source": [
    "is_even(100)"
   ]
  },
  {
   "cell_type": "code",
   "execution_count": 13,
   "id": "7f08c3bc",
   "metadata": {},
   "outputs": [
    {
     "name": "stdout",
     "output_type": "stream",
     "text": [
      "This 115 is an Odd Number.\n"
     ]
    }
   ],
   "source": [
    "is_even(115)"
   ]
  },
  {
   "cell_type": "code",
   "execution_count": 14,
   "id": "314c15cf",
   "metadata": {},
   "outputs": [],
   "source": [
    "names = [\"Mohsin\", \"Ali\", \"Raza\", \"Ahmed\"]"
   ]
  },
  {
   "cell_type": "code",
   "execution_count": 16,
   "id": "0a78f4b7",
   "metadata": {},
   "outputs": [
    {
     "data": {
      "text/plain": [
       "range(0, 4)"
      ]
     },
     "execution_count": 16,
     "metadata": {},
     "output_type": "execute_result"
    }
   ],
   "source": [
    "range(len(names))"
   ]
  },
  {
   "cell_type": "code",
   "execution_count": 18,
   "id": "136459f0",
   "metadata": {},
   "outputs": [],
   "source": [
    "for i in range(len(names)):\n",
    "    names[i] = 'Mr.' + names[i]"
   ]
  },
  {
   "cell_type": "code",
   "execution_count": 19,
   "id": "085d8278",
   "metadata": {},
   "outputs": [
    {
     "data": {
      "text/plain": [
       "['Mr.Mohsin', 'Mr.Ali', 'Mr.Raza', 'Mr.Ahmed']"
      ]
     },
     "execution_count": 19,
     "metadata": {},
     "output_type": "execute_result"
    }
   ],
   "source": [
    "names"
   ]
  },
  {
   "cell_type": "code",
   "execution_count": 20,
   "id": "a3660566",
   "metadata": {},
   "outputs": [],
   "source": [
    "nm = [\"Primer\", \"Alpha\", \"Beta\", \"Gamma\"]"
   ]
  },
  {
   "cell_type": "code",
   "execution_count": 21,
   "id": "21e075ae",
   "metadata": {},
   "outputs": [
    {
     "data": {
      "text/plain": [
       "['Primer', 'Alpha', 'Beta', 'Gamma']"
      ]
     },
     "execution_count": 21,
     "metadata": {},
     "output_type": "execute_result"
    }
   ],
   "source": [
    "nm"
   ]
  },
  {
   "cell_type": "code",
   "execution_count": 22,
   "id": "aa7e5d72",
   "metadata": {},
   "outputs": [],
   "source": [
    "for i in range(len(nm)):\n",
    "    nm[i] = \"Basic.\" + nm[i]"
   ]
  },
  {
   "cell_type": "code",
   "execution_count": 23,
   "id": "6669f4e4",
   "metadata": {},
   "outputs": [
    {
     "data": {
      "text/plain": [
       "['Basic.Primer', 'Basic.Alpha', 'Basic.Beta', 'Basic.Gamma']"
      ]
     },
     "execution_count": 23,
     "metadata": {},
     "output_type": "execute_result"
    }
   ],
   "source": [
    "nm"
   ]
  },
  {
   "cell_type": "code",
   "execution_count": 8,
   "id": "cba3f756",
   "metadata": {},
   "outputs": [],
   "source": [
    "def my_friends(friend_name):\n",
    "    print(my_friends)"
   ]
  },
  {
   "cell_type": "code",
   "execution_count": 9,
   "id": "613f7b55",
   "metadata": {},
   "outputs": [
    {
     "ename": "TypeError",
     "evalue": "my_friends() takes 1 positional argument but 2 were given",
     "output_type": "error",
     "traceback": [
      "\u001b[1;31m---------------------------------------------------------------------------\u001b[0m",
      "\u001b[1;31mTypeError\u001b[0m                                 Traceback (most recent call last)",
      "\u001b[1;32m<ipython-input-9-bdd973c70b3a>\u001b[0m in \u001b[0;36m<module>\u001b[1;34m\u001b[0m\n\u001b[1;32m----> 1\u001b[1;33m \u001b[0mmy_friends\u001b[0m\u001b[1;33m(\u001b[0m\u001b[1;34m'Ali'\u001b[0m\u001b[1;33m,\u001b[0m \u001b[1;34m'9'\u001b[0m\u001b[1;33m)\u001b[0m\u001b[1;33m\u001b[0m\u001b[1;33m\u001b[0m\u001b[0m\n\u001b[0m",
      "\u001b[1;31mTypeError\u001b[0m: my_friends() takes 1 positional argument but 2 were given"
     ]
    }
   ],
   "source": [
    "my_friends('Ali', '9')"
   ]
  },
  {
   "cell_type": "code",
   "execution_count": null,
   "id": "3b68faa6",
   "metadata": {},
   "outputs": [],
   "source": []
  }
 ],
 "metadata": {
  "kernelspec": {
   "display_name": "Python 3",
   "language": "python",
   "name": "python3"
  },
  "language_info": {
   "codemirror_mode": {
    "name": "ipython",
    "version": 3
   },
   "file_extension": ".py",
   "mimetype": "text/x-python",
   "name": "python",
   "nbconvert_exporter": "python",
   "pygments_lexer": "ipython3",
   "version": "3.8.8"
  }
 },
 "nbformat": 4,
 "nbformat_minor": 5
}
