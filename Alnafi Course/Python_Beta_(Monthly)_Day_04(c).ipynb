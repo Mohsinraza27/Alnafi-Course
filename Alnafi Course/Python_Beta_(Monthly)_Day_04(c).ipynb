{
 "cells": [
  {
   "cell_type": "markdown",
   "id": "42cfbb54",
   "metadata": {},
   "source": [
    "# Error Handling in Python"
   ]
  },
  {
   "cell_type": "markdown",
   "id": "b02d3abb",
   "metadata": {},
   "source": [
    "Sometimes, we are not sure of what values we might get for a variable."
   ]
  },
  {
   "cell_type": "markdown",
   "id": "b1a277b2",
   "metadata": {},
   "source": [
    "For instance, If we had the following code, a value of zero might through an error: 3/0 "
   ]
  },
  {
   "cell_type": "markdown",
   "id": "3d172acf",
   "metadata": {},
   "source": [
    "'FileNotFoundError',    'ZeroDivisonError',    'IndexError',    'KeyError',    'ImportError',    'TypeError',    'ValueError',    'NameError',    'SyntaxError', and etc...   "
   ]
  },
  {
   "cell_type": "markdown",
   "id": "c50deac0",
   "metadata": {},
   "source": [
    "There are various kind of errors and different situations under which they arise. If it were 200th or something line of a very complex code, this would be really troublesome since Python would end execution here."
   ]
  },
  {
   "cell_type": "markdown",
   "id": "9b118876",
   "metadata": {},
   "source": [
    "Python comes with a 'try-except' clause that is used for 'error-handling'."
   ]
  },
  {
   "cell_type": "markdown",
   "id": "0939b0d6",
   "metadata": {},
   "source": [
    "In the 'try' code-block, You enter code that might encounter an error. In the 'except' code-block, you enter the code that should be executed If error is encountered in the try block."
   ]
  },
  {
   "cell_type": "code",
   "execution_count": 1,
   "id": "a50df81f",
   "metadata": {},
   "outputs": [
    {
     "ename": "ZeroDivisionError",
     "evalue": "division by zero",
     "output_type": "error",
     "traceback": [
      "\u001b[1;31m---------------------------------------------------------------------------\u001b[0m",
      "\u001b[1;31mZeroDivisionError\u001b[0m                         Traceback (most recent call last)",
      "\u001b[1;32m<ipython-input-1-f6cc6d14333b>\u001b[0m in \u001b[0;36m<module>\u001b[1;34m\u001b[0m\n\u001b[1;32m----> 1\u001b[1;33m \u001b[1;36m3\u001b[0m\u001b[1;33m/\u001b[0m\u001b[1;36m0\u001b[0m\u001b[1;33m\u001b[0m\u001b[1;33m\u001b[0m\u001b[0m\n\u001b[0m",
      "\u001b[1;31mZeroDivisionError\u001b[0m: division by zero"
     ]
    }
   ],
   "source": [
    "3/0"
   ]
  },
  {
   "cell_type": "code",
   "execution_count": 2,
   "id": "bb3d9ea3",
   "metadata": {},
   "outputs": [
    {
     "name": "stdout",
     "output_type": "stream",
     "text": [
      "Make sure you write a correct number, don't write number '0'\n"
     ]
    }
   ],
   "source": [
    "num = 0\n",
    "try:\n",
    "    value = 3/num\n",
    "except ZeroDivisionError:\n",
    "    print(\"Make sure you write a correct number, don't write number '0'\")"
   ]
  },
  {
   "cell_type": "markdown",
   "id": "0259f9e0",
   "metadata": {},
   "source": [
    "The above code block does not break and continues execution even If the divisor is Zero."
   ]
  },
  {
   "cell_type": "code",
   "execution_count": 6,
   "id": "54fc4993",
   "metadata": {},
   "outputs": [
    {
     "name": "stdout",
     "output_type": "stream",
     "text": [
      "The length of list is:  5\n",
      "The code has executed!\n"
     ]
    }
   ],
   "source": [
    "num = [1, 2, 3, 4, 5]\n",
    "print(\"The length of list is: \", len(num))\n",
    "print(\"The code has executed!\")\n"
   ]
  },
  {
   "cell_type": "code",
   "execution_count": 7,
   "id": "520bb653",
   "metadata": {},
   "outputs": [
    {
     "ename": "IndexError",
     "evalue": "list index out of range",
     "output_type": "error",
     "traceback": [
      "\u001b[1;31m---------------------------------------------------------------------------\u001b[0m",
      "\u001b[1;31mIndexError\u001b[0m                                Traceback (most recent call last)",
      "\u001b[1;32m<ipython-input-7-dcbee1e4c682>\u001b[0m in \u001b[0;36m<module>\u001b[1;34m\u001b[0m\n\u001b[1;32m----> 1\u001b[1;33m \u001b[0mnum\u001b[0m\u001b[1;33m[\u001b[0m\u001b[1;36m5\u001b[0m\u001b[1;33m]\u001b[0m\u001b[1;33m\u001b[0m\u001b[1;33m\u001b[0m\u001b[0m\n\u001b[0m",
      "\u001b[1;31mIndexError\u001b[0m: list index out of range"
     ]
    }
   ],
   "source": [
    "num[5]"
   ]
  },
  {
   "cell_type": "markdown",
   "id": "1a0ad8fc",
   "metadata": {},
   "source": [
    "If you do the same now, but inside a 'try-catch' statement, You can control what your code deos when If runs into an index error."
   ]
  },
  {
   "cell_type": "code",
   "execution_count": 8,
   "id": "ac0799c9",
   "metadata": {},
   "outputs": [
    {
     "name": "stdout",
     "output_type": "stream",
     "text": [
      "The index you used is invalid!\n",
      "The code is executed!\n"
     ]
    }
   ],
   "source": [
    "try:\n",
    "    num[5]\n",
    "except IndexError:\n",
    "    print(\"The index you used is invalid!\")\n",
    "print(\"The code is executed!\")\n",
    "        "
   ]
  },
  {
   "cell_type": "code",
   "execution_count": null,
   "id": "7f8d190c",
   "metadata": {},
   "outputs": [],
   "source": []
  },
  {
   "cell_type": "code",
   "execution_count": null,
   "id": "9a4c3c8e",
   "metadata": {},
   "outputs": [],
   "source": []
  }
 ],
 "metadata": {
  "kernelspec": {
   "display_name": "Python 3",
   "language": "python",
   "name": "python3"
  },
  "language_info": {
   "codemirror_mode": {
    "name": "ipython",
    "version": 3
   },
   "file_extension": ".py",
   "mimetype": "text/x-python",
   "name": "python",
   "nbconvert_exporter": "python",
   "pygments_lexer": "ipython3",
   "version": "3.8.8"
  }
 },
 "nbformat": 4,
 "nbformat_minor": 5
}
