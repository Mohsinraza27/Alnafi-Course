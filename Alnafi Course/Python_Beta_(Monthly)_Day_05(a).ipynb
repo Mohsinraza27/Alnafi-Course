{
 "cells": [
  {
   "cell_type": "markdown",
   "id": "04cc131c",
   "metadata": {},
   "source": [
    "# Functions and Error Handling"
   ]
  },
  {
   "cell_type": "markdown",
   "id": "3eca5ff0",
   "metadata": {},
   "source": [
    "Let's create a method that uses \"error handling\" to ensure the input types are valid. "
   ]
  },
  {
   "cell_type": "markdown",
   "id": "d62d560a",
   "metadata": {},
   "source": [
    "An assert statement checks for validity of a condition. For instance, If we had a input variable year, we can check using assert statement whether the types of year is in fact integer or not."
   ]
  },
  {
   "cell_type": "code",
   "execution_count": 1,
   "id": "377bbb4b",
   "metadata": {},
   "outputs": [],
   "source": [
    "def check_type(year):\n",
    "    assert type(year) == int, 'The type of year is not intiger'\n",
    "    print(\"The type of year is valid!\")\n",
    "    return True"
   ]
  },
  {
   "cell_type": "code",
   "execution_count": 3,
   "id": "cac89560",
   "metadata": {},
   "outputs": [
    {
     "name": "stdout",
     "output_type": "stream",
     "text": [
      "The type of year is valid!\n"
     ]
    },
    {
     "data": {
      "text/plain": [
       "True"
      ]
     },
     "execution_count": 3,
     "metadata": {},
     "output_type": "execute_result"
    }
   ],
   "source": [
    "check_type(22012)"
   ]
  },
  {
   "cell_type": "code",
   "execution_count": 6,
   "id": "907a91f4",
   "metadata": {},
   "outputs": [
    {
     "ename": "AssertionError",
     "evalue": "The type of year is not intiger",
     "output_type": "error",
     "traceback": [
      "\u001b[1;31m---------------------------------------------------------------------------\u001b[0m",
      "\u001b[1;31mAssertionError\u001b[0m                            Traceback (most recent call last)",
      "\u001b[1;32m<ipython-input-6-bbbd69807355>\u001b[0m in \u001b[0;36m<module>\u001b[1;34m\u001b[0m\n\u001b[1;32m----> 1\u001b[1;33m \u001b[0mcheck_type\u001b[0m\u001b[1;33m(\u001b[0m\u001b[1;36m2010.12\u001b[0m\u001b[1;33m)\u001b[0m\u001b[1;33m\u001b[0m\u001b[1;33m\u001b[0m\u001b[0m\n\u001b[0m",
      "\u001b[1;32m<ipython-input-1-43118f9229db>\u001b[0m in \u001b[0;36mcheck_type\u001b[1;34m(year)\u001b[0m\n\u001b[0;32m      1\u001b[0m \u001b[1;32mdef\u001b[0m \u001b[0mcheck_type\u001b[0m\u001b[1;33m(\u001b[0m\u001b[0myear\u001b[0m\u001b[1;33m)\u001b[0m\u001b[1;33m:\u001b[0m\u001b[1;33m\u001b[0m\u001b[1;33m\u001b[0m\u001b[0m\n\u001b[1;32m----> 2\u001b[1;33m     \u001b[1;32massert\u001b[0m \u001b[0mtype\u001b[0m\u001b[1;33m(\u001b[0m\u001b[0myear\u001b[0m\u001b[1;33m)\u001b[0m \u001b[1;33m==\u001b[0m \u001b[0mint\u001b[0m\u001b[1;33m,\u001b[0m \u001b[1;34m'The type of year is not intiger'\u001b[0m\u001b[1;33m\u001b[0m\u001b[1;33m\u001b[0m\u001b[0m\n\u001b[0m\u001b[0;32m      3\u001b[0m     \u001b[0mprint\u001b[0m\u001b[1;33m(\u001b[0m\u001b[1;34m\"The type of year is valid!\"\u001b[0m\u001b[1;33m)\u001b[0m\u001b[1;33m\u001b[0m\u001b[1;33m\u001b[0m\u001b[0m\n\u001b[0;32m      4\u001b[0m     \u001b[1;32mreturn\u001b[0m \u001b[1;32mTrue\u001b[0m\u001b[1;33m\u001b[0m\u001b[1;33m\u001b[0m\u001b[0m\n",
      "\u001b[1;31mAssertionError\u001b[0m: The type of year is not intiger"
     ]
    }
   ],
   "source": [
    "check_type(2010.12)"
   ]
  },
  {
   "cell_type": "markdown",
   "id": "0cdb47dd",
   "metadata": {},
   "source": [
    "If you add a 'try-except' error handling clause, you can ensure the code, executes as required and does not break."
   ]
  },
  {
   "cell_type": "code",
   "execution_count": 14,
   "id": "0a548d09",
   "metadata": {},
   "outputs": [
    {
     "name": "stdout",
     "output_type": "stream",
     "text": [
      "The type of year is invalid!\n",
      "False\n"
     ]
    }
   ],
   "source": [
    "def check_type(year):\n",
    "    try:\n",
    "        assert type(year) == int\n",
    "    except AssertionError:\n",
    "        print(\"The type of year is invalid!\")\n",
    "        return False\n",
    "    return True\n",
    "print(check_type(2010.12))"
   ]
  },
  {
   "cell_type": "code",
   "execution_count": null,
   "id": "49c55aab",
   "metadata": {},
   "outputs": [],
   "source": []
  },
  {
   "cell_type": "code",
   "execution_count": null,
   "id": "b6ab2879",
   "metadata": {},
   "outputs": [],
   "source": []
  }
 ],
 "metadata": {
  "kernelspec": {
   "display_name": "Python 3",
   "language": "python",
   "name": "python3"
  },
  "language_info": {
   "codemirror_mode": {
    "name": "ipython",
    "version": 3
   },
   "file_extension": ".py",
   "mimetype": "text/x-python",
   "name": "python",
   "nbconvert_exporter": "python",
   "pygments_lexer": "ipython3",
   "version": "3.8.8"
  }
 },
 "nbformat": 4,
 "nbformat_minor": 5
}
