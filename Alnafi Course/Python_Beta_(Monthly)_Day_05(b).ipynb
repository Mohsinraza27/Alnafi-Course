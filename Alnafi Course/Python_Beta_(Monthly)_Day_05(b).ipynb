{
 "cells": [
  {
   "cell_type": "markdown",
   "id": "5990dd38",
   "metadata": {},
   "source": [
    "# Reading and Writing Files in Python"
   ]
  },
  {
   "cell_type": "markdown",
   "id": "fe53f4f4",
   "metadata": {},
   "source": [
    "Open() returns a file object that you can use to 'read/write/append' to file."
   ]
  },
  {
   "cell_type": "markdown",
   "id": "a5846347",
   "metadata": {},
   "source": [
    "With statement is a cleaner way of opening files that does not require you to explicitly 'close' them."
   ]
  },
  {
   "cell_type": "markdown",
   "id": "480f8a3a",
   "metadata": {},
   "source": [
    "File name is the first argument passed to the 'open()' method. And the next argument tells it what to do with the file."
   ]
  },
  {
   "cell_type": "markdown",
   "id": "35d00c2a",
   "metadata": {},
   "source": [
    "If 'r' is passed, Python opens the file to read."
   ]
  },
  {
   "cell_type": "markdown",
   "id": "27c475f3",
   "metadata": {},
   "source": [
    "If 'w' is passed, Python creates a file by the name specified and opens it to write data. If a file already exists by that name, It overwrites that file."
   ]
  },
  {
   "cell_type": "markdown",
   "id": "f9ad2032",
   "metadata": {},
   "source": [
    "If 'a' is passed, the file name passed must be of an existing file since it opens that file to 'append' additional date it without overwriting it."
   ]
  },
  {
   "cell_type": "markdown",
   "id": "8bd2ab1c",
   "metadata": {},
   "source": [
    "Reading__File"
   ]
  },
  {
   "cell_type": "code",
   "execution_count": 12,
   "id": "89302a84",
   "metadata": {},
   "outputs": [],
   "source": [
    "data = []                            \n",
    "f = open('myfile.txt', 'r')\n",
    "for row in f:\n",
    "    r = row.strip('\\n')\n",
    "    data.append(r)\n",
    "    \n",
    "f.close()"
   ]
  },
  {
   "cell_type": "code",
   "execution_count": 13,
   "id": "3c254cc2",
   "metadata": {},
   "outputs": [
    {
     "data": {
      "text/plain": [
       "['This is a file about the input and output fuctions in Python',\n",
       " 'There are several ways to present the output of a program; data can ',\n",
       " 'be printed in a human-readable form, or written to a file for future ',\n",
       " 'use. The same applies to video files, word files, and or any kind of ',\n",
       " 'files to be used at a later stage with respect to ML, DL, AI and DS.']"
      ]
     },
     "execution_count": 13,
     "metadata": {},
     "output_type": "execute_result"
    }
   ],
   "source": [
    "data"
   ]
  },
  {
   "cell_type": "code",
   "execution_count": null,
   "id": "499a4a11",
   "metadata": {},
   "outputs": [],
   "source": []
  },
  {
   "cell_type": "markdown",
   "id": "5c27250e",
   "metadata": {},
   "source": [
    "Writing__File"
   ]
  },
  {
   "cell_type": "code",
   "execution_count": 4,
   "id": "c01370a3",
   "metadata": {},
   "outputs": [],
   "source": [
    "write_data = [\"Python\",\"Primer\", \"Alpha\", \"Beta\", \"Gamma\", \"Zelta\", \"Epsilon\"]\n",
    "with open('Greekletters.txt', 'w') as f:\n",
    "    for value in write_data:\n",
    "        f.write(value)\n",
    "        f.write('\\n')    # use the indicate next write statement starts from next line\n",
    "f.close()"
   ]
  },
  {
   "cell_type": "code",
   "execution_count": 5,
   "id": "c51dcc09",
   "metadata": {},
   "outputs": [
    {
     "data": {
      "text/plain": [
       "['Python', 'Primer', 'Alpha', 'Beta', 'Gamma', 'Zelta', 'Epsilon']"
      ]
     },
     "execution_count": 5,
     "metadata": {},
     "output_type": "execute_result"
    }
   ],
   "source": [
    "write_data"
   ]
  },
  {
   "cell_type": "markdown",
   "id": "4967f0e5",
   "metadata": {},
   "source": [
    "Appending__data"
   ]
  },
  {
   "cell_type": "code",
   "execution_count": 6,
   "id": "319b343c",
   "metadata": {},
   "outputs": [],
   "source": [
    "append_data = ['Zeta', 'Eta', 'Theta']\n",
    "with open('Geekletters.txt', 'a') as k:\n",
    "    for value in append_data:\n",
    "        k.write(value)\n",
    "        k.write('\\n')\n",
    "k.close()"
   ]
  },
  {
   "cell_type": "code",
   "execution_count": 11,
   "id": "fb128321",
   "metadata": {},
   "outputs": [],
   "source": [
    "with open(\"Greekletters.txt\", 'w') as f:\n",
    "    for value in enumerate(write_data):\n",
    "        f.write('value')\n",
    "        f.write('\\n')\n",
    "f.close()"
   ]
  },
  {
   "cell_type": "code",
   "execution_count": 14,
   "id": "80610701",
   "metadata": {},
   "outputs": [],
   "source": [
    "with open(\"Greekletters.txt\", 'w') as f:\n",
    "    for ind, value in enumerate(write_data):\n",
    "        f.write(value)\n",
    "        f.write('\\n')\n",
    "f.close()"
   ]
  },
  {
   "cell_type": "code",
   "execution_count": 15,
   "id": "cbbd5e53",
   "metadata": {},
   "outputs": [
    {
     "data": {
      "text/plain": [
       "['Python', 'Primer', 'Alpha', 'Beta', 'Gamma', 'Zelta', 'Epsilon']"
      ]
     },
     "execution_count": 15,
     "metadata": {},
     "output_type": "execute_result"
    }
   ],
   "source": [
    "write_data"
   ]
  },
  {
   "cell_type": "code",
   "execution_count": 18,
   "id": "4ed1af06",
   "metadata": {},
   "outputs": [
    {
     "name": "stdout",
     "output_type": "stream",
     "text": [
      "The total count of rows is:  836\n"
     ]
    }
   ],
   "source": [
    "filename = 'Temperature.csv'\n",
    "observation = []\n",
    "count = 0\n",
    "with open('C:\\\\Users\\\\razat\\\\Documents\\\\Laptops.csv', 'r') as tempfile:\n",
    "    header = tempfile.__next__()\n",
    "    for row in tempfile:\n",
    "        observation.append(row.strip('\\n'))\n",
    "        count += 1\n",
    "print('The total count of rows is: ',count)"
   ]
  },
  {
   "cell_type": "code",
   "execution_count": 20,
   "id": "2ff32881",
   "metadata": {},
   "outputs": [
    {
     "name": "stdout",
     "output_type": "stream",
     "text": [
      "The total count of colums is:  837\n"
     ]
    }
   ],
   "source": [
    "filename = 'Temperature.csv'\n",
    "observation = []\n",
    "count = 0\n",
    "with open('C:\\\\Users\\\\razat\\\\Documents\\\\Laptops.csv', 'r') as tempfile:\n",
    "#    header = tempfile.__next__()\n",
    "    for col in tempfile:\n",
    "        observation.append(col.strip('\\n'))\n",
    "        count += 1\n",
    "print('The total count of colums is: ',count)"
   ]
  },
  {
   "cell_type": "code",
   "execution_count": null,
   "id": "27cc6c6a",
   "metadata": {},
   "outputs": [],
   "source": []
  }
 ],
 "metadata": {
  "kernelspec": {
   "display_name": "Python 3",
   "language": "python",
   "name": "python3"
  },
  "language_info": {
   "codemirror_mode": {
    "name": "ipython",
    "version": 3
   },
   "file_extension": ".py",
   "mimetype": "text/x-python",
   "name": "python",
   "nbconvert_exporter": "python",
   "pygments_lexer": "ipython3",
   "version": "3.8.8"
  }
 },
 "nbformat": 4,
 "nbformat_minor": 5
}
