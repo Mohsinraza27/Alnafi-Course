{
 "cells": [
  {
   "cell_type": "markdown",
   "id": "0169b54e",
   "metadata": {},
   "source": [
    "# Class in Python"
   ]
  },
  {
   "cell_type": "markdown",
   "id": "30198170",
   "metadata": {},
   "source": [
    "•\tLet’s suppose we want to create a class for fruit, we will guide if attributes such as:"
   ]
  },
  {
   "cell_type": "markdown",
   "id": "a2a64296",
   "metadata": {},
   "source": [
    "Name__This will be a string value"
   ]
  },
  {
   "cell_type": "markdown",
   "id": "d40468be",
   "metadata": {},
   "source": [
    "Taste__This will be a string value"
   ]
  },
  {
   "cell_type": "markdown",
   "id": "f5f64ca6",
   "metadata": {},
   "source": [
    "Nutrients__This will be a list "
   ]
  },
  {
   "cell_type": "markdown",
   "id": "085ec443",
   "metadata": {},
   "source": [
    "Ripe__This will be a Boolean value. True if the fruit is ripe."
   ]
  },
  {
   "cell_type": "markdown",
   "id": "47347e58",
   "metadata": {},
   "source": [
    "•\tWe will give it some methods as well: "
   ]
  },
  {
   "cell_type": "markdown",
   "id": "bc3ad52d",
   "metadata": {},
   "source": [
    "Get_name__This will return the name of the fruit"
   ]
  },
  {
   "cell_type": "markdown",
   "id": "a523d6b1",
   "metadata": {},
   "source": [
    "Get_nutrients__This will return the nutrients of the fruit"
   ]
  },
  {
   "cell_type": "markdown",
   "id": "8588d122",
   "metadata": {},
   "source": [
    "Check_ripeness__This will return the ripe status of the fruit "
   ]
  },
  {
   "cell_type": "code",
   "execution_count": 7,
   "id": "a4510e24",
   "metadata": {},
   "outputs": [],
   "source": [
    "class Fruit:\n",
    "    \"\"\"A class is defined for fruits,\n",
    "    to create objects of this class..\"\"\"\n",
    "    def __init__(self, name, nutrients):\n",
    "        try:\n",
    "            assert type(nutrients) == list\n",
    "        except AssertionError:\n",
    "            print(\"InvalidConstruction\")\n",
    "            raise Exception\n",
    "        self.name = name\n",
    "        self.nutrients = nutrients\n",
    "        self.is_ripe = False\n",
    "    def get_name(self):\n",
    "        return self.name\n",
    "    def get_nutrients(self):\n",
    "        print(self.name + ' has following nutrients: ')\n",
    "        for value in self.nutrients:\n",
    "            print(value)\n",
    "    def check_ripeness(self):\n",
    "        return self.is_ripe\n",
    "    def ripen_fruit(self):\n",
    "        self.is_ripe = True"
   ]
  },
  {
   "cell_type": "code",
   "execution_count": 8,
   "id": "022b8c4a",
   "metadata": {},
   "outputs": [],
   "source": [
    "apple = Fruit(name='Apple', nutrients=['Vitamin D', 'Vitamin A', 'Vitamin K'])\n",
    "bnana = Fruit(name='Bnana', nutrients=['Potasium', 'Vitamin B6'])"
   ]
  },
  {
   "cell_type": "code",
   "execution_count": 9,
   "id": "3eb07fbd",
   "metadata": {},
   "outputs": [
    {
     "name": "stdout",
     "output_type": "stream",
     "text": [
      "Apple has following nutrients: \n",
      "Vitamin D\n",
      "Vitamin A\n",
      "Vitamin K\n"
     ]
    }
   ],
   "source": [
    "apple.get_nutrients()"
   ]
  },
  {
   "cell_type": "code",
   "execution_count": 10,
   "id": "545e1e5d",
   "metadata": {},
   "outputs": [
    {
     "data": {
      "text/plain": [
       "'Apple'"
      ]
     },
     "execution_count": 10,
     "metadata": {},
     "output_type": "execute_result"
    }
   ],
   "source": [
    "apple.get_name()"
   ]
  },
  {
   "cell_type": "code",
   "execution_count": 11,
   "id": "08d197a2",
   "metadata": {},
   "outputs": [
    {
     "data": {
      "text/plain": [
       "'Bnana'"
      ]
     },
     "execution_count": 11,
     "metadata": {},
     "output_type": "execute_result"
    }
   ],
   "source": [
    "bnana.get_name()"
   ]
  },
  {
   "cell_type": "code",
   "execution_count": 12,
   "id": "db141cbe",
   "metadata": {},
   "outputs": [
    {
     "name": "stdout",
     "output_type": "stream",
     "text": [
      "Bnana has following nutrients: \n",
      "Potasium\n",
      "Vitamin B6\n"
     ]
    }
   ],
   "source": [
    "bnana.get_nutrients()"
   ]
  },
  {
   "cell_type": "code",
   "execution_count": 15,
   "id": "5e52e9e6",
   "metadata": {},
   "outputs": [
    {
     "data": {
      "text/plain": [
       "False"
      ]
     },
     "execution_count": 15,
     "metadata": {},
     "output_type": "execute_result"
    }
   ],
   "source": [
    "apple.check_ripeness()"
   ]
  },
  {
   "cell_type": "code",
   "execution_count": 16,
   "id": "5800b9ba",
   "metadata": {},
   "outputs": [
    {
     "data": {
      "text/plain": [
       "False"
      ]
     },
     "execution_count": 16,
     "metadata": {},
     "output_type": "execute_result"
    }
   ],
   "source": [
    "bnana.check_ripeness()"
   ]
  },
  {
   "cell_type": "code",
   "execution_count": 17,
   "id": "7d45db56",
   "metadata": {},
   "outputs": [],
   "source": [
    "apple.ripen_fruit()"
   ]
  },
  {
   "cell_type": "code",
   "execution_count": 18,
   "id": "48e78f05",
   "metadata": {},
   "outputs": [
    {
     "data": {
      "text/plain": [
       "True"
      ]
     },
     "execution_count": 18,
     "metadata": {},
     "output_type": "execute_result"
    }
   ],
   "source": [
    "apple.check_ripeness()"
   ]
  },
  {
   "cell_type": "code",
   "execution_count": 19,
   "id": "e8a43394",
   "metadata": {},
   "outputs": [],
   "source": [
    "bnana.ripen_fruit()"
   ]
  },
  {
   "cell_type": "code",
   "execution_count": 20,
   "id": "31cdfb46",
   "metadata": {},
   "outputs": [
    {
     "data": {
      "text/plain": [
       "True"
      ]
     },
     "execution_count": 20,
     "metadata": {},
     "output_type": "execute_result"
    }
   ],
   "source": [
    "bnana.check_ripeness()"
   ]
  },
  {
   "cell_type": "code",
   "execution_count": 26,
   "id": "e4fadc03",
   "metadata": {},
   "outputs": [],
   "source": [
    "class Citrus(Fruit):\n",
    "    def __init__(self, name, nutrients):\n",
    "        super().__init__(name, nutrients)\n",
    "        self.type = 'Citrus'\n",
    "        self.characteristic = \"Puply and Juicy!\"\n",
    "    def get_type(self):\n",
    "        return self.type"
   ]
  },
  {
   "cell_type": "code",
   "execution_count": 27,
   "id": "cdae2b66",
   "metadata": {},
   "outputs": [],
   "source": [
    "Orange = Citrus(name='Orange', nutrients=['Vitamin D', 'Vitamin c'])"
   ]
  },
  {
   "cell_type": "code",
   "execution_count": 28,
   "id": "6259fc73",
   "metadata": {},
   "outputs": [
    {
     "data": {
      "text/plain": [
       "'Citrus'"
      ]
     },
     "execution_count": 28,
     "metadata": {},
     "output_type": "execute_result"
    }
   ],
   "source": [
    "Orange.get_type()"
   ]
  },
  {
   "cell_type": "code",
   "execution_count": 29,
   "id": "0a959f06",
   "metadata": {},
   "outputs": [
    {
     "data": {
      "text/plain": [
       "False"
      ]
     },
     "execution_count": 29,
     "metadata": {},
     "output_type": "execute_result"
    }
   ],
   "source": [
    "Orange.check_ripeness()"
   ]
  },
  {
   "cell_type": "code",
   "execution_count": 30,
   "id": "06ff58fa",
   "metadata": {},
   "outputs": [],
   "source": [
    "Orange.ripen_fruit()"
   ]
  },
  {
   "cell_type": "code",
   "execution_count": 31,
   "id": "3f8745dd",
   "metadata": {},
   "outputs": [
    {
     "data": {
      "text/plain": [
       "True"
      ]
     },
     "execution_count": 31,
     "metadata": {},
     "output_type": "execute_result"
    }
   ],
   "source": [
    "Orange.check_ripeness()"
   ]
  },
  {
   "cell_type": "code",
   "execution_count": 32,
   "id": "02194f41",
   "metadata": {},
   "outputs": [
    {
     "name": "stdout",
     "output_type": "stream",
     "text": [
      "Orange has following nutrients: \n",
      "Vitamin D\n",
      "Vitamin c\n"
     ]
    }
   ],
   "source": [
    "Orange.get_nutrients()"
   ]
  },
  {
   "cell_type": "markdown",
   "id": "91bdb04b",
   "metadata": {},
   "source": [
    "Exercise_1 : Berry() \\n type = 'Berry' \\n\n",
    "characteristics = \"seed Embeded Flesh\" \\n\n",
    "def Function= get_type"
   ]
  },
  {
   "cell_type": "markdown",
   "id": "a0e717c0",
   "metadata": {},
   "source": [
    "Exercise_2 : eliminate type from init() and parse as an argument \\n \n",
    "def __init__(self, name, nut, type)"
   ]
  },
  {
   "cell_type": "code",
   "execution_count": null,
   "id": "51c8439f",
   "metadata": {},
   "outputs": [],
   "source": []
  }
 ],
 "metadata": {
  "kernelspec": {
   "display_name": "Python 3",
   "language": "python",
   "name": "python3"
  },
  "language_info": {
   "codemirror_mode": {
    "name": "ipython",
    "version": 3
   },
   "file_extension": ".py",
   "mimetype": "text/x-python",
   "name": "python",
   "nbconvert_exporter": "python",
   "pygments_lexer": "ipython3",
   "version": "3.8.8"
  }
 },
 "nbformat": 4,
 "nbformat_minor": 5
}
