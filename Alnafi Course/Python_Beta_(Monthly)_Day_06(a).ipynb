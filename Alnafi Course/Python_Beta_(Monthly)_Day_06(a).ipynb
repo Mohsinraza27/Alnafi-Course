{
 "cells": [
  {
   "cell_type": "markdown",
   "id": "45d62755",
   "metadata": {},
   "source": [
    "# Dates"
   ]
  },
  {
   "cell_type": "code",
   "execution_count": 1,
   "id": "890e0dcf",
   "metadata": {},
   "outputs": [
    {
     "data": {
      "text/plain": [
       "datetime.datetime(2022, 2, 15, 10, 40, 12, 184797)"
      ]
     },
     "execution_count": 1,
     "metadata": {},
     "output_type": "execute_result"
    }
   ],
   "source": [
    "from datetime import datetime\n",
    "datetime.now()"
   ]
  },
  {
   "cell_type": "markdown",
   "id": "5e9b7b41",
   "metadata": {},
   "source": [
    "Date & Time Methods"
   ]
  },
  {
   "cell_type": "code",
   "execution_count": 4,
   "id": "aa93a840",
   "metadata": {},
   "outputs": [],
   "source": [
    "now_dt = datetime.now()"
   ]
  },
  {
   "cell_type": "code",
   "execution_count": 7,
   "id": "2789a014",
   "metadata": {},
   "outputs": [
    {
     "data": {
      "text/plain": [
       "2022"
      ]
     },
     "execution_count": 7,
     "metadata": {},
     "output_type": "execute_result"
    }
   ],
   "source": [
    "now_dt.year"
   ]
  },
  {
   "cell_type": "code",
   "execution_count": 8,
   "id": "6bb6b061",
   "metadata": {},
   "outputs": [
    {
     "data": {
      "text/plain": [
       "2"
      ]
     },
     "execution_count": 8,
     "metadata": {},
     "output_type": "execute_result"
    }
   ],
   "source": [
    "now_dt.month"
   ]
  },
  {
   "cell_type": "code",
   "execution_count": 9,
   "id": "2a92e959",
   "metadata": {},
   "outputs": [
    {
     "data": {
      "text/plain": [
       "10"
      ]
     },
     "execution_count": 9,
     "metadata": {},
     "output_type": "execute_result"
    }
   ],
   "source": [
    "now_dt.hour"
   ]
  },
  {
   "cell_type": "code",
   "execution_count": 11,
   "id": "46c5635d",
   "metadata": {},
   "outputs": [
    {
     "data": {
      "text/plain": [
       "datetime.date(2022, 2, 15)"
      ]
     },
     "execution_count": 11,
     "metadata": {},
     "output_type": "execute_result"
    }
   ],
   "source": [
    "now_dt.date()"
   ]
  },
  {
   "cell_type": "code",
   "execution_count": 12,
   "id": "7110db16",
   "metadata": {},
   "outputs": [
    {
     "data": {
      "text/plain": [
       "15"
      ]
     },
     "execution_count": 12,
     "metadata": {},
     "output_type": "execute_result"
    }
   ],
   "source": [
    "now_dt.day"
   ]
  },
  {
   "cell_type": "code",
   "execution_count": 14,
   "id": "f87ba6f4",
   "metadata": {},
   "outputs": [
    {
     "data": {
      "text/plain": [
       "(2022, 7, 2)"
      ]
     },
     "execution_count": 14,
     "metadata": {},
     "output_type": "execute_result"
    }
   ],
   "source": [
    "now_dt.isocalendar()"
   ]
  },
  {
   "cell_type": "code",
   "execution_count": 23,
   "id": "25d5bc0d",
   "metadata": {},
   "outputs": [
    {
     "data": {
      "text/plain": [
       "datetime.datetime(6, 6, 25, 0, 0)"
      ]
     },
     "execution_count": 23,
     "metadata": {},
     "output_type": "execute_result"
    }
   ],
   "source": [
    "now_dt.fromordinal(2002)"
   ]
  },
  {
   "cell_type": "code",
   "execution_count": 26,
   "id": "321c15dc",
   "metadata": {},
   "outputs": [
    {
     "data": {
      "text/plain": [
       "datetime.datetime(1970, 1, 1, 5, 0, 12)"
      ]
     },
     "execution_count": 26,
     "metadata": {},
     "output_type": "execute_result"
    }
   ],
   "source": [
    "now_dt.fromtimestamp(12)"
   ]
  },
  {
   "cell_type": "code",
   "execution_count": 29,
   "id": "31c6df70",
   "metadata": {},
   "outputs": [
    {
     "data": {
      "text/plain": [
       "'2022-02-15T10:42:08.222530'"
      ]
     },
     "execution_count": 29,
     "metadata": {},
     "output_type": "execute_result"
    }
   ],
   "source": [
    "now_dt.isoformat()"
   ]
  },
  {
   "cell_type": "code",
   "execution_count": 30,
   "id": "466e7ea7",
   "metadata": {},
   "outputs": [
    {
     "data": {
      "text/plain": [
       "2"
      ]
     },
     "execution_count": 30,
     "metadata": {},
     "output_type": "execute_result"
    }
   ],
   "source": [
    "now_dt.isoweekday()"
   ]
  },
  {
   "cell_type": "code",
   "execution_count": 33,
   "id": "60213210",
   "metadata": {},
   "outputs": [
    {
     "data": {
      "text/plain": [
       "datetime.datetime(9999, 12, 31, 23, 59, 59, 999999)"
      ]
     },
     "execution_count": 33,
     "metadata": {},
     "output_type": "execute_result"
    }
   ],
   "source": [
    "now_dt.max"
   ]
  },
  {
   "cell_type": "code",
   "execution_count": 34,
   "id": "93a594c1",
   "metadata": {},
   "outputs": [
    {
     "data": {
      "text/plain": [
       "222530"
      ]
     },
     "execution_count": 34,
     "metadata": {},
     "output_type": "execute_result"
    }
   ],
   "source": [
    "now_dt.microsecond"
   ]
  },
  {
   "cell_type": "code",
   "execution_count": 35,
   "id": "12ebc979",
   "metadata": {},
   "outputs": [
    {
     "data": {
      "text/plain": [
       "datetime.datetime(1, 1, 1, 0, 0)"
      ]
     },
     "execution_count": 35,
     "metadata": {},
     "output_type": "execute_result"
    }
   ],
   "source": [
    "now_dt.min"
   ]
  },
  {
   "cell_type": "code",
   "execution_count": 36,
   "id": "1de0a2ab",
   "metadata": {},
   "outputs": [
    {
     "data": {
      "text/plain": [
       "42"
      ]
     },
     "execution_count": 36,
     "metadata": {},
     "output_type": "execute_result"
    }
   ],
   "source": [
    "now_dt.minute"
   ]
  },
  {
   "cell_type": "code",
   "execution_count": 38,
   "id": "b8033e30",
   "metadata": {},
   "outputs": [
    {
     "data": {
      "text/plain": [
       "datetime.datetime(2022, 2, 15, 10, 42, 8, 222530)"
      ]
     },
     "execution_count": 38,
     "metadata": {},
     "output_type": "execute_result"
    }
   ],
   "source": [
    "now_dt.replace()"
   ]
  },
  {
   "cell_type": "code",
   "execution_count": 40,
   "id": "f2521799",
   "metadata": {},
   "outputs": [
    {
     "data": {
      "text/plain": [
       "datetime.timedelta(microseconds=1)"
      ]
     },
     "execution_count": 40,
     "metadata": {},
     "output_type": "execute_result"
    }
   ],
   "source": [
    "now_dt.resolution"
   ]
  },
  {
   "cell_type": "code",
   "execution_count": 41,
   "id": "efb7e8eb",
   "metadata": {},
   "outputs": [
    {
     "data": {
      "text/plain": [
       "8"
      ]
     },
     "execution_count": 41,
     "metadata": {},
     "output_type": "execute_result"
    }
   ],
   "source": [
    "now_dt.second"
   ]
  },
  {
   "cell_type": "code",
   "execution_count": 48,
   "id": "830ead9e",
   "metadata": {},
   "outputs": [
    {
     "data": {
      "text/plain": [
       "'Y'"
      ]
     },
     "execution_count": 48,
     "metadata": {},
     "output_type": "execute_result"
    }
   ],
   "source": [
    "now_dt.strftime('Y')"
   ]
  },
  {
   "cell_type": "code",
   "execution_count": 56,
   "id": "dee4bc68",
   "metadata": {},
   "outputs": [
    {
     "data": {
      "text/plain": [
       "datetime.datetime(1900, 1, 1, 0, 0)"
      ]
     },
     "execution_count": 56,
     "metadata": {},
     "output_type": "execute_result"
    }
   ],
   "source": [
    "now_dt.strptime('M', 'm')"
   ]
  },
  {
   "cell_type": "code",
   "execution_count": 57,
   "id": "673e2e08",
   "metadata": {},
   "outputs": [
    {
     "ename": "ValueError",
     "evalue": "time data 'M' does not match format 'y'",
     "output_type": "error",
     "traceback": [
      "\u001b[1;31m---------------------------------------------------------------------------\u001b[0m",
      "\u001b[1;31mValueError\u001b[0m                                Traceback (most recent call last)",
      "\u001b[1;32m<ipython-input-57-a0965ea9058d>\u001b[0m in \u001b[0;36m<module>\u001b[1;34m\u001b[0m\n\u001b[1;32m----> 1\u001b[1;33m \u001b[0mnow_dt\u001b[0m\u001b[1;33m.\u001b[0m\u001b[0mstrptime\u001b[0m\u001b[1;33m(\u001b[0m\u001b[1;34m'M'\u001b[0m\u001b[1;33m,\u001b[0m \u001b[1;34m'y'\u001b[0m\u001b[1;33m)\u001b[0m\u001b[1;33m\u001b[0m\u001b[1;33m\u001b[0m\u001b[0m\n\u001b[0m",
      "\u001b[1;32m~\\anaconda3\\lib\\_strptime.py\u001b[0m in \u001b[0;36m_strptime_datetime\u001b[1;34m(cls, data_string, format)\u001b[0m\n\u001b[0;32m    566\u001b[0m     \"\"\"Return a class cls instance based on the input string and the\n\u001b[0;32m    567\u001b[0m     format string.\"\"\"\n\u001b[1;32m--> 568\u001b[1;33m     \u001b[0mtt\u001b[0m\u001b[1;33m,\u001b[0m \u001b[0mfraction\u001b[0m\u001b[1;33m,\u001b[0m \u001b[0mgmtoff_fraction\u001b[0m \u001b[1;33m=\u001b[0m \u001b[0m_strptime\u001b[0m\u001b[1;33m(\u001b[0m\u001b[0mdata_string\u001b[0m\u001b[1;33m,\u001b[0m \u001b[0mformat\u001b[0m\u001b[1;33m)\u001b[0m\u001b[1;33m\u001b[0m\u001b[1;33m\u001b[0m\u001b[0m\n\u001b[0m\u001b[0;32m    569\u001b[0m     \u001b[0mtzname\u001b[0m\u001b[1;33m,\u001b[0m \u001b[0mgmtoff\u001b[0m \u001b[1;33m=\u001b[0m \u001b[0mtt\u001b[0m\u001b[1;33m[\u001b[0m\u001b[1;33m-\u001b[0m\u001b[1;36m2\u001b[0m\u001b[1;33m:\u001b[0m\u001b[1;33m]\u001b[0m\u001b[1;33m\u001b[0m\u001b[1;33m\u001b[0m\u001b[0m\n\u001b[0;32m    570\u001b[0m     \u001b[0margs\u001b[0m \u001b[1;33m=\u001b[0m \u001b[0mtt\u001b[0m\u001b[1;33m[\u001b[0m\u001b[1;33m:\u001b[0m\u001b[1;36m6\u001b[0m\u001b[1;33m]\u001b[0m \u001b[1;33m+\u001b[0m \u001b[1;33m(\u001b[0m\u001b[0mfraction\u001b[0m\u001b[1;33m,\u001b[0m\u001b[1;33m)\u001b[0m\u001b[1;33m\u001b[0m\u001b[1;33m\u001b[0m\u001b[0m\n",
      "\u001b[1;32m~\\anaconda3\\lib\\_strptime.py\u001b[0m in \u001b[0;36m_strptime\u001b[1;34m(data_string, format)\u001b[0m\n\u001b[0;32m    347\u001b[0m     \u001b[0mfound\u001b[0m \u001b[1;33m=\u001b[0m \u001b[0mformat_regex\u001b[0m\u001b[1;33m.\u001b[0m\u001b[0mmatch\u001b[0m\u001b[1;33m(\u001b[0m\u001b[0mdata_string\u001b[0m\u001b[1;33m)\u001b[0m\u001b[1;33m\u001b[0m\u001b[1;33m\u001b[0m\u001b[0m\n\u001b[0;32m    348\u001b[0m     \u001b[1;32mif\u001b[0m \u001b[1;32mnot\u001b[0m \u001b[0mfound\u001b[0m\u001b[1;33m:\u001b[0m\u001b[1;33m\u001b[0m\u001b[1;33m\u001b[0m\u001b[0m\n\u001b[1;32m--> 349\u001b[1;33m         raise ValueError(\"time data %r does not match format %r\" %\n\u001b[0m\u001b[0;32m    350\u001b[0m                          (data_string, format))\n\u001b[0;32m    351\u001b[0m     \u001b[1;32mif\u001b[0m \u001b[0mlen\u001b[0m\u001b[1;33m(\u001b[0m\u001b[0mdata_string\u001b[0m\u001b[1;33m)\u001b[0m \u001b[1;33m!=\u001b[0m \u001b[0mfound\u001b[0m\u001b[1;33m.\u001b[0m\u001b[0mend\u001b[0m\u001b[1;33m(\u001b[0m\u001b[1;33m)\u001b[0m\u001b[1;33m:\u001b[0m\u001b[1;33m\u001b[0m\u001b[1;33m\u001b[0m\u001b[0m\n",
      "\u001b[1;31mValueError\u001b[0m: time data 'M' does not match format 'y'"
     ]
    }
   ],
   "source": [
    "now_dt.strptime('M', 'y')"
   ]
  },
  {
   "cell_type": "code",
   "execution_count": 59,
   "id": "455100fb",
   "metadata": {},
   "outputs": [
    {
     "data": {
      "text/plain": [
       "datetime.time(10, 42, 8, 222530)"
      ]
     },
     "execution_count": 59,
     "metadata": {},
     "output_type": "execute_result"
    }
   ],
   "source": [
    "now_dt.time()"
   ]
  },
  {
   "cell_type": "code",
   "execution_count": 60,
   "id": "8f83bd88",
   "metadata": {},
   "outputs": [
    {
     "data": {
      "text/plain": [
       "1644903728.22253"
      ]
     },
     "execution_count": 60,
     "metadata": {},
     "output_type": "execute_result"
    }
   ],
   "source": [
    "now_dt.timestamp()"
   ]
  },
  {
   "cell_type": "code",
   "execution_count": 61,
   "id": "9490e2e7",
   "metadata": {},
   "outputs": [
    {
     "data": {
      "text/plain": [
       "time.struct_time(tm_year=2022, tm_mon=2, tm_mday=15, tm_hour=10, tm_min=42, tm_sec=8, tm_wday=1, tm_yday=46, tm_isdst=-1)"
      ]
     },
     "execution_count": 61,
     "metadata": {},
     "output_type": "execute_result"
    }
   ],
   "source": [
    "now_dt.timetuple()"
   ]
  },
  {
   "cell_type": "code",
   "execution_count": 62,
   "id": "ab6bc6a0",
   "metadata": {},
   "outputs": [
    {
     "data": {
      "text/plain": [
       "datetime.time(10, 42, 8, 222530)"
      ]
     },
     "execution_count": 62,
     "metadata": {},
     "output_type": "execute_result"
    }
   ],
   "source": [
    "now_dt.timetz()"
   ]
  },
  {
   "cell_type": "code",
   "execution_count": 63,
   "id": "71be34c0",
   "metadata": {},
   "outputs": [
    {
     "data": {
      "text/plain": [
       "datetime.datetime(2022, 2, 15, 10, 56, 48, 712141)"
      ]
     },
     "execution_count": 63,
     "metadata": {},
     "output_type": "execute_result"
    }
   ],
   "source": [
    "now_dt.today()"
   ]
  },
  {
   "cell_type": "code",
   "execution_count": 65,
   "id": "c4858127",
   "metadata": {},
   "outputs": [
    {
     "data": {
      "text/plain": [
       "738201"
      ]
     },
     "execution_count": 65,
     "metadata": {},
     "output_type": "execute_result"
    }
   ],
   "source": [
    "now_dt.toordinal()"
   ]
  },
  {
   "cell_type": "code",
   "execution_count": 68,
   "id": "8c6d904b",
   "metadata": {},
   "outputs": [],
   "source": [
    "now_dt.tzinfo"
   ]
  },
  {
   "cell_type": "code",
   "execution_count": 69,
   "id": "3d336ddf",
   "metadata": {},
   "outputs": [
    {
     "data": {
      "text/plain": [
       "datetime.datetime(2022, 2, 15, 10, 42, 8, 222530)"
      ]
     },
     "execution_count": 69,
     "metadata": {},
     "output_type": "execute_result"
    }
   ],
   "source": [
    "now_dt"
   ]
  },
  {
   "cell_type": "code",
   "execution_count": 71,
   "id": "0fcbc447",
   "metadata": {},
   "outputs": [],
   "source": [
    "now_dt.tzname()"
   ]
  },
  {
   "cell_type": "code",
   "execution_count": 72,
   "id": "e145a064",
   "metadata": {},
   "outputs": [
    {
     "data": {
      "text/plain": [
       "datetime.datetime(2022, 2, 15, 10, 42, 8, 222530)"
      ]
     },
     "execution_count": 72,
     "metadata": {},
     "output_type": "execute_result"
    }
   ],
   "source": [
    "now_dt"
   ]
  },
  {
   "cell_type": "code",
   "execution_count": 78,
   "id": "b5de332c",
   "metadata": {},
   "outputs": [
    {
     "data": {
      "text/plain": [
       "datetime.datetime(1970, 1, 1, 0, 33, 23)"
      ]
     },
     "execution_count": 78,
     "metadata": {},
     "output_type": "execute_result"
    }
   ],
   "source": [
    "now_dt.utcfromtimestamp(2003)"
   ]
  },
  {
   "cell_type": "code",
   "execution_count": 79,
   "id": "e967d15e",
   "metadata": {},
   "outputs": [
    {
     "data": {
      "text/plain": [
       "datetime.datetime(1970, 1, 1, 0, 33, 32)"
      ]
     },
     "execution_count": 79,
     "metadata": {},
     "output_type": "execute_result"
    }
   ],
   "source": [
    "now_dt.utcfromtimestamp(2012)"
   ]
  },
  {
   "cell_type": "code",
   "execution_count": 80,
   "id": "e1af9905",
   "metadata": {},
   "outputs": [
    {
     "data": {
      "text/plain": [
       "datetime.datetime(2022, 2, 15, 6, 0, 15, 364154)"
      ]
     },
     "execution_count": 80,
     "metadata": {},
     "output_type": "execute_result"
    }
   ],
   "source": [
    "now_dt.utcnow()"
   ]
  },
  {
   "cell_type": "code",
   "execution_count": 82,
   "id": "a9337413",
   "metadata": {},
   "outputs": [],
   "source": [
    "now_dt.utcoffset()"
   ]
  },
  {
   "cell_type": "code",
   "execution_count": 84,
   "id": "be17a93a",
   "metadata": {},
   "outputs": [
    {
     "data": {
      "text/plain": [
       "datetime.datetime(2022, 2, 15, 10, 42, 8, 222530)"
      ]
     },
     "execution_count": 84,
     "metadata": {},
     "output_type": "execute_result"
    }
   ],
   "source": [
    "now_dt"
   ]
  },
  {
   "cell_type": "code",
   "execution_count": 85,
   "id": "50fdfd91",
   "metadata": {},
   "outputs": [
    {
     "data": {
      "text/plain": [
       "1"
      ]
     },
     "execution_count": 85,
     "metadata": {},
     "output_type": "execute_result"
    }
   ],
   "source": [
    "now_dt.weekday()"
   ]
  },
  {
   "cell_type": "code",
   "execution_count": 87,
   "id": "7496cc2f",
   "metadata": {},
   "outputs": [],
   "source": [
    "now = datetime.now()"
   ]
  },
  {
   "cell_type": "code",
   "execution_count": 88,
   "id": "3ea73c64",
   "metadata": {},
   "outputs": [
    {
     "data": {
      "text/plain": [
       "datetime.datetime(2022, 2, 15, 11, 4, 4, 529872)"
      ]
     },
     "execution_count": 88,
     "metadata": {},
     "output_type": "execute_result"
    }
   ],
   "source": [
    "now"
   ]
  },
  {
   "cell_type": "code",
   "execution_count": 92,
   "id": "24bae5c6",
   "metadata": {},
   "outputs": [
    {
     "data": {
      "text/plain": [
       "'22'"
      ]
     },
     "execution_count": 92,
     "metadata": {},
     "output_type": "execute_result"
    }
   ],
   "source": [
    "year = now.strftime('%y')\n",
    "year"
   ]
  },
  {
   "cell_type": "code",
   "execution_count": 93,
   "id": "d1c858c0",
   "metadata": {},
   "outputs": [
    {
     "data": {
      "text/plain": [
       "'2022'"
      ]
     },
     "execution_count": 93,
     "metadata": {},
     "output_type": "execute_result"
    }
   ],
   "source": [
    "year = now.strftime('%Y')\n",
    "year"
   ]
  },
  {
   "cell_type": "code",
   "execution_count": 94,
   "id": "f3a98be5",
   "metadata": {},
   "outputs": [
    {
     "data": {
      "text/plain": [
       "'02'"
      ]
     },
     "execution_count": 94,
     "metadata": {},
     "output_type": "execute_result"
    }
   ],
   "source": [
    "month = now.strftime('%m')\n",
    "month"
   ]
  },
  {
   "cell_type": "code",
   "execution_count": 95,
   "id": "d4c1c78c",
   "metadata": {},
   "outputs": [
    {
     "data": {
      "text/plain": [
       "'04'"
      ]
     },
     "execution_count": 95,
     "metadata": {},
     "output_type": "execute_result"
    }
   ],
   "source": [
    "month = now.strftime('%M')    # this code double the value of month examp. 2 + 2 = 4\n",
    "month"
   ]
  },
  {
   "cell_type": "code",
   "execution_count": 96,
   "id": "0c400155",
   "metadata": {},
   "outputs": [
    {
     "data": {
      "text/plain": [
       "'15'"
      ]
     },
     "execution_count": 96,
     "metadata": {},
     "output_type": "execute_result"
    }
   ],
   "source": [
    "day = now.strftime('%d')\n",
    "day"
   ]
  },
  {
   "cell_type": "code",
   "execution_count": 97,
   "id": "b995baf0",
   "metadata": {},
   "outputs": [
    {
     "data": {
      "text/plain": [
       "'02/15/22'"
      ]
     },
     "execution_count": 97,
     "metadata": {},
     "output_type": "execute_result"
    }
   ],
   "source": [
    "day = now.strftime('%D')\n",
    "day"
   ]
  },
  {
   "cell_type": "code",
   "execution_count": 98,
   "id": "a15fbd09",
   "metadata": {},
   "outputs": [
    {
     "name": "stdout",
     "output_type": "stream",
     "text": [
      "Day:  15\n"
     ]
    }
   ],
   "source": [
    "year = now.strftime('%Y')\n",
    "month = now.strftime('%m')\n",
    "day = now.strftime('%d')\n",
    "print(\"Day: \", day)"
   ]
  },
  {
   "cell_type": "code",
   "execution_count": 99,
   "id": "6c24e1d3",
   "metadata": {},
   "outputs": [
    {
     "name": "stdout",
     "output_type": "stream",
     "text": [
      "Time:  11:04:04\n"
     ]
    }
   ],
   "source": [
    "time = now.strftime('%H:%M:%S')\n",
    "print('Time: ', time)"
   ]
  },
  {
   "cell_type": "code",
   "execution_count": 100,
   "id": "94e5ed1e",
   "metadata": {},
   "outputs": [
    {
     "name": "stdout",
     "output_type": "stream",
     "text": [
      "Year:  15/02/22\n"
     ]
    }
   ],
   "source": [
    "year = now.strftime('%d/%m/%y')\n",
    "print(\"Year: \", year)"
   ]
  },
  {
   "cell_type": "code",
   "execution_count": 101,
   "id": "0b2a7436",
   "metadata": {},
   "outputs": [
    {
     "name": "stdout",
     "output_type": "stream",
     "text": [
      "Year:  02/15/22/04/2022\n"
     ]
    }
   ],
   "source": [
    "year = now.strftime('%D/%M/%Y')\n",
    "print(\"Year: \", year)"
   ]
  },
  {
   "cell_type": "code",
   "execution_count": 102,
   "id": "52d51fce",
   "metadata": {},
   "outputs": [
    {
     "name": "stdout",
     "output_type": "stream",
     "text": [
      "Year:  02/15/22/02/2022\n"
     ]
    }
   ],
   "source": [
    "year = now.strftime('%D/%m/%Y')\n",
    "print(\"Year: \", year)"
   ]
  },
  {
   "cell_type": "code",
   "execution_count": 103,
   "id": "36e4775f",
   "metadata": {},
   "outputs": [
    {
     "name": "stdout",
     "output_type": "stream",
     "text": [
      "Year:  15/02/2022\n"
     ]
    }
   ],
   "source": [
    "year = now.strftime('%d/%m/%Y')\n",
    "print(\"Year: \", year)"
   ]
  },
  {
   "cell_type": "code",
   "execution_count": 105,
   "id": "42f584ee",
   "metadata": {},
   "outputs": [
    {
     "data": {
      "text/plain": [
       "'15/02/2022, 11:04:04'"
      ]
     },
     "execution_count": 105,
     "metadata": {},
     "output_type": "execute_result"
    }
   ],
   "source": [
    "date_time = now.strftime(\"%d/%m/%Y, %H:%M:%S\")\n",
    "date_time"
   ]
  },
  {
   "cell_type": "code",
   "execution_count": 108,
   "id": "2cac6bb9",
   "metadata": {},
   "outputs": [
    {
     "ename": "ValueError",
     "evalue": "Invalid format string",
     "output_type": "error",
     "traceback": [
      "\u001b[1;31m---------------------------------------------------------------------------\u001b[0m",
      "\u001b[1;31mValueError\u001b[0m                                Traceback (most recent call last)",
      "\u001b[1;32m<ipython-input-108-d2f4e56cc497>\u001b[0m in \u001b[0;36m<module>\u001b[1;34m\u001b[0m\n\u001b[1;32m----> 1\u001b[1;33m \u001b[0mdate_time\u001b[0m \u001b[1;33m=\u001b[0m \u001b[0mnow\u001b[0m\u001b[1;33m.\u001b[0m\u001b[0mstrftime\u001b[0m\u001b[1;33m(\u001b[0m\u001b[1;34m\"%d/%m/%Y, %h:%m:%s\"\u001b[0m\u001b[1;33m)\u001b[0m\u001b[1;33m\u001b[0m\u001b[1;33m\u001b[0m\u001b[0m\n\u001b[0m\u001b[0;32m      2\u001b[0m \u001b[0mdate_time\u001b[0m\u001b[1;33m\u001b[0m\u001b[1;33m\u001b[0m\u001b[0m\n",
      "\u001b[1;31mValueError\u001b[0m: Invalid format string"
     ]
    }
   ],
   "source": [
    "date_time = now.strftime(\"%d/%m/%Y, %h:%m:%s\")\n",
    "date_time"
   ]
  },
  {
   "cell_type": "markdown",
   "id": "6cf376f3",
   "metadata": {},
   "source": [
    "Directive in Date, Time Module"
   ]
  },
  {
   "cell_type": "code",
   "execution_count": 110,
   "id": "55dc78e9",
   "metadata": {},
   "outputs": [
    {
     "data": {
      "text/plain": [
       "datetime.datetime(2022, 2, 15, 11, 4, 4, 529872)"
      ]
     },
     "execution_count": 110,
     "metadata": {},
     "output_type": "execute_result"
    }
   ],
   "source": [
    "now"
   ]
  },
  {
   "cell_type": "code",
   "execution_count": 109,
   "id": "fe9138e5",
   "metadata": {},
   "outputs": [
    {
     "data": {
      "text/plain": [
       "'Tue'"
      ]
     },
     "execution_count": 109,
     "metadata": {},
     "output_type": "execute_result"
    }
   ],
   "source": [
    "now.strftime('%a')          # Weekday, short version"
   ]
  },
  {
   "cell_type": "code",
   "execution_count": 111,
   "id": "9fc07456",
   "metadata": {},
   "outputs": [
    {
     "data": {
      "text/plain": [
       "'Tuesday'"
      ]
     },
     "execution_count": 111,
     "metadata": {},
     "output_type": "execute_result"
    }
   ],
   "source": [
    "now.strftime('%A')          # Weekday, full version"
   ]
  },
  {
   "cell_type": "code",
   "execution_count": 112,
   "id": "07a623a7",
   "metadata": {},
   "outputs": [
    {
     "data": {
      "text/plain": [
       "'2'"
      ]
     },
     "execution_count": 112,
     "metadata": {},
     "output_type": "execute_result"
    }
   ],
   "source": [
    "now.strftime('%w')          # Weekday, as a number (0, 6), 0 is Sunday"
   ]
  },
  {
   "cell_type": "code",
   "execution_count": 136,
   "id": "1acf5f20",
   "metadata": {},
   "outputs": [
    {
     "data": {
      "text/plain": [
       "'15'"
      ]
     },
     "execution_count": 136,
     "metadata": {},
     "output_type": "execute_result"
    }
   ],
   "source": [
    "now.strftime('%d')          # Day of month (01 -- 31)"
   ]
  },
  {
   "cell_type": "code",
   "execution_count": 113,
   "id": "d3a5df9f",
   "metadata": {},
   "outputs": [
    {
     "data": {
      "text/plain": [
       "'Feb'"
      ]
     },
     "execution_count": 113,
     "metadata": {},
     "output_type": "execute_result"
    }
   ],
   "source": [
    "now.strftime('%b')          # Month name, short version"
   ]
  },
  {
   "cell_type": "code",
   "execution_count": 114,
   "id": "6750d972",
   "metadata": {},
   "outputs": [
    {
     "data": {
      "text/plain": [
       "'February'"
      ]
     },
     "execution_count": 114,
     "metadata": {},
     "output_type": "execute_result"
    }
   ],
   "source": [
    "now.strftime('%B')          # Month name, full version"
   ]
  },
  {
   "cell_type": "code",
   "execution_count": 115,
   "id": "6e56dfbf",
   "metadata": {},
   "outputs": [
    {
     "data": {
      "text/plain": [
       "'02'"
      ]
     },
     "execution_count": 115,
     "metadata": {},
     "output_type": "execute_result"
    }
   ],
   "source": [
    "now.strftime('%m')          # Month, as a number (01 -- 12)"
   ]
  },
  {
   "cell_type": "code",
   "execution_count": 117,
   "id": "099105fc",
   "metadata": {},
   "outputs": [
    {
     "data": {
      "text/plain": [
       "'22'"
      ]
     },
     "execution_count": 117,
     "metadata": {},
     "output_type": "execute_result"
    }
   ],
   "source": [
    "now.strftime('%y')         # Year, short form, without century"
   ]
  },
  {
   "cell_type": "code",
   "execution_count": 118,
   "id": "d21f4646",
   "metadata": {},
   "outputs": [
    {
     "data": {
      "text/plain": [
       "'2022'"
      ]
     },
     "execution_count": 118,
     "metadata": {},
     "output_type": "execute_result"
    }
   ],
   "source": [
    "now.strftime('%Y')          # Year, full version"
   ]
  },
  {
   "cell_type": "code",
   "execution_count": null,
   "id": "35367f86",
   "metadata": {},
   "outputs": [],
   "source": []
  },
  {
   "cell_type": "code",
   "execution_count": 126,
   "id": "a3a4debc",
   "metadata": {},
   "outputs": [
    {
     "data": {
      "text/plain": [
       "'11:04'"
      ]
     },
     "execution_count": 126,
     "metadata": {},
     "output_type": "execute_result"
    }
   ],
   "source": [
    "now.strftime('%H:%M')"
   ]
  },
  {
   "cell_type": "markdown",
   "id": "7b488833",
   "metadata": {},
   "source": [
    "Exercise"
   ]
  },
  {
   "cell_type": "code",
   "execution_count": 131,
   "id": "8f09238b",
   "metadata": {},
   "outputs": [
    {
     "data": {
      "text/plain": [
       "str"
      ]
     },
     "execution_count": 131,
     "metadata": {},
     "output_type": "execute_result"
    }
   ],
   "source": [
    "data_string = \"21 June, 2019\"\n",
    "type(data_string)"
   ]
  },
  {
   "cell_type": "code",
   "execution_count": 133,
   "id": "1f040512",
   "metadata": {},
   "outputs": [
    {
     "data": {
      "text/plain": [
       "datetime.datetime"
      ]
     },
     "execution_count": 133,
     "metadata": {},
     "output_type": "execute_result"
    }
   ],
   "source": [
    "data_object = datetime.strptime(data_string, \"%d %B, %Y\")\n",
    "type(data_object)"
   ]
  },
  {
   "cell_type": "code",
   "execution_count": 134,
   "id": "4c947345",
   "metadata": {},
   "outputs": [],
   "source": [
    "string = \"30/01/2021\"\n",
    "object_ = datetime.strptime(string, \"%d/%m/%Y\")"
   ]
  },
  {
   "cell_type": "code",
   "execution_count": 135,
   "id": "aa75931a",
   "metadata": {},
   "outputs": [
    {
     "data": {
      "text/plain": [
       "datetime.datetime"
      ]
     },
     "execution_count": 135,
     "metadata": {},
     "output_type": "execute_result"
    }
   ],
   "source": [
    "type(object_)"
   ]
  },
  {
   "cell_type": "code",
   "execution_count": null,
   "id": "7839ea7e",
   "metadata": {},
   "outputs": [],
   "source": []
  }
 ],
 "metadata": {
  "kernelspec": {
   "display_name": "Python 3",
   "language": "python",
   "name": "python3"
  },
  "language_info": {
   "codemirror_mode": {
    "name": "ipython",
    "version": 3
   },
   "file_extension": ".py",
   "mimetype": "text/x-python",
   "name": "python",
   "nbconvert_exporter": "python",
   "pygments_lexer": "ipython3",
   "version": "3.8.8"
  }
 },
 "nbformat": 4,
 "nbformat_minor": 5
}
