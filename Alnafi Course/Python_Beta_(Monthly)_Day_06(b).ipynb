{
 "cells": [
  {
   "cell_type": "markdown",
   "id": "6eab6269",
   "metadata": {},
   "source": [
    "# OS Module"
   ]
  },
  {
   "cell_type": "code",
   "execution_count": 1,
   "id": "c4f7b83e",
   "metadata": {},
   "outputs": [],
   "source": [
    "import os"
   ]
  },
  {
   "cell_type": "code",
   "execution_count": 2,
   "id": "4020e2b4",
   "metadata": {},
   "outputs": [
    {
     "data": {
      "text/plain": [
       "'C:\\\\Users\\\\razat'"
      ]
     },
     "execution_count": 2,
     "metadata": {},
     "output_type": "execute_result"
    }
   ],
   "source": [
    "os.getcwd()"
   ]
  },
  {
   "cell_type": "code",
   "execution_count": 3,
   "id": "71ceeec3",
   "metadata": {},
   "outputs": [
    {
     "data": {
      "text/plain": [
       "['.bash_history',\n",
       " '.conda',\n",
       " '.condarc',\n",
       " '.continuum',\n",
       " '.gitconfig',\n",
       " '.idlerc',\n",
       " '.ipynb_checkpoints',\n",
       " '.ipython',\n",
       " '.jupyter',\n",
       " '.lesshst',\n",
       " '.matplotlib',\n",
       " '.ssh',\n",
       " '.VirtualBox',\n",
       " '.vscode',\n",
       " '3D Objects',\n",
       " 'anaconda3',\n",
       " 'AppData',\n",
       " 'Application Data',\n",
       " 'chapter 07.ipynb',\n",
       " 'Chapter 08 Functions and Recursions.ipynb',\n",
       " 'Chapter 08.ipynb',\n",
       " 'Chapter 1  Modules, Comments & Pip.ipynb',\n",
       " 'Chapter 2  Variables & Datatypes.ipynb',\n",
       " 'Chapter 3 Strings.ipynb',\n",
       " 'Chapter 4 Lists & Tuples.ipynb',\n",
       " 'Chapter 5 Dictionary & Sets.ipynb',\n",
       " 'Chapter 6 Conditional Expressions.ipynb',\n",
       " 'Chapter 7 Loops in Python.ipynb',\n",
       " 'Chapter_5_Dictionary_&_Sets.ipynb',\n",
       " 'Chapter_6_Conditional_Expressions.ipynb',\n",
       " 'Chapter_7_Loops_in_Python.ipynb',\n",
       " 'Contacts',\n",
       " 'Cookies',\n",
       " 'Data science class 03.ipynb',\n",
       " 'Data science class 2.ipynb',\n",
       " 'Desktop',\n",
       " 'Documents',\n",
       " 'Downloads',\n",
       " 'Favorites',\n",
       " 'Geekletters.txt',\n",
       " 'Greekletters.txt',\n",
       " 'HELP Command.ipynb',\n",
       " 'IntelGraphicsProfiles',\n",
       " 'Links',\n",
       " 'Local Settings',\n",
       " 'Music',\n",
       " 'My Documents',\n",
       " 'My Drivers',\n",
       " 'myfile.txt',\n",
       " 'NetHood',\n",
       " 'NTUSER.DAT',\n",
       " 'ntuser.dat.LOG1',\n",
       " 'ntuser.dat.LOG2',\n",
       " 'NTUSER.DAT{53b39e88-18c4-11ea-a811-000d3aa4692b}.TM.blf',\n",
       " 'NTUSER.DAT{53b39e88-18c4-11ea-a811-000d3aa4692b}.TMContainer00000000000000000001.regtrans-ms',\n",
       " 'NTUSER.DAT{53b39e88-18c4-11ea-a811-000d3aa4692b}.TMContainer00000000000000000002.regtrans-ms',\n",
       " 'ntuser.ini',\n",
       " 'OneDrive',\n",
       " 'Phonenumbers.ipynb',\n",
       " 'Pictures',\n",
       " 'PrintHood',\n",
       " 'Python_Alpha_(Monthly)_Day_01.ipynb',\n",
       " 'Python_Alpha_(Monthly)_Day_02.ipynb',\n",
       " 'Python_Alpha_(Monthly)_Day_03.ipynb',\n",
       " 'Python_Alpha_(Monthly)_Day_04.ipynb',\n",
       " 'Python_Alpha_(Monthly)_Day_05.ipynb',\n",
       " 'Python_Alpha_(Monthly)_Day_06.ipynb',\n",
       " 'Python_Beta_(Monthly)_Day_01.ipynb',\n",
       " 'Python_Beta_(Monthly)_Day_02(a).ipynb',\n",
       " 'Python_Beta_(Monthly)_Day_02(b).ipynb',\n",
       " 'Python_Beta_(Monthly)_Day_02(c).ipynb',\n",
       " 'Python_Beta_(Monthly)_Day_02(d).ipynb',\n",
       " 'Python_Beta_(Monthly)_Day_03(a).ipynb',\n",
       " 'Python_Beta_(Monthly)_Day_03(b).ipynb',\n",
       " 'Python_Beta_(Monthly)_Day_03(c).ipynb',\n",
       " 'Python_Beta_(Monthly)_Day_03(d).ipynb',\n",
       " 'Python_Beta_(Monthly)_Day_04(a).ipynb',\n",
       " 'Python_Beta_(Monthly)_Day_04(b).ipynb',\n",
       " 'Python_Beta_(Monthly)_Day_04(c).ipynb',\n",
       " 'Python_Beta_(Monthly)_Day_05(a).ipynb',\n",
       " 'Python_Beta_(Monthly)_Day_05(b).ipynb',\n",
       " 'Python_Beta_(Monthly)_Day_05(c).ipynb',\n",
       " 'Python_Beta_(Monthly)_Day_06(a).ipynb',\n",
       " 'Python_Beta_(Monthly)_Day_06(b).ipynb',\n",
       " 'Python_Beta_(Monthly)_Day_07(a).ipynb',\n",
       " 'Python_Beta_(Monthly)_Day_07(b).ipynb',\n",
       " 'Python_Beta_(Monthly)_Day_08(a).ipynb',\n",
       " 'Python_Beta_(Monthly)_Day_08(b).ipynb',\n",
       " 'Python_Beta_(Monthly)_Day_09(a).ipynb',\n",
       " 'Python_Beta_(Monthly)_List_Comprehensions.ipynb',\n",
       " 'Python_Primer_(Monthly)_Day_01.ipynb',\n",
       " 'Python_Primer_(Monthly)_Day_02.ipynb',\n",
       " 'Recent',\n",
       " 'Saved Games',\n",
       " 'Searches',\n",
       " 'SendTo',\n",
       " 'Start Menu',\n",
       " 'Templates',\n",
       " 'Untitled1.ipynb',\n",
       " 'Untitled2.ipynb',\n",
       " 'Videos']"
      ]
     },
     "execution_count": 3,
     "metadata": {},
     "output_type": "execute_result"
    }
   ],
   "source": [
    "os.listdir()"
   ]
  },
  {
   "cell_type": "code",
   "execution_count": 8,
   "id": "610e9519",
   "metadata": {},
   "outputs": [],
   "source": [
    "os.chdir('D:\\\\')"
   ]
  },
  {
   "cell_type": "code",
   "execution_count": 9,
   "id": "45e59fc6",
   "metadata": {},
   "outputs": [],
   "source": [
    "os.mkdir(\"D:\\\\OsModule\")"
   ]
  },
  {
   "cell_type": "code",
   "execution_count": 10,
   "id": "fbbf87b6",
   "metadata": {},
   "outputs": [],
   "source": [
    "os.mkdir(\"D:\\\\OsModule\\PracticePart_02\")"
   ]
  },
  {
   "cell_type": "code",
   "execution_count": 11,
   "id": "5f0d4741",
   "metadata": {},
   "outputs": [
    {
     "data": {
      "text/plain": [
       "True"
      ]
     },
     "execution_count": 11,
     "metadata": {},
     "output_type": "execute_result"
    }
   ],
   "source": [
    "os.path.exists(\"D:\\\\OsModule\\PracticePart_02\")"
   ]
  },
  {
   "cell_type": "code",
   "execution_count": 12,
   "id": "643a9dbe",
   "metadata": {},
   "outputs": [
    {
     "data": {
      "text/plain": [
       "False"
      ]
     },
     "execution_count": 12,
     "metadata": {},
     "output_type": "execute_result"
    }
   ],
   "source": [
    "os.path.exists(\"F:\\\\\")"
   ]
  },
  {
   "cell_type": "code",
   "execution_count": 13,
   "id": "94dc75a4",
   "metadata": {},
   "outputs": [],
   "source": [
    "os.chdir(\"D:\\\\OsModule\\PracticePart_02\")"
   ]
  },
  {
   "cell_type": "code",
   "execution_count": 14,
   "id": "d336f646",
   "metadata": {},
   "outputs": [
    {
     "data": {
      "text/plain": [
       "<function ntpath.join(path, *paths)>"
      ]
     },
     "execution_count": 14,
     "metadata": {},
     "output_type": "execute_result"
    }
   ],
   "source": [
    "os.path.join"
   ]
  },
  {
   "cell_type": "code",
   "execution_count": 15,
   "id": "cc1553e1",
   "metadata": {},
   "outputs": [
    {
     "data": {
      "text/plain": [
       "'D:\\\\D\\\\o\\\\c\\\\u\\\\m\\\\e\\\\n\\\\t\\\\s'"
      ]
     },
     "execution_count": 15,
     "metadata": {},
     "output_type": "execute_result"
    }
   ],
   "source": [
    "os.path.join(\"D:\\\\OsModule\\PracticePart_02\", *\"D:\\\\Documents\\\\Documents\")"
   ]
  },
  {
   "cell_type": "code",
   "execution_count": 16,
   "id": "4e5f4c8f",
   "metadata": {},
   "outputs": [
    {
     "data": {
      "text/plain": [
       "<function ntpath.split(p)>"
      ]
     },
     "execution_count": 16,
     "metadata": {},
     "output_type": "execute_result"
    }
   ],
   "source": [
    "os.path.split"
   ]
  },
  {
   "cell_type": "code",
   "execution_count": 17,
   "id": "9af5f62a",
   "metadata": {},
   "outputs": [
    {
     "data": {
      "text/plain": [
       "('D:\\\\OsModule', 'PracticePart_02')"
      ]
     },
     "execution_count": 17,
     "metadata": {},
     "output_type": "execute_result"
    }
   ],
   "source": [
    "os.path.split(\"D:\\\\OsModule\\PracticePart_02\")"
   ]
  },
  {
   "cell_type": "code",
   "execution_count": 18,
   "id": "3b5f4982",
   "metadata": {},
   "outputs": [
    {
     "data": {
      "text/plain": [
       "False"
      ]
     },
     "execution_count": 18,
     "metadata": {},
     "output_type": "execute_result"
    }
   ],
   "source": [
    "os.path.isfile(\"D:\\\\OsModule\\PracticePart_02\")"
   ]
  },
  {
   "cell_type": "code",
   "execution_count": 19,
   "id": "74b39ef1",
   "metadata": {},
   "outputs": [
    {
     "data": {
      "text/plain": [
       "False"
      ]
     },
     "execution_count": 19,
     "metadata": {},
     "output_type": "execute_result"
    }
   ],
   "source": [
    "os.path.isfile(\"PracticePart_02\")"
   ]
  },
  {
   "cell_type": "code",
   "execution_count": 20,
   "id": "8a924622",
   "metadata": {},
   "outputs": [
    {
     "data": {
      "text/plain": [
       "<function genericpath.isfile(path)>"
      ]
     },
     "execution_count": 20,
     "metadata": {},
     "output_type": "execute_result"
    }
   ],
   "source": [
    "os.path.isfile"
   ]
  },
  {
   "cell_type": "code",
   "execution_count": 24,
   "id": "04e2f8bd",
   "metadata": {},
   "outputs": [
    {
     "data": {
      "text/plain": [
       "True"
      ]
     },
     "execution_count": 24,
     "metadata": {},
     "output_type": "execute_result"
    }
   ],
   "source": [
    "os.path.isfile(\"D:\\\\Windows.iso\")"
   ]
  },
  {
   "cell_type": "code",
   "execution_count": 23,
   "id": "b3f80bae",
   "metadata": {},
   "outputs": [
    {
     "data": {
      "text/plain": [
       "True"
      ]
     },
     "execution_count": 23,
     "metadata": {},
     "output_type": "execute_result"
    }
   ],
   "source": [
    "os.path.isdir(\"D:\\\\OsModule\\PracticePart_02\")"
   ]
  },
  {
   "cell_type": "code",
   "execution_count": 25,
   "id": "b27200a9",
   "metadata": {},
   "outputs": [
    {
     "data": {
      "text/plain": [
       "False"
      ]
     },
     "execution_count": 25,
     "metadata": {},
     "output_type": "execute_result"
    }
   ],
   "source": [
    "os.path.isdir(\"D:\\\\Windows.iso\")"
   ]
  },
  {
   "cell_type": "code",
   "execution_count": 27,
   "id": "23296567",
   "metadata": {},
   "outputs": [],
   "source": [
    "os.mkdir(\"D:\\\\OsModule\\osmkdir\")"
   ]
  },
  {
   "cell_type": "code",
   "execution_count": 28,
   "id": "f43d3e56",
   "metadata": {},
   "outputs": [],
   "source": [
    "os.makedirs(\"D:\\\\OsModule\\makedirs\")"
   ]
  },
  {
   "cell_type": "code",
   "execution_count": 29,
   "id": "fad25b9a",
   "metadata": {},
   "outputs": [
    {
     "data": {
      "text/plain": [
       "<function nt.remove(path, *, dir_fd=None)>"
      ]
     },
     "execution_count": 29,
     "metadata": {},
     "output_type": "execute_result"
    }
   ],
   "source": [
    "os.remove"
   ]
  },
  {
   "cell_type": "code",
   "execution_count": 30,
   "id": "77a1bcaf",
   "metadata": {},
   "outputs": [
    {
     "ename": "OSError",
     "evalue": "[WinError 123] The filename, directory name, or volume label syntax is incorrect: '\\u202aD:\\\\OsModule\\\\zoom meeting.tx'",
     "output_type": "error",
     "traceback": [
      "\u001b[1;31m---------------------------------------------------------------------------\u001b[0m",
      "\u001b[1;31mOSError\u001b[0m                                   Traceback (most recent call last)",
      "\u001b[1;32m<ipython-input-30-8b4fcd7f0c47>\u001b[0m in \u001b[0;36m<module>\u001b[1;34m\u001b[0m\n\u001b[1;32m----> 1\u001b[1;33m \u001b[0mos\u001b[0m\u001b[1;33m.\u001b[0m\u001b[0mremove\u001b[0m\u001b[1;33m(\u001b[0m\u001b[1;34m\"‪D:\\\\OsModule\\\\zoom meeting.tx\"\u001b[0m\u001b[1;33m)\u001b[0m\u001b[1;33m\u001b[0m\u001b[1;33m\u001b[0m\u001b[0m\n\u001b[0m",
      "\u001b[1;31mOSError\u001b[0m: [WinError 123] The filename, directory name, or volume label syntax is incorrect: '\\u202aD:\\\\OsModule\\\\zoom meeting.tx'"
     ]
    }
   ],
   "source": [
    "os.remove(\"‪D:\\\\OsModule\\\\zoom meeting.tx\", )"
   ]
  },
  {
   "cell_type": "code",
   "execution_count": 31,
   "id": "fba9b7d8",
   "metadata": {},
   "outputs": [],
   "source": [
    "os.removedirs(\"D:\\\\OsModule\\makedirs\")"
   ]
  },
  {
   "cell_type": "code",
   "execution_count": null,
   "id": "a106572b",
   "metadata": {},
   "outputs": [],
   "source": []
  }
 ],
 "metadata": {
  "kernelspec": {
   "display_name": "Python 3",
   "language": "python",
   "name": "python3"
  },
  "language_info": {
   "codemirror_mode": {
    "name": "ipython",
    "version": 3
   },
   "file_extension": ".py",
   "mimetype": "text/x-python",
   "name": "python",
   "nbconvert_exporter": "python",
   "pygments_lexer": "ipython3",
   "version": "3.8.8"
  }
 },
 "nbformat": 4,
 "nbformat_minor": 5
}
