{
 "cells": [
  {
   "cell_type": "markdown",
   "id": "08466ff7",
   "metadata": {},
   "source": [
    "# Introspection"
   ]
  },
  {
   "cell_type": "code",
   "execution_count": 1,
   "id": "a2502f8e",
   "metadata": {},
   "outputs": [],
   "source": [
    "my_var = \"This is a variable\"\n",
    "my_num = 234.78\n",
    "class Greeter:\n",
    "    def __init__(self, name):\n",
    "        self.name = name\n",
    "    def say_hello(self):\n",
    "        print(\"Hello {}!\".format(self.name))\n",
    "    def say_goodbye(self):\n",
    "        print(\"Goodbye {}!\".format(self.name))\n",
    "my_greeter = Greeter('Harry')"
   ]
  },
  {
   "cell_type": "markdown",
   "id": "776ebdba",
   "metadata": {},
   "source": [
    "Check available Methods"
   ]
  },
  {
   "cell_type": "code",
   "execution_count": 2,
   "id": "e61ee688",
   "metadata": {},
   "outputs": [
    {
     "name": "stdout",
     "output_type": "stream",
     "text": [
      "Get id, type and available methods and attributes for Greeter class: \n",
      "2042501135472\n",
      "<class '__main__.Greeter'>\n",
      "['__class__', '__delattr__', '__dict__', '__dir__', '__doc__', '__eq__', '__format__', '__ge__', '__getattribute__', '__gt__', '__hash__', '__init__', '__init_subclass__', '__le__', '__lt__', '__module__', '__ne__', '__new__', '__reduce__', '__reduce_ex__', '__repr__', '__setattr__', '__sizeof__', '__str__', '__subclasshook__', '__weakref__', 'name', 'say_goodbye', 'say_hello']\n"
     ]
    }
   ],
   "source": [
    "print(\"Get id, type and available methods and attributes for Greeter class: \")\n",
    "print(id(my_greeter))\n",
    "print(type(my_greeter))\n",
    "print(dir(my_greeter))"
   ]
  },
  {
   "cell_type": "code",
   "execution_count": 3,
   "id": "9c3c8c38",
   "metadata": {},
   "outputs": [
    {
     "name": "stdout",
     "output_type": "stream",
     "text": [
      "\n",
      "Check id, type and available methods for a variable containing stringvalue: \n",
      "2042491809424\n",
      "<class 'str'>\n",
      "['__add__', '__class__', '__contains__', '__delattr__', '__dir__', '__doc__', '__eq__', '__format__', '__ge__', '__getattribute__', '__getitem__', '__getnewargs__', '__gt__', '__hash__', '__init__', '__init_subclass__', '__iter__', '__le__', '__len__', '__lt__', '__mod__', '__mul__', '__ne__', '__new__', '__reduce__', '__reduce_ex__', '__repr__', '__rmod__', '__rmul__', '__setattr__', '__sizeof__', '__str__', '__subclasshook__', 'capitalize', 'casefold', 'center', 'count', 'encode', 'endswith', 'expandtabs', 'find', 'format', 'format_map', 'index', 'isalnum', 'isalpha', 'isascii', 'isdecimal', 'isdigit', 'isidentifier', 'islower', 'isnumeric', 'isprintable', 'isspace', 'istitle', 'isupper', 'join', 'ljust', 'lower', 'lstrip', 'maketrans', 'partition', 'replace', 'rfind', 'rindex', 'rjust', 'rpartition', 'rsplit', 'rstrip', 'split', 'splitlines', 'startswith', 'strip', 'swapcase', 'title', 'translate', 'upper', 'zfill']\n"
     ]
    }
   ],
   "source": [
    "print(\"\\nCheck id, type and available methods for a variable containing stringvalue: \")\n",
    "print(id(my_var))\n",
    "print(type(my_var))\n",
    "print(dir(my_var))"
   ]
  },
  {
   "cell_type": "code",
   "execution_count": 4,
   "id": "242b77e5",
   "metadata": {},
   "outputs": [
    {
     "name": "stdout",
     "output_type": "stream",
     "text": [
      "\n",
      "Check id, type and available methods for a variable containing numeric value: \n",
      "2042472269616\n",
      "<class 'float'>\n",
      "['__abs__', '__add__', '__bool__', '__class__', '__delattr__', '__dir__', '__divmod__', '__doc__', '__eq__', '__float__', '__floordiv__', '__format__', '__ge__', '__getattribute__', '__getformat__', '__getnewargs__', '__gt__', '__hash__', '__init__', '__init_subclass__', '__int__', '__le__', '__lt__', '__mod__', '__mul__', '__ne__', '__neg__', '__new__', '__pos__', '__pow__', '__radd__', '__rdivmod__', '__reduce__', '__reduce_ex__', '__repr__', '__rfloordiv__', '__rmod__', '__rmul__', '__round__', '__rpow__', '__rsub__', '__rtruediv__', '__set_format__', '__setattr__', '__sizeof__', '__str__', '__sub__', '__subclasshook__', '__truediv__', '__trunc__', 'as_integer_ratio', 'conjugate', 'fromhex', 'hex', 'imag', 'is_integer', 'real']\n"
     ]
    }
   ],
   "source": [
    "print(\"\\nCheck id, type and available methods for a variable containing numeric value: \")\n",
    "print(id(my_num))\n",
    "print(type(my_num))\n",
    "print(dir(my_num))"
   ]
  },
  {
   "cell_type": "markdown",
   "id": "baa14ada",
   "metadata": {},
   "source": [
    "# Inspect Module"
   ]
  },
  {
   "cell_type": "code",
   "execution_count": 5,
   "id": "35b17030",
   "metadata": {},
   "outputs": [],
   "source": [
    "import inspect\n",
    "import os\n",
    "var = \"Hello\"\n",
    "class Greeter:\n",
    "    def __init__(self, name):\n",
    "        self.name = name\n",
    "    def say_hello(self):\n",
    "        print(\"Hello {}!\".format(self.name))\n",
    "    def say_goodbye(self):\n",
    "        print(\"Goodbye {}!\".format(self.name))\n",
    "my_greeter =Greeter(\"Jhon Harry\")"
   ]
  },
  {
   "cell_type": "code",
   "execution_count": null,
   "id": "94ddd435",
   "metadata": {},
   "outputs": [],
   "source": [
    "##  Used of Lambda Function"
   ]
  },
  {
   "cell_type": "code",
   "execution_count": 6,
   "id": "4c177c45",
   "metadata": {},
   "outputs": [],
   "source": [
    "exp = lambda x: x*x"
   ]
  },
  {
   "cell_type": "code",
   "execution_count": null,
   "id": "4d51db46",
   "metadata": {},
   "outputs": [],
   "source": [
    "##  Normal Python user-defined Function/Method"
   ]
  },
  {
   "cell_type": "code",
   "execution_count": 7,
   "id": "7a6f495b",
   "metadata": {},
   "outputs": [],
   "source": [
    "def show_name_age(First_name:str, Last_name:str, age:int):\n",
    "    print(\"{} {} is {} years old\".format(First_name, Last_name, age))"
   ]
  },
  {
   "cell_type": "code",
   "execution_count": 9,
   "id": "9079568a",
   "metadata": {},
   "outputs": [
    {
     "name": "stdout",
     "output_type": "stream",
     "text": [
      "\n",
      "Checking if os is a Module:  True\n",
      "\n",
      "Checking if var is a Module:  False\n",
      "\n",
      "Checking if my_greeter is a Class:  False\n",
      "\n",
      "Checking if os is a Module:  True\n",
      "\n",
      "INSPECT ISMETHOD VS. ISFUNCTION COMPARISON\n",
      "ISMETHOD: \n",
      "show_name_age:  False exp:  False Greeter.say_hello:  True\n",
      "ISFUNCTION: \n",
      "show_name_age:  True exp:  True Greeter.say_hello:  False\n"
     ]
    }
   ],
   "source": [
    "inspect.getmembers(my_greeter)          # returns the numbers of the class my_greeter\n",
    "print(\"\\nChecking if os is a Module: \", inspect.ismodule(os))\n",
    "print(\"\\nChecking if var is a Module: \", inspect.ismodule(var))\n",
    "print(\"\\nChecking if my_greeter is a Class: \", inspect.isclass(my_greeter))\n",
    "print(\"\\nChecking if os is a Module: \", inspect.ismodule(os))\n",
    "print(\"\\nInspect ismethod vs. isfunction comparison\".upper())\n",
    "print(\"ISMETHOD: \\nshow_name_age: \", inspect.ismethod(show_name_age), 'exp: ', inspect.ismethod(exp), \"Greeter.say_hello: \", inspect.ismethod(my_greeter.say_hello))\n",
    "print(\"ISFUNCTION: \\nshow_name_age: \", inspect.isfunction(show_name_age), 'exp: ', inspect.isfunction(exp), \"Greeter.say_hello: \", inspect.isfunction(my_greeter.say_hello))"
   ]
  },
  {
   "cell_type": "code",
   "execution_count": 10,
   "id": "8eb09e45",
   "metadata": {},
   "outputs": [
    {
     "data": {
      "text/plain": [
       "[('__add__', <method-wrapper '__add__' of str object at 0x000001DB8E7755F0>),\n",
       " ('__class__', str),\n",
       " ('__contains__',\n",
       "  <method-wrapper '__contains__' of str object at 0x000001DB8E7755F0>),\n",
       " ('__delattr__',\n",
       "  <method-wrapper '__delattr__' of str object at 0x000001DB8E7755F0>),\n",
       " ('__dir__', <function str.__dir__()>),\n",
       " ('__doc__',\n",
       "  \"str(object='') -> str\\nstr(bytes_or_buffer[, encoding[, errors]]) -> str\\n\\nCreate a new string object from the given object. If encoding or\\nerrors is specified, then the object must expose a data buffer\\nthat will be decoded using the given encoding and error handler.\\nOtherwise, returns the result of object.__str__() (if defined)\\nor repr(object).\\nencoding defaults to sys.getdefaultencoding().\\nerrors defaults to 'strict'.\"),\n",
       " ('__eq__', <method-wrapper '__eq__' of str object at 0x000001DB8E7755F0>),\n",
       " ('__format__', <function str.__format__(format_spec, /)>),\n",
       " ('__ge__', <method-wrapper '__ge__' of str object at 0x000001DB8E7755F0>),\n",
       " ('__getattribute__',\n",
       "  <method-wrapper '__getattribute__' of str object at 0x000001DB8E7755F0>),\n",
       " ('__getitem__',\n",
       "  <method-wrapper '__getitem__' of str object at 0x000001DB8E7755F0>),\n",
       " ('__getnewargs__', <function str.__getnewargs__>),\n",
       " ('__gt__', <method-wrapper '__gt__' of str object at 0x000001DB8E7755F0>),\n",
       " ('__hash__', <method-wrapper '__hash__' of str object at 0x000001DB8E7755F0>),\n",
       " ('__init__', <method-wrapper '__init__' of str object at 0x000001DB8E7755F0>),\n",
       " ('__init_subclass__', <function str.__init_subclass__>),\n",
       " ('__iter__', <method-wrapper '__iter__' of str object at 0x000001DB8E7755F0>),\n",
       " ('__le__', <method-wrapper '__le__' of str object at 0x000001DB8E7755F0>),\n",
       " ('__len__', <method-wrapper '__len__' of str object at 0x000001DB8E7755F0>),\n",
       " ('__lt__', <method-wrapper '__lt__' of str object at 0x000001DB8E7755F0>),\n",
       " ('__mod__', <method-wrapper '__mod__' of str object at 0x000001DB8E7755F0>),\n",
       " ('__mul__', <method-wrapper '__mul__' of str object at 0x000001DB8E7755F0>),\n",
       " ('__ne__', <method-wrapper '__ne__' of str object at 0x000001DB8E7755F0>),\n",
       " ('__new__', <function str.__new__(*args, **kwargs)>),\n",
       " ('__reduce__', <function str.__reduce__()>),\n",
       " ('__reduce_ex__', <function str.__reduce_ex__(protocol, /)>),\n",
       " ('__repr__', <method-wrapper '__repr__' of str object at 0x000001DB8E7755F0>),\n",
       " ('__rmod__', <method-wrapper '__rmod__' of str object at 0x000001DB8E7755F0>),\n",
       " ('__rmul__', <method-wrapper '__rmul__' of str object at 0x000001DB8E7755F0>),\n",
       " ('__setattr__',\n",
       "  <method-wrapper '__setattr__' of str object at 0x000001DB8E7755F0>),\n",
       " ('__sizeof__', <function str.__sizeof__()>),\n",
       " ('__str__', <method-wrapper '__str__' of str object at 0x000001DB8E7755F0>),\n",
       " ('__subclasshook__', <function str.__subclasshook__>),\n",
       " ('capitalize', <function str.capitalize()>),\n",
       " ('casefold', <function str.casefold()>),\n",
       " ('center', <function str.center(width, fillchar=' ', /)>),\n",
       " ('count', <function str.count>),\n",
       " ('encode', <function str.encode(encoding='utf-8', errors='strict')>),\n",
       " ('endswith', <function str.endswith>),\n",
       " ('expandtabs', <function str.expandtabs(tabsize=8)>),\n",
       " ('find', <function str.find>),\n",
       " ('format', <function str.format>),\n",
       " ('format_map', <function str.format_map>),\n",
       " ('index', <function str.index>),\n",
       " ('isalnum', <function str.isalnum()>),\n",
       " ('isalpha', <function str.isalpha()>),\n",
       " ('isascii', <function str.isascii()>),\n",
       " ('isdecimal', <function str.isdecimal()>),\n",
       " ('isdigit', <function str.isdigit()>),\n",
       " ('isidentifier', <function str.isidentifier()>),\n",
       " ('islower', <function str.islower()>),\n",
       " ('isnumeric', <function str.isnumeric()>),\n",
       " ('isprintable', <function str.isprintable()>),\n",
       " ('isspace', <function str.isspace()>),\n",
       " ('istitle', <function str.istitle()>),\n",
       " ('isupper', <function str.isupper()>),\n",
       " ('join', <function str.join(iterable, /)>),\n",
       " ('ljust', <function str.ljust(width, fillchar=' ', /)>),\n",
       " ('lower', <function str.lower()>),\n",
       " ('lstrip', <function str.lstrip(chars=None, /)>),\n",
       " ('maketrans', <function str.maketrans>),\n",
       " ('partition', <function str.partition(sep, /)>),\n",
       " ('replace', <function str.replace(old, new, count=-1, /)>),\n",
       " ('rfind', <function str.rfind>),\n",
       " ('rindex', <function str.rindex>),\n",
       " ('rjust', <function str.rjust(width, fillchar=' ', /)>),\n",
       " ('rpartition', <function str.rpartition(sep, /)>),\n",
       " ('rsplit', <function str.rsplit(sep=None, maxsplit=-1)>),\n",
       " ('rstrip', <function str.rstrip(chars=None, /)>),\n",
       " ('split', <function str.split(sep=None, maxsplit=-1)>),\n",
       " ('splitlines', <function str.splitlines(keepends=False)>),\n",
       " ('startswith', <function str.startswith>),\n",
       " ('strip', <function str.strip(chars=None, /)>),\n",
       " ('swapcase', <function str.swapcase()>),\n",
       " ('title', <function str.title()>),\n",
       " ('translate', <function str.translate(table, /)>),\n",
       " ('upper', <function str.upper()>),\n",
       " ('zfill', <function str.zfill(width, /)>)]"
      ]
     },
     "execution_count": 10,
     "metadata": {},
     "output_type": "execute_result"
    }
   ],
   "source": [
    "inspect.getmembers(var)"
   ]
  },
  {
   "cell_type": "code",
   "execution_count": 11,
   "id": "98e9679d",
   "metadata": {},
   "outputs": [
    {
     "data": {
      "text/plain": [
       "[('__class__', __main__.Greeter),\n",
       " ('__delattr__',\n",
       "  <method-wrapper '__delattr__' of Greeter object at 0x000001DB8E7F5910>),\n",
       " ('__dict__', {'name': 'Jhon Harry'}),\n",
       " ('__dir__', <function Greeter.__dir__()>),\n",
       " ('__doc__', None),\n",
       " ('__eq__', <method-wrapper '__eq__' of Greeter object at 0x000001DB8E7F5910>),\n",
       " ('__format__', <function Greeter.__format__(format_spec, /)>),\n",
       " ('__ge__', <method-wrapper '__ge__' of Greeter object at 0x000001DB8E7F5910>),\n",
       " ('__getattribute__',\n",
       "  <method-wrapper '__getattribute__' of Greeter object at 0x000001DB8E7F5910>),\n",
       " ('__gt__', <method-wrapper '__gt__' of Greeter object at 0x000001DB8E7F5910>),\n",
       " ('__hash__',\n",
       "  <method-wrapper '__hash__' of Greeter object at 0x000001DB8E7F5910>),\n",
       " ('__init__',\n",
       "  <bound method Greeter.__init__ of <__main__.Greeter object at 0x000001DB8E7F5910>>),\n",
       " ('__init_subclass__', <function Greeter.__init_subclass__>),\n",
       " ('__le__', <method-wrapper '__le__' of Greeter object at 0x000001DB8E7F5910>),\n",
       " ('__lt__', <method-wrapper '__lt__' of Greeter object at 0x000001DB8E7F5910>),\n",
       " ('__module__', '__main__'),\n",
       " ('__ne__', <method-wrapper '__ne__' of Greeter object at 0x000001DB8E7F5910>),\n",
       " ('__new__', <function object.__new__(*args, **kwargs)>),\n",
       " ('__reduce__', <function Greeter.__reduce__()>),\n",
       " ('__reduce_ex__', <function Greeter.__reduce_ex__(protocol, /)>),\n",
       " ('__repr__',\n",
       "  <method-wrapper '__repr__' of Greeter object at 0x000001DB8E7F5910>),\n",
       " ('__setattr__',\n",
       "  <method-wrapper '__setattr__' of Greeter object at 0x000001DB8E7F5910>),\n",
       " ('__sizeof__', <function Greeter.__sizeof__()>),\n",
       " ('__str__',\n",
       "  <method-wrapper '__str__' of Greeter object at 0x000001DB8E7F5910>),\n",
       " ('__subclasshook__', <function Greeter.__subclasshook__>),\n",
       " ('__weakref__', None),\n",
       " ('name', 'Jhon Harry'),\n",
       " ('say_goodbye',\n",
       "  <bound method Greeter.say_goodbye of <__main__.Greeter object at 0x000001DB8E7F5910>>),\n",
       " ('say_hello',\n",
       "  <bound method Greeter.say_hello of <__main__.Greeter object at 0x000001DB8E7F5910>>)]"
      ]
     },
     "execution_count": 11,
     "metadata": {},
     "output_type": "execute_result"
    }
   ],
   "source": [
    "inspect.getmembers(my_greeter)"
   ]
  },
  {
   "cell_type": "code",
   "execution_count": 12,
   "id": "cb1659fc",
   "metadata": {},
   "outputs": [],
   "source": [
    "import os\n",
    "testvar = 'Hello'\n",
    "exp = lambda x, y: x*y"
   ]
  },
  {
   "cell_type": "code",
   "execution_count": 13,
   "id": "baa83c0f",
   "metadata": {},
   "outputs": [
    {
     "data": {
      "text/plain": [
       "True"
      ]
     },
     "execution_count": 13,
     "metadata": {},
     "output_type": "execute_result"
    }
   ],
   "source": [
    "inspect.ismodule(os)"
   ]
  },
  {
   "cell_type": "code",
   "execution_count": 14,
   "id": "72dfd411",
   "metadata": {},
   "outputs": [
    {
     "data": {
      "text/plain": [
       "True"
      ]
     },
     "execution_count": 14,
     "metadata": {},
     "output_type": "execute_result"
    }
   ],
   "source": [
    "inspect.isfunction(exp)"
   ]
  },
  {
   "cell_type": "code",
   "execution_count": 17,
   "id": "c7d22424",
   "metadata": {},
   "outputs": [
    {
     "data": {
      "text/plain": [
       "False"
      ]
     },
     "execution_count": 17,
     "metadata": {},
     "output_type": "execute_result"
    }
   ],
   "source": [
    "inspect.isfunction(my_greeter.say_goodbye)"
   ]
  },
  {
   "cell_type": "code",
   "execution_count": 18,
   "id": "c1d1815d",
   "metadata": {},
   "outputs": [
    {
     "data": {
      "text/plain": [
       "True"
      ]
     },
     "execution_count": 18,
     "metadata": {},
     "output_type": "execute_result"
    }
   ],
   "source": [
    "inspect.ismethod(my_greeter.say_goodbye)"
   ]
  },
  {
   "cell_type": "code",
   "execution_count": 19,
   "id": "ac7c44c4",
   "metadata": {},
   "outputs": [],
   "source": [
    "##  Normal Python user-defined Function/Method"
   ]
  },
  {
   "cell_type": "code",
   "execution_count": 20,
   "id": "c2e7529b",
   "metadata": {},
   "outputs": [],
   "source": [
    "def show_name_age(First_name:str, Last_name:str, age:int):\n",
    "    print(\"{} {} is {} years old\".format(First_name, Last_name, age))"
   ]
  },
  {
   "cell_type": "code",
   "execution_count": 21,
   "id": "8aece0fa",
   "metadata": {},
   "outputs": [],
   "source": [
    "##  Signature of a Method:- accesses parameters, their inferred or fixed data_types"
   ]
  },
  {
   "cell_type": "code",
   "execution_count": 22,
   "id": "89a23038",
   "metadata": {},
   "outputs": [
    {
     "name": "stdout",
     "output_type": "stream",
     "text": [
      "OrderedDict([('First_name', <Parameter \"First_name: str\">), ('Last_name', <Parameter \"Last_name: str\">), ('age', <Parameter \"age: int\">)])\n",
      "<class 'str'>\n"
     ]
    }
   ],
   "source": [
    "sig = inspect.signature(show_name_age)\n",
    "print(sig.parameters)          ## returns an dictionary with parameters names as keys and description as values\n",
    "print(sig.parameters['First_name'].annotation)          ## Print the type of this parameters"
   ]
  },
  {
   "cell_type": "code",
   "execution_count": 24,
   "id": "384d2be7",
   "metadata": {},
   "outputs": [
    {
     "name": "stdout",
     "output_type": "stream",
     "text": [
      "OrderedDict([('First_name', <Parameter \"First_name: str\">), ('Last_name', <Parameter \"Last_name: str\">), ('age', <Parameter \"age: int\">)])\n"
     ]
    }
   ],
   "source": [
    "sig = inspect.signature(show_name_age)\n",
    "print(sig.parameters)"
   ]
  },
  {
   "cell_type": "code",
   "execution_count": 25,
   "id": "07dc8deb",
   "metadata": {},
   "outputs": [
    {
     "name": "stdout",
     "output_type": "stream",
     "text": [
      "OrderedDict([('sep', <Parameter \"sep=None\">), ('maxsplit', <Parameter \"maxsplit=-1\">)])\n"
     ]
    }
   ],
   "source": [
    "spt = inspect.signature(var.split)\n",
    "print(spt.parameters)"
   ]
  },
  {
   "cell_type": "code",
   "execution_count": null,
   "id": "cc88a0a6",
   "metadata": {},
   "outputs": [],
   "source": []
  }
 ],
 "metadata": {
  "kernelspec": {
   "display_name": "Python 3",
   "language": "python",
   "name": "python3"
  },
  "language_info": {
   "codemirror_mode": {
    "name": "ipython",
    "version": 3
   },
   "file_extension": ".py",
   "mimetype": "text/x-python",
   "name": "python",
   "nbconvert_exporter": "python",
   "pygments_lexer": "ipython3",
   "version": "3.8.8"
  }
 },
 "nbformat": 4,
 "nbformat_minor": 5
}
