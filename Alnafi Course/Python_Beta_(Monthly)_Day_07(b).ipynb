{
 "cells": [
  {
   "cell_type": "markdown",
   "id": "d92debe5",
   "metadata": {},
   "source": [
    "# Sqlite Module"
   ]
  },
  {
   "cell_type": "code",
   "execution_count": 1,
   "id": "a84d2878",
   "metadata": {},
   "outputs": [],
   "source": [
    "import sqlite3\n",
    "from sqlite3 import Error"
   ]
  },
  {
   "cell_type": "code",
   "execution_count": 2,
   "id": "52cc3786",
   "metadata": {},
   "outputs": [],
   "source": [
    "def create_connection(db_file):\n",
    "    \"\"\"Create a database connection to the SQlite database specified db_file \n",
    "    :param db_file: database file\n",
    "    :return: Connection Object or None\n",
    "    \"\"\"\n",
    "    conn = None        ## conn == connection\n",
    "    try:\n",
    "        conn = sqlite3.connect(db_file)\n",
    "        print(\"The SQlite connection is connected\")\n",
    "        return conn\n",
    "    except Error as e:\n",
    "        print(e)\n",
    "    return conn"
   ]
  },
  {
   "cell_type": "code",
   "execution_count": 3,
   "id": "442d9b04",
   "metadata": {},
   "outputs": [],
   "source": [
    "def close_connection(conn):\n",
    "    \"\"\"Close database connection to the SQlite database specified by db_file\n",
    "    :param db_file: database file\n",
    "    \"\"\"\n",
    "    if (conn):\n",
    "        conn.close()\n",
    "        print(\"The SQlite connection is closed\")"
   ]
  },
  {
   "cell_type": "code",
   "execution_count": 1,
   "id": "69129f41",
   "metadata": {},
   "outputs": [],
   "source": [
    "def create_table_in_db(conn, create_table_sql):\n",
    "    \"\"\"create a table from the create_table-sql statement\n",
    "    :param conn: Connection Object\n",
    "    :param create_table_sql: A CREATE TABLE statement\n",
    "    :return:\n",
    "    \"\"\"\n",
    "    try:\n",
    "        c = conn.cursor()\n",
    "        c.execute(create_table_sql)\n",
    "    except Error as e:\n",
    "        print(e)"
   ]
  },
  {
   "cell_type": "code",
   "execution_count": 8,
   "id": "93440e83",
   "metadata": {},
   "outputs": [],
   "source": [
    "def create_table():\n",
    "    database = r\"D:\\\\OsModule\\Database.db\"\n",
    "    sql_create_projects_table = \"\"\"CREATE TABLE IF NOT EXISTS STUDENTS (\n",
    "    id integer PRIMARY KEY,\n",
    "    name text NOT NULL,\n",
    "    gpa integer,\n",
    "    admission_date txt\n",
    "    )\"\"\"\n",
    "\n",
    "##  Create a database connection\n",
    "    conn = create_connection(database)\n",
    "    \n",
    "    if conn is not None:                                                ## Create tables\n",
    "        create_table_in_db(conn, sql_create_projects_table)\n",
    "    else:\n",
    "        print(\"ERROR! cannot create the database connection.\")          ## Create projects table\n",
    "\n",
    "    close_connection(conn)"
   ]
  },
  {
   "cell_type": "code",
   "execution_count": null,
   "id": "a5b9412b",
   "metadata": {},
   "outputs": [],
   "source": []
  },
  {
   "cell_type": "code",
   "execution_count": 21,
   "id": "651e238b",
   "metadata": {},
   "outputs": [],
   "source": [
    "import sqlite3\n",
    "from sqlite3 import Error"
   ]
  },
  {
   "cell_type": "code",
   "execution_count": 22,
   "id": "0331a158",
   "metadata": {},
   "outputs": [],
   "source": [
    "def create_connection(db_file):\n",
    "    \"\"\"Create a database connection to the SQlite database specified db_file \n",
    "    :param db_file: database file\n",
    "    :return: Connection Object or None\n",
    "    \"\"\"\n",
    "    conn = None        ## conn == connection\n",
    "    try:\n",
    "        conn = sqlite3.connect(db_file)\n",
    "        print(\"The SQlite connection is connected\")\n",
    "        return conn\n",
    "    except Error as e:\n",
    "        print(e)"
   ]
  },
  {
   "cell_type": "code",
   "execution_count": 23,
   "id": "d6023b31",
   "metadata": {},
   "outputs": [],
   "source": [
    "def close_connection(conn):\n",
    "    \"\"\"Close database connection to the SQlite database specified by db_file\n",
    "    :param conn: db_connection object\n",
    "    :return:\n",
    "    \"\"\"\n",
    "    if (conn):\n",
    "        conn.close()\n",
    "        print(\"The SQlite connection is closed\")"
   ]
  },
  {
   "cell_type": "code",
   "execution_count": 24,
   "id": "dc7e5a3d",
   "metadata": {},
   "outputs": [],
   "source": [
    "def create_table_in_db(conn, create_table_sql):\n",
    "    \"\"\"create a table from the create_table-sql statement\n",
    "    :param conn: Connection Object\n",
    "    :param create_table_sql: A CREATE TABLE statement\n",
    "    :return:\n",
    "    \"\"\"\n",
    "    try:\n",
    "        c = conn.cursor()\n",
    "        c.execute(create_table_sql)\n",
    "    except Error as e:\n",
    "        print(e)"
   ]
  },
  {
   "cell_type": "code",
   "execution_count": 25,
   "id": "6d3d03de",
   "metadata": {},
   "outputs": [],
   "source": [
    "def create_table():\n",
    "    database = r\"D:\\\\OsModule\\Database.db\"\n",
    "    sql_create_projects_table = \"\"\"CREATE TABLE IF NOT EXISTS STUDENTS (\n",
    "    id integer PRIMARY KEY,\n",
    "    name text NOT NULL,\n",
    "    gpa integer,\n",
    "    admission_date txt\n",
    "    )\"\"\"\n",
    "\n",
    "##  Create a database connection\n",
    "    conn = create_connection(database)\n",
    "    \n",
    "    if conn is not None:                                                ## Create tables\n",
    "        create_table_in_db(conn, sql_create_projects_table)\n",
    "    else:\n",
    "        print(\"ERROR! cannot create the database connection.\")          ## Create projects table\n",
    "\n",
    "    close_connection(conn)\n",
    "    "
   ]
  },
  {
   "cell_type": "code",
   "execution_count": 26,
   "id": "6cc1cd43",
   "metadata": {},
   "outputs": [
    {
     "name": "stdout",
     "output_type": "stream",
     "text": [
      "The SQlite connection is connected\n",
      "The SQlite connection is closed\n"
     ]
    }
   ],
   "source": [
    "create_table()"
   ]
  },
  {
   "cell_type": "code",
   "execution_count": 27,
   "id": "c825a86c",
   "metadata": {},
   "outputs": [],
   "source": [
    "def add_student(conn, student):\n",
    "    \"\"\"\n",
    "    Create a new student entry into the student table\n",
    "    :param conn:\n",
    "    :param student:\n",
    "    :return: student id\n",
    "    \"\"\"\n",
    "    sql = \"\"\"INSERT INTO STUDENTS(name, gpa, admission_date)\n",
    "    VALUES( ? , ? , ? )\"\"\"          ##  VALUES(sana, 3.6, 2018/12/30)\n",
    "    \n",
    "    cur = conn.cursor()\n",
    "    cur.execute(sql, student)\n",
    "    \n",
    "    return cur.lastrowid"
   ]
  },
  {
   "cell_type": "code",
   "execution_count": 28,
   "id": "864cb216",
   "metadata": {},
   "outputs": [
    {
     "name": "stdout",
     "output_type": "stream",
     "text": [
      "The SQlite connection is connected\n",
      "The Student ID is:  1\n",
      "The SQlite connection is closed\n"
     ]
    }
   ],
   "source": [
    "database = r\"D:\\\\OsModule\\Database.db\"\n",
    "\n",
    "conn = create_connection(database)\n",
    "with conn:\n",
    "    std = [\"Harry\", 3.6, \"2019-08-22\"]\n",
    "    std_id = add_student(conn, std)\n",
    "\n",
    "print(\"The Student ID is: \", std_id)\n",
    "\n",
    "close_connection(conn)"
   ]
  },
  {
   "cell_type": "code",
   "execution_count": 29,
   "id": "5692f37b",
   "metadata": {},
   "outputs": [
    {
     "name": "stdout",
     "output_type": "stream",
     "text": [
      "The SQlite connection is connected\n",
      "The Student ID is:  2\n",
      "The SQlite connection is closed\n"
     ]
    }
   ],
   "source": [
    "database = r\"D:\\\\OsModule\\Database.db\"\n",
    "\n",
    "conn = create_connection(database)\n",
    "with conn:\n",
    "    std = [\"Jhon\", 3.0, \"2019-08-22\"]\n",
    "    std_id = add_student(conn, std)\n",
    "\n",
    "print(\"The Student ID is: \", std_id)\n",
    "\n",
    "close_connection(conn)"
   ]
  },
  {
   "cell_type": "code",
   "execution_count": 30,
   "id": "45515b53",
   "metadata": {},
   "outputs": [
    {
     "name": "stdout",
     "output_type": "stream",
     "text": [
      "The SQlite connection is connected\n",
      "The Student ID is:  3\n",
      "The SQlite connection is closed\n"
     ]
    }
   ],
   "source": [
    "database = r\"D:\\\\OsModule\\Database.db\"\n",
    "\n",
    "conn = create_connection(database)\n",
    "with conn:\n",
    "    std = [\"Tripto\", 3.6, \"2019-09-05\"]\n",
    "    std_id = add_student(conn, std)\n",
    "\n",
    "print(\"The Student ID is: \", std_id)\n",
    "\n",
    "close_connection(conn)"
   ]
  },
  {
   "cell_type": "code",
   "execution_count": null,
   "id": "d2e3aa75",
   "metadata": {},
   "outputs": [],
   "source": [
    "## READ TABLE"
   ]
  },
  {
   "cell_type": "code",
   "execution_count": 37,
   "id": "0e669db2",
   "metadata": {},
   "outputs": [
    {
     "name": "stdout",
     "output_type": "stream",
     "text": [
      "The SQlite connection is connected\n",
      "Failed to read data from sqlite table no such table: STUDENT\n",
      "The SQlite connection is closed\n"
     ]
    },
    {
     "ename": "NameError",
     "evalue": "name 'records' is not defined",
     "output_type": "error",
     "traceback": [
      "\u001b[1;31m---------------------------------------------------------------------------\u001b[0m",
      "\u001b[1;31mNameError\u001b[0m                                 Traceback (most recent call last)",
      "\u001b[1;32m<ipython-input-37-1939af99491e>\u001b[0m in \u001b[0;36m<module>\u001b[1;34m\u001b[0m\n\u001b[0;32m     22\u001b[0m \u001b[1;33m\u001b[0m\u001b[0m\n\u001b[0;32m     23\u001b[0m \u001b[1;33m\u001b[0m\u001b[0m\n\u001b[1;32m---> 24\u001b[1;33m \u001b[0mprint\u001b[0m\u001b[1;33m(\u001b[0m\u001b[0mrecords\u001b[0m\u001b[1;33m)\u001b[0m\u001b[1;33m\u001b[0m\u001b[1;33m\u001b[0m\u001b[0m\n\u001b[0m",
      "\u001b[1;31mNameError\u001b[0m: name 'records' is not defined"
     ]
    }
   ],
   "source": [
    "database = r\"D:\\\\OsModule\\Database.db\"\n",
    "\n",
    "conn = create_connection(database)\n",
    "\n",
    "try: \n",
    "    cursor = conn.cursor()\n",
    "    \n",
    "    table_name = \"STUDENT\"\n",
    "    sql_string = \"SELECT * FROM STUDENTS\" + table_name\n",
    "    sqlite_select_query = sql_string\n",
    "    \n",
    "    cursor.execute(sqlite_select_query)\n",
    "    records = cursor.fetchall()\n",
    "    print(\"Total rows are: \", len(records))\n",
    "    \n",
    "    cursor.close()\n",
    "\n",
    "except sqlite3.Error as error:\n",
    "        print(\"Failed to read data from sqlite table\", error)\n",
    "finally:\n",
    "        close_connection(conn)\n",
    "    \n",
    "\n",
    "#print(records)"
   ]
  },
  {
   "cell_type": "code",
   "execution_count": 38,
   "id": "9dd71f8c",
   "metadata": {},
   "outputs": [
    {
     "name": "stdout",
     "output_type": "stream",
     "text": [
      "The SQlite connection is connected\n"
     ]
    }
   ],
   "source": [
    "conn = create_connection(database)\n",
    "\n",
    "sql_string = \"SELECT * FROM STUDENTS\"\n",
    "cur = conn.cursor()\n",
    "cur.execute(sql_string)\n",
    "records = cur.fetchall()"
   ]
  },
  {
   "cell_type": "code",
   "execution_count": 39,
   "id": "2d1b5cae",
   "metadata": {},
   "outputs": [
    {
     "data": {
      "text/plain": [
       "[(1, 'Harry', 3.6, '2019-08-22'),\n",
       " (2, 'Jhon', 3, '2019-08-22'),\n",
       " (3, 'Tripto', 3.6, '2019-09-05')]"
      ]
     },
     "execution_count": 39,
     "metadata": {},
     "output_type": "execute_result"
    }
   ],
   "source": [
    "records"
   ]
  },
  {
   "cell_type": "code",
   "execution_count": 40,
   "id": "66ee10de",
   "metadata": {},
   "outputs": [
    {
     "name": "stdout",
     "output_type": "stream",
     "text": [
      "The SQlite connection is closed\n"
     ]
    }
   ],
   "source": [
    "cur.close()\n",
    "close_connection(conn)"
   ]
  },
  {
   "cell_type": "code",
   "execution_count": null,
   "id": "52c73cb4",
   "metadata": {},
   "outputs": [],
   "source": []
  }
 ],
 "metadata": {
  "kernelspec": {
   "display_name": "Python 3",
   "language": "python",
   "name": "python3"
  },
  "language_info": {
   "codemirror_mode": {
    "name": "ipython",
    "version": 3
   },
   "file_extension": ".py",
   "mimetype": "text/x-python",
   "name": "python",
   "nbconvert_exporter": "python",
   "pygments_lexer": "ipython3",
   "version": "3.8.8"
  }
 },
 "nbformat": 4,
 "nbformat_minor": 5
}
