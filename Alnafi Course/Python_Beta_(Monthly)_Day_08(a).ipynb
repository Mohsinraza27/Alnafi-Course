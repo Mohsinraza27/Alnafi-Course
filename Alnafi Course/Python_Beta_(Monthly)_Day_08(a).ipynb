{
 "cells": [
  {
   "cell_type": "markdown",
   "id": "58009203",
   "metadata": {},
   "source": [
    "# CSv Module"
   ]
  },
  {
   "cell_type": "code",
   "execution_count": 1,
   "id": "4ce84f2f",
   "metadata": {},
   "outputs": [],
   "source": [
    "import csv"
   ]
  },
  {
   "cell_type": "code",
   "execution_count": 9,
   "id": "5f616edf",
   "metadata": {},
   "outputs": [],
   "source": [
    "file = \"D:\\\\OsModule\\\\Book1.csv\""
   ]
  },
  {
   "cell_type": "code",
   "execution_count": 10,
   "id": "bc9e3b64",
   "metadata": {},
   "outputs": [],
   "source": [
    "data = [('Mark', 200), ('Lucas', 170), ('Lucky', 123), ('Nathan', 90)]"
   ]
  },
  {
   "cell_type": "code",
   "execution_count": 11,
   "id": "47edfdd5",
   "metadata": {
    "scrolled": true
   },
   "outputs": [
    {
     "ename": "PermissionError",
     "evalue": "[Errno 13] Permission denied: 'D:\\\\OsModule\\\\Book1.csv'",
     "output_type": "error",
     "traceback": [
      "\u001b[1;31m---------------------------------------------------------------------------\u001b[0m",
      "\u001b[1;31mPermissionError\u001b[0m                           Traceback (most recent call last)",
      "\u001b[1;32m<ipython-input-11-05754f53ee2b>\u001b[0m in \u001b[0;36m<module>\u001b[1;34m\u001b[0m\n\u001b[1;32m----> 1\u001b[1;33m \u001b[0mwriter\u001b[0m \u001b[1;33m=\u001b[0m \u001b[0mcsv\u001b[0m\u001b[1;33m.\u001b[0m\u001b[0mwriter\u001b[0m\u001b[1;33m(\u001b[0m\u001b[0mopen\u001b[0m\u001b[1;33m(\u001b[0m\u001b[0mfile\u001b[0m\u001b[1;33m,\u001b[0m \u001b[1;34m'w'\u001b[0m\u001b[1;33m,\u001b[0m \u001b[0mnewline\u001b[0m\u001b[1;33m=\u001b[0m\u001b[1;34m''\u001b[0m\u001b[1;33m)\u001b[0m\u001b[1;33m)\u001b[0m          \u001b[1;31m## newline set to empty space to ensure no blank lines between rows.\u001b[0m\u001b[1;33m\u001b[0m\u001b[1;33m\u001b[0m\u001b[0m\n\u001b[0m",
      "\u001b[1;31mPermissionError\u001b[0m: [Errno 13] Permission denied: 'D:\\\\OsModule\\\\Book1.csv'"
     ]
    }
   ],
   "source": [
    "writer = csv.writer(open(file, 'w', newline=''))          ## newline set to empty space to ensure no blank lines between rows."
   ]
  },
  {
   "cell_type": "code",
   "execution_count": null,
   "id": "552ea468",
   "metadata": {},
   "outputs": [],
   "source": [
    "for row in data:\n",
    "    writer.writerow(row)          ## each row is writen with each element in the iterable as a separate element."
   ]
  },
  {
   "cell_type": "code",
   "execution_count": null,
   "id": "dd4b3de6",
   "metadata": {},
   "outputs": [],
   "source": [
    "## READ FILE"
   ]
  },
  {
   "cell_type": "code",
   "execution_count": 13,
   "id": "0b80f678",
   "metadata": {},
   "outputs": [],
   "source": [
    "import csv"
   ]
  },
  {
   "cell_type": "code",
   "execution_count": 14,
   "id": "4b3eb992",
   "metadata": {},
   "outputs": [
    {
     "name": "stdout",
     "output_type": "stream",
     "text": [
      "['2', 'df']\n",
      "['3', 'gh']\n",
      "['4', 'jk']\n",
      "['6', 'il']\n",
      "['y', '']\n",
      "['tg', '']\n",
      "['g', '']\n",
      "['g', '']\n",
      "['u', '']\n",
      "['f', '']\n",
      "['d', '']\n",
      "['d', '']\n",
      "['v', '']\n"
     ]
    }
   ],
   "source": [
    "file =  \"D:\\\\OsModule\\\\Book1.csv\"\n",
    "reader = csv.reader(open(file, 'r'))\n",
    "header = reader.__next__()           ## This pops out the first line of the file from the reader, header contains the header in the file\n",
    "for row in reader:\n",
    "    print(row)                       ## Each row is printed as a list of items."
   ]
  },
  {
   "cell_type": "code",
   "execution_count": 15,
   "id": "030742a1",
   "metadata": {},
   "outputs": [
    {
     "name": "stdout",
     "output_type": "stream",
     "text": [
      "['1', 'as']\n",
      "['2', 'df']\n",
      "['3', 'gh']\n",
      "['4', 'jk']\n",
      "['6', 'il']\n",
      "['y', '']\n",
      "['tg', '']\n",
      "['g', '']\n",
      "['g', '']\n",
      "['u', '']\n",
      "['f', '']\n",
      "['d', '']\n",
      "['d', '']\n",
      "['v', '']\n"
     ]
    }
   ],
   "source": [
    "reader = csv.reader(open(file, 'r'))\n",
    "for row in reader:\n",
    "    print(row)"
   ]
  },
  {
   "cell_type": "code",
   "execution_count": null,
   "id": "fa9ca76d",
   "metadata": {},
   "outputs": [],
   "source": []
  }
 ],
 "metadata": {
  "kernelspec": {
   "display_name": "Python 3",
   "language": "python",
   "name": "python3"
  },
  "language_info": {
   "codemirror_mode": {
    "name": "ipython",
    "version": 3
   },
   "file_extension": ".py",
   "mimetype": "text/x-python",
   "name": "python",
   "nbconvert_exporter": "python",
   "pygments_lexer": "ipython3",
   "version": "3.8.8"
  }
 },
 "nbformat": 4,
 "nbformat_minor": 5
}
