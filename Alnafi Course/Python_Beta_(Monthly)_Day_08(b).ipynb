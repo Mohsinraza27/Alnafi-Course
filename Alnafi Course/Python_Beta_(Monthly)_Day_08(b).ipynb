{
 "cells": [
  {
   "cell_type": "markdown",
   "id": "805555c9",
   "metadata": {},
   "source": [
    "# Sub Process Module"
   ]
  },
  {
   "cell_type": "code",
   "execution_count": 1,
   "id": "abc25063",
   "metadata": {},
   "outputs": [],
   "source": [
    "import subprocess"
   ]
  },
  {
   "cell_type": "code",
   "execution_count": 2,
   "id": "86ca6a2e",
   "metadata": {},
   "outputs": [
    {
     "data": {
      "text/plain": [
       "0"
      ]
     },
     "execution_count": 2,
     "metadata": {},
     "output_type": "execute_result"
    }
   ],
   "source": [
    "subprocess.call(['dir'], shell=True)          ## returns the list of files in the current direction\n"
   ]
  },
  {
   "cell_type": "code",
   "execution_count": 3,
   "id": "6f014a74",
   "metadata": {},
   "outputs": [
    {
     "name": "stdout",
     "output_type": "stream",
     "text": [
      "b' Volume in drive C has no label.\\r\\n Volume Serial Number is E2FC-B65C\\r\\n\\r\\n Directory of C:\\\\Users\\\\razat\\r\\n\\r\\n15/02/2022  04:53 pm    <DIR>          .\\r\\n15/02/2022  04:53 pm    <DIR>          ..\\r\\n13/02/2022  12:26 pm               155 .bash_history\\r\\n15/02/2022  05:09 pm    <DIR>          .conda\\r\\n08/11/2021  09:33 pm                25 .condarc\\r\\n08/11/2021  09:32 pm    <DIR>          .continuum\\r\\n13/02/2022  12:26 pm                60 .gitconfig\\r\\n08/11/2021  03:31 pm    <DIR>          .idlerc\\r\\n15/02/2022  04:58 pm    <DIR>          .ipynb_checkpoints\\r\\n08/11/2021  09:35 pm    <DIR>          .ipython\\r\\n11/01/2022  07:22 am    <DIR>          .jupyter\\r\\n13/02/2022  11:37 am                20 .lesshst\\r\\n08/02/2022  12:15 pm    <DIR>          .matplotlib\\r\\n13/02/2022  11:45 am    <DIR>          .ssh\\r\\n01/02/2022  06:40 pm    <DIR>          .VirtualBox\\r\\n06/11/2021  03:10 pm    <DIR>          .vscode\\r\\n07/11/2021  07:16 pm    <DIR>          3D Objects\\r\\n15/02/2022  09:07 am    <DIR>          anaconda3\\r\\n13/01/2022  07:30 am             1,605 chapter 07.ipynb\\r\\n13/01/2022  12:51 pm             6,155 Chapter 08 Functions and Recursions.ipynb\\r\\n13/01/2022  08:09 pm             5,116 Chapter 08.ipynb\\r\\n10/11/2021  08:01 am         5,437,483 Chapter 1  Modules, Comments & Pip.ipynb\\r\\n10/11/2021  08:19 pm             8,220 Chapter 2  Variables & Datatypes.ipynb\\r\\n11/11/2021  07:58 am            12,623 Chapter 3 Strings.ipynb\\r\\n13/11/2021  07:26 am            12,574 Chapter 4 Lists & Tuples.ipynb\\r\\n13/11/2021  09:04 pm            17,181 Chapter 5 Dictionary & Sets.ipynb\\r\\n14/11/2021  08:41 am            19,532 Chapter 6 Conditional Expressions.ipynb\\r\\n17/11/2021  07:35 am             7,355 Chapter 7 Loops in Python.ipynb\\r\\n10/01/2022  09:52 am            15,689 Chapter_5_Dictionary_&_Sets.ipynb\\r\\n11/01/2022  10:44 am            13,197 Chapter_6_Conditional_Expressions.ipynb\\r\\n13/01/2022  09:15 am            12,077 Chapter_7_Loops_in_Python.ipynb\\r\\n07/11/2021  07:16 pm    <DIR>          Contacts\\r\\n08/01/2022  09:26 am            10,237 Data science class 03.ipynb\\r\\n07/01/2022  08:20 am             5,180 Data science class 2.ipynb\\r\\n14/02/2022  11:52 am    <DIR>          Desktop\\r\\n15/02/2022  03:46 pm    <DIR>          Documents\\r\\n13/02/2022  06:57 pm    <DIR>          Downloads\\r\\n07/11/2021  07:16 pm    <DIR>          Favorites\\r\\n15/02/2022  03:34 am                54 Geekletters.txt\\r\\n15/02/2022  03:39 am                52 Greekletters.txt\\r\\n01/02/2022  10:23 am            32,882 HELP Command.ipynb\\r\\n07/11/2021  07:16 pm    <DIR>          Links\\r\\n07/11/2021  07:16 pm    <DIR>          Music\\r\\n07/11/2021  04:28 pm    <DIR>          My Drivers\\r\\n14/02/2022  03:51 pm               344 myfile.txt\\r\\n15/02/2022  05:09 pm    <DIR>          OneDrive\\r\\n25/11/2021  06:26 pm             1,493 Phonenumbers.ipynb\\r\\n16/01/2022  09:08 pm    <DIR>          Pictures\\r\\n01/02/2022  10:00 am            16,169 Python_Alpha_(Monthly)_Day_01.ipynb\\r\\n01/02/2022  04:08 pm            24,347 Python_Alpha_(Monthly)_Day_02.ipynb\\r\\n02/02/2022  05:40 pm            25,756 Python_Alpha_(Monthly)_Day_03.ipynb\\r\\n03/02/2022  12:18 pm            11,992 Python_Alpha_(Monthly)_Day_04.ipynb\\r\\n04/02/2022  10:32 am            24,825 Python_Alpha_(Monthly)_Day_05.ipynb\\r\\n07/02/2022  12:02 pm            18,268 Python_Alpha_(Monthly)_Day_06.ipynb\\r\\n12/02/2022  10:57 am            40,681 Python_Beta_(Monthly)_Day_01.ipynb\\r\\n12/02/2022  11:00 am            25,718 Python_Beta_(Monthly)_Day_02(a).ipynb\\r\\n12/02/2022  03:28 pm            13,948 Python_Beta_(Monthly)_Day_02(b).ipynb\\r\\n14/02/2022  11:21 am             7,730 Python_Beta_(Monthly)_Day_02(c).ipynb\\r\\n14/02/2022  11:49 am            17,025 Python_Beta_(Monthly)_Day_02(d).ipynb\\r\\n14/02/2022  11:59 am             3,599 Python_Beta_(Monthly)_Day_03(a).ipynb\\r\\n14/02/2022  04:11 pm             6,676 Python_Beta_(Monthly)_Day_03(b).ipynb\\r\\n14/02/2022  04:11 pm             8,960 Python_Beta_(Monthly)_Day_03(c).ipynb\\r\\n14/02/2022  04:24 pm             7,213 Python_Beta_(Monthly)_Day_03(d).ipynb\\r\\n14/02/2022  05:44 pm            24,246 Python_Beta_(Monthly)_Day_04(a).ipynb\\r\\n14/02/2022  08:11 pm             6,572 Python_Beta_(Monthly)_Day_04(b).ipynb\\r\\n14/02/2022  08:28 pm             5,753 Python_Beta_(Monthly)_Day_04(c).ipynb\\r\\n14/02/2022  08:39 pm             4,798 Python_Beta_(Monthly)_Day_05(a).ipynb\\r\\n15/02/2022  03:57 am             7,070 Python_Beta_(Monthly)_Day_05(b).ipynb\\r\\n15/02/2022  04:40 am             9,058 Python_Beta_(Monthly)_Day_05(c).ipynb\\r\\n15/02/2022  11:44 am            28,725 Python_Beta_(Monthly)_Day_06(a).ipynb\\r\\n15/02/2022  12:09 pm            12,771 Python_Beta_(Monthly)_Day_06(b).ipynb\\r\\n15/02/2022  01:13 pm            20,801 Python_Beta_(Monthly)_Day_07(a).ipynb\\r\\n15/02/2022  03:44 pm            12,772 Python_Beta_(Monthly)_Day_07(b).ipynb\\r\\n15/02/2022  04:13 pm             4,812 Python_Beta_(Monthly)_Day_08(a).ipynb\\r\\n15/02/2022  04:53 pm             1,269 Python_Beta_(Monthly)_Day_08(b).ipynb\\r\\n15/02/2022  04:49 pm               697 Python_Beta_(Monthly)_Day_09(a).ipynb\\r\\n14/02/2022  07:03 pm            18,728 Python_Beta_(Monthly)_List_Comprehensions.ipynb\\r\\n26/01/2022  10:03 am            38,141 Python_Primer_(Monthly)_Day_01.ipynb\\r\\n27/01/2022  12:31 pm            11,781 Python_Primer_(Monthly)_Day_02.ipynb\\r\\n07/11/2021  07:16 pm    <DIR>          Saved Games\\r\\n07/11/2021  07:16 pm    <DIR>          Searches\\r\\n08/02/2022  12:17 pm             3,201 Untitled1.ipynb\\r\\n25/11/2021  06:30 pm             1,161 Untitled2.ipynb\\r\\n08/01/2022  07:40 am    <DIR>          Videos\\r\\n              57 File(s)      6,084,572 bytes\\r\\n              27 Dir(s)  67,773,210,624 bytes free\\r\\n'\n"
     ]
    }
   ],
   "source": [
    "out = subprocess.check_output('dir', shell=True)\n",
    "print(out)"
   ]
  },
  {
   "cell_type": "code",
   "execution_count": 4,
   "id": "3249b9ed",
   "metadata": {},
   "outputs": [],
   "source": [
    "## Create file data_read.py"
   ]
  },
  {
   "cell_type": "code",
   "execution_count": 5,
   "id": "62efdf2c",
   "metadata": {},
   "outputs": [],
   "source": [
    "import csv"
   ]
  },
  {
   "cell_type": "code",
   "execution_count": 6,
   "id": "6d03d709",
   "metadata": {},
   "outputs": [
    {
     "name": "stdout",
     "output_type": "stream",
     "text": [
      "['1', 'as']\n",
      "['2', 'df']\n",
      "['3', 'gh']\n",
      "['4', 'jk']\n",
      "['6', 'il']\n",
      "['y', '']\n",
      "['tg', '']\n",
      "['g', '']\n",
      "['g', '']\n",
      "['u', '']\n",
      "['f', '']\n",
      "['d', '']\n",
      "['d', '']\n",
      "['v', '']\n"
     ]
    }
   ],
   "source": [
    "file = \"D:\\\\OsModule\\\\Book1.csv\"\n",
    "reader = csv.reader(open(file, 'r'))\n",
    "for row in reader:\n",
    "    print(row)"
   ]
  },
  {
   "cell_type": "code",
   "execution_count": 7,
   "id": "83e2c98c",
   "metadata": {},
   "outputs": [],
   "source": [
    "## Call this file as subprocess"
   ]
  },
  {
   "cell_type": "code",
   "execution_count": 8,
   "id": "e1895ee1",
   "metadata": {},
   "outputs": [
    {
     "name": "stdout",
     "output_type": "stream",
     "text": [
      "b''\n"
     ]
    }
   ],
   "source": [
    "import subprocess\n",
    "theprocess = subprocess.check_output('E:\\courses\\python\\Python Chapter 01\\python_module.py', shell=True)\n",
    "print(theprocess)"
   ]
  },
  {
   "cell_type": "code",
   "execution_count": null,
   "id": "6afbad94",
   "metadata": {},
   "outputs": [],
   "source": []
  },
  {
   "cell_type": "code",
   "execution_count": null,
   "id": "b5f269c5",
   "metadata": {},
   "outputs": [],
   "source": []
  }
 ],
 "metadata": {
  "kernelspec": {
   "display_name": "Python 3",
   "language": "python",
   "name": "python3"
  },
  "language_info": {
   "codemirror_mode": {
    "name": "ipython",
    "version": 3
   },
   "file_extension": ".py",
   "mimetype": "text/x-python",
   "name": "python",
   "nbconvert_exporter": "python",
   "pygments_lexer": "ipython3",
   "version": "3.8.8"
  }
 },
 "nbformat": 4,
 "nbformat_minor": 5
}
