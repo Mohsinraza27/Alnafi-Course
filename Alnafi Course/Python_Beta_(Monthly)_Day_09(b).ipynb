{
 "cells": [
  {
   "cell_type": "markdown",
   "id": "eea1e670",
   "metadata": {},
   "source": [
    "# Testing in Python"
   ]
  },
  {
   "cell_type": "code",
   "execution_count": 6,
   "id": "146618a0",
   "metadata": {},
   "outputs": [],
   "source": [
    "def join_names(first, last):\n",
    "    return ' '.join([first.capitalize(), last.capitalize()])"
   ]
  },
  {
   "cell_type": "code",
   "execution_count": 7,
   "id": "62457bdf",
   "metadata": {},
   "outputs": [
    {
     "name": "stdout",
     "output_type": "stream",
     "text": [
      "Jhon Doe\n"
     ]
    }
   ],
   "source": [
    "return_data = join_names('jhon', 'doe')\n",
    "print(return_data)"
   ]
  },
  {
   "cell_type": "code",
   "execution_count": 9,
   "id": "ef7e43df",
   "metadata": {},
   "outputs": [
    {
     "name": "stdout",
     "output_type": "stream",
     "text": [
      "Ali Ahmed\n"
     ]
    }
   ],
   "source": [
    "data_1 = join_names('ali', 'ahmed')\n",
    "print(data_1)"
   ]
  },
  {
   "cell_type": "code",
   "execution_count": null,
   "id": "26192ba5",
   "metadata": {},
   "outputs": [],
   "source": []
  },
  {
   "cell_type": "code",
   "execution_count": 11,
   "id": "96cf3914",
   "metadata": {},
   "outputs": [],
   "source": [
    "import unittest"
   ]
  },
  {
   "cell_type": "code",
   "execution_count": 12,
   "id": "96dc02ab",
   "metadata": {},
   "outputs": [
    {
     "name": "stdout",
     "output_type": "stream",
     "text": [
      "Jhon Doe\n"
     ]
    }
   ],
   "source": [
    "return_data = join_names('jhon', 'doe')\n",
    "print(return_data)"
   ]
  },
  {
   "cell_type": "code",
   "execution_count": 14,
   "id": "a321722f",
   "metadata": {},
   "outputs": [
    {
     "name": "stderr",
     "output_type": "stream",
     "text": [
      "E\n",
      "======================================================================\n",
      "ERROR: C:\\Users\\razat\\AppData\\Roaming\\jupyter\\runtime\\kernel-39bce404-87cb-40fc-a040-2e9c30178f23 (unittest.loader._FailedTest)\n",
      "----------------------------------------------------------------------\n",
      "AttributeError: module '__main__' has no attribute 'C:\\Users\\razat\\AppData\\Roaming\\jupyter\\runtime\\kernel-39bce404-87cb-40fc-a040-2e9c30178f23'\n",
      "\n",
      "----------------------------------------------------------------------\n",
      "Ran 1 test in 0.004s\n",
      "\n",
      "FAILED (errors=1)\n"
     ]
    },
    {
     "ename": "SystemExit",
     "evalue": "True",
     "output_type": "error",
     "traceback": [
      "An exception has occurred, use %tb to see the full traceback.\n",
      "\u001b[1;31mSystemExit\u001b[0m\u001b[1;31m:\u001b[0m True\n"
     ]
    },
    {
     "name": "stderr",
     "output_type": "stream",
     "text": [
      "C:\\Users\\razat\\anaconda3\\lib\\site-packages\\IPython\\core\\interactiveshell.py:3445: UserWarning: To exit: use 'exit', 'quit', or Ctrl-D.\n",
      "  warn(\"To exit: use 'exit', 'quit', or Ctrl-D.\", stacklevel=1)\n"
     ]
    }
   ],
   "source": [
    "class test_string(unittest.TestCase):\n",
    "    \n",
    "    def test_is_capitalize(self):\n",
    "        temp1, temp2 = return_data.split(' ')\n",
    "        self.assertTrue(temp1.istitle())\n",
    "        self.assertTrue(temp2.istitle())\n",
    "        \n",
    "    def test_length(self):\n",
    "        self.assertTrue(len(return_data.split('')), 2)\n",
    "\n",
    "    def test_split(self):\n",
    "        self.assertEqual(type(return_data), str)\n",
    "        \n",
    "if __name__ == '__main__':\n",
    "    unittest.main()"
   ]
  },
  {
   "cell_type": "code",
   "execution_count": 15,
   "id": "923f4176",
   "metadata": {},
   "outputs": [
    {
     "data": {
      "text/plain": [
       "True"
      ]
     },
     "execution_count": 15,
     "metadata": {},
     "output_type": "execute_result"
    }
   ],
   "source": [
    "return_data.istitle()"
   ]
  },
  {
   "cell_type": "code",
   "execution_count": 16,
   "id": "8b7e954e",
   "metadata": {},
   "outputs": [
    {
     "data": {
      "text/plain": [
       "False"
      ]
     },
     "execution_count": 16,
     "metadata": {},
     "output_type": "execute_result"
    }
   ],
   "source": [
    "'zain raza'.istitle()"
   ]
  },
  {
   "cell_type": "code",
   "execution_count": 17,
   "id": "1b6f563f",
   "metadata": {},
   "outputs": [
    {
     "data": {
      "text/plain": [
       "'Zain raza'"
      ]
     },
     "execution_count": 17,
     "metadata": {},
     "output_type": "execute_result"
    }
   ],
   "source": [
    "'zain raza'.capitalize()"
   ]
  },
  {
   "cell_type": "code",
   "execution_count": null,
   "id": "c5aadf8a",
   "metadata": {},
   "outputs": [],
   "source": [
    "assertEqual(a, b)                    ## Test equality of 'a and b'"
   ]
  },
  {
   "cell_type": "code",
   "execution_count": null,
   "id": "88f67141",
   "metadata": {},
   "outputs": [],
   "source": [
    "assertNotEqual(a, b)                    ## Test inequality of 'a and b'"
   ]
  },
  {
   "cell_type": "code",
   "execution_count": null,
   "id": "80ac7115",
   "metadata": {},
   "outputs": [],
   "source": [
    "assertTrue()                    ## Tests if condition evaluate 'True'"
   ]
  },
  {
   "cell_type": "code",
   "execution_count": null,
   "id": "81b582b3",
   "metadata": {},
   "outputs": [],
   "source": [
    "assertFalse()                     ## Tests if condition evaluate 'False'"
   ]
  },
  {
   "cell_type": "code",
   "execution_count": null,
   "id": "82eb9ed8",
   "metadata": {},
   "outputs": [],
   "source": [
    "assertIs()                     ## "
   ]
  },
  {
   "cell_type": "code",
   "execution_count": null,
   "id": "2f17105b",
   "metadata": {},
   "outputs": [],
   "source": [
    "assertNot() "
   ]
  },
  {
   "cell_type": "code",
   "execution_count": null,
   "id": "fcacbf85",
   "metadata": {},
   "outputs": [],
   "source": [
    "assertNone() "
   ]
  },
  {
   "cell_type": "code",
   "execution_count": null,
   "id": "9228aa9e",
   "metadata": {},
   "outputs": [],
   "source": [
    "assertNotNone() "
   ]
  },
  {
   "cell_type": "code",
   "execution_count": null,
   "id": "69384cf8",
   "metadata": {},
   "outputs": [],
   "source": [
    "assertIn() "
   ]
  },
  {
   "cell_type": "code",
   "execution_count": null,
   "id": "7a9df22d",
   "metadata": {},
   "outputs": [],
   "source": [
    "assertNotIn() "
   ]
  },
  {
   "cell_type": "code",
   "execution_count": null,
   "id": "96b4c3e7",
   "metadata": {},
   "outputs": [],
   "source": [
    "assertInstance() "
   ]
  },
  {
   "cell_type": "code",
   "execution_count": null,
   "id": "4dd12345",
   "metadata": {},
   "outputs": [],
   "source": [
    "assertNotInstance() "
   ]
  },
  {
   "cell_type": "code",
   "execution_count": null,
   "id": "cd94551d",
   "metadata": {},
   "outputs": [],
   "source": []
  }
 ],
 "metadata": {
  "kernelspec": {
   "display_name": "Python 3",
   "language": "python",
   "name": "python3"
  },
  "language_info": {
   "codemirror_mode": {
    "name": "ipython",
    "version": 3
   },
   "file_extension": ".py",
   "mimetype": "text/x-python",
   "name": "python",
   "nbconvert_exporter": "python",
   "pygments_lexer": "ipython3",
   "version": "3.8.8"
  }
 },
 "nbformat": 4,
 "nbformat_minor": 5
}
