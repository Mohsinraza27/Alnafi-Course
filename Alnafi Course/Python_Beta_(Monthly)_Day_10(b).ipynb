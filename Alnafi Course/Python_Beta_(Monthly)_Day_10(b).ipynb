{
 "cells": [
  {
   "cell_type": "markdown",
   "id": "ce70cf61",
   "metadata": {},
   "source": [
    "# Decorators in Python"
   ]
  },
  {
   "cell_type": "code",
   "execution_count": 1,
   "id": "45632536",
   "metadata": {},
   "outputs": [],
   "source": [
    "def extract_function_name(func):\n",
    "    def internal_method(*args, **kwargs):\n",
    "        print(\"The method called is: \", func.__name__)\n",
    "        returned_value = func(*arg, **kwargs)\n",
    "        print(\"The method execution is complete!\")\n",
    "        return returned_value\n",
    "    ## adding decortor to the function\n",
    "    @extract_function_name\n",
    "    def sum_two_numbers(a, b):\n",
    "        print(\"This is called inside the function\")\n",
    "        return a+b\n",
    "    \n",
    "    @extract_function_name\n",
    "    def product_two_numbers(a, b):\n",
    "        print(\"This is called inside the function\")\n",
    "        return a*b\n",
    "    \n",
    "    a, b = 3, 4\n",
    "    ## getting the value through return of the function\n",
    "    print(\"Sum function Value \", sum_two_numbers(a, b))\n",
    "    print(\"Product function value\" , product_two_numbers(a, b))"
   ]
  },
  {
   "cell_type": "code",
   "execution_count": null,
   "id": "fdcb293a",
   "metadata": {},
   "outputs": [],
   "source": []
  }
 ],
 "metadata": {
  "kernelspec": {
   "display_name": "Python 3",
   "language": "python",
   "name": "python3"
  },
  "language_info": {
   "codemirror_mode": {
    "name": "ipython",
    "version": 3
   },
   "file_extension": ".py",
   "mimetype": "text/x-python",
   "name": "python",
   "nbconvert_exporter": "python",
   "pygments_lexer": "ipython3",
   "version": "3.8.8"
  }
 },
 "nbformat": 4,
 "nbformat_minor": 5
}
