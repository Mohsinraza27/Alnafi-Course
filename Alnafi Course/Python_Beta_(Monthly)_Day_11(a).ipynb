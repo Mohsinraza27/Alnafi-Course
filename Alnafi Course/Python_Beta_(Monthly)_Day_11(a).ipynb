{
 "cells": [
  {
   "cell_type": "markdown",
   "id": "0aeee2a7",
   "metadata": {},
   "source": [
    "# Lambda in Python"
   ]
  },
  {
   "cell_type": "code",
   "execution_count": 1,
   "id": "30bafb8c",
   "metadata": {},
   "outputs": [
    {
     "name": "stdout",
     "output_type": "stream",
     "text": [
      "Our input is  3\n",
      "square_it function raises input by power 2: 9\n",
      "cube_it function raises input by power 3: 27\n",
      "quad_it function raises input by power 4: 81\n"
     ]
    }
   ],
   "source": [
    "def my_power_raiser(n):\n",
    "    return lambda a : a ** n\n",
    "\n",
    "square_it = my_power_raiser(2)\n",
    "cube_it = my_power_raiser(3)\n",
    "quad_it = my_power_raiser(4)\n",
    "\n",
    "input_number = 3\n",
    "print(\"Our input is \", input_number)\n",
    "print(\"square_it function raises input by power 2:\", square_it(input_number))\n",
    "print(\"cube_it function raises input by power 3:\", cube_it(input_number))\n",
    "print(\"quad_it function raises input by power 4:\", quad_it(input_number))"
   ]
  },
  {
   "cell_type": "code",
   "execution_count": 2,
   "id": "38400452",
   "metadata": {},
   "outputs": [
    {
     "name": "stdout",
     "output_type": "stream",
     "text": [
      "Our input is  5\n",
      "square_it function raises input by power 12: 244140625\n",
      "cube_it function raises input by power 23: 11920928955078125\n",
      "quad_it function raises input by power 34: 582076609134674072265625\n"
     ]
    }
   ],
   "source": [
    "def my_power_raiser(n):\n",
    "    return lambda a : a ** n\n",
    "\n",
    "square_it = my_power_raiser(12)\n",
    "cube_it = my_power_raiser(23)\n",
    "quad_it = my_power_raiser(34)\n",
    "\n",
    "input_number = 5\n",
    "print(\"Our input is \", input_number)\n",
    "print(\"square_it function raises input by power 12:\", square_it(input_number))\n",
    "print(\"cube_it function raises input by power 23:\", cube_it(input_number))\n",
    "print(\"quad_it function raises input by power 34:\", quad_it(input_number))"
   ]
  },
  {
   "cell_type": "code",
   "execution_count": null,
   "id": "d3cd4193",
   "metadata": {},
   "outputs": [],
   "source": []
  }
 ],
 "metadata": {
  "kernelspec": {
   "display_name": "Python 3",
   "language": "python",
   "name": "python3"
  },
  "language_info": {
   "codemirror_mode": {
    "name": "ipython",
    "version": 3
   },
   "file_extension": ".py",
   "mimetype": "text/x-python",
   "name": "python",
   "nbconvert_exporter": "python",
   "pygments_lexer": "ipython3",
   "version": "3.8.8"
  }
 },
 "nbformat": 4,
 "nbformat_minor": 5
}
