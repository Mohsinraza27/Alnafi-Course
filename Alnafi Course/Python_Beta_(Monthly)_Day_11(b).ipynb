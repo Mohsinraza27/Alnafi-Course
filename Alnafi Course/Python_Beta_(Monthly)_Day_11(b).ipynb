{
 "cells": [
  {
   "cell_type": "markdown",
   "id": "648790f3",
   "metadata": {},
   "source": [
    "# Code Profiling in Python"
   ]
  },
  {
   "cell_type": "code",
   "execution_count": 1,
   "id": "134654d4",
   "metadata": {},
   "outputs": [
    {
     "name": "stdout",
     "output_type": "stream",
     "text": [
      "Total iterations: 100\n",
      "         75 function calls in 0.001 seconds\n",
      "\n",
      "   Ordered by: standard name\n",
      "\n",
      "   ncalls  tottime  percall  cumtime  percall filename:lineno(function)\n",
      "       10    0.000    0.000    0.000    0.000 <ipython-input-1-3b80c8ee5305>:3(internal_method)\n",
      "        1    0.000    0.000    0.001    0.001 <ipython-input-1-3b80c8ee5305>:9(external_method)\n",
      "        1    0.000    0.000    0.001    0.001 <string>:1(<module>)\n",
      "        5    0.000    0.000    0.001    0.000 iostream.py:197(schedule)\n",
      "        4    0.000    0.000    0.000    0.000 iostream.py:310(_is_master_process)\n",
      "        4    0.000    0.000    0.000    0.000 iostream.py:323(_schedule_flush)\n",
      "        4    0.000    0.000    0.001    0.000 iostream.py:386(write)\n",
      "        5    0.000    0.000    0.000    0.000 iostream.py:93(_event_pipe)\n",
      "        5    0.001    0.000    0.001    0.000 socket.py:432(send)\n",
      "        5    0.000    0.000    0.000    0.000 threading.py:1017(_wait_for_tstate_lock)\n",
      "        5    0.000    0.000    0.000    0.000 threading.py:1071(is_alive)\n",
      "        5    0.000    0.000    0.000    0.000 threading.py:513(is_set)\n",
      "        1    0.000    0.000    0.001    0.001 {built-in method builtins.exec}\n",
      "        4    0.000    0.000    0.000    0.000 {built-in method builtins.isinstance}\n",
      "        1    0.000    0.000    0.001    0.001 {built-in method builtins.print}\n",
      "        4    0.000    0.000    0.000    0.000 {built-in method nt.getpid}\n",
      "        5    0.000    0.000    0.000    0.000 {method 'acquire' of '_thread.lock' objects}\n",
      "        5    0.000    0.000    0.000    0.000 {method 'append' of 'collections.deque' objects}\n",
      "        1    0.000    0.000    0.000    0.000 {method 'disable' of '_lsprof.Profiler' objects}\n",
      "\n",
      "\n"
     ]
    }
   ],
   "source": [
    "import cProfile\n",
    "\n",
    "def internal_method():\n",
    "    temp_var = 0\n",
    "    for ind in range(10):\n",
    "        temp_var += 1\n",
    "    return temp_var\n",
    "\n",
    "def external_method():\n",
    "    counter = 0\n",
    "    for val in range(10):\n",
    "        counter += internal_method()\n",
    "    print(\"Total iterations:\", counter)\n",
    "    return\n",
    "\n",
    "cProfile.run(\"external_method()\")"
   ]
  },
  {
   "cell_type": "code",
   "execution_count": 2,
   "id": "4d620586",
   "metadata": {},
   "outputs": [
    {
     "name": "stdout",
     "output_type": "stream",
     "text": [
      "Total iterations: 10000\n",
      "         75 function calls in 0.003 seconds\n",
      "\n",
      "   Ordered by: standard name\n",
      "\n",
      "   ncalls  tottime  percall  cumtime  percall filename:lineno(function)\n",
      "       10    0.002    0.000    0.002    0.000 <ipython-input-2-243e9e584f61>:3(internal_method)\n",
      "        1    0.000    0.000    0.003    0.003 <ipython-input-2-243e9e584f61>:9(external_method)\n",
      "        1    0.000    0.000    0.003    0.003 <string>:1(<module>)\n",
      "        5    0.000    0.000    0.000    0.000 iostream.py:197(schedule)\n",
      "        4    0.000    0.000    0.000    0.000 iostream.py:310(_is_master_process)\n",
      "        4    0.000    0.000    0.000    0.000 iostream.py:323(_schedule_flush)\n",
      "        4    0.000    0.000    0.001    0.000 iostream.py:386(write)\n",
      "        5    0.000    0.000    0.000    0.000 iostream.py:93(_event_pipe)\n",
      "        5    0.000    0.000    0.000    0.000 socket.py:432(send)\n",
      "        5    0.000    0.000    0.000    0.000 threading.py:1017(_wait_for_tstate_lock)\n",
      "        5    0.000    0.000    0.000    0.000 threading.py:1071(is_alive)\n",
      "        5    0.000    0.000    0.000    0.000 threading.py:513(is_set)\n",
      "        1    0.000    0.000    0.003    0.003 {built-in method builtins.exec}\n",
      "        4    0.000    0.000    0.000    0.000 {built-in method builtins.isinstance}\n",
      "        1    0.000    0.000    0.001    0.001 {built-in method builtins.print}\n",
      "        4    0.000    0.000    0.000    0.000 {built-in method nt.getpid}\n",
      "        5    0.000    0.000    0.000    0.000 {method 'acquire' of '_thread.lock' objects}\n",
      "        5    0.000    0.000    0.000    0.000 {method 'append' of 'collections.deque' objects}\n",
      "        1    0.000    0.000    0.000    0.000 {method 'disable' of '_lsprof.Profiler' objects}\n",
      "\n",
      "\n"
     ]
    }
   ],
   "source": [
    "import cProfile\n",
    "\n",
    "def internal_method():\n",
    "    temp_var = 0\n",
    "    for ind in range(1000):\n",
    "        temp_var += 1\n",
    "    return temp_var\n",
    "\n",
    "def external_method():\n",
    "    counter = 0\n",
    "    for val in range(10):\n",
    "        counter += internal_method()\n",
    "    print(\"Total iterations:\", counter)\n",
    "    return\n",
    "\n",
    "cProfile.run(\"external_method()\")"
   ]
  },
  {
   "cell_type": "code",
   "execution_count": 3,
   "id": "bf2af39a",
   "metadata": {},
   "outputs": [
    {
     "name": "stdout",
     "output_type": "stream",
     "text": [
      "Total iterations: 100000\n",
      "         75 function calls in 0.019 seconds\n",
      "\n",
      "   Ordered by: standard name\n",
      "\n",
      "   ncalls  tottime  percall  cumtime  percall filename:lineno(function)\n",
      "       10    0.019    0.002    0.019    0.002 <ipython-input-3-d115a3e23a34>:3(internal_method)\n",
      "        1    0.000    0.000    0.019    0.019 <ipython-input-3-d115a3e23a34>:9(external_method)\n",
      "        1    0.000    0.000    0.019    0.019 <string>:1(<module>)\n",
      "        5    0.000    0.000    0.000    0.000 iostream.py:197(schedule)\n",
      "        4    0.000    0.000    0.000    0.000 iostream.py:310(_is_master_process)\n",
      "        4    0.000    0.000    0.000    0.000 iostream.py:323(_schedule_flush)\n",
      "        4    0.000    0.000    0.000    0.000 iostream.py:386(write)\n",
      "        5    0.000    0.000    0.000    0.000 iostream.py:93(_event_pipe)\n",
      "        5    0.000    0.000    0.000    0.000 socket.py:432(send)\n",
      "        5    0.000    0.000    0.000    0.000 threading.py:1017(_wait_for_tstate_lock)\n",
      "        5    0.000    0.000    0.000    0.000 threading.py:1071(is_alive)\n",
      "        5    0.000    0.000    0.000    0.000 threading.py:513(is_set)\n",
      "        1    0.000    0.000    0.019    0.019 {built-in method builtins.exec}\n",
      "        4    0.000    0.000    0.000    0.000 {built-in method builtins.isinstance}\n",
      "        1    0.000    0.000    0.000    0.000 {built-in method builtins.print}\n",
      "        4    0.000    0.000    0.000    0.000 {built-in method nt.getpid}\n",
      "        5    0.000    0.000    0.000    0.000 {method 'acquire' of '_thread.lock' objects}\n",
      "        5    0.000    0.000    0.000    0.000 {method 'append' of 'collections.deque' objects}\n",
      "        1    0.000    0.000    0.000    0.000 {method 'disable' of '_lsprof.Profiler' objects}\n",
      "\n",
      "\n"
     ]
    }
   ],
   "source": [
    "import cProfile\n",
    "\n",
    "def internal_method():\n",
    "    temp_var = 0\n",
    "    for ind in range(10000):\n",
    "        temp_var += 1\n",
    "    return temp_var\n",
    "\n",
    "def external_method():\n",
    "    counter = 0\n",
    "    for val in range(10):\n",
    "        counter += internal_method()\n",
    "    print(\"Total iterations:\", counter)\n",
    "    return\n",
    "\n",
    "cProfile.run(\"external_method()\")"
   ]
  },
  {
   "cell_type": "code",
   "execution_count": 4,
   "id": "94317e03",
   "metadata": {},
   "outputs": [
    {
     "name": "stdout",
     "output_type": "stream",
     "text": [
      "Total iterations: 1000000\n",
      "         75 function calls in 0.221 seconds\n",
      "\n",
      "   Ordered by: standard name\n",
      "\n",
      "   ncalls  tottime  percall  cumtime  percall filename:lineno(function)\n",
      "       10    0.221    0.022    0.221    0.022 <ipython-input-4-df9ee237766e>:3(internal_method)\n",
      "        1    0.000    0.000    0.221    0.221 <ipython-input-4-df9ee237766e>:9(external_method)\n",
      "        1    0.000    0.000    0.221    0.221 <string>:1(<module>)\n",
      "        5    0.000    0.000    0.000    0.000 iostream.py:197(schedule)\n",
      "        4    0.000    0.000    0.000    0.000 iostream.py:310(_is_master_process)\n",
      "        4    0.000    0.000    0.000    0.000 iostream.py:323(_schedule_flush)\n",
      "        4    0.000    0.000    0.000    0.000 iostream.py:386(write)\n",
      "        5    0.000    0.000    0.000    0.000 iostream.py:93(_event_pipe)\n",
      "        5    0.000    0.000    0.000    0.000 socket.py:432(send)\n",
      "        5    0.000    0.000    0.000    0.000 threading.py:1017(_wait_for_tstate_lock)\n",
      "        5    0.000    0.000    0.000    0.000 threading.py:1071(is_alive)\n",
      "        5    0.000    0.000    0.000    0.000 threading.py:513(is_set)\n",
      "        1    0.000    0.000    0.221    0.221 {built-in method builtins.exec}\n",
      "        4    0.000    0.000    0.000    0.000 {built-in method builtins.isinstance}\n",
      "        1    0.000    0.000    0.000    0.000 {built-in method builtins.print}\n",
      "        4    0.000    0.000    0.000    0.000 {built-in method nt.getpid}\n",
      "        5    0.000    0.000    0.000    0.000 {method 'acquire' of '_thread.lock' objects}\n",
      "        5    0.000    0.000    0.000    0.000 {method 'append' of 'collections.deque' objects}\n",
      "        1    0.000    0.000    0.000    0.000 {method 'disable' of '_lsprof.Profiler' objects}\n",
      "\n",
      "\n"
     ]
    }
   ],
   "source": [
    "import cProfile\n",
    "\n",
    "def internal_method():\n",
    "    temp_var = 0\n",
    "    for ind in range(100000):\n",
    "        temp_var += 1\n",
    "    return temp_var\n",
    "\n",
    "def external_method():\n",
    "    counter = 0\n",
    "    for val in range(10):\n",
    "        counter += internal_method()\n",
    "    print(\"Total iterations:\", counter)\n",
    "    return\n",
    "\n",
    "cProfile.run(\"external_method()\")"
   ]
  },
  {
   "cell_type": "code",
   "execution_count": null,
   "id": "698dd1b6",
   "metadata": {},
   "outputs": [],
   "source": []
  }
 ],
 "metadata": {
  "kernelspec": {
   "display_name": "Python 3",
   "language": "python",
   "name": "python3"
  },
  "language_info": {
   "codemirror_mode": {
    "name": "ipython",
    "version": 3
   },
   "file_extension": ".py",
   "mimetype": "text/x-python",
   "name": "python",
   "nbconvert_exporter": "python",
   "pygments_lexer": "ipython3",
   "version": "3.8.8"
  }
 },
 "nbformat": 4,
 "nbformat_minor": 5
}
