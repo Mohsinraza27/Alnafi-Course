{
 "cells": [
  {
   "cell_type": "markdown",
   "id": "98b1b88d",
   "metadata": {},
   "source": [
    "# List Comprehensions"
   ]
  },
  {
   "cell_type": "code",
   "execution_count": 1,
   "id": "58f96ff8",
   "metadata": {},
   "outputs": [],
   "source": [
    "mystring = 'Islam'"
   ]
  },
  {
   "cell_type": "code",
   "execution_count": 2,
   "id": "c85caf42",
   "metadata": {},
   "outputs": [
    {
     "name": "stdout",
     "output_type": "stream",
     "text": [
      "I\n",
      "s\n",
      "l\n",
      "a\n",
      "m\n"
     ]
    }
   ],
   "source": [
    "mylist = []\n",
    "for letter in mystring:\n",
    "    mylist.append(letter)\n",
    "    print(letter)"
   ]
  },
  {
   "cell_type": "code",
   "execution_count": 4,
   "id": "6621d127",
   "metadata": {},
   "outputs": [
    {
     "data": {
      "text/plain": [
       "['I', 's', 'l', 'a', 'm']"
      ]
     },
     "execution_count": 4,
     "metadata": {},
     "output_type": "execute_result"
    }
   ],
   "source": [
    "mylist"
   ]
  },
  {
   "cell_type": "code",
   "execution_count": 5,
   "id": "18b36f93",
   "metadata": {},
   "outputs": [],
   "source": [
    "# second method\n",
    "mylist = [letter for letter in mystring]"
   ]
  },
  {
   "cell_type": "code",
   "execution_count": 6,
   "id": "a16829a1",
   "metadata": {},
   "outputs": [
    {
     "data": {
      "text/plain": [
       "['I', 's', 'l', 'a', 'm']"
      ]
     },
     "execution_count": 6,
     "metadata": {},
     "output_type": "execute_result"
    }
   ],
   "source": [
    "mylist"
   ]
  },
  {
   "cell_type": "code",
   "execution_count": 7,
   "id": "b30e6413",
   "metadata": {},
   "outputs": [],
   "source": [
    "my_string = \"Pakistan\""
   ]
  },
  {
   "cell_type": "code",
   "execution_count": 8,
   "id": "6ba273b3",
   "metadata": {},
   "outputs": [
    {
     "data": {
      "text/plain": [
       "'Pakistan'"
      ]
     },
     "execution_count": 8,
     "metadata": {},
     "output_type": "execute_result"
    }
   ],
   "source": [
    "my_string "
   ]
  },
  {
   "cell_type": "code",
   "execution_count": 9,
   "id": "cdebf174",
   "metadata": {},
   "outputs": [],
   "source": [
    "my_list = [item for item in my_string]"
   ]
  },
  {
   "cell_type": "code",
   "execution_count": 10,
   "id": "e5c8c9db",
   "metadata": {},
   "outputs": [
    {
     "data": {
      "text/plain": [
       "['P', 'a', 'k', 'i', 's', 't', 'a', 'n']"
      ]
     },
     "execution_count": 10,
     "metadata": {},
     "output_type": "execute_result"
    }
   ],
   "source": [
    "my_list"
   ]
  },
  {
   "cell_type": "code",
   "execution_count": 11,
   "id": "69df62df",
   "metadata": {},
   "outputs": [],
   "source": [
    "# Third method\n",
    "lis = [st for st in \"Helloword\"]"
   ]
  },
  {
   "cell_type": "code",
   "execution_count": 12,
   "id": "442d8d3d",
   "metadata": {},
   "outputs": [
    {
     "data": {
      "text/plain": [
       "['H', 'e', 'l', 'l', 'o', 'w', 'o', 'r', 'd']"
      ]
     },
     "execution_count": 12,
     "metadata": {},
     "output_type": "execute_result"
    }
   ],
   "source": [
    "lis"
   ]
  },
  {
   "cell_type": "code",
   "execution_count": 13,
   "id": "db23988a",
   "metadata": {},
   "outputs": [],
   "source": [
    "lis2 = [li for li in \"PythonBeta\"]"
   ]
  },
  {
   "cell_type": "code",
   "execution_count": 14,
   "id": "15a8deae",
   "metadata": {},
   "outputs": [
    {
     "data": {
      "text/plain": [
       "['P', 'y', 't', 'h', 'o', 'n', 'B', 'e', 't', 'a']"
      ]
     },
     "execution_count": 14,
     "metadata": {},
     "output_type": "execute_result"
    }
   ],
   "source": [
    "lis2"
   ]
  },
  {
   "cell_type": "code",
   "execution_count": 15,
   "id": "244acc4b",
   "metadata": {},
   "outputs": [],
   "source": [
    "# Using Range function\n",
    "num = [num for num in range(0,11)]"
   ]
  },
  {
   "cell_type": "code",
   "execution_count": 16,
   "id": "f6908182",
   "metadata": {},
   "outputs": [
    {
     "data": {
      "text/plain": [
       "[0, 1, 2, 3, 4, 5, 6, 7, 8, 9, 10]"
      ]
     },
     "execution_count": 16,
     "metadata": {},
     "output_type": "execute_result"
    }
   ],
   "source": [
    "num"
   ]
  },
  {
   "cell_type": "code",
   "execution_count": 20,
   "id": "6c4cf561",
   "metadata": {},
   "outputs": [],
   "source": [
    "num2 = [n for n in range(21, 41)]"
   ]
  },
  {
   "cell_type": "code",
   "execution_count": 21,
   "id": "b12e1fa7",
   "metadata": {},
   "outputs": [
    {
     "data": {
      "text/plain": [
       "[21,\n",
       " 22,\n",
       " 23,\n",
       " 24,\n",
       " 25,\n",
       " 26,\n",
       " 27,\n",
       " 28,\n",
       " 29,\n",
       " 30,\n",
       " 31,\n",
       " 32,\n",
       " 33,\n",
       " 34,\n",
       " 35,\n",
       " 36,\n",
       " 37,\n",
       " 38,\n",
       " 39,\n",
       " 40]"
      ]
     },
     "execution_count": 21,
     "metadata": {},
     "output_type": "execute_result"
    }
   ],
   "source": [
    "num2"
   ]
  },
  {
   "cell_type": "code",
   "execution_count": 24,
   "id": "82cd6d3d",
   "metadata": {},
   "outputs": [],
   "source": [
    "nums = [x**2 for x in range(0,9) if x%1 == 0]"
   ]
  },
  {
   "cell_type": "code",
   "execution_count": 25,
   "id": "b35fe55a",
   "metadata": {},
   "outputs": [
    {
     "data": {
      "text/plain": [
       "[0, 1, 4, 9, 16, 25, 36, 49, 64]"
      ]
     },
     "execution_count": 25,
     "metadata": {},
     "output_type": "execute_result"
    }
   ],
   "source": [
    "nums"
   ]
  },
  {
   "cell_type": "code",
   "execution_count": 26,
   "id": "63e51af0",
   "metadata": {},
   "outputs": [],
   "source": [
    "numr = [a**4 for a in range(0,21) if a%2 == 0]"
   ]
  },
  {
   "cell_type": "code",
   "execution_count": 27,
   "id": "2eabbc63",
   "metadata": {},
   "outputs": [
    {
     "data": {
      "text/plain": [
       "[0, 16, 256, 1296, 4096, 10000, 20736, 38416, 65536, 104976, 160000]"
      ]
     },
     "execution_count": 27,
     "metadata": {},
     "output_type": "execute_result"
    }
   ],
   "source": [
    "numr"
   ]
  },
  {
   "cell_type": "code",
   "execution_count": 30,
   "id": "a6161a98",
   "metadata": {},
   "outputs": [
    {
     "name": "stdout",
     "output_type": "stream",
     "text": [
      "0 True\n",
      "1 False\n",
      "2 True\n",
      "3 False\n",
      "4 True\n",
      "5 False\n",
      "6 True\n",
      "7 False\n",
      "8 True\n",
      "9 False\n",
      "10 True\n",
      "11 False\n",
      "12 True\n",
      "13 False\n",
      "14 True\n",
      "15 False\n",
      "16 True\n",
      "17 False\n",
      "18 True\n",
      "19 False\n",
      "20 True\n"
     ]
    }
   ],
   "source": [
    "for a in range(0,21):\n",
    "    print(a, a%2 == 0)"
   ]
  },
  {
   "cell_type": "code",
   "execution_count": 31,
   "id": "8891a6e9",
   "metadata": {},
   "outputs": [],
   "source": [
    "nub = [b**3 for b in range(0,11) if b%3 == 0]"
   ]
  },
  {
   "cell_type": "code",
   "execution_count": 32,
   "id": "3f820b4a",
   "metadata": {},
   "outputs": [
    {
     "data": {
      "text/plain": [
       "[0, 27, 216, 729]"
      ]
     },
     "execution_count": 32,
     "metadata": {},
     "output_type": "execute_result"
    }
   ],
   "source": [
    "nub"
   ]
  },
  {
   "cell_type": "code",
   "execution_count": 33,
   "id": "e18b5c93",
   "metadata": {},
   "outputs": [
    {
     "name": "stdout",
     "output_type": "stream",
     "text": [
      "0 True\n",
      "1 False\n",
      "2 False\n",
      "3 True\n",
      "4 False\n",
      "5 False\n",
      "6 True\n",
      "7 False\n",
      "8 False\n",
      "9 True\n",
      "10 False\n"
     ]
    }
   ],
   "source": [
    "for b in range(0,11):\n",
    "    print(b, b%3 == 0)"
   ]
  },
  {
   "cell_type": "markdown",
   "id": "4dcf2860",
   "metadata": {},
   "source": [
    "List Methods"
   ]
  },
  {
   "cell_type": "code",
   "execution_count": 34,
   "id": "eb95cf56",
   "metadata": {},
   "outputs": [
    {
     "data": {
      "text/plain": [
       "['I', 's', 'l', 'a', 'm']"
      ]
     },
     "execution_count": 34,
     "metadata": {},
     "output_type": "execute_result"
    }
   ],
   "source": [
    "mylist"
   ]
  },
  {
   "cell_type": "code",
   "execution_count": 35,
   "id": "8815f854",
   "metadata": {},
   "outputs": [
    {
     "data": {
      "text/plain": [
       "['P', 'a', 'k', 'i', 's', 't', 'a', 'n']"
      ]
     },
     "execution_count": 35,
     "metadata": {},
     "output_type": "execute_result"
    }
   ],
   "source": [
    "my_list"
   ]
  },
  {
   "cell_type": "code",
   "execution_count": 36,
   "id": "d4012038",
   "metadata": {},
   "outputs": [
    {
     "data": {
      "text/plain": [
       "['H', 'e', 'l', 'l', 'o', 'w', 'o', 'r', 'd']"
      ]
     },
     "execution_count": 36,
     "metadata": {},
     "output_type": "execute_result"
    }
   ],
   "source": [
    "lis"
   ]
  },
  {
   "cell_type": "code",
   "execution_count": 37,
   "id": "70e9319a",
   "metadata": {},
   "outputs": [
    {
     "data": {
      "text/plain": [
       "['P', 'y', 't', 'h', 'o', 'n', 'B', 'e', 't', 'a']"
      ]
     },
     "execution_count": 37,
     "metadata": {},
     "output_type": "execute_result"
    }
   ],
   "source": [
    "lis2"
   ]
  },
  {
   "cell_type": "code",
   "execution_count": 38,
   "id": "3b1d4e65",
   "metadata": {},
   "outputs": [
    {
     "data": {
      "text/plain": [
       "[0, 1, 2, 3, 4, 5, 6, 7, 8, 9, 10]"
      ]
     },
     "execution_count": 38,
     "metadata": {},
     "output_type": "execute_result"
    }
   ],
   "source": [
    "num"
   ]
  },
  {
   "cell_type": "code",
   "execution_count": 39,
   "id": "293af362",
   "metadata": {},
   "outputs": [],
   "source": [
    "lis.append('!')"
   ]
  },
  {
   "cell_type": "code",
   "execution_count": 40,
   "id": "81dff1a2",
   "metadata": {},
   "outputs": [
    {
     "data": {
      "text/plain": [
       "['H', 'e', 'l', 'l', 'o', 'w', 'o', 'r', 'd', '!']"
      ]
     },
     "execution_count": 40,
     "metadata": {},
     "output_type": "execute_result"
    }
   ],
   "source": [
    "lis"
   ]
  },
  {
   "cell_type": "code",
   "execution_count": 42,
   "id": "0d063c5e",
   "metadata": {},
   "outputs": [],
   "source": [
    "lis.clear()"
   ]
  },
  {
   "cell_type": "code",
   "execution_count": 43,
   "id": "93262d7c",
   "metadata": {},
   "outputs": [
    {
     "data": {
      "text/plain": [
       "[]"
      ]
     },
     "execution_count": 43,
     "metadata": {},
     "output_type": "execute_result"
    }
   ],
   "source": [
    "lis"
   ]
  },
  {
   "cell_type": "code",
   "execution_count": 44,
   "id": "3e8044e1",
   "metadata": {},
   "outputs": [
    {
     "data": {
      "text/plain": [
       "1"
      ]
     },
     "execution_count": 44,
     "metadata": {},
     "output_type": "execute_result"
    }
   ],
   "source": [
    "lis2.count(\"P\")"
   ]
  },
  {
   "cell_type": "code",
   "execution_count": 45,
   "id": "3335936a",
   "metadata": {},
   "outputs": [
    {
     "data": {
      "text/plain": [
       "1"
      ]
     },
     "execution_count": 45,
     "metadata": {},
     "output_type": "execute_result"
    }
   ],
   "source": [
    "lis2.count(\"e\")"
   ]
  },
  {
   "cell_type": "code",
   "execution_count": 47,
   "id": "48feb606",
   "metadata": {},
   "outputs": [],
   "source": [
    "lis2.extend('Gamma')"
   ]
  },
  {
   "cell_type": "code",
   "execution_count": 48,
   "id": "5ec99e73",
   "metadata": {},
   "outputs": [
    {
     "data": {
      "text/plain": [
       "['P', 'y', 't', 'h', 'o', 'n', 'B', 'e', 't', 'a', 'G', 'a', 'm', 'm', 'a']"
      ]
     },
     "execution_count": 48,
     "metadata": {},
     "output_type": "execute_result"
    }
   ],
   "source": [
    "lis2"
   ]
  },
  {
   "cell_type": "code",
   "execution_count": 50,
   "id": "21fddd4b",
   "metadata": {},
   "outputs": [
    {
     "data": {
      "text/plain": [
       "6"
      ]
     },
     "execution_count": 50,
     "metadata": {},
     "output_type": "execute_result"
    }
   ],
   "source": [
    "lis2.index('B')"
   ]
  },
  {
   "cell_type": "code",
   "execution_count": 51,
   "id": "85c9b52f",
   "metadata": {},
   "outputs": [
    {
     "data": {
      "text/plain": [
       "10"
      ]
     },
     "execution_count": 51,
     "metadata": {},
     "output_type": "execute_result"
    }
   ],
   "source": [
    "lis2.index(\"G\")"
   ]
  },
  {
   "cell_type": "code",
   "execution_count": 52,
   "id": "95205aa5",
   "metadata": {},
   "outputs": [
    {
     "data": {
      "text/plain": [
       "12"
      ]
     },
     "execution_count": 52,
     "metadata": {},
     "output_type": "execute_result"
    }
   ],
   "source": [
    "lis2.index('m')"
   ]
  },
  {
   "cell_type": "code",
   "execution_count": 55,
   "id": "c2687753",
   "metadata": {},
   "outputs": [
    {
     "data": {
      "text/plain": [
       "<function list.insert(index, object, /)>"
      ]
     },
     "execution_count": 55,
     "metadata": {},
     "output_type": "execute_result"
    }
   ],
   "source": [
    "lis2.insert"
   ]
  },
  {
   "cell_type": "code",
   "execution_count": 56,
   "id": "65a37ce5",
   "metadata": {},
   "outputs": [],
   "source": [
    "lis2.insert(5, 'Alpha')"
   ]
  },
  {
   "cell_type": "code",
   "execution_count": 57,
   "id": "ff4d469d",
   "metadata": {},
   "outputs": [
    {
     "data": {
      "text/plain": [
       "['P',\n",
       " 'y',\n",
       " 't',\n",
       " 'h',\n",
       " 'o',\n",
       " 'Alpha',\n",
       " 'n',\n",
       " 'B',\n",
       " 'e',\n",
       " 't',\n",
       " 'a',\n",
       " 'G',\n",
       " 'a',\n",
       " 'm',\n",
       " 'm',\n",
       " 'a']"
      ]
     },
     "execution_count": 57,
     "metadata": {},
     "output_type": "execute_result"
    }
   ],
   "source": [
    "lis2"
   ]
  },
  {
   "cell_type": "code",
   "execution_count": 58,
   "id": "9dfba55e",
   "metadata": {},
   "outputs": [
    {
     "data": {
      "text/plain": [
       "'Alpha'"
      ]
     },
     "execution_count": 58,
     "metadata": {},
     "output_type": "execute_result"
    }
   ],
   "source": [
    "lis2.pop(5)"
   ]
  },
  {
   "cell_type": "code",
   "execution_count": 59,
   "id": "dbbe46fb",
   "metadata": {},
   "outputs": [
    {
     "data": {
      "text/plain": [
       "['P', 'y', 't', 'h', 'o', 'n', 'B', 'e', 't', 'a', 'G', 'a', 'm', 'm', 'a']"
      ]
     },
     "execution_count": 59,
     "metadata": {},
     "output_type": "execute_result"
    }
   ],
   "source": [
    "lis2"
   ]
  },
  {
   "cell_type": "code",
   "execution_count": 60,
   "id": "1d08b3c8",
   "metadata": {},
   "outputs": [
    {
     "data": {
      "text/plain": [
       "<function list.remove(value, /)>"
      ]
     },
     "execution_count": 60,
     "metadata": {},
     "output_type": "execute_result"
    }
   ],
   "source": [
    "lis2.remove"
   ]
  },
  {
   "cell_type": "code",
   "execution_count": 61,
   "id": "d6fbb7c1",
   "metadata": {},
   "outputs": [],
   "source": [
    "lis2.remove('a')"
   ]
  },
  {
   "cell_type": "code",
   "execution_count": 62,
   "id": "08018ba3",
   "metadata": {},
   "outputs": [
    {
     "data": {
      "text/plain": [
       "['P', 'y', 't', 'h', 'o', 'n', 'B', 'e', 't', 'G', 'a', 'm', 'm', 'a']"
      ]
     },
     "execution_count": 62,
     "metadata": {},
     "output_type": "execute_result"
    }
   ],
   "source": [
    "lis2"
   ]
  },
  {
   "cell_type": "code",
   "execution_count": 63,
   "id": "e1ab2df5",
   "metadata": {},
   "outputs": [
    {
     "data": {
      "text/plain": [
       "<function list.sort(*, key=None, reverse=False)>"
      ]
     },
     "execution_count": 63,
     "metadata": {},
     "output_type": "execute_result"
    }
   ],
   "source": [
    "lis2.sort"
   ]
  },
  {
   "cell_type": "code",
   "execution_count": 64,
   "id": "07336efd",
   "metadata": {},
   "outputs": [],
   "source": [
    "lis2.sort()"
   ]
  },
  {
   "cell_type": "code",
   "execution_count": 65,
   "id": "153ed15b",
   "metadata": {},
   "outputs": [
    {
     "data": {
      "text/plain": [
       "['B', 'G', 'P', 'a', 'a', 'e', 'h', 'm', 'm', 'n', 'o', 't', 't', 'y']"
      ]
     },
     "execution_count": 65,
     "metadata": {},
     "output_type": "execute_result"
    }
   ],
   "source": [
    "lis2"
   ]
  },
  {
   "cell_type": "code",
   "execution_count": 66,
   "id": "3177af3d",
   "metadata": {},
   "outputs": [],
   "source": [
    "lis2.reverse()"
   ]
  },
  {
   "cell_type": "code",
   "execution_count": 67,
   "id": "5435060c",
   "metadata": {},
   "outputs": [
    {
     "data": {
      "text/plain": [
       "['y', 't', 't', 'o', 'n', 'm', 'm', 'h', 'e', 'a', 'a', 'P', 'G', 'B']"
      ]
     },
     "execution_count": 67,
     "metadata": {},
     "output_type": "execute_result"
    }
   ],
   "source": [
    "lis2"
   ]
  },
  {
   "cell_type": "markdown",
   "id": "d73ef08b",
   "metadata": {},
   "source": [
    "help in Python"
   ]
  },
  {
   "cell_type": "code",
   "execution_count": 68,
   "id": "231f7bc9",
   "metadata": {},
   "outputs": [
    {
     "name": "stdout",
     "output_type": "stream",
     "text": [
      "Help on built-in function remove:\n",
      "\n",
      "remove(value, /) method of builtins.list instance\n",
      "    Remove first occurrence of value.\n",
      "    \n",
      "    Raises ValueError if the value is not present.\n",
      "\n"
     ]
    }
   ],
   "source": [
    "help(lis2.remove)"
   ]
  },
  {
   "cell_type": "code",
   "execution_count": 69,
   "id": "6a6eb3e4",
   "metadata": {},
   "outputs": [
    {
     "name": "stdout",
     "output_type": "stream",
     "text": [
      "Help on built-in function copy:\n",
      "\n",
      "copy() method of builtins.list instance\n",
      "    Return a shallow copy of the list.\n",
      "\n"
     ]
    }
   ],
   "source": [
    "help(lis2.copy)"
   ]
  },
  {
   "cell_type": "code",
   "execution_count": null,
   "id": "700e31ad",
   "metadata": {},
   "outputs": [],
   "source": []
  }
 ],
 "metadata": {
  "kernelspec": {
   "display_name": "Python 3",
   "language": "python",
   "name": "python3"
  },
  "language_info": {
   "codemirror_mode": {
    "name": "ipython",
    "version": 3
   },
   "file_extension": ".py",
   "mimetype": "text/x-python",
   "name": "python",
   "nbconvert_exporter": "python",
   "pygments_lexer": "ipython3",
   "version": "3.8.8"
  }
 },
 "nbformat": 4,
 "nbformat_minor": 5
}
