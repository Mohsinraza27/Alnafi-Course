{
 "cells": [
  {
   "cell_type": "code",
   "execution_count": 1,
   "id": "2736ca4a",
   "metadata": {},
   "outputs": [
    {
     "data": {
      "text/plain": [
       "10"
      ]
     },
     "execution_count": 1,
     "metadata": {},
     "output_type": "execute_result"
    }
   ],
   "source": [
    "5+5"
   ]
  },
  {
   "cell_type": "code",
   "execution_count": 2,
   "id": "df50139d",
   "metadata": {},
   "outputs": [
    {
     "data": {
      "text/plain": [
       "85"
      ]
     },
     "execution_count": 2,
     "metadata": {},
     "output_type": "execute_result"
    }
   ],
   "source": [
    "100-15\n"
   ]
  },
  {
   "cell_type": "code",
   "execution_count": 3,
   "id": "2a4cee01",
   "metadata": {},
   "outputs": [
    {
     "data": {
      "text/plain": [
       "15.666666666666666"
      ]
     },
     "execution_count": 3,
     "metadata": {},
     "output_type": "execute_result"
    }
   ],
   "source": [
    "235/15"
   ]
  },
  {
   "cell_type": "code",
   "execution_count": 4,
   "id": "652780cc",
   "metadata": {},
   "outputs": [
    {
     "data": {
      "text/plain": [
       "276"
      ]
     },
     "execution_count": 4,
     "metadata": {},
     "output_type": "execute_result"
    }
   ],
   "source": [
    "23*12"
   ]
  },
  {
   "cell_type": "code",
   "execution_count": 5,
   "id": "e0fc9e4b",
   "metadata": {},
   "outputs": [
    {
     "data": {
      "text/plain": [
       "10.0"
      ]
     },
     "execution_count": 5,
     "metadata": {},
     "output_type": "execute_result"
    }
   ],
   "source": [
    "(23+17)*5/20"
   ]
  },
  {
   "cell_type": "code",
   "execution_count": 6,
   "id": "909c92d3",
   "metadata": {},
   "outputs": [
    {
     "data": {
      "text/plain": [
       "-13.759999999999998"
      ]
     },
     "execution_count": 6,
     "metadata": {},
     "output_type": "execute_result"
    }
   ],
   "source": [
    "(2*13)+(256/25)-50"
   ]
  },
  {
   "cell_type": "code",
   "execution_count": 7,
   "id": "fa532406",
   "metadata": {},
   "outputs": [
    {
     "data": {
      "text/plain": [
       "16.240000000000002"
      ]
     },
     "execution_count": 7,
     "metadata": {},
     "output_type": "execute_result"
    }
   ],
   "source": [
    "(2*13)+(256/25)-20"
   ]
  },
  {
   "cell_type": "code",
   "execution_count": 8,
   "id": "5d192e69",
   "metadata": {},
   "outputs": [
    {
     "ename": "SyntaxError",
     "evalue": "invalid syntax (<ipython-input-8-0c580b8269fe>, line 2)",
     "output_type": "error",
     "traceback": [
      "\u001b[1;36m  File \u001b[1;32m\"<ipython-input-8-0c580b8269fe>\"\u001b[1;36m, line \u001b[1;32m2\u001b[0m\n\u001b[1;33m    String = 'He said, \"aren't can't shouldn't wouldn't \"'\u001b[0m\n\u001b[1;37m                             ^\u001b[0m\n\u001b[1;31mSyntaxError\u001b[0m\u001b[1;31m:\u001b[0m invalid syntax\n"
     ]
    }
   ],
   "source": [
    "#Syntex Error\n",
    "String = 'He said, \"aren't can't shouldn't wouldn't \"'\n",
    "print(String)"
   ]
  },
  {
   "cell_type": "code",
   "execution_count": 10,
   "id": "a6b6d4c8",
   "metadata": {},
   "outputs": [
    {
     "name": "stdout",
     "output_type": "stream",
     "text": [
      "He said, \"aren't can't shouldn't couldn't \"\n",
      "He said, \"aren't can't shouldn't couldn't\"\n"
     ]
    }
   ],
   "source": [
    "#Adding Backslash '\\' or Escaping\n",
    "single_qoute_str = 'He said, \"aren\\'t can\\'t shouldn\\'t couldn\\'t \"'\n",
    "print(single_qoute_str)\n",
    "double_qoute_str = \"He said, \\\"aren't can't shouldn't couldn't\\\"\"\n",
    "print(double_qoute_str)"
   ]
  },
  {
   "cell_type": "code",
   "execution_count": 11,
   "id": "16992249",
   "metadata": {},
   "outputs": [
    {
     "name": "stdout",
     "output_type": "stream",
     "text": [
      "I scored 1000 points\n"
     ]
    }
   ],
   "source": [
    "#Embedding Value in String\n",
    "myScore = 1000\n",
    "message = 'I scored %s points'\n",
    "print(message % myScore)"
   ]
  },
  {
   "cell_type": "code",
   "execution_count": 15,
   "id": "ca8446b3",
   "metadata": {},
   "outputs": [
    {
     "name": "stdout",
     "output_type": "stream",
     "text": [
      "My math marks is 98. \n"
     ]
    }
   ],
   "source": [
    "marks = 98\n",
    "math = 'My math marks is %s. '\n",
    "print(math % marks)"
   ]
  },
  {
   "cell_type": "code",
   "execution_count": 16,
   "id": "02794b45",
   "metadata": {},
   "outputs": [
    {
     "name": "stdout",
     "output_type": "stream",
     "text": [
      "My age is 24 \n"
     ]
    }
   ],
   "source": [
    "age = 24\n",
    "myAge = \"My age is %s \"\n",
    "print(myAge % age)"
   ]
  },
  {
   "cell_type": "code",
   "execution_count": 17,
   "id": "0ffd44ab",
   "metadata": {},
   "outputs": [
    {
     "name": "stdout",
     "output_type": "stream",
     "text": [
      "Enter your Marks: 890\n",
      "your Metric Marks is 890...\n"
     ]
    }
   ],
   "source": [
    "marks = input(\"Enter your Marks: \")\n",
    "yourMarks = \"your Metric Marks is %s...\"\n",
    "print(yourMarks % marks)"
   ]
  },
  {
   "cell_type": "code",
   "execution_count": 18,
   "id": "f5205f8b",
   "metadata": {},
   "outputs": [
    {
     "name": "stdout",
     "output_type": "stream",
     "text": [
      "What did the number 2 say to number 9? Nice Belt!!\n"
     ]
    }
   ],
   "source": [
    "#Embedding Value in String Continued..\n",
    "nums = \"What did the number %s say to number %s? Nice Belt!!\"\n",
    "print(nums % (2, 9))"
   ]
  },
  {
   "cell_type": "code",
   "execution_count": 19,
   "id": "1dfde1e8",
   "metadata": {},
   "outputs": [
    {
     "data": {
      "text/plain": [
       "'5555555555'"
      ]
     },
     "execution_count": 19,
     "metadata": {},
     "output_type": "execute_result"
    }
   ],
   "source": [
    "#Multiplying String\n",
    "(10*'5')"
   ]
  },
  {
   "cell_type": "code",
   "execution_count": 20,
   "id": "eb439de5",
   "metadata": {},
   "outputs": [
    {
     "data": {
      "text/plain": [
       "'MohsinMohsinMohsinMohsinMohsinMohsinMohsinMohsinMohsinMohsinMohsinMohsinMohsinMohsinMohsinMohsinMohsinMohsinMohsinMohsinMohsinMohsinMohsinMohsinMohsinMohsinMohsinMohsinMohsinMohsinMohsinMohsinMohsinMohsinMohsinMohsinMohsinMohsinMohsinMohsinMohsinMohsinMohsinMohsinMohsinMohsinMohsinMohsinMohsinMohsinMohsinMohsinMohsinMohsinMohsinMohsinMohsinMohsinMohsinMohsinMohsinMohsinMohsinMohsinMohsinMohsinMohsinMohsinMohsinMohsinMohsinMohsinMohsinMohsinMohsinMohsinMohsinMohsinMohsinMohsinMohsinMohsinMohsinMohsinMohsinMohsinMohsinMohsinMohsinMohsinMohsinMohsinMohsinMohsinMohsinMohsinMohsinMohsinMohsinMohsin'"
      ]
     },
     "execution_count": 20,
     "metadata": {},
     "output_type": "execute_result"
    }
   ],
   "source": [
    "(100*'Mohsin')"
   ]
  },
  {
   "cell_type": "code",
   "execution_count": 21,
   "id": "8b91d7af",
   "metadata": {},
   "outputs": [
    {
     "data": {
      "text/plain": [
       "'RazaRazaRazaRazaRazaRazaRazaRazaRazaRazaRazaRazaRazaRazaRazaRazaRazaRazaRazaRazaRazaRazaRazaRazaRazaRazaRazaRazaRazaRazaRazaRazaRazaRazaRazaRazaRazaRazaRazaRazaRazaRazaRazaRazaRazaRazaRazaRazaRazaRaza'"
      ]
     },
     "execution_count": 21,
     "metadata": {},
     "output_type": "execute_result"
    }
   ],
   "source": [
    "50*'Raza'"
   ]
  },
  {
   "cell_type": "code",
   "execution_count": 22,
   "id": "b78c77f9",
   "metadata": {},
   "outputs": [
    {
     "name": "stdout",
     "output_type": "stream",
     "text": [
      "                         12 DHA Phase 5\n",
      "                          Clifton\n",
      "                          West Snoring\n",
      "\n",
      "\n",
      "Dear sir,\n",
      "\n",
      "I wish to report that tiles are missing from the\n",
      "outside toilet roof.\n",
      "I think it was bad wind the other night that blew them away \n",
      "\n",
      "Regards\n",
      "Sharfoo\n"
     ]
    }
   ],
   "source": [
    "#Multiplying String Continued...\n",
    "spaces = \" \"*25\n",
    "print('%s12 DHA Phase 5'% spaces)\n",
    "print('%s Clifton'% spaces)\n",
    "print('%s West Snoring'% spaces)\n",
    "print()\n",
    "print()\n",
    "print('Dear sir,')\n",
    "print()\n",
    "print('''I wish to report that tiles are missing from the\n",
    "outside toilet roof.\n",
    "I think it was bad wind the other night that blew them away ''')\n",
    "print()\n",
    "print('Regards')\n",
    "print('Sharfoo')"
   ]
  },
  {
   "cell_type": "code",
   "execution_count": 23,
   "id": "48adaefc",
   "metadata": {},
   "outputs": [
    {
     "name": "stdout",
     "output_type": "stream",
     "text": [
      "Sabzee, fruit, aloo, chai\n"
     ]
    }
   ],
   "source": [
    "#List Vs. String\n",
    "list = 'Sabzee, fruit, aloo, chai'\n",
    "print(list)"
   ]
  },
  {
   "cell_type": "code",
   "execution_count": 24,
   "id": "3b8ce65a",
   "metadata": {},
   "outputs": [
    {
     "name": "stdout",
     "output_type": "stream",
     "text": [
      "['Sabzee', 'Fruit', 'Aloo', 'Chai']\n"
     ]
    }
   ],
   "source": [
    "list = ['Sabzee', 'Fruit', 'Aloo', 'Chai']\n",
    "print(list)"
   ]
  },
  {
   "cell_type": "code",
   "execution_count": 25,
   "id": "fa5fd2ad",
   "metadata": {},
   "outputs": [
    {
     "name": "stdout",
     "output_type": "stream",
     "text": [
      "['Why', 'Was', 6, 'Afraid', 'of', 7, 'Because', 7, 8, 9]\n"
     ]
    }
   ],
   "source": [
    "numbers = [1, 3, 5, 6, 7, 9, 13]\n",
    "strings = ['Which', 'Witch', 'List', 'With']\n",
    "numbers_and_strings = ['Why', 'Was', 6, 'Afraid', 'of', 7, 'Because', 7,8,9]\n",
    "print(numbers_and_strings)\n"
   ]
  },
  {
   "cell_type": "code",
   "execution_count": 26,
   "id": "5ff26598",
   "metadata": {},
   "outputs": [
    {
     "name": "stdout",
     "output_type": "stream",
     "text": [
      "[[1, 2, 3, 4, 5], ['I', 'Kicked', 'My', 'Toe', 'and', 'It', 'Is', 'Score']]\n"
     ]
    }
   ],
   "source": [
    "#List within List\n",
    "numbers = [1, 2, 3, 4, 5]\n",
    "strings = ['I', 'Kicked', 'My', 'Toe', 'and', 'It', 'Is', 'Score']\n",
    "print([numbers, strings])"
   ]
  },
  {
   "cell_type": "code",
   "execution_count": 31,
   "id": "2471edd4",
   "metadata": {},
   "outputs": [
    {
     "name": "stdout",
     "output_type": "stream",
     "text": [
      "[[1, 2, 3, 4, 5], ['I', 'Kicked', 'My', 'Toe', 'and', 'It', 'Is', 'Score'], 'Bear Burp', 'Mandrake', 'Swap gas']\n"
     ]
    }
   ],
   "source": [
    "#Adding items in List            Use 'append'\n",
    "numbers = [1, 2, 3, 4, 5]\n",
    "strings = ['I', 'Kicked', 'My', 'Toe', 'and', 'It', 'Is', 'Score']\n",
    "myList = [numbers, strings]\n",
    "myList.append('Bear Burp')\n",
    "myList.append(\"Mandrake\")\n",
    "myList.append('Swap gas')\n",
    "print(myList)"
   ]
  },
  {
   "cell_type": "code",
   "execution_count": 32,
   "id": "9cf61226",
   "metadata": {},
   "outputs": [
    {
     "name": "stdout",
     "output_type": "stream",
     "text": [
      "[[1, 2, 3, 4, 5], ['I', 'Kicked', 'My', 'Toe', 'and', 'It', 'Is', 'Score'], 'Bear Burp']\n"
     ]
    }
   ],
   "source": [
    "numbers = [1, 2, 3, 4, 5]\n",
    "strings = ['I', 'Kicked', 'My', 'Toe', 'and', 'It', 'Is', 'Score']\n",
    "myList = [numbers, strings]\n",
    "myList.append('Bear Burp')\n",
    "print(myList)"
   ]
  },
  {
   "cell_type": "code",
   "execution_count": 36,
   "id": "336947c8",
   "metadata": {},
   "outputs": [
    {
     "name": "stdout",
     "output_type": "stream",
     "text": [
      "['Spider legs', 'Toe of Frog', 'Eye of newt', 'Bat wing', 'Snake dandruff', 'Bear Burp']\n"
     ]
    }
   ],
   "source": [
    "#Removing Items from List         Use 'del'\n",
    "list = ['Spider legs', 'Toe of Frog', 'Eye of newt', 'Bat wing', 'Slug butter', 'Snake dandruff']\n",
    "list.append('Bear Burp')\n",
    "del list[4] \n",
    "print(list)"
   ]
  },
  {
   "cell_type": "code",
   "execution_count": 37,
   "id": "1f8ecf56",
   "metadata": {},
   "outputs": [
    {
     "name": "stdout",
     "output_type": "stream",
     "text": [
      "['Spider legs', 'Toe of Frog', 'Eye of newt', 'Slug butter', 'Snake dandruff']\n"
     ]
    }
   ],
   "source": [
    "list = ['Spider legs', 'Toe of Frog', 'Eye of newt', 'Bat wing', 'Slug butter', 'Snake dandruff']\n",
    "del list[3] \n",
    "print(list)"
   ]
  },
  {
   "cell_type": "code",
   "execution_count": 38,
   "id": "bd883e37",
   "metadata": {},
   "outputs": [
    {
     "name": "stdout",
     "output_type": "stream",
     "text": [
      "[1, 2, 3, 4, 'I', 'Tripped', 'Over', 'and', 'Hit', 'the', 'Floor']\n"
     ]
    }
   ],
   "source": [
    "#Arithmetic List\n",
    "list_1 = [1,2,3,4]\n",
    "list_2 = ['I', 'Tripped', 'Over', 'and', 'Hit', 'the', 'Floor']\n",
    "print(list_1+list_2)\n"
   ]
  },
  {
   "cell_type": "code",
   "execution_count": 39,
   "id": "2cc46ac5",
   "metadata": {},
   "outputs": [
    {
     "name": "stdout",
     "output_type": "stream",
     "text": [
      "[1, 2, 3, 4, 'I', 'Tripped', 'Over', 'and', 'Hit', 'the', 'Floor']\n"
     ]
    }
   ],
   "source": [
    "list_1 = [1,2,3,4]\n",
    "list_2 = ['I', 'Tripped', 'Over', 'and', 'Hit', 'the', 'Floor']\n",
    "list_3 = list_1+list_2\n",
    "print(list_3)\n"
   ]
  },
  {
   "cell_type": "code",
   "execution_count": 40,
   "id": "9970a5e9",
   "metadata": {},
   "outputs": [
    {
     "name": "stdout",
     "output_type": "stream",
     "text": [
      "[1, 2, 1, 2, 1, 2, 1, 2, 1, 2, 1, 2, 1, 2, 1, 2]\n"
     ]
    }
   ],
   "source": [
    "list_1 = [1,2]\n",
    "print(list_1*8)"
   ]
  },
  {
   "cell_type": "code",
   "execution_count": 41,
   "id": "9f2cfbda",
   "metadata": {},
   "outputs": [
    {
     "ename": "SyntaxError",
     "evalue": "invalid syntax (<ipython-input-41-e8feb17d4a9a>, line 2)",
     "output_type": "error",
     "traceback": [
      "\u001b[1;36m  File \u001b[1;32m\"<ipython-input-41-e8feb17d4a9a>\"\u001b[1;36m, line \u001b[1;32m2\u001b[0m\n\u001b[1;33m    list 1/10\u001b[0m\n\u001b[1;37m         ^\u001b[0m\n\u001b[1;31mSyntaxError\u001b[0m\u001b[1;31m:\u001b[0m invalid syntax\n"
     ]
    }
   ],
   "source": [
    "list_1 = [1, 2]\n",
    "list 1/10\n",
    "print(list_1)"
   ]
  },
  {
   "cell_type": "code",
   "execution_count": 42,
   "id": "f12b75ee",
   "metadata": {},
   "outputs": [
    {
     "ename": "TypeError",
     "evalue": "unsupported operand type(s) for -: 'list' and 'int'",
     "output_type": "error",
     "traceback": [
      "\u001b[1;31m---------------------------------------------------------------------------\u001b[0m",
      "\u001b[1;31mTypeError\u001b[0m                                 Traceback (most recent call last)",
      "\u001b[1;32m<ipython-input-42-7f9ce0d20d8f>\u001b[0m in \u001b[0;36m<module>\u001b[1;34m\u001b[0m\n\u001b[0;32m      1\u001b[0m \u001b[0mlist_1\u001b[0m \u001b[1;33m=\u001b[0m \u001b[1;33m[\u001b[0m\u001b[1;36m1\u001b[0m\u001b[1;33m,\u001b[0m \u001b[1;36m2\u001b[0m\u001b[1;33m]\u001b[0m\u001b[1;33m\u001b[0m\u001b[1;33m\u001b[0m\u001b[0m\n\u001b[1;32m----> 2\u001b[1;33m \u001b[0mlist\u001b[0m \u001b[1;33m-\u001b[0m \u001b[1;36m23\u001b[0m\u001b[1;33m\u001b[0m\u001b[1;33m\u001b[0m\u001b[0m\n\u001b[0m\u001b[0;32m      3\u001b[0m \u001b[0mprint\u001b[0m\u001b[1;33m(\u001b[0m\u001b[0mlist_1\u001b[0m\u001b[1;33m)\u001b[0m\u001b[1;33m\u001b[0m\u001b[1;33m\u001b[0m\u001b[0m\n",
      "\u001b[1;31mTypeError\u001b[0m: unsupported operand type(s) for -: 'list' and 'int'"
     ]
    }
   ],
   "source": [
    "list_1 = [1, 2]\n",
    "list - 23\n",
    "print(list_1)"
   ]
  },
  {
   "cell_type": "code",
   "execution_count": 43,
   "id": "c35ce5de",
   "metadata": {},
   "outputs": [
    {
     "name": "stdout",
     "output_type": "stream",
     "text": [
      "3\n"
     ]
    }
   ],
   "source": [
    "#Tuples\n",
    "fibs = (0, 1, 2, 3, 4, 5)\n",
    "print(fibs[3])"
   ]
  },
  {
   "cell_type": "code",
   "execution_count": 44,
   "id": "93e14a7f",
   "metadata": {},
   "outputs": [
    {
     "ename": "AttributeError",
     "evalue": "'tuple' object has no attribute 'append'",
     "output_type": "error",
     "traceback": [
      "\u001b[1;31m---------------------------------------------------------------------------\u001b[0m",
      "\u001b[1;31mAttributeError\u001b[0m                            Traceback (most recent call last)",
      "\u001b[1;32m<ipython-input-44-fb5b82e1480b>\u001b[0m in \u001b[0;36m<module>\u001b[1;34m\u001b[0m\n\u001b[0;32m      1\u001b[0m \u001b[0mtuple\u001b[0m \u001b[1;33m=\u001b[0m \u001b[1;33m(\u001b[0m\u001b[1;36m2\u001b[0m\u001b[1;33m,\u001b[0m \u001b[1;36m4\u001b[0m\u001b[1;33m,\u001b[0m \u001b[1;36m5\u001b[0m\u001b[1;33m,\u001b[0m \u001b[1;36m7\u001b[0m\u001b[1;33m,\u001b[0m \u001b[1;36m8\u001b[0m\u001b[1;33m)\u001b[0m\u001b[1;33m\u001b[0m\u001b[1;33m\u001b[0m\u001b[0m\n\u001b[1;32m----> 2\u001b[1;33m \u001b[0mtuple\u001b[0m\u001b[1;33m.\u001b[0m\u001b[0mappend\u001b[0m\u001b[1;33m(\u001b[0m\u001b[1;36m10\u001b[0m\u001b[1;33m)\u001b[0m\u001b[1;33m\u001b[0m\u001b[1;33m\u001b[0m\u001b[0m\n\u001b[0m\u001b[0;32m      3\u001b[0m \u001b[0mprint\u001b[0m\u001b[1;33m(\u001b[0m\u001b[0mtuple\u001b[0m\u001b[1;33m)\u001b[0m\u001b[1;33m\u001b[0m\u001b[1;33m\u001b[0m\u001b[0m\n",
      "\u001b[1;31mAttributeError\u001b[0m: 'tuple' object has no attribute 'append'"
     ]
    }
   ],
   "source": [
    "tuple = (2, 4, 5, 7, 8)\n",
    "tuple.append(10)\n",
    "print(tuple)"
   ]
  },
  {
   "cell_type": "code",
   "execution_count": 45,
   "id": "6a374d52",
   "metadata": {},
   "outputs": [
    {
     "name": "stdout",
     "output_type": "stream",
     "text": [
      "{'ALi': 'Football', 'Omer': 'Basketball', 'Raza': 'Baseball'}\n"
     ]
    }
   ],
   "source": [
    "#Creating Map\\Dictionary in Python\n",
    "sports = {'ALi' : 'Football',\n",
    "         'Omer' : 'Basketball',\n",
    "         'Raza' : 'Baseball'}\n",
    "print(sports)"
   ]
  },
  {
   "cell_type": "code",
   "execution_count": 46,
   "id": "07a6d30f",
   "metadata": {},
   "outputs": [
    {
     "name": "stdout",
     "output_type": "stream",
     "text": [
      "Basketball\n"
     ]
    }
   ],
   "source": [
    "sports = {'ALi' : 'Football',\n",
    "         'Omer' : 'Basketball',\n",
    "         'Raza' : 'Baseball'}\n",
    "print(sports['Omer'])"
   ]
  },
  {
   "cell_type": "code",
   "execution_count": 48,
   "id": "0bf5a678",
   "metadata": {},
   "outputs": [
    {
     "name": "stdout",
     "output_type": "stream",
     "text": [
      "{'ALi': 'Football', 'Omer': 'Basketball', 'Raza': 'Baseball', 'Mohsin': 'Cricket'}\n"
     ]
    }
   ],
   "source": [
    "sports = {'ALi' : 'Football',\n",
    "         'Omer' : 'Basketball',\n",
    "         'Raza' : 'Baseball',\n",
    "         'Mohsin': 'Cricket'}\n",
    "\n",
    "print(sports)"
   ]
  },
  {
   "cell_type": "code",
   "execution_count": 49,
   "id": "803d22c3",
   "metadata": {},
   "outputs": [
    {
     "name": "stdout",
     "output_type": "stream",
     "text": [
      "{'ALi': 'Football', 'Omer': 'Basketball', 'Raza': 'Baseball'}\n"
     ]
    }
   ],
   "source": [
    "sports = {'ALi' : 'Football',\n",
    "         'Omer' : 'Basketball',\n",
    "         'Raza' : 'Baseball',\n",
    "         'Mohsin': 'Cricket'}\n",
    "del sports['Mohsin']\n",
    "print(sports)"
   ]
  },
  {
   "cell_type": "code",
   "execution_count": 50,
   "id": "16a5f0b8",
   "metadata": {},
   "outputs": [
    {
     "name": "stdout",
     "output_type": "stream",
     "text": [
      "{'ALi': 'Football', 'Omer': 'Basketball', 'Raza': 'Baseball', 'Mohsin': 'Hokey'}\n"
     ]
    }
   ],
   "source": [
    "sports = {'ALi' : 'Football',\n",
    "         'Omer' : 'Basketball',\n",
    "         'Raza' : 'Baseball',\n",
    "         'Mohsin': 'Cricket'}\n",
    "sports['Mohsin'] = 'Hokey'\n",
    "print(sports)"
   ]
  },
  {
   "cell_type": "code",
   "execution_count": 4,
   "id": "74d4c0a1",
   "metadata": {},
   "outputs": [
    {
     "name": "stdout",
     "output_type": "stream",
     "text": [
      "Enter your Metric Number: 55\n",
      "Congratulations! You have pass the Exam\n"
     ]
    }
   ],
   "source": [
    "#If and Else\n",
    "number = int(input(\"Enter your Metric Number: \"))\n",
    "if (number>33<100):\n",
    "    print(\"Congratulations! You have pass the Exam\")\n",
    "else:\n",
    "    print(\"Your are Fail!\")"
   ]
  },
  {
   "cell_type": "code",
   "execution_count": 3,
   "id": "ed666bfe",
   "metadata": {},
   "outputs": [
    {
     "name": "stdout",
     "output_type": "stream",
     "text": [
      "Enter your Metric Number: 23\n",
      "Your are Fail!\n"
     ]
    }
   ],
   "source": [
    "number = int(input(\"Enter your Metric Number: \"))\n",
    "if (number>33<100):\n",
    "    print(\"You have pass the Exam\")\n",
    "else:\n",
    "    print(\"Your are Fail!\")"
   ]
  },
  {
   "cell_type": "code",
   "execution_count": 11,
   "id": "1ece9f46",
   "metadata": {},
   "outputs": [
    {
     "name": "stdout",
     "output_type": "stream",
     "text": [
      "Enter your Metric Number: 111\n",
      "Your are Fail!\n"
     ]
    }
   ],
   "source": [
    "number = int(input(\"Enter your Metric Number: \"))\n",
    "if (number>33>100):\n",
    "    print(\"You have pass the Exam\")\n",
    "else:\n",
    "    print(\"Your are Fail!\")"
   ]
  },
  {
   "cell_type": "code",
   "execution_count": 5,
   "id": "f4513b78",
   "metadata": {},
   "outputs": [
    {
     "name": "stdout",
     "output_type": "stream",
     "text": [
      "Enter your Current age:\n",
      " 23\n",
      "Congratulations! you are Selected for this Job position\n"
     ]
    }
   ],
   "source": [
    "age = int(input(\"Enter your Current age:\\n \"))\n",
    "if age>20<45:\n",
    "    print(\"Congratulations! you are Selected for this Job position\")\n",
    "else:\n",
    "    print(\"Your age is not Acceptable for this Job position\")\n",
    "    "
   ]
  },
  {
   "cell_type": "code",
   "execution_count": 7,
   "id": "40ed98c1",
   "metadata": {},
   "outputs": [
    {
     "name": "stdout",
     "output_type": "stream",
     "text": [
      "Enter your Current age:\n",
      " 18\n",
      "Your age is not Acceptable for this Job position\n"
     ]
    }
   ],
   "source": [
    "age = int(input(\"Enter your Current age:\\n \"))\n",
    "if age>20<45:\n",
    "    print(\"Congratulations! you are Selected for this Job position\")\n",
    "else:\n",
    "    print(\"Your age is not Acceptable for this Job position\")\n",
    "    "
   ]
  },
  {
   "cell_type": "code",
   "execution_count": 9,
   "id": "b987031b",
   "metadata": {},
   "outputs": [
    {
     "name": "stdout",
     "output_type": "stream",
     "text": [
      "Enter your Current age:\n",
      " 55\n",
      "Your age is not Acceptable for this Job position\n"
     ]
    }
   ],
   "source": [
    "age = int(input(\"Enter your Current age:\\n \"))\n",
    "if age>20>45:\n",
    "    print(\"Congratulations! you are Selected for this Job position\")\n",
    "else:\n",
    "    print(\"Your age is not Acceptable for this Job position\")\n",
    "    "
   ]
  },
  {
   "cell_type": "code",
   "execution_count": 12,
   "id": "58163551",
   "metadata": {},
   "outputs": [
    {
     "name": "stdout",
     "output_type": "stream",
     "text": [
      "Enter your Current age:\n",
      " 12\n",
      "you are not selected\n"
     ]
    }
   ],
   "source": [
    "#   '=='\n",
    "age = int(input(\"Enter your Current age:\\n \"))\n",
    "if age==18:\n",
    "    print(\"you are selected\")\n",
    "else:\n",
    "    print(\"you are not selected\")\n",
    "    "
   ]
  },
  {
   "cell_type": "code",
   "execution_count": 13,
   "id": "7aa0e68f",
   "metadata": {},
   "outputs": [
    {
     "name": "stdout",
     "output_type": "stream",
     "text": [
      "Enter your Current age:\n",
      " 20\n",
      "you are not selected\n"
     ]
    }
   ],
   "source": [
    "age = int(input(\"Enter your Current age:\\n \"))\n",
    "if age==18:\n",
    "    print(\"you are selected\")\n",
    "else:\n",
    "    print(\"you are not selected\")\n",
    "    "
   ]
  },
  {
   "cell_type": "code",
   "execution_count": 14,
   "id": "8498ea91",
   "metadata": {},
   "outputs": [
    {
     "name": "stdout",
     "output_type": "stream",
     "text": [
      "Enter your Current age:\n",
      " 18\n",
      "you are selected\n"
     ]
    }
   ],
   "source": [
    "age = int(input(\"Enter your Current age:\\n \"))\n",
    "if age==18:\n",
    "    print(\"you are selected\")\n",
    "else:\n",
    "    print(\"you are not selected\")\n",
    "    "
   ]
  },
  {
   "cell_type": "code",
   "execution_count": 16,
   "id": "6bdb89fe",
   "metadata": {},
   "outputs": [
    {
     "name": "stdout",
     "output_type": "stream",
     "text": [
      "Enter your Current age:\n",
      " 12\n",
      "you are selected\n"
     ]
    }
   ],
   "source": [
    "#   ' != '\n",
    "age = int(input(\"Enter your Current age:\\n \"))\n",
    "if age!=20:\n",
    "    print(\"you are selected\")\n",
    "else:\n",
    "    print(\"you are not selected\")\n",
    "    "
   ]
  },
  {
   "cell_type": "code",
   "execution_count": 17,
   "id": "fc8adb92",
   "metadata": {},
   "outputs": [
    {
     "name": "stdout",
     "output_type": "stream",
     "text": [
      "Enter your Current age:\n",
      " 20\n",
      "you are not selected\n"
     ]
    }
   ],
   "source": [
    "age = int(input(\"Enter your Current age:\\n \"))\n",
    "if age!=20:\n",
    "    print(\"you are selected\")\n",
    "else:\n",
    "    print(\"you are not selected\")\n",
    "    "
   ]
  },
  {
   "cell_type": "code",
   "execution_count": 18,
   "id": "59551e40",
   "metadata": {},
   "outputs": [
    {
     "name": "stdout",
     "output_type": "stream",
     "text": [
      "Enter your Current age:\n",
      " 12\n",
      "you are not selected\n"
     ]
    }
   ],
   "source": [
    "#  ' >= '\n",
    "age = int(input(\"Enter your Current age:\\n \"))\n",
    "if age>=20:\n",
    "    print(\"you are selected\")\n",
    "else:\n",
    "    print(\"you are not selected\")\n",
    "    "
   ]
  },
  {
   "cell_type": "code",
   "execution_count": 19,
   "id": "dd2155bd",
   "metadata": {},
   "outputs": [
    {
     "name": "stdout",
     "output_type": "stream",
     "text": [
      "Enter your Current age:\n",
      " 23\n",
      "you are selected\n"
     ]
    }
   ],
   "source": [
    "age = int(input(\"Enter your Current age:\\n \"))\n",
    "if age>=20:\n",
    "    print(\"you are selected\")\n",
    "else:\n",
    "    print(\"you are not selected\")\n",
    "    "
   ]
  },
  {
   "cell_type": "code",
   "execution_count": 20,
   "id": "75800550",
   "metadata": {},
   "outputs": [
    {
     "name": "stdout",
     "output_type": "stream",
     "text": [
      "Enter your Current age:\n",
      " 14\n",
      "you are not selected\n"
     ]
    }
   ],
   "source": [
    "#  ' <= '\n",
    "age = int(input(\"Enter your Current age:\\n \"))\n",
    "if age<=17:\n",
    "    print(\"you are not selected\")\n",
    "else:\n",
    "    print(\"you are selected\")\n",
    "    "
   ]
  },
  {
   "cell_type": "code",
   "execution_count": 21,
   "id": "f801e7ef",
   "metadata": {},
   "outputs": [
    {
     "name": "stdout",
     "output_type": "stream",
     "text": [
      "Enter your Current age:\n",
      " 18\n",
      "you are selected\n"
     ]
    }
   ],
   "source": [
    "age = int(input(\"Enter your Current age:\\n \"))\n",
    "if age<=17:\n",
    "    print(\"you are not selected\")\n",
    "else:\n",
    "    print(\"you are selected\")\n",
    "    "
   ]
  },
  {
   "cell_type": "code",
   "execution_count": 27,
   "id": "2e7c7f72",
   "metadata": {},
   "outputs": [
    {
     "name": "stdout",
     "output_type": "stream",
     "text": [
      "Enter your Matric numbers:\n",
      " 34\n",
      "you are Fail!\n"
     ]
    }
   ],
   "source": [
    "# Combined Conditions\n",
    "number = int(input(\"Enter your Matric numbers:\\n \"))\n",
    "if number==39 or number<40 :\n",
    "    print(\"you are Fail!\")\n",
    "else:\n",
    "    print(\"You are Pass!\")"
   ]
  },
  {
   "cell_type": "code",
   "execution_count": 28,
   "id": "77132f5c",
   "metadata": {},
   "outputs": [
    {
     "name": "stdout",
     "output_type": "stream",
     "text": [
      "Enter your Matric numbers:\n",
      " 46\n",
      "You are Pass!\n"
     ]
    }
   ],
   "source": [
    "number = int(input(\"Enter your Matric numbers:\\n \"))\n",
    "if number==39 or number<40 :\n",
    "    print(\"you are Fail!\")\n",
    "else:\n",
    "    print(\"You are Pass!\")"
   ]
  },
  {
   "cell_type": "code",
   "execution_count": 2,
   "id": "07d243d3",
   "metadata": {},
   "outputs": [
    {
     "name": "stdout",
     "output_type": "stream",
     "text": [
      "Enter your Current age:\n",
      " 20\n",
      "You are not Selected!\n"
     ]
    }
   ],
   "source": [
    "age = int(input(\"Enter your Current age:\\n \"))\n",
    "if age==22 or age>22 :\n",
    "    print(\"you are Selected!\")\n",
    "else:\n",
    "    print(\"You are not Selected!\")"
   ]
  },
  {
   "cell_type": "code",
   "execution_count": 3,
   "id": "498a0512",
   "metadata": {},
   "outputs": [
    {
     "name": "stdout",
     "output_type": "stream",
     "text": [
      "Enter your Current age:\n",
      " 25\n",
      "you are Selected!\n"
     ]
    }
   ],
   "source": [
    "age = int(input(\"Enter your Current age:\\n \"))\n",
    "if age==22 or age>22 :\n",
    "    print(\"you are Selected!\")\n",
    "else:\n",
    "    print(\"You are not Selected!\")"
   ]
  },
  {
   "cell_type": "code",
   "execution_count": 7,
   "id": "5833a970",
   "metadata": {},
   "outputs": [
    {
     "name": "stdout",
     "output_type": "stream",
     "text": [
      "Enter your Current age:\n",
      " 28\n",
      "You are not Selected!\n"
     ]
    }
   ],
   "source": [
    "age = int(input(\"Enter your Current age:\\n \"))\n",
    "if age==22 or age==25 or age==30 or age==35 :\n",
    "    print(\"you are Selected!\")\n",
    "else:\n",
    "    print(\"You are not Selected!\")"
   ]
  },
  {
   "cell_type": "code",
   "execution_count": 8,
   "id": "9cb86143",
   "metadata": {},
   "outputs": [
    {
     "name": "stdout",
     "output_type": "stream",
     "text": [
      "Enter your Current age:\n",
      " 35\n",
      "you are Selected!\n"
     ]
    }
   ],
   "source": [
    "age = int(input(\"Enter your Current age:\\n \"))\n",
    "if age==22 or age==25 or age==30 or age==35 :\n",
    "    print(\"you are Selected!\")\n",
    "else:\n",
    "    print(\"You are not Selected!\")"
   ]
  },
  {
   "cell_type": "code",
   "execution_count": 4,
   "id": "c8446492",
   "metadata": {},
   "outputs": [
    {
     "name": "stdout",
     "output_type": "stream",
     "text": [
      "Enter your Current age:\n",
      " 25\n",
      "you are Selected!\n"
     ]
    }
   ],
   "source": [
    "age = int(input(\"Enter your Current age:\\n \"))\n",
    "if age>=22 and age<=25:\n",
    "    print(\"you are Selected!\")\n",
    "else:\n",
    "    print(\"You are not Selected!\")"
   ]
  },
  {
   "cell_type": "code",
   "execution_count": 2,
   "id": "88532917",
   "metadata": {},
   "outputs": [
    {
     "name": "stdout",
     "output_type": "stream",
     "text": [
      "Enter your Current age:\n",
      " 22\n",
      "you are Selected!\n"
     ]
    }
   ],
   "source": [
    "age = int(input(\"Enter your Current age:\\n \"))\n",
    "if age>=22 and age<=25:\n",
    "    print(\"you are Selected!\")\n",
    "else:\n",
    "    print(\"You are not Selected!\")"
   ]
  },
  {
   "cell_type": "code",
   "execution_count": 5,
   "id": "314ed9e6",
   "metadata": {},
   "outputs": [
    {
     "name": "stdout",
     "output_type": "stream",
     "text": [
      "Enter your Current age:\n",
      " 20\n",
      "Huh?\n"
     ]
    }
   ],
   "source": [
    "age = int(input(\"Enter your Current age:\\n \"))\n",
    "if age == 15:\n",
    "    Print(\"What do you call an unhappy cranberry?\")\n",
    "    print(\"A Blueberry!\")\n",
    "elif age == 16:\n",
    "    print(\"What did the green grape say to the blue grape?\")\n",
    "    print(\"Breathe! Breathe!\")\n",
    "elif age == 17:\n",
    "    print(\"What did 0 say to 8?\")\n",
    "    print(\"Hey Guys!\")\n",
    "elif age == 18:\n",
    "    print(\"Why was not 10 afraid of 7?\")\n",
    "    print(\"Because rather than eating 9, 7, 8 pi.\")\n",
    "else:\n",
    "    print(\"Huh?\")\n",
    "    "
   ]
  },
  {
   "cell_type": "code",
   "execution_count": 23,
   "id": "84a2a2ad",
   "metadata": {},
   "outputs": [
    {
     "name": "stdout",
     "output_type": "stream",
     "text": [
      "Enter your Current age:\n",
      " 18\n",
      "Why was not 10 afraid of 7?\n",
      "Because rather than eating 9, 7, 8 pi.\n"
     ]
    }
   ],
   "source": [
    "age = int(input(\"Enter your Current age:\\n \"))\n",
    "if age == 15:\n",
    "    Print(\"What do you call an unhappy cranberry?\")\n",
    "    print(\"A Blueberry!\")\n",
    "elif age == 16:\n",
    "    print(\"What did the green grape say to the blue grape?\")\n",
    "    print(\"Breathe! Breathe!\")\n",
    "elif age == 17:\n",
    "    print(\"What did 0 say to 8?\")\n",
    "    print(\"Hey Guys!\")\n",
    "elif age == 18:\n",
    "    print(\"Why was not 10 afraid of 7?\")\n",
    "    print(\"Because rather than eating 9, 7, 8 pi.\")\n",
    "else:\n",
    "    print(\"Huh?\")\n",
    "    "
   ]
  },
  {
   "cell_type": "code",
   "execution_count": 24,
   "id": "1b80df72",
   "metadata": {},
   "outputs": [
    {
     "name": "stdout",
     "output_type": "stream",
     "text": [
      "Enter your Current age:\n",
      " 17\n",
      "What did 0 say to 8?\n",
      "Hey Guys!\n"
     ]
    }
   ],
   "source": [
    "age = int(input(\"Enter your Current age:\\n \"))\n",
    "if age == 15:\n",
    "    Print(\"What do you call an unhappy cranberry?\")\n",
    "    print(\"A Blueberry!\")\n",
    "elif age == 16:\n",
    "    print(\"What did the green grape say to the blue grape?\")\n",
    "    print(\"Breathe! Breathe!\")\n",
    "elif age == 17:\n",
    "    print(\"What did 0 say to 8?\")\n",
    "    print(\"Hey Guys!\")\n",
    "elif age == 18:\n",
    "    print(\"Why was not 10 afraid of 7?\")\n",
    "    print(\"Because rather than eating 9, 7, 8 pi.\")\n",
    "else:\n",
    "    print(\"Huh?\")\n",
    "    "
   ]
  },
  {
   "cell_type": "code",
   "execution_count": 26,
   "id": "c452275e",
   "metadata": {},
   "outputs": [
    {
     "name": "stdout",
     "output_type": "stream",
     "text": [
      "Enter your Current age:\n",
      " 15\n",
      "What do you call an unhappy cranberry?\n",
      "A Blueberry!\n"
     ]
    }
   ],
   "source": [
    "age = int(input(\"Enter your Current age:\\n \"))\n",
    "if age == 15:\n",
    "    print(\"What do you call an unhappy cranberry?\")\n",
    "    print(\"A Blueberry!\")\n",
    "elif age == 16:\n",
    "    print(\"What did the green grape say to the blue grape?\")\n",
    "    print(\"Breathe! Breathe!\")\n",
    "elif age == 17:\n",
    "    print(\"What did 0 say to 8?\")\n",
    "    print(\"Hey Guys!\")\n",
    "elif age == 18:\n",
    "    print(\"Why was not 10 afraid of 7?\")\n",
    "    print(\"Because rather than eating 9, 7, 8 pi.\")\n",
    "else:\n",
    "    print(\"Huh?\")\n",
    "    "
   ]
  },
  {
   "cell_type": "code",
   "execution_count": 27,
   "id": "a58e2bc6",
   "metadata": {},
   "outputs": [
    {
     "name": "stdout",
     "output_type": "stream",
     "text": [
      "Enter your Current age:\n",
      " 16\n",
      "What did the green grape say to the blue grape?\n",
      "Breathe! Breathe!\n"
     ]
    }
   ],
   "source": [
    "age = int(input(\"Enter your Current age:\\n \"))\n",
    "if age == 15:\n",
    "    print(\"What do you call an unhappy cranberry?\")\n",
    "    print(\"A Blueberry!\")\n",
    "elif age == 16:\n",
    "    print(\"What did the green grape say to the blue grape?\")\n",
    "    print(\"Breathe! Breathe!\")\n",
    "elif age == 17:\n",
    "    print(\"What did 0 say to 8?\")\n",
    "    print(\"Hey Guys!\")\n",
    "elif age == 18:\n",
    "    print(\"Why was not 10 afraid of 7?\")\n",
    "    print(\"Because rather than eating 9, 7, 8 pi.\")\n",
    "else:\n",
    "    print(\"Huh?\")\n",
    "    "
   ]
  },
  {
   "cell_type": "code",
   "execution_count": 6,
   "id": "358a99a9",
   "metadata": {},
   "outputs": [
    {
     "name": "stdout",
     "output_type": "stream",
     "text": [
      "The variable of value does not have a value..\n"
     ]
    }
   ],
   "source": [
    "# 'None'\n",
    "value = None\n",
    "if value == None:\n",
    "    print(\"The variable of value does not have a value..\")\n",
    "    "
   ]
  },
  {
   "cell_type": "code",
   "execution_count": 8,
   "id": "d8699d03",
   "metadata": {},
   "outputs": [
    {
     "name": "stdout",
     "output_type": "stream",
     "text": [
      "25\n"
     ]
    }
   ],
   "source": [
    "# Converting Variables into Numbers and Numbers into Variables\n",
    "age = '18'\n",
    "\n",
    "age_1 = int(age) + 7\n",
    "print(age_1)"
   ]
  },
  {
   "cell_type": "code",
   "execution_count": null,
   "id": "4fff9e45",
   "metadata": {},
   "outputs": [],
   "source": []
  }
 ],
 "metadata": {
  "kernelspec": {
   "display_name": "Python 3",
   "language": "python",
   "name": "python3"
  },
  "language_info": {
   "codemirror_mode": {
    "name": "ipython",
    "version": 3
   },
   "file_extension": ".py",
   "mimetype": "text/x-python",
   "name": "python",
   "nbconvert_exporter": "python",
   "pygments_lexer": "ipython3",
   "version": "3.8.8"
  }
 },
 "nbformat": 4,
 "nbformat_minor": 5
}
