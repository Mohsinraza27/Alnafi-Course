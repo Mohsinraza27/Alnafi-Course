{
 "cells": [
  {
   "cell_type": "code",
   "execution_count": 1,
   "id": "1166b2a7",
   "metadata": {},
   "outputs": [],
   "source": [
    "# LOOPS\n",
    "# A 'FOR' Loop is a specific length, \n",
    "# Whereas, A 'WHILE' Loop is a loop that is used when you don't know ahead of time when it needs to stop looping\n"
   ]
  },
  {
   "cell_type": "code",
   "execution_count": 2,
   "id": "ebaa4080",
   "metadata": {},
   "outputs": [
    {
     "name": "stdout",
     "output_type": "stream",
     "text": [
      "0\n",
      "1\n",
      "2\n",
      "3\n",
      "4\n",
      "5\n",
      "6\n",
      "7\n",
      "8\n",
      "9\n"
     ]
    }
   ],
   "source": [
    "# While loop       Note: If the condition never become False, the loop keeps getting executed\n",
    "i = 0\n",
    "while i < 10:\n",
    "    print(i)\n",
    "    i = i +1"
   ]
  },
  {
   "cell_type": "code",
   "execution_count": 3,
   "id": "5b2fe421",
   "metadata": {},
   "outputs": [
    {
     "name": "stdout",
     "output_type": "stream",
     "text": [
      "Mohsin\n",
      "Mohsin\n",
      "Mohsin\n",
      "Mohsin\n",
      "Mohsin\n",
      "Mohsin\n",
      "Mohsin\n"
     ]
    }
   ],
   "source": [
    "i = 0\n",
    "while i < 7:\n",
    "    print(\"Mohsin\")\n",
    "    i = i +1"
   ]
  },
  {
   "cell_type": "code",
   "execution_count": 4,
   "id": "4ef8a399",
   "metadata": {},
   "outputs": [
    {
     "name": "stdout",
     "output_type": "stream",
     "text": [
      "Mohsin 0\n",
      "Mohsin 1\n",
      "Mohsin 2\n",
      "Mohsin 3\n",
      "Mohsin 4\n",
      "Mohsin 5\n",
      "Mohsin 6\n"
     ]
    }
   ],
   "source": [
    "i = 0\n",
    "while i < 7:\n",
    "    print(\"Mohsin\", i)\n",
    "    i = i +1"
   ]
  },
  {
   "cell_type": "code",
   "execution_count": 7,
   "id": "eafbc214",
   "metadata": {},
   "outputs": [
    {
     "name": "stdout",
     "output_type": "stream",
     "text": [
      "[1, 'Mohsin', 2, 'Raza', 3, 'Muhammad', 4, 'Ali', 5]\n",
      "[1, 'Mohsin', 2, 'Raza', 3, 'Muhammad', 4, 'Ali', 5]\n",
      "[1, 'Mohsin', 2, 'Raza', 3, 'Muhammad', 4, 'Ali', 5]\n",
      "[1, 'Mohsin', 2, 'Raza', 3, 'Muhammad', 4, 'Ali', 5]\n",
      "[1, 'Mohsin', 2, 'Raza', 3, 'Muhammad', 4, 'Ali', 5]\n"
     ]
    }
   ],
   "source": [
    "list = [1,\"Mohsin\", 2, \"Raza\", 3, \"Muhammad\", 4, \"Ali\", 5]\n",
    "i = 0\n",
    "while i < 5:\n",
    "    print(list)\n",
    "    i = i +1"
   ]
  },
  {
   "cell_type": "code",
   "execution_count": 3,
   "id": "3938367f",
   "metadata": {},
   "outputs": [
    {
     "name": "stdout",
     "output_type": "stream",
     "text": [
      "1\n",
      "Mohsin\n",
      "2\n",
      "Raza\n",
      "3\n",
      "Muhammad\n",
      "4\n",
      "Ali\n",
      "5\n"
     ]
    }
   ],
   "source": [
    "list = [1 ,\"Mohsin\", 2, \"Raza\", 3, \"Muhammad\", 4, \"Ali\", 5]\n",
    "i = 0\n",
    "while i < len(list):\n",
    "    print(list[i])\n",
    "    i = i +1"
   ]
  },
  {
   "cell_type": "code",
   "execution_count": 6,
   "id": "e2deff37",
   "metadata": {},
   "outputs": [
    {
     "name": "stdout",
     "output_type": "stream",
     "text": [
      "1 0\n",
      "Mohsin 1\n",
      "2 2\n",
      "Raza 3\n",
      "3 4\n",
      "Muhammad 5\n",
      "4 6\n",
      "Ali 7\n",
      "5 8\n"
     ]
    }
   ],
   "source": [
    "list = [1 ,\"Mohsin\", 2, \"Raza\", 3, \"Muhammad\", 4, \"Ali\", 5]\n",
    "i = 0\n",
    "while i < len(list):\n",
    "    print(list[i], i)\n",
    "    i = i +1"
   ]
  },
  {
   "cell_type": "code",
   "execution_count": 34,
   "id": "e40096e0",
   "metadata": {},
   "outputs": [
    {
     "name": "stdout",
     "output_type": "stream",
     "text": [
      "51 76\n",
      "52 77\n",
      "53 78\n",
      "54 79\n",
      "55 80\n",
      "56 81\n",
      "57 82\n",
      "58 83\n",
      "59 84\n",
      "60 85\n",
      "61 86\n",
      "62 87\n",
      "63 88\n",
      "64 89\n",
      "65 90\n",
      "66 91\n",
      "67 92\n",
      "68 93\n",
      "69 94\n",
      "70 95\n",
      "71 96\n",
      "72 97\n",
      "73 98\n",
      "74 99\n",
      "75 100\n"
     ]
    }
   ],
   "source": [
    "x = 50\n",
    "y = 75\n",
    "while x<75 and y<100:\n",
    "    x = x+1\n",
    "    y = y+1\n",
    "    print(x, y)"
   ]
  },
  {
   "cell_type": "code",
   "execution_count": 12,
   "id": "18bf45d4",
   "metadata": {},
   "outputs": [
    {
     "name": "stdout",
     "output_type": "stream",
     "text": [
      "1\n",
      "2\n",
      "3\n",
      "4\n",
      "5\n",
      "6\n",
      "7\n"
     ]
    }
   ],
   "source": [
    "# 'FOR' Loop\n",
    "list = [1, 2, 3, 4, 5, 6, 7]\n",
    "for item in list:\n",
    "    print(item)\n",
    "    \n",
    "    "
   ]
  },
  {
   "cell_type": "code",
   "execution_count": 13,
   "id": "1f523095",
   "metadata": {},
   "outputs": [
    {
     "name": "stdout",
     "output_type": "stream",
     "text": [
      "1 0\n",
      "2 1\n",
      "3 2\n",
      "4 3\n",
      "5 4\n",
      "6 5\n",
      "7 6\n"
     ]
    }
   ],
   "source": [
    "list = [1, 2, 3, 4, 5, 6, 7]\n",
    "i = 0\n",
    "for item in list:\n",
    "    print(item, i)\n",
    "    i = i + 1"
   ]
  },
  {
   "cell_type": "code",
   "execution_count": 14,
   "id": "d416a841",
   "metadata": {},
   "outputs": [],
   "source": [
    "# 'RANGE FUNCTION' The range function in Pyhon is used to generate a sequence of numbers\n",
    "# We can also specify the start, stop and step size"
   ]
  },
  {
   "cell_type": "code",
   "execution_count": 16,
   "id": "f1d4e4c3",
   "metadata": {},
   "outputs": [
    {
     "name": "stdout",
     "output_type": "stream",
     "text": [
      "0\n",
      "1\n",
      "2\n",
      "3\n",
      "4\n",
      "5\n"
     ]
    }
   ],
   "source": [
    "i = 0\n",
    "for i in range(0, 6):\n",
    "    print(i)"
   ]
  },
  {
   "cell_type": "code",
   "execution_count": 22,
   "id": "447c856f",
   "metadata": {},
   "outputs": [
    {
     "name": "stdout",
     "output_type": "stream",
     "text": [
      "Slam 0\n",
      "Slam 1\n",
      "Slam 2\n",
      "Slam 3\n",
      "Slam 4\n",
      "Slam 5\n",
      "Slam 6\n",
      "Slam 7\n",
      "Slam 8\n",
      "Slam 9\n",
      "Slam 10\n"
     ]
    }
   ],
   "source": [
    "for i in range(0, 11):\n",
    "    print(\"Slam\", i)\n",
    "    i = i + 1"
   ]
  },
  {
   "cell_type": "code",
   "execution_count": 23,
   "id": "28ef77be",
   "metadata": {},
   "outputs": [
    {
     "name": "stdout",
     "output_type": "stream",
     "text": [
      "Slam 0\n",
      "Slam 1\n",
      "Slam 2\n",
      "Slam 3\n",
      "Slam 4\n",
      "Slam 5\n"
     ]
    }
   ],
   "source": [
    "for i in range(0,6):\n",
    "    print(\"Slam %s\" %i)"
   ]
  },
  {
   "cell_type": "code",
   "execution_count": 24,
   "id": "edbdd64d",
   "metadata": {},
   "outputs": [
    {
     "name": "stdout",
     "output_type": "stream",
     "text": [
      "1\n",
      "Mohsin\n",
      "2\n",
      "Raza\n",
      "3\n",
      "Muhammad\n",
      "4\n",
      "Ali\n",
      "5\n"
     ]
    }
   ],
   "source": [
    "list = list = [1 ,\"Mohsin\", 2, \"Raza\", 3, \"Muhammad\", 4, \"Ali\", 5]\n",
    "for i in list:\n",
    "    print(i)"
   ]
  },
  {
   "cell_type": "code",
   "execution_count": 28,
   "id": "e28c5568",
   "metadata": {},
   "outputs": [
    {
     "name": "stdout",
     "output_type": "stream",
     "text": [
      "1\n",
      "1\n",
      "1\n",
      "Mohsin\n",
      "Mohsin\n",
      "Mohsin\n",
      "2\n",
      "2\n",
      "2\n",
      "Raza\n",
      "Raza\n",
      "Raza\n",
      "3\n",
      "3\n",
      "3\n",
      "Muhammad\n",
      "Muhammad\n",
      "Muhammad\n",
      "4\n",
      "4\n",
      "4\n",
      "Ali\n",
      "Ali\n",
      "Ali\n",
      "5\n",
      "5\n",
      "5\n"
     ]
    }
   ],
   "source": [
    "list = [1 ,\"Mohsin\", 2, \"Raza\", 3, \"Muhammad\", 4, \"Ali\", 5]\n",
    "\n",
    "for i in list:\n",
    "    print(i)\n",
    "    print(i)\n",
    "    print(i)\n",
    "    "
   ]
  },
  {
   "cell_type": "code",
   "execution_count": 31,
   "id": "6b955686",
   "metadata": {},
   "outputs": [
    {
     "name": "stdout",
     "output_type": "stream",
     "text": [
      "Spider legs\n",
      "Toe of frog\n",
      "Bat wing\n",
      "Slug butter\n",
      "Bear burp\n"
     ]
    }
   ],
   "source": [
    "list = ['Spider legs', 'Toe of frog', 'Bat wing', 'Slug butter', 'Bear burp']\n",
    "\n",
    "for i in list:\n",
    "    print(i)\n",
    "    "
   ]
  },
  {
   "cell_type": "code",
   "execution_count": 35,
   "id": "8cfd7e69",
   "metadata": {},
   "outputs": [
    {
     "name": "stdout",
     "output_type": "stream",
     "text": [
      "Spider legs\n",
      "___DONE___\n",
      "Spider legs\n",
      "Toe of frog\n",
      "Bat wing\n",
      "Slug butter\n",
      "Bear burp\n",
      "Toe of frog\n",
      "___DONE___\n",
      "Spider legs\n",
      "Toe of frog\n",
      "Bat wing\n",
      "Slug butter\n",
      "Bear burp\n",
      "Bat wing\n",
      "___DONE___\n",
      "Spider legs\n",
      "Toe of frog\n",
      "Bat wing\n",
      "Slug butter\n",
      "Bear burp\n",
      "Slug butter\n",
      "___DONE___\n",
      "Spider legs\n",
      "Toe of frog\n",
      "Bat wing\n",
      "Slug butter\n",
      "Bear burp\n",
      "Bear burp\n",
      "___DONE___\n",
      "Spider legs\n",
      "Toe of frog\n",
      "Bat wing\n",
      "Slug butter\n",
      "Bear burp\n"
     ]
    }
   ],
   "source": [
    "list = ['Spider legs', 'Toe of frog', 'Bat wing', 'Slug butter', 'Bear burp']\n",
    "\n",
    "for i in list:\n",
    "    print(i)\n",
    "    print(\"___DONE___\")\n",
    "    for j in list:\n",
    "        print(j)"
   ]
  },
  {
   "cell_type": "code",
   "execution_count": 36,
   "id": "ac111053",
   "metadata": {},
   "outputs": [
    {
     "name": "stdout",
     "output_type": "stream",
     "text": [
      "1\n",
      "4\n",
      "7\n",
      "9\n",
      "__DONE__\n"
     ]
    }
   ],
   "source": [
    "list = [1, 4, 7, 9]\n",
    "for i in list:\n",
    "    print(i)\n",
    "else:\n",
    "    print(\"__DONE__\")"
   ]
  },
  {
   "cell_type": "code",
   "execution_count": 37,
   "id": "a6267d25",
   "metadata": {},
   "outputs": [],
   "source": [
    "# CODE and FUNCTIONS MODULES"
   ]
  },
  {
   "cell_type": "code",
   "execution_count": 5,
   "id": "c9d7d75d",
   "metadata": {},
   "outputs": [
    {
     "data": {
      "text/plain": [
       "'Hello Mary'"
      ]
     },
     "execution_count": 5,
     "metadata": {},
     "output_type": "execute_result"
    }
   ],
   "source": [
    "def great(name):\n",
    "    gr = (\"Hello \" + name)\n",
    "    return gr\n",
    "great('Mary')"
   ]
  },
  {
   "cell_type": "code",
   "execution_count": 8,
   "id": "3b12e4a6",
   "metadata": {},
   "outputs": [
    {
     "name": "stdout",
     "output_type": "stream",
     "text": [
      "Good Morning! Mohsin Raza\n"
     ]
    }
   ],
   "source": [
    "\n",
    "def func(name):\n",
    "    print(\"Good Morning! \" + name)\n",
    "func(\"Mohsin Raza\")"
   ]
  },
  {
   "cell_type": "code",
   "execution_count": null,
   "id": "bb4bb690",
   "metadata": {},
   "outputs": [],
   "source": []
  }
 ],
 "metadata": {
  "kernelspec": {
   "display_name": "Python 3",
   "language": "python",
   "name": "python3"
  },
  "language_info": {
   "codemirror_mode": {
    "name": "ipython",
    "version": 3
   },
   "file_extension": ".py",
   "mimetype": "text/x-python",
   "name": "python",
   "nbconvert_exporter": "python",
   "pygments_lexer": "ipython3",
   "version": "3.8.8"
  }
 },
 "nbformat": 4,
 "nbformat_minor": 5
}
